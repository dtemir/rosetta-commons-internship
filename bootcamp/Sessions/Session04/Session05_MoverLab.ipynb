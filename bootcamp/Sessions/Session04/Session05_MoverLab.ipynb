{
  "nbformat": 4,
  "nbformat_minor": 0,
  "metadata": {
    "kernelspec": {
      "display_name": "Python 3",
      "language": "python",
      "name": "python3"
    },
    "language_info": {
      "codemirror_mode": {
        "name": "ipython",
        "version": 3
      },
      "file_extension": ".py",
      "mimetype": "text/x-python",
      "name": "python",
      "nbconvert_exporter": "python",
      "pygments_lexer": "ipython3",
      "version": "3.7.7"
    },
    "colab": {
      "name": "Session05_MoverLab.ipynb",
      "provenance": []
    }
  },
  "cells": [
    {
      "cell_type": "markdown",
      "metadata": {
        "id": "Qm3_6MyaE9UT"
      },
      "source": [
        "Before you turn this problem in, make sure everything runs as expected. First, **restart the kernel** (in the menubar, select Kernel$\\rightarrow$Restart) and then **run all cells** (in the menubar, select Cell$\\rightarrow$Run All).\n",
        "\n",
        "Make sure you fill in any place that says `YOUR CODE HERE` or \"YOUR ANSWER HERE\", as well as your name and collaborators below:"
      ]
    },
    {
      "cell_type": "code",
      "metadata": {
        "id": "r4iVDKPbE9UZ"
      },
      "source": [
        "NAME = \"Damir\"\n",
        "COLLABORATORS = \"\""
      ],
      "execution_count": 1,
      "outputs": []
    },
    {
      "cell_type": "markdown",
      "metadata": {
        "id": "N0kXg5_IE9Ua"
      },
      "source": [
        "---"
      ]
    },
    {
      "cell_type": "markdown",
      "metadata": {
        "id": "eDSCpJq-E9Ua"
      },
      "source": [
        "# Mover Lab\n",
        "In this lab, you will learn to use Movers to manipulate poses. "
      ]
    },
    {
      "cell_type": "code",
      "metadata": {
        "colab": {
          "base_uri": "https://localhost:8080/"
        },
        "id": "G16ANIXaE9Ua",
        "outputId": "258b9926-7a2b-4187-d42b-edbf5416ec7b"
      },
      "source": [
        "# This takes ~1.5 minutes each time you start a new notebook or do a \"factory reset\".\n",
        "import sys\n",
        "if 'google.colab' in sys.modules:\n",
        "    !pip install pyrosettacolabsetup\n",
        "    import pyrosettacolabsetup\n",
        "    pyrosettacolabsetup.mount_pyrosetta_install() #Instead of pyrosettacolabsetup.setup\n",
        "    print (\"Notebook is set for PyRosetta use in Colab.  Have fun!\")\n",
        "\n"
      ],
      "execution_count": 2,
      "outputs": [
        {
          "output_type": "stream",
          "text": [
            "Requirement already satisfied: pyrosettacolabsetup in /usr/local/lib/python3.7/dist-packages (0.6)\n",
            "Drive already mounted at /content/google_drive; to attempt to forcibly remount, call drive.mount(\"/content/google_drive\", force_remount=True).\n",
            "Notebook is set for PyRosetta use in Colab.  Have fun!\n"
          ],
          "name": "stdout"
        }
      ]
    },
    {
      "cell_type": "code",
      "metadata": {
        "colab": {
          "base_uri": "https://localhost:8080/"
        },
        "id": "C3DZ8OutE9Ub",
        "outputId": "bfc72128-ea03-4043-a53b-52ea21ae25c0"
      },
      "source": [
        "%cd google_drive/My\\ Drive/temp_pyrbc_202103_notebooks/"
      ],
      "execution_count": 3,
      "outputs": [
        {
          "output_type": "stream",
          "text": [
            "/content/google_drive/My Drive/temp_pyrbc_202103_notebooks\n"
          ],
          "name": "stdout"
        }
      ]
    },
    {
      "cell_type": "code",
      "metadata": {
        "colab": {
          "base_uri": "https://localhost:8080/"
        },
        "id": "c0LpdXHCE9Ub",
        "outputId": "8b6a14c1-b78b-4149-c23c-caf76ca22c09"
      },
      "source": [
        "import pyrosetta\n",
        "\n",
        "pyrosetta.init()"
      ],
      "execution_count": 4,
      "outputs": [
        {
          "output_type": "stream",
          "text": [
            "PyRosetta-4 2021 [Rosetta PyRosetta4.MinSizeRel.python37.ubuntu 2021.21+release.882e5c1ab85c8c251fce4eb3e1e0504af590786a 2021-05-26T14:40:53] retrieved from: http://www.pyrosetta.org\n",
            "(C) Copyright Rosetta Commons Member Institutions. Created in JHU by Sergey Lyskov and PyRosetta Team.\n",
            "core.init: Checking for fconfig files in pwd and ./rosetta/flags\n",
            "core.init: Rosetta version: PyRosetta4.MinSizeRel.python37.ubuntu r284 2021.21+release.882e5c1ab85 882e5c1ab85c8c251fce4eb3e1e0504af590786a http://www.pyrosetta.org 2021-05-26T14:40:53\n",
            "core.init: command: PyRosetta -ex1 -ex2aro -database /content/google_drive/MyDrive/prefix/lib/python3.7/site-packages/pyrosetta/database\n",
            "basic.random.init_random_generator: 'RNG device' seed mode, using '/dev/urandom', seed=2037310180 seed_offset=0 real_seed=2037310180\n",
            "basic.random.init_random_generator: RandomGenerator:init: Normal mode, seed=2037310180 RG_type=mt19937\n"
          ],
          "name": "stdout"
        }
      ]
    },
    {
      "cell_type": "markdown",
      "metadata": {
        "id": "sFhlqhHAE9Ub"
      },
      "source": [
        "Let's load the structure 2WPT, which is a complex of protein Im2 and colicin E9 DNase. Researchers have introduced various mutations to the interface to study the changes of binding free energy."
      ]
    },
    {
      "cell_type": "code",
      "metadata": {
        "colab": {
          "base_uri": "https://localhost:8080/"
        },
        "id": "v-tmthoiE9Uc",
        "outputId": "7c4cd4b8-2ac5-4623-b3c3-23ada2609318"
      },
      "source": [
        "pose = pyrosetta.rosetta.core.import_pose.pose_from_file('inputs/2wpt.pdb')"
      ],
      "execution_count": 5,
      "outputs": [
        {
          "output_type": "stream",
          "text": [
            "core.chemical.GlobalResidueTypeSet: Finished initializing fa_standard residue type set.  Created 984 residue types\n",
            "core.chemical.GlobalResidueTypeSet: Total time to initialize 2.62624 seconds.\n",
            "core.import_pose.import_pose: File 'inputs/2wpt.pdb' automatically determined to be of type PDB\n",
            "core.chemical.GlobalResidueTypeSet: Loading (but possibly not actually using) 'GOL' from the PDB components dictionary for residue type 'pdb_GOL'\n",
            "core.chemical.GlobalResidueTypeSet: Loading (but possibly not actually using) 'NO3' from the PDB components dictionary for residue type 'pdb_NO3'\n",
            "core.conformation.Conformation: [ WARNING ] missing heavyatom:  OXT on residue GLN:CtermProteinFull 82\n",
            "core.conformation.Conformation: [ WARNING ] missing heavyatom:  OXT on residue LYS:CtermProteinFull 198\n"
          ],
          "name": "stdout"
        }
      ]
    },
    {
      "cell_type": "markdown",
      "metadata": {
        "id": "2LcWJ89lE9Uc"
      },
      "source": [
        "Open a PyMol window. Initialize a PyMol mover and let it send the pose to a PyMol session. As its name suggested, the PyMOLMover is a mover because it is derived from the Mover class. However, it is a special one, since it does not change the pose, but send the pose to PyMol. In PyMol, if you color the structure by chains, you can see that there are two proteins."
      ]
    },
    {
      "cell_type": "code",
      "metadata": {
        "colab": {
          "base_uri": "https://localhost:8080/"
        },
        "id": "dtOGUOLBE9Uc",
        "outputId": "aa34f97c-ae74-4932-f951-5a74b1b4153f"
      },
      "source": [
        "import pyrosetta.network\n",
        " \n",
        "# make sure to supply unique secret here and use _the same_ secrete when running PyMOL-Rosetta-relay-client.python3.py in PyMOL on your desktop machine\n",
        "pyrosetta.network.start_udp_to_tcp_bridge_daemon(secret='none')\n",
        "\n",
        "pmm = pyrosetta.PyMOLMover()\n",
        "pmm.apply(pose)"
      ],
      "execution_count": 6,
      "outputs": [
        {
          "output_type": "stream",
          "text": [
            "WARNING: CONNECTION to relay server relay.graylab.jhu.edu:9989 IS NOT ENCRYPTED!\n",
            "UDP server started: localhost:65000...\n"
          ],
          "name": "stdout"
        }
      ]
    },
    {
      "cell_type": "markdown",
      "metadata": {
        "id": "iIUi-gjdE9Uc"
      },
      "source": [
        "## Backbone movers\n",
        "Let's try to modify the protein backbone. The simplest way to sample backbone conformations is introducing random perturbations. The SmallMover makes small independent random perturbations of the phi and psi torsion angles of random residues. It uses the rama score to ensure that only favorable backbone torsion angles are being selected. Let's initialize a SmallMover and let it introduce 10 random perturbations."
      ]
    },
    {
      "cell_type": "code",
      "metadata": {
        "colab": {
          "base_uri": "https://localhost:8080/"
        },
        "id": "jqg1uLKIE9Ud",
        "outputId": "29558fb1-d8af-4057-e847-f632638b345b"
      },
      "source": [
        "small_mover = pyrosetta.rosetta.protocols.simple_moves.SmallMover()\n",
        "small_mover.nmoves(10)\n",
        "small_mover.apply(pose)\n",
        "\n",
        "pmm.pymol_name('small_moved')\n",
        "pmm.apply(pose)"
      ],
      "execution_count": 7,
      "outputs": [
        {
          "output_type": "stream",
          "text": [
            "core.scoring.ramachandran: shapovalov_lib::shap_rama_smooth_level of 4( aka highest_smooth ) got activated.\n",
            "Connected to relay.graylab.jhu.edu 128.220.208.35:9989...\n",
            "basic.io.database: Database file opened: scoring/score_functions/rama/shapovalov/kappa25/all.ramaProb\n"
          ],
          "name": "stdout"
        }
      ]
    },
    {
      "cell_type": "markdown",
      "metadata": {
        "id": "5QNcEAeRE9Ud"
      },
      "source": [
        "In PyMol, compare the structures before and after perturbation. Do you find anything weird? Yes, the C-terminus changes much more than the N-terminus. This is called the lever effect in backbone sampling. The change at a residue will propagate to all its downstream residues. Because of the lever-arm effect, backbone perturbations are not local and bad contacts can be easily introduced.\n",
        "\n",
        "The ShearMover deals with the lever effect. Instead of independently sampling backbone torsions, it changes torsions of two consecutive residues together in a way that the downstream lever effect is reduced. Let's import a fresh pose, initialize a ShearMover and let it introduce 100 perturbations."
      ]
    },
    {
      "cell_type": "code",
      "metadata": {
        "colab": {
          "base_uri": "https://localhost:8080/"
        },
        "id": "vut4UeV3E9Ud",
        "outputId": "1b3b8717-c967-4b6a-96c9-4f9f822e63c0"
      },
      "source": [
        "pose = pyrosetta.rosetta.core.import_pose.pose_from_file('inputs/2wpt.pdb')\n",
        "shear_mover = pyrosetta.rosetta.protocols.simple_moves.ShearMover()\n",
        "shear_mover.nmoves(100)\n",
        "shear_mover.apply(pose)\n",
        "\n",
        "pmm.pymol_name('shear_moved')\n",
        "pmm.apply(pose)"
      ],
      "execution_count": 8,
      "outputs": [
        {
          "output_type": "stream",
          "text": [
            "core.import_pose.import_pose: File 'inputs/2wpt.pdb' automatically determined to be of type PDB\n",
            "core.conformation.Conformation: [ WARNING ] missing heavyatom:  OXT on residue GLN:CtermProteinFull 82\n",
            "core.conformation.Conformation: [ WARNING ] missing heavyatom:  OXT on residue LYS:CtermProteinFull 198\n"
          ],
          "name": "stdout"
        }
      ]
    },
    {
      "cell_type": "markdown",
      "metadata": {
        "id": "qqLfr-EME9Ud"
      },
      "source": [
        "Now you should see that the lever-arm effect is reduced, but not completely gone. \n",
        "\n",
        "\"Backrub\" is one method to realize true local sampling. The trade off is that backbone bond angles are changed slightly. Initialize a BackrubMover and apply 100 times."
      ]
    },
    {
      "cell_type": "code",
      "metadata": {
        "colab": {
          "base_uri": "https://localhost:8080/"
        },
        "id": "FW83dxicE9Ue",
        "outputId": "d85476ce-f481-4260-83e5-2682184308a5"
      },
      "source": [
        "pose = pyrosetta.rosetta.core.import_pose.pose_from_file('inputs/2wpt.pdb')\n",
        "br_mover = pyrosetta.rosetta.protocols.backrub.BackrubMover()\n",
        "for i in range(100):\n",
        "    br_mover.apply(pose)\n",
        "\n",
        "pmm.pymol_name('backrub_moved')\n",
        "pmm.apply(pose)"
      ],
      "execution_count": 9,
      "outputs": [
        {
          "output_type": "stream",
          "text": [
            "core.import_pose.import_pose: File 'inputs/2wpt.pdb' automatically determined to be of type PDB\n",
            "core.conformation.Conformation: [ WARNING ] missing heavyatom:  OXT on residue GLN:CtermProteinFull 82\n",
            "core.conformation.Conformation: [ WARNING ] missing heavyatom:  OXT on residue LYS:CtermProteinFull 198\n",
            "core.mm.MMBondAngleLibrary: MM bond angle sets added fully assigned: 603; wildcard: 0 and 1 virtual parameter.\n",
            "basic.io.database: Database file opened: sampling/branch_angle/branch_angle_1.txt\n",
            "basic.io.database: Database file opened: sampling/branch_angle/branch_angle_2.txt\n",
            "protocols.backrub.BackrubMover: Segment lengths: 3-34 atoms\n",
            "protocols.backrub.BackrubMover: Main chain pivot atoms: CA\n",
            "protocols.backrub.BackrubMover: Adding backrub segments for residues 1-200\n",
            "protocols.backrub.BackrubMover: Total Segments Added: 1778\n"
          ],
          "name": "stdout"
        }
      ]
    },
    {
      "cell_type": "markdown",
      "metadata": {
        "id": "ly4x5cUFE9Ue"
      },
      "source": [
        "Now you can see that the perturbations are evenly distributed throughout the structure."
      ]
    },
    {
      "cell_type": "markdown",
      "metadata": {
        "id": "Um41gwbPE9Ue"
      },
      "source": [
        "## Mutate residues\n",
        "Protein designers constantly explore conformation and sequence spaces of proteins. You already learned methods to sample the backbone conformation space, now it's time to consider introducing mutations.\n",
        "\n",
        "A previous study showed that the N34V R38T mutations on chain A lowers binding free energy by -2.60 kcal/mol. Let's introduce these two mutations to our structure. Again, import a fresh pose."
      ]
    },
    {
      "cell_type": "code",
      "metadata": {
        "colab": {
          "base_uri": "https://localhost:8080/"
        },
        "id": "hnAUnH-UE9Ue",
        "outputId": "17854a88-5e24-4757-8374-2853ca23ff90"
      },
      "source": [
        "pose = pyrosetta.rosetta.core.import_pose.pose_from_file('inputs/2wpt.pdb')"
      ],
      "execution_count": 10,
      "outputs": [
        {
          "output_type": "stream",
          "text": [
            "core.import_pose.import_pose: File 'inputs/2wpt.pdb' automatically determined to be of type PDB\n",
            "core.conformation.Conformation: [ WARNING ] missing heavyatom:  OXT on residue GLN:CtermProteinFull 82\n",
            "core.conformation.Conformation: [ WARNING ] missing heavyatom:  OXT on residue LYS:CtermProteinFull 198\n"
          ],
          "name": "stdout"
        }
      ]
    },
    {
      "cell_type": "markdown",
      "metadata": {
        "id": "jBEHY_xHE9Ue"
      },
      "source": [
        "In Rosetta, residues in a pose are numbered from 1 to N which is the total number of residues. This indexing system is different from what you see from a PDB file. For example, the first lysine in our structure has Rosetta index 1 but its pdb index is A4. In order to introduce mutations, we need to first figure out the Rosetta indices of the residues of our interest. As we have done before, we will turn to the PDBInfo object attached to a pose."
      ]
    },
    {
      "cell_type": "code",
      "metadata": {
        "colab": {
          "base_uri": "https://localhost:8080/"
        },
        "id": "0RTvMIivE9Uf",
        "outputId": "da905ec6-4926-491a-937f-53db8e7d8dc8"
      },
      "source": [
        "print(pose.pdb_info().pdb2pose('A', 34))\n",
        "print(pose.pdb_info().pdb2pose('A', 38))"
      ],
      "execution_count": 11,
      "outputs": [
        {
          "output_type": "stream",
          "text": [
            "31\n",
            "35\n"
          ],
          "name": "stdout"
        }
      ]
    },
    {
      "cell_type": "markdown",
      "metadata": {
        "id": "V_LGKJ9aE9Uf"
      },
      "source": [
        "Use the MutateResidue mover to introduce mutations N34V R38T."
      ]
    },
    {
      "cell_type": "code",
      "metadata": {
        "id": "hZOxtWdnE9Uf"
      },
      "source": [
        "mutater = pyrosetta.rosetta.protocols.simple_moves.MutateResidue()\n",
        "\n",
        "mutater.set_target(31)\n",
        "mutater.set_res_name('VAL')\n",
        "mutater.apply(pose)\n",
        "\n",
        "mutater.set_target(35)\n",
        "mutater.set_res_name('THR')\n",
        "mutater.apply(pose)\n",
        "\n",
        "pmm.pymol_name('mutated')\n",
        "pmm.apply(pose)"
      ],
      "execution_count": 12,
      "outputs": []
    },
    {
      "cell_type": "markdown",
      "metadata": {
        "id": "BdVIbqJ_E9Uf"
      },
      "source": [
        "Now you should be able to see these mutations in PyMol. Now you learned movers that can help you expore the backbone and sequence spaces. You may have realized that the side chain conformations, which are very important, are not sampled. Side chain sampling will be covered in later labs."
      ]
    },
    {
      "cell_type": "markdown",
      "metadata": {
        "id": "qrZy9v44E9Ug"
      },
      "source": [
        "## Exercises\n",
        "1. Use the functions you learned from the previous lecture to score the poses before and after mutation. What is the change of the score value? Does it match the experimentally measured -2.60 kcal/mol? What score terms change significantly? What 10 residues' scores change the most? Do their changes make sense?\n",
        "\n",
        "(Hint: it is possible to take the difference between two `EMapVector`s, but currently the functionality is half broken. If you have `emap1` and `emap2`, you can calculate the difference as follows:\n",
        "```\n",
        "diff_emap = EnergyMap(emap1)\n",
        "temp_emap = diff_emap # create a reference to the same object\n",
        "temp_emap -= emap2\n",
        "print(temp_emap) # temp_emap is now None. This is the \"half broken\" part\n",
        "print(diff_emap) # diff_emap has been modified\n",
        "```\n",
        "\n",
        "As of 5/27/2019, I have fixed this code in Rosetta's C++ version, but the fix will not make it out to your pyrosetta download in time for the 6/6/2019 code school.)\n",
        "\n",
        "2. Redo the mutagenesis and ddG calculation on backbone perturbed structures. How much do the results change? Why?\n",
        "\n",
        "3. Generate a backbone ensemble made of 20 structures with your favorate backbone sampling method. Redo the mutagenesis and ddG calculation on each structure and take the mean/meadian/mimimal score. How much do the results change? Why?\n",
        "\n",
        "4. The above ddG analysis is very crude an inaccurate. What improvements should be introduced to make it better?"
      ]
    },
    {
      "cell_type": "code",
      "metadata": {
        "deletable": false,
        "nbgrader": {
          "cell_type": "code",
          "checksum": "37d948a3d7643abe8d7adb0d720d4b55",
          "grade": true,
          "grade_id": "cell-435f4bfb81cbae06",
          "locked": false,
          "points": 0,
          "schema_version": 3,
          "solution": true
        },
        "colab": {
          "base_uri": "https://localhost:8080/"
        },
        "id": "7KLM25U3E9Ug",
        "outputId": "ce0a0286-9db5-449d-e665-9d02349ed4e7"
      },
      "source": [
        "pose = pyrosetta.rosetta.core.import_pose.pose_from_file('inputs/2wpt.pdb')\n",
        "\n",
        "from pyrosetta.teaching import *\n",
        "sfxn = get_score_function(True)\n",
        "\n",
        "sfxn(pose)"
      ],
      "execution_count": 13,
      "outputs": [
        {
          "output_type": "stream",
          "text": [
            "core.import_pose.import_pose: File 'inputs/2wpt.pdb' automatically determined to be of type PDB\n",
            "core.conformation.Conformation: [ WARNING ] missing heavyatom:  OXT on residue GLN:CtermProteinFull 82\n",
            "core.conformation.Conformation: [ WARNING ] missing heavyatom:  OXT on residue LYS:CtermProteinFull 198\n",
            "core.scoring.ScoreFunctionFactory: SCOREFUNCTION: ref2015\n",
            "core.scoring.etable: Starting energy table calculation\n",
            "core.scoring.etable: smooth_etable: changing atr/rep split to bottom of energy well\n",
            "core.scoring.etable: smooth_etable: spline smoothing lj etables (maxdis = 6)\n",
            "core.scoring.etable: smooth_etable: spline smoothing solvation etables (max_dis = 6)\n",
            "core.scoring.etable: Finished calculating energy tables.\n",
            "basic.io.database: Database file opened: scoring/score_functions/hbonds/ref2015_params/HBPoly1D.csv\n",
            "basic.io.database: Database file opened: scoring/score_functions/hbonds/ref2015_params/HBFadeIntervals.csv\n",
            "basic.io.database: Database file opened: scoring/score_functions/hbonds/ref2015_params/HBEval.csv\n",
            "basic.io.database: Database file opened: scoring/score_functions/hbonds/ref2015_params/DonStrength.csv\n",
            "basic.io.database: Database file opened: scoring/score_functions/hbonds/ref2015_params/AccStrength.csv\n",
            "basic.io.database: Database file opened: scoring/score_functions/rama/fd/all.ramaProb\n",
            "basic.io.database: Database file opened: scoring/score_functions/rama/fd/prepro.ramaProb\n",
            "basic.io.database: Database file opened: scoring/score_functions/omega/omega_ppdep.all.txt\n",
            "basic.io.database: Database file opened: scoring/score_functions/omega/omega_ppdep.gly.txt\n",
            "basic.io.database: Database file opened: scoring/score_functions/omega/omega_ppdep.pro.txt\n",
            "basic.io.database: Database file opened: scoring/score_functions/omega/omega_ppdep.valile.txt\n",
            "basic.io.database: Database file opened: scoring/score_functions/P_AA_pp/P_AA\n",
            "basic.io.database: Database file opened: scoring/score_functions/P_AA_pp/P_AA_n\n",
            "core.scoring.P_AA: shapovalov_lib::shap_p_aa_pp_smooth_level of 1( aka low_smooth ) got activated.\n",
            "basic.io.database: Database file opened: scoring/score_functions/P_AA_pp/shapovalov/10deg/kappa131/a20.prop\n",
            "basic.io.database: Database file opened: scoring/score_functions/elec_cp_reps.dat\n",
            "core.scoring.elec.util: Read 40 countpair representative atoms\n",
            "core.pack.dunbrack.RotamerLibrary: shapovalov_lib_fixes_enable option is true.\n",
            "core.pack.dunbrack.RotamerLibrary: shapovalov_lib::shap_dun10_smooth_level of 1( aka lowest_smooth ) got activated.\n",
            "core.pack.dunbrack.RotamerLibrary: Binary rotamer library selected: /content/google_drive/MyDrive/prefix/lib/python3.7/site-packages/pyrosetta/database/rotamer/shapovalov/StpDwn_0-0-0/Dunbrack10.lib.bin\n",
            "core.pack.dunbrack.RotamerLibrary: Using Dunbrack library binary file '/content/google_drive/MyDrive/prefix/lib/python3.7/site-packages/pyrosetta/database/rotamer/shapovalov/StpDwn_0-0-0/Dunbrack10.lib.bin'.\n",
            "core.pack.dunbrack.RotamerLibrary: Dunbrack 2010 library took 0.335259 seconds to load from binary\n"
          ],
          "name": "stdout"
        },
        {
          "output_type": "execute_result",
          "data": {
            "text/plain": [
              "78.00506039085164"
            ]
          },
          "metadata": {
            "tags": []
          },
          "execution_count": 13
        }
      ]
    },
    {
      "cell_type": "code",
      "metadata": {
        "deletable": false,
        "nbgrader": {
          "cell_type": "code",
          "checksum": "06afa68c1a38f6b554a0432854ae6c8a",
          "grade": true,
          "grade_id": "cell-25c2e1487e8ca68b",
          "locked": false,
          "points": 0,
          "schema_version": 3,
          "solution": true
        },
        "colab": {
          "base_uri": "https://localhost:8080/"
        },
        "id": "osa7TTN-E9Ug",
        "outputId": "64f2479a-a31b-4a57-f6dc-7dca7ac9656c"
      },
      "source": [
        "mutater = pyrosetta.rosetta.protocols.simple_moves.MutateResidue()\n",
        "\n",
        "mutater.set_target(31)\n",
        "mutater.set_res_name('VAL')\n",
        "mutater.apply(pose)\n",
        "\n",
        "mutater.set_target(35)\n",
        "mutater.set_res_name('THR')\n",
        "mutater.apply(pose)\n",
        "\n",
        "sfxn(pose)"
      ],
      "execution_count": 14,
      "outputs": [
        {
          "output_type": "execute_result",
          "data": {
            "text/plain": [
              "102.23306806552328"
            ]
          },
          "metadata": {
            "tags": []
          },
          "execution_count": 14
        }
      ]
    },
    {
      "cell_type": "markdown",
      "metadata": {
        "id": "YvYNA6WtM-Ss"
      },
      "source": [
        "2. Redo the mutagenesis and ddG calculation on backbone perturbed structures. How much do the results change? Why?"
      ]
    },
    {
      "cell_type": "code",
      "metadata": {
        "deletable": false,
        "nbgrader": {
          "cell_type": "code",
          "checksum": "b599381ee90ecfb936969b6bf9031566",
          "grade": true,
          "grade_id": "cell-d25f5c9053444535",
          "locked": false,
          "points": 0,
          "schema_version": 3,
          "solution": true
        },
        "colab": {
          "base_uri": "https://localhost:8080/"
        },
        "id": "Mcb6PCqZE9Ug",
        "outputId": "514b05ba-ddcd-4fc9-b009-4e4977658c5d"
      },
      "source": [
        "pose = pyrosetta.rosetta.core.import_pose.pose_from_file('inputs/2wpt.pdb')\n",
        "br_mover = pyrosetta.rosetta.protocols.backrub.BackrubMover()\n",
        "for i in range(100):\n",
        "    br_mover.apply(pose)\n",
        "\n",
        "mutater = pyrosetta.rosetta.protocols.simple_moves.MutateResidue()\n",
        "\n",
        "mutater.set_target(31)\n",
        "mutater.set_res_name('VAL')\n",
        "mutater.apply(pose)\n",
        "\n",
        "mutater.set_target(35)\n",
        "mutater.set_res_name('THR')\n",
        "mutater.apply(pose)\n",
        "\n",
        "sfxn.show(pose)"
      ],
      "execution_count": 15,
      "outputs": [
        {
          "output_type": "stream",
          "text": [
            "core.import_pose.import_pose: File 'inputs/2wpt.pdb' automatically determined to be of type PDB\n",
            "core.conformation.Conformation: [ WARNING ] missing heavyatom:  OXT on residue GLN:CtermProteinFull 82\n",
            "core.conformation.Conformation: [ WARNING ] missing heavyatom:  OXT on residue LYS:CtermProteinFull 198\n",
            "basic.io.database: Database file opened: sampling/branch_angle/branch_angle_1.txt\n",
            "basic.io.database: Database file opened: sampling/branch_angle/branch_angle_2.txt\n",
            "protocols.backrub.BackrubMover: Segment lengths: 3-34 atoms\n",
            "protocols.backrub.BackrubMover: Main chain pivot atoms: CA\n",
            "protocols.backrub.BackrubMover: Adding backrub segments for residues 1-200\n",
            "protocols.backrub.BackrubMover: Total Segments Added: 1778\n",
            "core.scoring.ScoreFunction: \n",
            "------------------------------------------------------------\n",
            " Scores                       Weight   Raw Score Wghtd.Score\n",
            "------------------------------------------------------------\n",
            " fa_atr                       1.000   -1223.938   -1223.938\n",
            " fa_rep                       0.550   20711.198   11391.159\n",
            " fa_sol                       1.000     906.542     906.542\n",
            " fa_intra_rep                 0.005     466.694       2.333\n",
            " fa_intra_sol_xover4          1.000      47.220      47.220\n",
            " lk_ball_wtd                  1.000     -22.082     -22.082\n",
            " fa_elec                      1.000    -285.521    -285.521\n",
            " pro_close                    1.250      27.806      34.758\n",
            " hbond_sr_bb                  1.000     -58.730     -58.730\n",
            " hbond_lr_bb                  1.000     -10.479     -10.479\n",
            " hbond_bb_sc                  1.000     -18.040     -18.040\n",
            " hbond_sc                     1.000      -8.984      -8.984\n",
            " dslf_fa13                    1.250       0.000       0.000\n",
            " omega                        0.400     120.777      48.311\n",
            " fa_dun                       0.700     791.442     554.009\n",
            " p_aa_pp                      0.600     -47.166     -28.300\n",
            " yhh_planarity                0.625       0.000       0.000\n",
            " ref                          1.000     -22.040     -22.040\n",
            " rama_prepro                  0.450      36.058      16.226\n",
            "---------------------------------------------------\n",
            " Total weighted score:                    11322.446\n"
          ],
          "name": "stdout"
        }
      ]
    },
    {
      "cell_type": "markdown",
      "metadata": {
        "id": "zSUXck1uN1WQ"
      },
      "source": [
        "3. Generate a backbone ensemble made of 20 structures with your favorate backbone sampling method. Redo the mutagenesis and ddG calculation on each structure and take the mean/meadian/mimimal score. How much do the results change? Why?"
      ]
    },
    {
      "cell_type": "code",
      "metadata": {
        "deletable": false,
        "nbgrader": {
          "cell_type": "code",
          "checksum": "0a8a717c531b6329fbfef5eee8c0d6e9",
          "grade": true,
          "grade_id": "cell-717b13f568c710ef",
          "locked": false,
          "points": 0,
          "schema_version": 3,
          "solution": true
        },
        "colab": {
          "base_uri": "https://localhost:8080/"
        },
        "id": "T0gWv21OE9Uh",
        "outputId": "8df34539-9f7f-4b73-b293-22ac0f176f17"
      },
      "source": [
        "from statistics import mean, median\n",
        "\n",
        "pose = pyrosetta.rosetta.core.import_pose.pose_from_file('inputs/2wpt.pdb')\n",
        "score_pose = sfxn(pose)\n",
        "\n",
        "data = []\n",
        "data2 = []\n",
        "\n",
        "for i in range(20):\n",
        "  new_pose = pyrosetta.Pose();\n",
        "  new_pose.assign(pose);\n",
        "  br_mover = pyrosetta.rosetta.protocols.backrub.BackrubMover();\n",
        "  for i in range(100):\n",
        "      br_mover.apply(new_pose);\n",
        "\n",
        "  mutater = pyrosetta.rosetta.protocols.simple_moves.MutateResidue();\n",
        "\n",
        "  mutater.set_target(31);\n",
        "  mutater.set_res_name('VAL');\n",
        "  mutater.apply(new_pose);\n",
        "\n",
        "  mutater.set_target(35);\n",
        "  mutater.set_res_name('THR');\n",
        "  mutater.apply(new_pose);\n",
        "\n",
        "  ddG = score_pose - sfxn(new_pose)\n",
        "\n",
        "  data.append(sfxn(new_pose))\n",
        "  data2.append(ddG)\n",
        "\n",
        "print(\"MEAN | MEDIAN | MIN\")\n",
        "print(mean(data), median(data), min(data))\n",
        "print(mean(data2), median(data2), min(data2))"
      ],
      "execution_count": 18,
      "outputs": [
        {
          "output_type": "stream",
          "text": [
            "core.import_pose.import_pose: File 'inputs/2wpt.pdb' automatically determined to be of type PDB\n",
            "core.conformation.Conformation: [ WARNING ] missing heavyatom:  OXT on residue GLN:CtermProteinFull 82\n",
            "core.conformation.Conformation: [ WARNING ] missing heavyatom:  OXT on residue LYS:CtermProteinFull 198\n",
            "basic.io.database: Database file opened: sampling/branch_angle/branch_angle_1.txt\n",
            "basic.io.database: Database file opened: sampling/branch_angle/branch_angle_2.txt\n",
            "protocols.backrub.BackrubMover: Segment lengths: 3-34 atoms\n",
            "protocols.backrub.BackrubMover: Main chain pivot atoms: CA\n",
            "protocols.backrub.BackrubMover: Adding backrub segments for residues 1-200\n",
            "protocols.backrub.BackrubMover: Total Segments Added: 1778\n",
            "basic.io.database: Database file opened: sampling/branch_angle/branch_angle_1.txt\n",
            "basic.io.database: Database file opened: sampling/branch_angle/branch_angle_2.txt\n",
            "protocols.backrub.BackrubMover: Segment lengths: 3-34 atoms\n",
            "protocols.backrub.BackrubMover: Main chain pivot atoms: CA\n",
            "protocols.backrub.BackrubMover: Adding backrub segments for residues 1-200\n",
            "protocols.backrub.BackrubMover: Total Segments Added: 1778\n",
            "basic.io.database: Database file opened: sampling/branch_angle/branch_angle_1.txt\n",
            "basic.io.database: Database file opened: sampling/branch_angle/branch_angle_2.txt\n",
            "protocols.backrub.BackrubMover: Segment lengths: 3-34 atoms\n",
            "protocols.backrub.BackrubMover: Main chain pivot atoms: CA\n",
            "protocols.backrub.BackrubMover: Adding backrub segments for residues 1-200\n",
            "protocols.backrub.BackrubMover: Total Segments Added: 1778\n",
            "basic.io.database: Database file opened: sampling/branch_angle/branch_angle_1.txt\n",
            "basic.io.database: Database file opened: sampling/branch_angle/branch_angle_2.txt\n",
            "protocols.backrub.BackrubMover: Segment lengths: 3-34 atoms\n",
            "protocols.backrub.BackrubMover: Main chain pivot atoms: CA\n",
            "protocols.backrub.BackrubMover: Adding backrub segments for residues 1-200\n",
            "protocols.backrub.BackrubMover: Total Segments Added: 1778\n",
            "basic.io.database: Database file opened: sampling/branch_angle/branch_angle_1.txt\n",
            "basic.io.database: Database file opened: sampling/branch_angle/branch_angle_2.txt\n",
            "protocols.backrub.BackrubMover: Segment lengths: 3-34 atoms\n",
            "protocols.backrub.BackrubMover: Main chain pivot atoms: CA\n",
            "protocols.backrub.BackrubMover: Adding backrub segments for residues 1-200\n",
            "protocols.backrub.BackrubMover: Total Segments Added: 1778\n",
            "basic.io.database: Database file opened: sampling/branch_angle/branch_angle_1.txt\n",
            "basic.io.database: Database file opened: sampling/branch_angle/branch_angle_2.txt\n",
            "protocols.backrub.BackrubMover: Segment lengths: 3-34 atoms\n",
            "protocols.backrub.BackrubMover: Main chain pivot atoms: CA\n",
            "protocols.backrub.BackrubMover: Adding backrub segments for residues 1-200\n",
            "protocols.backrub.BackrubMover: Total Segments Added: 1778\n",
            "basic.io.database: Database file opened: sampling/branch_angle/branch_angle_1.txt\n",
            "basic.io.database: Database file opened: sampling/branch_angle/branch_angle_2.txt\n",
            "protocols.backrub.BackrubMover: Segment lengths: 3-34 atoms\n",
            "protocols.backrub.BackrubMover: Main chain pivot atoms: CA\n",
            "protocols.backrub.BackrubMover: Adding backrub segments for residues 1-200\n",
            "protocols.backrub.BackrubMover: Total Segments Added: 1778\n",
            "basic.io.database: Database file opened: sampling/branch_angle/branch_angle_1.txt\n",
            "basic.io.database: Database file opened: sampling/branch_angle/branch_angle_2.txt\n",
            "protocols.backrub.BackrubMover: Segment lengths: 3-34 atoms\n",
            "protocols.backrub.BackrubMover: Main chain pivot atoms: CA\n",
            "protocols.backrub.BackrubMover: Adding backrub segments for residues 1-200\n",
            "protocols.backrub.BackrubMover: Total Segments Added: 1778\n",
            "basic.io.database: Database file opened: sampling/branch_angle/branch_angle_1.txt\n",
            "basic.io.database: Database file opened: sampling/branch_angle/branch_angle_2.txt\n",
            "protocols.backrub.BackrubMover: Segment lengths: 3-34 atoms\n",
            "protocols.backrub.BackrubMover: Main chain pivot atoms: CA\n",
            "protocols.backrub.BackrubMover: Adding backrub segments for residues 1-200\n",
            "protocols.backrub.BackrubMover: Total Segments Added: 1778\n",
            "basic.io.database: Database file opened: sampling/branch_angle/branch_angle_1.txt\n",
            "basic.io.database: Database file opened: sampling/branch_angle/branch_angle_2.txt\n",
            "protocols.backrub.BackrubMover: Segment lengths: 3-34 atoms\n",
            "protocols.backrub.BackrubMover: Main chain pivot atoms: CA\n",
            "protocols.backrub.BackrubMover: Adding backrub segments for residues 1-200\n",
            "protocols.backrub.BackrubMover: Total Segments Added: 1778\n",
            "basic.io.database: Database file opened: sampling/branch_angle/branch_angle_1.txt\n",
            "basic.io.database: Database file opened: sampling/branch_angle/branch_angle_2.txt\n",
            "protocols.backrub.BackrubMover: Segment lengths: 3-34 atoms\n",
            "protocols.backrub.BackrubMover: Main chain pivot atoms: CA\n",
            "protocols.backrub.BackrubMover: Adding backrub segments for residues 1-200\n",
            "protocols.backrub.BackrubMover: Total Segments Added: 1778\n",
            "basic.io.database: Database file opened: sampling/branch_angle/branch_angle_1.txt\n",
            "basic.io.database: Database file opened: sampling/branch_angle/branch_angle_2.txt\n",
            "protocols.backrub.BackrubMover: Segment lengths: 3-34 atoms\n",
            "protocols.backrub.BackrubMover: Main chain pivot atoms: CA\n",
            "protocols.backrub.BackrubMover: Adding backrub segments for residues 1-200\n",
            "protocols.backrub.BackrubMover: Total Segments Added: 1778\n",
            "basic.io.database: Database file opened: sampling/branch_angle/branch_angle_1.txt\n",
            "basic.io.database: Database file opened: sampling/branch_angle/branch_angle_2.txt\n",
            "protocols.backrub.BackrubMover: Segment lengths: 3-34 atoms\n",
            "protocols.backrub.BackrubMover: Main chain pivot atoms: CA\n",
            "protocols.backrub.BackrubMover: Adding backrub segments for residues 1-200\n",
            "protocols.backrub.BackrubMover: Total Segments Added: 1778\n",
            "basic.io.database: Database file opened: sampling/branch_angle/branch_angle_1.txt\n",
            "basic.io.database: Database file opened: sampling/branch_angle/branch_angle_2.txt\n",
            "protocols.backrub.BackrubMover: Segment lengths: 3-34 atoms\n",
            "protocols.backrub.BackrubMover: Main chain pivot atoms: CA\n",
            "protocols.backrub.BackrubMover: Adding backrub segments for residues 1-200\n",
            "protocols.backrub.BackrubMover: Total Segments Added: 1778\n",
            "basic.io.database: Database file opened: sampling/branch_angle/branch_angle_1.txt\n",
            "basic.io.database: Database file opened: sampling/branch_angle/branch_angle_2.txt\n",
            "protocols.backrub.BackrubMover: Segment lengths: 3-34 atoms\n",
            "protocols.backrub.BackrubMover: Main chain pivot atoms: CA\n",
            "protocols.backrub.BackrubMover: Adding backrub segments for residues 1-200\n",
            "protocols.backrub.BackrubMover: Total Segments Added: 1778\n",
            "basic.io.database: Database file opened: sampling/branch_angle/branch_angle_1.txt\n",
            "basic.io.database: Database file opened: sampling/branch_angle/branch_angle_2.txt\n",
            "protocols.backrub.BackrubMover: Segment lengths: 3-34 atoms\n",
            "protocols.backrub.BackrubMover: Main chain pivot atoms: CA\n",
            "protocols.backrub.BackrubMover: Adding backrub segments for residues 1-200\n",
            "protocols.backrub.BackrubMover: Total Segments Added: 1778\n",
            "basic.io.database: Database file opened: sampling/branch_angle/branch_angle_1.txt\n",
            "basic.io.database: Database file opened: sampling/branch_angle/branch_angle_2.txt\n",
            "protocols.backrub.BackrubMover: Segment lengths: 3-34 atoms\n",
            "protocols.backrub.BackrubMover: Main chain pivot atoms: CA\n",
            "protocols.backrub.BackrubMover: Adding backrub segments for residues 1-200\n",
            "protocols.backrub.BackrubMover: Total Segments Added: 1778\n",
            "basic.io.database: Database file opened: sampling/branch_angle/branch_angle_1.txt\n",
            "basic.io.database: Database file opened: sampling/branch_angle/branch_angle_2.txt\n",
            "protocols.backrub.BackrubMover: Segment lengths: 3-34 atoms\n",
            "protocols.backrub.BackrubMover: Main chain pivot atoms: CA\n",
            "protocols.backrub.BackrubMover: Adding backrub segments for residues 1-200\n",
            "protocols.backrub.BackrubMover: Total Segments Added: 1778\n",
            "basic.io.database: Database file opened: sampling/branch_angle/branch_angle_1.txt\n",
            "basic.io.database: Database file opened: sampling/branch_angle/branch_angle_2.txt\n",
            "protocols.backrub.BackrubMover: Segment lengths: 3-34 atoms\n",
            "protocols.backrub.BackrubMover: Main chain pivot atoms: CA\n",
            "protocols.backrub.BackrubMover: Adding backrub segments for residues 1-200\n",
            "protocols.backrub.BackrubMover: Total Segments Added: 1778\n",
            "basic.io.database: Database file opened: sampling/branch_angle/branch_angle_1.txt\n",
            "basic.io.database: Database file opened: sampling/branch_angle/branch_angle_2.txt\n",
            "protocols.backrub.BackrubMover: Segment lengths: 3-34 atoms\n",
            "protocols.backrub.BackrubMover: Main chain pivot atoms: CA\n",
            "protocols.backrub.BackrubMover: Adding backrub segments for residues 1-200\n",
            "protocols.backrub.BackrubMover: Total Segments Added: 1778\n",
            "MEAN | MEDIAN | MIN\n",
            "8674.680473244423 8244.805902218981 3598.473163754304\n",
            "-8596.675412853572 -8166.80084182813 -15545.284075759875\n"
          ],
          "name": "stdout"
        }
      ]
    },
    {
      "cell_type": "markdown",
      "metadata": {
        "id": "BOFBjMFiX6Be"
      },
      "source": [
        "4. The above ddG analysis is very crude an inaccurate. What improvements should be introduced to make it better?"
      ]
    },
    {
      "cell_type": "markdown",
      "metadata": {
        "id": "-cH0-xQQX-3H"
      },
      "source": [
        "Since we mutate residues directly, and do not let the rest of the protein structure adjust to the mutation, our ddG calculation is not fully-representative of the energy function.\n",
        "\n",
        "It could be improved by letting the rest of the protein adjust to the mutation."
      ]
    }
  ]
}