{
  "nbformat": 4,
  "nbformat_minor": 0,
  "metadata": {
    "kernelspec": {
      "display_name": "Python 3",
      "language": "python",
      "name": "python3"
    },
    "language_info": {
      "codemirror_mode": {
        "name": "ipython",
        "version": 3
      },
      "file_extension": ".py",
      "mimetype": "text/x-python",
      "name": "python",
      "nbconvert_exporter": "python",
      "pygments_lexer": "ipython3",
      "version": "3.7.7"
    },
    "toc": {
      "base_numbering": 1,
      "nav_menu": {},
      "number_sections": true,
      "sideBar": true,
      "skip_h1_title": false,
      "title_cell": "Table of Contents",
      "title_sidebar": "Contents",
      "toc_cell": false,
      "toc_position": {},
      "toc_section_display": true,
      "toc_window_display": false
    },
    "colab": {
      "name": "Session04_ScoreFunction.ipynb",
      "provenance": []
    }
  },
  "cells": [
    {
      "cell_type": "markdown",
      "metadata": {
        "id": "nK0v70rA97i-"
      },
      "source": [
        "Before you turn this problem in, make sure everything runs as expected. First, **restart the kernel** (in the menubar, select Kernel$\\rightarrow$Restart) and then **run all cells** (in the menubar, select Cell$\\rightarrow$Run All).\n",
        "\n",
        "Make sure you fill in any place that says `YOUR CODE HERE` or \"YOUR ANSWER HERE\", as well as your name and collaborators below:"
      ]
    },
    {
      "cell_type": "code",
      "metadata": {
        "id": "zxf_jJJV97jB"
      },
      "source": [
        "NAME = \"Damir\"\n",
        "COLLABORATORS = \"\""
      ],
      "execution_count": 14,
      "outputs": []
    },
    {
      "cell_type": "markdown",
      "metadata": {
        "id": "fQJoPyfF97jC"
      },
      "source": [
        "---"
      ]
    },
    {
      "cell_type": "markdown",
      "metadata": {
        "id": "AkpWYCmo97jI"
      },
      "source": [
        "# Rosetta Energy Score Functions"
      ]
    },
    {
      "cell_type": "markdown",
      "metadata": {
        "id": "Y7B7ONXB97jJ"
      },
      "source": [
        "A basic function of Rosetta is calculating the energy or score of a biomolecule. Rosetta has a standard energy function for all-atom calculations as well as several scoring functions for low-resolution protein representations. See https://www.ncbi.nlm.nih.gov/pubmed/28430426 for a review on the all-atom score functions.\n",
        "\n",
        "You can also tailor an energy function by including scoring terms of your choice with custom weights."
      ]
    },
    {
      "cell_type": "markdown",
      "metadata": {
        "id": "6-KmmfX197jJ"
      },
      "source": [
        "**Chapter contributors:**\n",
        "\n",
        "- Kathy Le (Johns Hopkins University) adapted this chapter from the [PyRosetta Workshops](https://www.amazon.com/PyRosetta-Interactive-Platform-Structure-Prediction-ebook/dp/B01N21DRY8) (J. J. Gray, S. Chaudhury, S. Lyskov, J. Labonte, 2017)."
      ]
    },
    {
      "cell_type": "markdown",
      "metadata": {
        "deletable": false,
        "editable": false,
        "nbgrader": {
          "cell_type": "markdown",
          "checksum": "c89eb5f9776b6d5cabbdd15abea6ad0b",
          "grade": false,
          "grade_id": "cell-eeaeae18e9d996eb",
          "locked": true,
          "schema_version": 3,
          "solution": false
        },
        "id": "AtAVnO6m97jK"
      },
      "source": [
        "# Score Function Basics\n",
        "Keywords: score function, ScoreFunction(), get_score_function(), set_weight(), show(), etable_atom_pair_energies(), Atom objects, get_hbonds(), nhbonds(), residue_hbonds()"
      ]
    },
    {
      "cell_type": "code",
      "metadata": {
        "id": "_0V5Oryl97jK",
        "colab": {
          "base_uri": "https://localhost:8080/"
        },
        "outputId": "988c41bc-b527-4976-cfa6-7879aa6a5998"
      },
      "source": [
        "# This takes ~1.5 minutes each time you start a new notebook or do a \"factory reset\".\n",
        "import sys\n",
        "if 'google.colab' in sys.modules:\n",
        "    !pip install pyrosettacolabsetup\n",
        "    import pyrosettacolabsetup\n",
        "    pyrosettacolabsetup.mount_pyrosetta_install() #Instead of pyrosettacolabsetup.setup\n",
        "    print (\"Notebook is set for PyRosetta use in Colab.  Have fun!\")\n"
      ],
      "execution_count": 15,
      "outputs": [
        {
          "output_type": "stream",
          "text": [
            "Requirement already satisfied: pyrosettacolabsetup in /usr/local/lib/python3.7/dist-packages (0.6)\n",
            "Drive already mounted at /content/google_drive; to attempt to forcibly remount, call drive.mount(\"/content/google_drive\", force_remount=True).\n",
            "Notebook is set for PyRosetta use in Colab.  Have fun!\n"
          ],
          "name": "stdout"
        }
      ]
    },
    {
      "cell_type": "code",
      "metadata": {
        "id": "ZYNWzaA497jL",
        "colab": {
          "base_uri": "https://localhost:8080/"
        },
        "outputId": "58a5bfdc-18d7-4540-f852-9f3222088663"
      },
      "source": [
        "import pyrosetta\n",
        "pyrosetta.init()"
      ],
      "execution_count": 16,
      "outputs": [
        {
          "output_type": "stream",
          "text": [
            "PyRosetta-4 2021 [Rosetta PyRosetta4.MinSizeRel.python37.ubuntu 2021.21+release.882e5c1ab85c8c251fce4eb3e1e0504af590786a 2021-05-26T14:40:53] retrieved from: http://www.pyrosetta.org\n",
            "(C) Copyright Rosetta Commons Member Institutions. Created in JHU by Sergey Lyskov and PyRosetta Team.\n",
            "core.init: Checking for fconfig files in pwd and ./rosetta/flags\n",
            "core.init: Rosetta version: PyRosetta4.MinSizeRel.python37.ubuntu r284 2021.21+release.882e5c1ab85 882e5c1ab85c8c251fce4eb3e1e0504af590786a http://www.pyrosetta.org 2021-05-26T14:40:53\n",
            "core.init: command: PyRosetta -ex1 -ex2aro -database /content/google_drive/MyDrive/prefix/lib/python3.7/site-packages/pyrosetta/database\n",
            "basic.random.init_random_generator: 'RNG device' seed mode, using '/dev/urandom', seed=1913879660 seed_offset=0 real_seed=1913879660\n",
            "basic.random.init_random_generator: RandomGenerator:init: Normal mode, seed=1913879660 RG_type=mt19937\n"
          ],
          "name": "stdout"
        }
      ]
    },
    {
      "cell_type": "markdown",
      "metadata": {
        "id": "8ESumHKg97jL"
      },
      "source": [
        "**Make sure you are in the directory with the pdb files:**\n",
        "\n"
      ]
    },
    {
      "cell_type": "code",
      "metadata": {
        "id": "4B8gkW_H97jL",
        "colab": {
          "base_uri": "https://localhost:8080/"
        },
        "outputId": "0324171e-f99d-4c4b-f44b-d4a1773ec517"
      },
      "source": [
        "%cd google_drive/My\\ Drive/temp_pyrbc_202103_notebooks/"
      ],
      "execution_count": 17,
      "outputs": [
        {
          "output_type": "stream",
          "text": [
            "[Errno 2] No such file or directory: 'google_drive/My Drive/temp_pyrbc_202103_notebooks/'\n",
            "/content/google_drive/My Drive/temp_pyrbc_202103_notebooks\n"
          ],
          "name": "stdout"
        }
      ]
    },
    {
      "cell_type": "markdown",
      "metadata": {
        "id": "jVECTF_T97jM"
      },
      "source": [
        "In this module, we will explore the PyRosetta score function interface. You will learn to inspect energies of a biomolecule at the whole protein, per-residue, and per-atom level. Finally, you will gain practice applying the energies to answering biological questions involving proteins. For these exercises, we will use the protein Ras (PDB 6q21). You should have the PDB file \"6Q21_A.pdb\" in your `inputs/` directory. Load it into a Pose variable named `ras` with the pyrosetta.pose_from_pdb method. "
      ]
    },
    {
      "cell_type": "code",
      "metadata": {
        "deletable": false,
        "nbgrader": {
          "cell_type": "code",
          "checksum": "8624e224b33292b579d9f743337eb9e2",
          "grade": true,
          "grade_id": "cell-be26a363af7b009c",
          "locked": false,
          "points": 0,
          "schema_version": 3,
          "solution": true
        },
        "id": "vPSelBZx97jM",
        "colab": {
          "base_uri": "https://localhost:8080/"
        },
        "outputId": "5796ccf4-162d-4845-b8b5-c684ef41a649"
      },
      "source": [
        "ras = pyrosetta.pose_from_pdb(\"inputs/6Q21_A.pdb\")\n",
        "print(ras)"
      ],
      "execution_count": 18,
      "outputs": [
        {
          "output_type": "stream",
          "text": [
            "core.import_pose.import_pose: File 'inputs/6Q21_A.pdb' automatically determined to be of type PDB\n",
            "PDB file name: inputs/6Q21_A.pdb\n",
            "Total residues: 171\n",
            "Sequence: MTEYKLVVVGAGGVGKSALTIQLIQNHFVDEYDPTIEDSYRKQVVIDGETCLLDILDTAGQEEYSAMRDQYMRTGEGFLCVFAINNTKSFEDIHQYREQIKRVKDSDDVPMVLVGNKCDLAARTVESRQAQDLARSYGIPYIETSAKTRQGVEDAFYTLVREIRQHKLRKL\n",
            "Fold tree:\n",
            "FOLD_TREE  EDGE 1 171 -1 \n"
          ],
          "name": "stdout"
        }
      ]
    },
    {
      "cell_type": "markdown",
      "metadata": {
        "id": "V5h5QHWyBA3p"
      },
      "source": [
        ""
      ]
    },
    {
      "cell_type": "markdown",
      "metadata": {
        "deletable": false,
        "editable": false,
        "nbgrader": {
          "cell_type": "markdown",
          "checksum": "fa643c83272b1075ade2fc98f989dec1",
          "grade": false,
          "grade_id": "cell-ed57c5745ba69a27",
          "locked": true,
          "schema_version": 3,
          "solution": false
        },
        "id": "GQPVTVbd97jM"
      },
      "source": [
        "To score a protein, you will begin by defining a score function using the `get_score_function(is_fullatom: bool)` method in the `pyrosetta.teaching` namespace. Specifying `True` will return the default `ref2015` all-atom energy function, while `False` will specify the default centroid score function.\n",
        "\n",
        "Create a PyRosetta score function using:\n",
        "```\n",
        "sfxn = get_score_function(True)\n",
        "```"
      ]
    },
    {
      "cell_type": "code",
      "metadata": {
        "deletable": false,
        "nbgrader": {
          "cell_type": "code",
          "checksum": "328490f1bf6bb9c3fc3605d7fb6c1cbb",
          "grade": true,
          "grade_id": "cell-a8401defb7b4a814",
          "locked": false,
          "points": 0,
          "schema_version": 3,
          "solution": true
        },
        "id": "pyAIquVf97jN",
        "colab": {
          "base_uri": "https://localhost:8080/"
        },
        "outputId": "d4e7f125-653b-49e7-dc3f-c6e2c2373ed1"
      },
      "source": [
        "from pyrosetta.teaching import *\n",
        "\n",
        "sfxn = get_score_function(True)"
      ],
      "execution_count": 19,
      "outputs": [
        {
          "output_type": "stream",
          "text": [
            "core.scoring.ScoreFunctionFactory: SCOREFUNCTION: ref2015\n"
          ],
          "name": "stdout"
        }
      ]
    },
    {
      "cell_type": "markdown",
      "metadata": {
        "id": "nbTba6nq97jN"
      },
      "source": [
        "You can see the terms, weights, and energy method options by printing the score function:\n",
        "\n",
        "```\n",
        "print(sfxn)\n",
        "```"
      ]
    },
    {
      "cell_type": "code",
      "metadata": {
        "deletable": false,
        "nbgrader": {
          "cell_type": "code",
          "checksum": "e793cabed84794d2c205604837f4bf52",
          "grade": true,
          "grade_id": "cell-d9875a1b051c6971",
          "locked": false,
          "points": 0,
          "schema_version": 3,
          "solution": true
        },
        "id": "m0WzLJim97jN",
        "colab": {
          "base_uri": "https://localhost:8080/"
        },
        "outputId": "1f4ce921-80c2-4b00-e2a1-5012f9eeac00"
      },
      "source": [
        "print(sfxn)"
      ],
      "execution_count": 20,
      "outputs": [
        {
          "output_type": "stream",
          "text": [
            "ScoreFunction::show():\n",
            "weights: (fa_atr 1) (fa_rep 0.55) (fa_sol 1) (fa_intra_rep 0.005) (fa_intra_sol_xover4 1) (lk_ball_wtd 1) (fa_elec 1) (pro_close 1.25) (hbond_sr_bb 1) (hbond_lr_bb 1) (hbond_bb_sc 1) (hbond_sc 1) (dslf_fa13 1.25) (omega 0.4) (fa_dun 0.7) (p_aa_pp 0.6) (yhh_planarity 0.625) (ref 1) (rama_prepro 0.45)\n",
            "energy_method_options: EnergyMethodOptions::show: aa_composition_setup_files: \n",
            "EnergyMethodOptions::show: mhc_epitope_setup_files: \n",
            "EnergyMethodOptions::show: netcharge_setup_files: \n",
            "EnergyMethodOptions::show: aspartimide_penalty_value: 25\n",
            "EnergyMethodOptions::show: etable_type: FA_STANDARD_DEFAULT\n",
            "analytic_etable_evaluation: 1\n",
            "EnergyMethodOptions::show: method_weights: ref 1.32468 3.25479 -2.14574 -2.72453 1.21829 0.79816 -0.30065 2.30374 -0.71458 1.66147 1.65735 -1.34026 -1.64321 -1.45095 -0.09474 -0.28969 1.15175 2.64269 2.26099 0.58223\n",
            "EnergyMethodOptions::show: method_weights: free_res\n",
            "EnergyMethodOptions::show: unfolded_energies_type: UNFOLDED_SCORE12\n",
            "EnergyMethodOptions::show: split_unfolded_label_type: SPLIT_UNFOLDED_MM\n",
            "EnergyMethodOptions::show: split_unfolded_value_type: SPLIT_UNFOLDED_BOLTZ\n",
            "EnergyMethodOptions::show: atom_vdw_atom_type_set_name: centroid\n",
            "EnergyMethodOptions::show: covalent_labeling_input: \n",
            "EnergyMethodOptions::show: covalent_labeling_fa_input: \n",
            "EnergyMethodOptions::show: hrf_dynamics_input: \n",
            "EnergyMethodOptions::show: depc_ms_input: \n",
            "EnergyMethodOptions::show: exclude_protein_protein_fa_elec: false\n",
            "EnergyMethodOptions::show: exclude_RNA_RNA_fa_elec: false\n",
            "EnergyMethodOptions::show: exclude_RNA_protein_fa_elec: false\n",
            "EnergyMethodOptions::show: exclude_monomer_fa_elec: false\n",
            "EnergyMethodOptions::show: elec_max_dis: 5.5\n",
            "EnergyMethodOptions::show: elec_min_dis: 1.6\n",
            "EnergyMethodOptions::show: elec_die: 10\n",
            "EnergyMethodOptions::show: elec_no_dis_dep_die: false\n",
            "EnergyMethodOptions::show: elec_sigmoidal_die: true\n",
            "EnergyMethodOptions::show: elec_sigmoidal_D: 80\n",
            "EnergyMethodOptions::show: elec_sigmoidal_D0: 6\n",
            "EnergyMethodOptions::show: elec_sigmoidal_S: 0.4\n",
            "EnergyMethodOptions::show: smooth_fa_elec: true\n",
            "EnergyMethodOptions::show: grpelec_fade_type: false\n",
            "EnergyMethodOptions::show: grpelec_fade_param1: 1\n",
            "EnergyMethodOptions::show: grpelec_fade_param2: 1\n",
            "EnergyMethodOptions::show: grpelec_fade_hbond: 0\n",
            "EnergyMethodOptions::show: grp_cpfxn: 1\n",
            "EnergyMethodOptions::show: elec_group_file: /scoring/score_functions/elec_group_def.dat\n",
            "EnergyMethodOptions::show: grpelec_context_dependent: 0\n",
            "EnergyMethodOptions::show: use_polarization: true\n",
            "EnergyMethodOptions::show: use_gen_kirkwood: true\n",
            "EnergyMethodOptions::show: protein_dielectric: 1\n",
            "EnergyMethodOptions::show: water_dielectric: 78.3\n",
            "EnergyMethodOptions::show: exclude_DNA_DNA: false\n",
            "EnergyMethodOptions::show: exclude_intra_res_protein: false\n",
            "EnergyMethodOptions::show: count_pair_hybrid: false\n",
            "EnergyMethodOptions::show: count_pair_full: false\n",
            "EnergyMethodOptions::show: put_intra_into_total: false\n",
            "EnergyMethodOptions::show: geom_sol_interres_path_distance_cutoff: false\n",
            "EnergyMethodOptions::show: geom_sol_intrares_path_distance_cutoff: true\n",
            "EnergyMethodOptions::show: eval_intrares_elec_ST_only: false\n",
            "EnergyMethodOptions::show: envsmooth_zero_negatives: false\n",
            "EnergyMethodOptions::show: cst_max_seq_sep: 18446744073709551615\n",
            "EnergyMethodOptions::show: pb_bound_tag: bound\n",
            "EnergyMethodOptions::show: pb_unbound_tag: unbound\n",
            "EnergyMethodOptions::show: arg_cation_pi_his_can_be_pi: 1\n",
            "EnergyMethodOptions::show: ordered_wat_penalty: 1.221\n",
            "EnergyMethodOptions::show: ordered_pt_wat_penalty: 2.709\n",
            "EnergyMethodOptions::show: nmer_ref_seq_length_: 9\n",
            "EnergyMethodOptions::show: nmer_svm_term_length_: 3\n",
            "EnergyMethodOptions::show: nmer_svm_pssm_feat_: 1\n",
            "EnergyMethodOptions::show: nmer_svm_scorecut_defined_: 0\n",
            "EnergyMethodOptions::show: nmer_svm_scorecut_: 0\n",
            "EnergyMethodOptions::show: nmer_svm_avg_rank_as_energy_: 0\n",
            "EnergyMethodOptions::show: nmer_svm_aa_matrix_defined_: 0\n",
            "EnergyMethodOptions::show: nmer_svm_aa_matrix_: \n",
            "EnergyMethodOptions::show: nmer_svm_list_defined_: 0\n",
            "EnergyMethodOptions::show: nmer_svm_list_: \n",
            "EnergyMethodOptions::show: nmer_svm_defined_: 0\n",
            "EnergyMethodOptions::show: nmer_svm_: \n",
            "EnergyMethodOptions::show: nmer_svm_rank_list_defined_: 0\n",
            "EnergyMethodOptions::show: nmer_svm_rank_list_: \n",
            "EnergyMethodOptions::show: nmer_svm_rank_defined_: 0\n",
            "EnergyMethodOptions::show: nmer_svm_rank_: \n",
            "EnergyMethodOptions::show: voids_penalty_energy_containing_cones_cutoff_:6\n",
            "EnergyMethodOptions::show: voids_penalty_energy_cone_distance_cutoff_: 8\n",
            "EnergyMethodOptions::show: voids_penalty_energy_cone_dotproduct_cutoff_: 0.1\n",
            "EnergyMethodOptions::show: voids_penalty_energy_voxel_grid_padding_: 1\n",
            "EnergyMethodOptions::show: voids_penalty_energy_voxel_size_: 0.5\n",
            "EnergyMethodOptions::show: voids_penalty_energy_disabled_except_during_packing_: TRUE\n",
            "EnergyMethodOptions::show: hbnet_bonus_ramping_function_: \"quadratic\"\n",
            "EnergyMethodOptions::show: hbnet_max_network_size_: 0\n",
            "EnergyMethodOptions::show: approximate_buried_unsat_penalty_hbond_energy_threshold_: -0.25\n",
            "EnergyMethodOptions::show: approximate_buried_unsat_penalty_burial_atomic_depth_: 4.5\n",
            "EnergyMethodOptions::show: approximate_buried_unsat_penalty_burial_probe_radius_: 2.3\n",
            "EnergyMethodOptions::show: approximate_buried_unsat_penalty_burial_resolution_: 0.5\n",
            "EnergyMethodOptions::show: approximate_buried_unsat_penalty_oversat_penalty_: 1\n",
            "EnergyMethodOptions::show: approximate_buried_unsat_penalty_assume_const_backbone_:1\n",
            "EnergyMethodOptions::show: approximate_buried_unsat_penalty_natural_corrections1_:0\n",
            "EnergyMethodOptions::show: approximate_buried_unsat_penalty_hbond_bonus_cross_chain_:0\n",
            "EnergyMethodOptions::show: approximate_buried_unsat_penalty_hbond_bonus_ser_to_helix_bb_:0\n",
            "EnergyMethodOptions::show: target_clash_pdb_:\n",
            "EnergyMethodOptions::show: dump_trajectory_prefix_: traj\n",
            "EnergyMethodOptions::show: dump_trajectory_gz_: FALSE\n",
            "EnergyMethodOptions::show: dump_trajectory_stride_: 1\n",
            "EnergyMethodOptions::show: bond_angle_central_atoms_to_score:\n",
            "EnergyMethodOptions::show: bond_angle_residue_type_param_set: none\n",
            "HBondOptions::show: hb_max_energy: 0\n",
            "HBondOptions::show: exclude_DNA_DNA: false\n",
            "HBondOptions::show: exclude_intra_res_protein_: false\n",
            "HBondOptions::show: exclude_intra_res_RNA_: false\n",
            "HBondOptions::show: put_intra_into_total_: false\n",
            "HBondOptions::show: exclude_self_hbonds: true\n",
            "HBondOptions::show: use_hb_env_dep: false\n",
            "HBondOptions::show: use_hb_env_dep_DNA: true\n",
            "HBondOptions::show: smooth_hb_env_dep: true\n",
            "HBondOptions::show: bb_donor_acceptor_check: true\n",
            "HBondOptions::show: decompose_bb_hb_into_pair_energies: false\n",
            "HBondOptions::show: params_database_tag_: ref2015_params\n",
            "HBondOptions::show: use_sp2_chi_penalty_: true\n",
            "HBondOptions::show: sp2_BAH180_rise_: 0.75\n",
            "HBondOptions::show: sp2_outer_width_: 0.357\n",
            "HBondOptions::show: measure_sp3acc_BAH_from_hvy_: true\n",
            "HBondOptions::show: fade_energy_: 1\n",
            "HBondOptions::show: exclude_ether_oxygens_: 0\n",
            "HBondOptions::show: Mbhbond: false \n",
            "HbondOptions::show: mphbond: false\n",
            "HBondOptions::show: hbond_energy_shift: 0\n",
            "HBondOptions::show: water_hybrid_sf: false\n",
            "RNA_EnergyMethodOptions::show: syn_G_potential_bonus: 0\n",
            "RNA_EnergyMethodOptions::show: torsion_potential: ps_04282011\n",
            "RNA_EnergyMethodOptions::show: suiteness_bonus: Richardson\n",
            "RNA_EnergyMethodOptions::show: rna_base_pair_xy_filename: scoring/rna/rna_base_pair_xy.dat\n",
            "FreeDOF_Options::show: free_suite_bonus: -1\n",
            "FreeDOF_Options::show: free_2HOprime_bonus: -0.5\n",
            "FreeDOF_Options::show: free_sugar_bonus: -1\n",
            "FreeDOF_Options::show: pack_phosphate_penalty: 0.25\n",
            "FreeDOF_Options::show: free_side_chain_bonus: -0.5\n",
            "\n",
            "\n"
          ],
          "name": "stdout"
        }
      ]
    },
    {
      "cell_type": "markdown",
      "metadata": {
        "id": "7Eo-sZEq97jN"
      },
      "source": [
        "## Practice: List the terms in the energy function and their relative weights\n",
        "\n",
        "**Hint:** look at the top line that starts with 'weights'"
      ]
    },
    {
      "cell_type": "code",
      "metadata": {
        "deletable": false,
        "nbgrader": {
          "cell_type": "code",
          "checksum": "bbe491ab4f30d80962acb4037b159f7e",
          "grade": true,
          "grade_id": "cell-22ba33466d6eb287",
          "locked": false,
          "points": 0,
          "schema_version": 3,
          "solution": true
        },
        "id": "X0CP2IZA97jN",
        "colab": {
          "base_uri": "https://localhost:8080/"
        },
        "outputId": "c8c7b04b-20a5-4db1-8086-503439b2745e"
      },
      "source": [
        "print(sfxn.weights())"
      ],
      "execution_count": 21,
      "outputs": [
        {
          "output_type": "stream",
          "text": [
            "( fa_atr; 1) ( fa_rep; 0.55) ( fa_sol; 1) ( fa_intra_atr; 0) ( fa_intra_rep; 0.005) ( fa_intra_sol; 0) ( fa_intra_atr_xover4; 0) ( fa_intra_rep_xover4; 0) ( fa_intra_sol_xover4; 1) ( fa_intra_atr_nonprotein; 0) ( fa_intra_rep_nonprotein; 0) ( fa_intra_sol_nonprotein; 0) ( fa_intra_RNA_base_phos_atr; 0) ( fa_intra_RNA_base_phos_rep; 0) ( fa_intra_RNA_base_phos_sol; 0) ( fa_atr_dummy; 0) ( fa_rep_dummy; 0) ( fa_sol_dummy; 0) ( fa_vdw_tinker; 0) ( lk_hack; 0) ( lk_ball; 0) ( lk_ball_wtd; 1) ( lk_ball_iso; 0) ( lk_ball_bridge; 0) ( lk_ball_bridge_uncpl; 0) ( coarse_fa_atr; 0) ( coarse_fa_rep; 0) ( coarse_fa_sol; 0) ( coarse_beadlj; 0) ( mm_lj_intra_rep; 0) ( mm_lj_intra_atr; 0) ( mm_lj_inter_rep; 0) ( mm_lj_inter_atr; 0) ( mm_twist; 0) ( mm_bend; 0) ( mm_stretch; 0) ( lk_costheta; 0) ( lk_polar; 0) ( lk_nonpolar; 0) ( lk_polar_intra_RNA; 0) ( lk_nonpolar_intra_RNA; 0) ( fa_elec; 1) ( fa_elec_bb_bb; 0) ( fa_elec_bb_sc; 0) ( fa_elec_sc_sc; 0) ( fa_intra_elec; 0) ( h2o_hbond; 0) ( dna_dr; 0) ( dna_bp; 0) ( dna_bs; 0) ( dna_ref; 0) ( peptide_bond; 0) ( pcs; 0) ( pcsTs1; 0) ( pcsTs2; 0) ( pcsTs3; 0) ( pcsTs4; 0) ( pcs2; 0) ( fastsaxs; 0) ( saxs_score; 0) ( saxs_cen_score; 0) ( saxs_fa_score; 0) ( pddf_score; 0) ( fiberdiffraction; 0) ( fiberdiffractiondens; 0) ( epr_deer_score; 0) ( fa_mbenv; 0) ( fa_mbsolv; 0) ( fa_elec_rna_phos_phos; 0) ( fa_elec_rna_phos_sugr; 0) ( fa_elec_rna_phos_base; 0) ( fa_elec_rna_sugr_sugr; 0) ( fa_elec_rna_sugr_base; 0) ( fa_elec_rna_base_base; 0) ( fa_elec_rna_phos_phos_fast; 0) ( fa_elec_rna_phos_sugr_fast; 0) ( fa_elec_rna_phos_base_fast; 0) ( fa_elec_rna_sugr_sugr_fast; 0) ( fa_elec_rna_sugr_base_fast; 0) ( fa_elec_rna_base_base_fast; 0) ( fa_elec_aro_aro; 0) ( fa_elec_aro_all; 0) ( hack_aro; 0) ( rna_fa_atr_base; 0) ( rna_fa_rep_base; 0) ( rna_data_backbone; 0) ( ch_bond; 0) ( ch_bond_bb_bb; 0) ( ch_bond_sc_sc; 0) ( ch_bond_bb_sc; 0) ( pro_close; 1.25) ( rama2b; 0) ( vdw; 0) ( cenpack; 0) ( cenpack_smooth; 0) ( cen_hb; 0) ( hybrid_vdw; 0) ( gauss; 0) ( rna_vdw; 0) ( rnp_vdw; 0) ( rna_base_backbone; 0) ( rna_backbone_backbone; 0) ( rna_repulsive; 0) ( rna_base_pair_pairwise; 0) ( rna_base_axis_pairwise; 0) ( rna_base_stagger_pairwise; 0) ( rna_base_stack_pairwise; 0) ( rna_base_stack_axis_pairwise; 0) ( rna_data_base; 0) ( rna_base_pair; 0) ( rna_base_axis; 0) ( rna_base_stagger; 0) ( rna_base_stack; 0) ( rna_base_stack_axis; 0) ( rnp_base_pair; 0) ( rnp_stack; 0) ( rnp_stack_xy; 0) ( rnp_pair; 0) ( rnp_pair_dist; 0) ( rnp_aa_to_rna_backbone; 0) ( rna_mg_point; 0) ( rna_mg_point_indirect; 0) ( mg; 0) ( mg_lig; 0) ( mg_sol; 0) ( mg_ref; 0) ( hoh_ref; 0) ( rna_torsion; 0) ( rna_torsion_sc; 0) ( rna_suite; 0) ( rna_jr_suite; 0) ( suiteness_bonus; 0) ( tna_suite; 0) ( rna_sugar_close; 0) ( fa_stack; 0) ( fa_stack_lower; 0) ( fa_stack_upper; 0) ( fa_stack_aro; 0) ( fa_stack_ext; 0) ( fa_stack_sol; 0) ( fa_stack_lr; 0) ( fa_stack_rna_protein; 0) ( fa_stack_rna_protein_aro; 0) ( ss_contact_worst; 0) ( stack_elec; 0) ( stack_elec_base_base; 0) ( stack_elec_base_bb; 0) ( alignment; 0) ( dna_bb_torsion; 0) ( dna_sugar_close; 0) ( dna_base_distance; 0) ( geom_sol_fast; 0) ( geom_sol_fast_intra_RNA; 0) ( fa_cust_pair_dist; 0) ( custom_atom_pair; 0) ( orbitals_hpol_bb; 0) ( pci_cation_pi; 0) ( pci_pi_pi; 0) ( pci_salt_bridge; 0) ( pci_hbond; 0) ( arg_cation_pi; 0) ( PyRosettaTwoBodyContextIndepenedentEnergy_first; 0) ( PyRosettaTwoBodyContextIndepenedentEnergy_163; 0) ( PyRosettaTwoBodyContextIndepenedentEnergy_164; 0) ( PyRosettaTwoBodyContextIndepenedentEnergy_165; 0) ( PyRosettaTwoBodyContextIndepenedentEnergy_166; 0) ( PyRosettaTwoBodyContextIndepenedentEnergy_167; 0) ( PyRosettaTwoBodyContextIndepenedentEnergy_168; 0) ( PyRosettaTwoBodyContextIndepenedentEnergy_169; 0) ( PyRosettaTwoBodyContextIndepenedentEnergy_170; 0) ( PyRosettaTwoBodyContextIndepenedentEnergy_171; 0) ( PyRosettaTwoBodyContextIndepenedentEnergy_last; 0) ( python; 0) ( fa_pair; 0) ( fa_pair_aro_aro; 0) ( fa_pair_aro_pol; 0) ( fa_pair_pol_pol; 0) ( hbond_sr_bb; 1) ( hbond_lr_bb; 1) ( hbond_bb_sc; 1) ( hbond_sr_bb_sc; 0) ( hbond_lr_bb_sc; 0) ( hbond_sc; 1) ( hbond_intra; 0) ( hbond_wat; 0) ( wat_entropy; 0) ( hbond; 0) ( npd_hbond_sr_bb; 0) ( npd_hbond_lr_bb; 0) ( npd_hbond_bb_sc; 0) ( npd_hbond_sr_bb_sc; 0) ( npd_hbond_lr_bb_sc; 0) ( npd_hbond_sc; 0) ( npd_hbond_intra; 0) ( npd_hbond; 0) ( fa_grpelec; 0) ( PyRosettaTwoBodyContextDependentEnergy_first; 0) ( PyRosettaTwoBodyContextDependentEnergy_198; 0) ( PyRosettaTwoBodyContextDependentEnergy_199; 0) ( PyRosettaTwoBodyContextDependentEnergy_200; 0) ( PyRosettaTwoBodyContextDependentEnergy_201; 0) ( PyRosettaTwoBodyContextDependentEnergy_202; 0) ( PyRosettaTwoBodyContextDependentEnergy_203; 0) ( PyRosettaTwoBodyContextDependentEnergy_204; 0) ( PyRosettaTwoBodyContextDependentEnergy_205; 0) ( PyRosettaTwoBodyContextDependentEnergy_206; 0) ( PyRosettaTwoBodyContextDependentEnergy_last; 0) ( interface_dd_pair; 0) ( geom_sol; 0) ( geom_sol_intra_RNA; 0) ( occ_sol_fitted; 0) ( occ_sol_fitted_onebody; 0) ( occ_sol_exact; 0) ( cen_rot_pair; 0) ( cen_rot_pair_ang; 0) ( cen_rot_pair_dih; 0) ( pair; 0) ( cen_pair_smooth; 0) ( Mpair; 0) ( mp_pair; 0) ( fa_mpsolv; 0) ( suck; 0) ( rna_rg; 0) ( rna_motif; 0) ( facts_elec; 0) ( facts_solv; 0) ( facts_sasa; 0) ( motif_dock; 0) ( pointwater; 0) ( goap; 0) ( goap_dist; 0) ( goap_angle; 0) ( approximate_buried_unsat_penalty; 0) ( interchain_pair; 0) ( interchain_vdw; 0) ( gb_elec; 0) ( multipole_elec; 0) ( fa_sasa; 0) ( dslf_ss_dst; 0) ( dslf_cs_ang; 0) ( dslf_ss_dih; 0) ( dslf_ca_dih; 0) ( dslf_cbs_ds; 0) ( dslf_fa13; 1.25) ( dslfc_cen_dst; 0) ( dslfc_cb_dst; 0) ( dslfc_ang; 0) ( dslfc_cb_dih; 0) ( dslfc_bb_dih; 0) ( dslfc_rot; 0) ( dslfc_trans; 0) ( dslfc_RT; 0) ( atom_pair_constraint; 0) ( base_pair_constraint; 0) ( coarse_chainbreak_constraint; 0) ( constant_constraint; 0) ( coordinate_constraint; 0) ( angle_constraint; 0) ( dihedral_constraint; 0) ( big_bin_constraint; 0) ( dunbrack_constraint; 0) ( site_constraint; 0) ( metalhash_constraint; 0) ( metalbinding_constraint; 0) ( rna_stub_coord_hack; 0) ( bond_geometry; 0) ( rna_bond_geometry; 0) ( Hpol_bond_geometry; 0) ( rama; 0) ( omega; 0.4) ( fa_dun; 0.7) ( fa_dun_dev; 0) ( fa_dun_rot; 0) ( fa_dun_semi; 0) ( cen_rot_dun; 0) ( dna_chi; 0) ( p_aa_pp; 0.6) ( p_aa_ss; 0) ( yhh_planarity; 0.625) ( hxl_tors; 0) ( h2o_intra; 0) ( ref; 1) ( ref_nc; 0) ( seqdep_ref; 0) ( nmer_ref; 0) ( nmer_pssm; 0) ( nmer_svm; 0) ( envsmooth; 0) ( e_pH; 0) ( rna_bulge; 0) ( dna_dihedral_bb; 0) ( dna_dihedral_chi; 0) ( dna_dihedral_sugar; 0) ( sugar_bb; 0) ( free_suite; 0) ( free_2HOprime; 0) ( free_side_chain; 0) ( free_base; 0) ( free_res; 0) ( free_dof; 0) ( intermol; 0) ( other_pose; 0) ( special_rot; 0) ( PB_elec; 0) ( cen_env_smooth; 0) ( cbeta_smooth; 0) ( cen_rot_env; 0) ( cen_rot_cbeta; 0) ( env; 0) ( cbeta; 0) ( DFIRE; 0) ( Menv; 0) ( Mcbeta; 0) ( Menv_non_helix; 0) ( Menv_termini; 0) ( Menv_tm_proj; 0) ( Mlipo; 0) ( rg; 0) ( rg_local; 0) ( co; 0) ( hs_pair; 0) ( ss_pair; 0) ( rsigma; 0) ( sheet; 0) ( burial_v2; 0) ( burial; 0) ( abego; 0) ( covalent_labeling; 0) ( covalent_labeling_fa; 0) ( hrf_ms_labeling; 0) ( hrf_dynamics; 0) ( depc_ms; 0) ( rnp_env; 0) ( loop_close; 0) ( missing_res; 0) ( mp_env; 0) ( mp_cbeta; 0) ( mp_lipo; 0) ( mp_termini; 0) ( mp_nonhelix; 0) ( mp_tmproj; 0) ( fa_mpenv; 0) ( fa_mpenv_smooth; 0) ( fa_water_to_bilayer; 0) ( mp_res_lipo; 0) ( span_ins; 0) ( mp_span_ang; 0) ( mp_helicality; 0) ( natbias_ss; 0) ( natbias_hs; 0) ( natbias_hh; 0) ( natbias_stwist; 0) ( aa_cmp; 0) ( dock_ens_conf; 0) ( csa; 0) ( dc; 0) ( rdc; 0) ( rdc_segments; 0) ( rdc_rohl; 0) ( nmr_pcs; 0) ( nmr_rdc; 0) ( nmr_pre; 0) ( cen_pair_motifs; 0) ( cen_pair_motif_degree; 0) ( holes; 0) ( holes_decoy; 0) ( holes_resl; 0) ( holes_min; 0) ( holes_min_mean; 0) ( rna_chem_shift; 0) ( rna_chem_map; 0) ( rna_chem_map_lores; 0) ( rna_partition; 0) ( dab_sasa; 0) ( dab_sev; 0) ( sa; 0) ( d2h_sa; 0) ( ProQM; 0) ( ProQ; 0) ( interchain_env; 0) ( interchain_contact; 0) ( chainbreak; 0) ( linear_chainbreak; 0) ( overlap_chainbreak; 0) ( distance_chainbreak; 0) ( dof_constraint; 0) ( branch_conn; 0) ( linear_branch_conn; 0) ( rama_prepro; 0.45) ( paa_abego3; 0) ( cart_bonded; 0) ( cart_bonded_angle; 0) ( cart_bonded_length; 0) ( cart_bonded_ring; 0) ( cart_bonded_torsion; 0) ( cart_bonded_proper; 0) ( cart_bonded_improper; 0) ( gen_bonded; 0) ( gen_bonded_bond; 0) ( gen_bonded_angle; 0) ( gen_bonded_torsion; 0) ( gen_bonded_improper; 0) ( neigh_vect; 0) ( neigh_count; 0) ( neigh_vect_raw; 0) ( symE_bonus; 0) ( sym_lig; 0) ( mhc_epitope; 0) ( pack_stat; 0) ( rms_energy; 0) ( res_type_constraint; 0) ( res_type_linking_constraint; 0) ( pocket_constraint; 0) ( backbone_stub_constraint; 0) ( backbone_stub_linear_constraint; 0) ( surface; 0) ( p_aa; 0) ( unfolded; 0) ( split_unfolded_two_body; 0) ( fa_atr_ref; 0) ( fa_rep_ref; 0) ( fa_sol_ref; 0) ( fa_elec_ref; 0) ( hbond_ref; 0) ( dslf_fa13_ref; 0) ( fa_intra_atr_ref; 0) ( fa_intra_rep_ref; 0) ( fa_intra_sol_ref; 0) ( pro_close_ref; 0) ( fa_dun_ref; 0) ( fa_dun_dev_ref; 0) ( fa_dun_rot_ref; 0) ( fa_dun_semi_ref; 0) ( rama_ref; 0) ( p_aa_pp_ref; 0) ( omega_ref; 0) ( mm_lj_intra_rep_ref; 0) ( mm_lj_intra_atr_ref; 0) ( mm_twist_ref; 0) ( elec_dens_fast; 0) ( elec_dens_window; 0) ( elec_dens_whole_structure_ca; 0) ( elec_dens_whole_structure_allatom; 0) ( elec_dens_atomwise; 0) ( grid_vdw; 0) ( xtal_ml; 0) ( xtal_rwork; 0) ( xtal_rfree; 0) ( hpatch; 0) ( Menv_smooth; 0) ( wat_desolv; 0) ( ring_close; 0) ( aa_repeat; 0) ( aa_composition; 0) ( aspartimide_penalty; 0) ( hbnet; 0) ( buried_unsatisfied_penalty; 0) ( netcharge; 0) ( voids_penalty; 0) ( sap_constraint; 0) ( dna_env; 0) ( dna_pair; 0) ( dump_trajectory; 0) ( PyRosettaEnergy_first; 0) ( PyRosettaEnergy_465; 0) ( PyRosettaEnergy_466; 0) ( PyRosettaEnergy_467; 0) ( PyRosettaEnergy_468; 0) ( PyRosettaEnergy_469; 0) ( PyRosettaEnergy_470; 0) ( PyRosettaEnergy_471; 0) ( PyRosettaEnergy_472; 0) ( PyRosettaEnergy_473; 0) ( PyRosettaEnergy_last; 0) ( sidechain_neighbors; 0) ( target_clash; 0) ( membrane_span_constraint; 0) ( membrane_span_term_z_constraint; 0) ( aromatic_restraint; 0) ( rna_coarse_dist; 0) ( total_score; 0) ( dummy_score_type; 0) \n"
          ],
          "name": "stdout"
        }
      ]
    },
    {
      "cell_type": "markdown",
      "metadata": {
        "id": "r0asAL1n97jO"
      },
      "source": [
        "## Custom energy functions"
      ]
    },
    {
      "cell_type": "markdown",
      "metadata": {
        "id": "rAU0QVuH97jO"
      },
      "source": [
        "You can also create a custom energy function that includes select terms. Typically, creating a whole new score function is unneccesary because the current one works well in most cases. However, tweaking the current enrgy function by reassigning weights and adding certain energy terms can be useful.\n",
        "\n",
        "Here, we will make an example energy function with only the van der Waals attractive and repulsive terms, both with weights of 1. We need to use the `set_weight()`. Make a new `ScoreFunction` and set the weights accordingly. This is how we set the full-atom attractive (`fa_atr`) and the full-atom repulsive (`fa_rep`) terms.\n",
        "\n",
        "```\n",
        "sfxn2 = ScoreFunction()\n",
        "sfxn2.set_weight(fa_atr, 1.0)\n",
        "sfxn2.set_weight(fa_rep, 1.0)\n",
        "```"
      ]
    },
    {
      "cell_type": "code",
      "metadata": {
        "deletable": false,
        "nbgrader": {
          "cell_type": "code",
          "checksum": "d5a4cc23973c3913c6fc09e6bcc93934",
          "grade": true,
          "grade_id": "cell-c4c5c8d7de03487d",
          "locked": false,
          "points": 0,
          "schema_version": 3,
          "solution": true
        },
        "id": "iglRQ3_d97jO",
        "colab": {
          "base_uri": "https://localhost:8080/"
        },
        "outputId": "f9c447a0-f86e-4060-a9ba-943689484a37"
      },
      "source": [
        "sfxn2 = ScoreFunction()\n",
        "sfxn2.set_weight(fa_atr, 1.0)\n",
        "sfxn2.set_weight(fa_rep, 1.0)\n",
        "\n",
        "print(sfxn2.weights())"
      ],
      "execution_count": 22,
      "outputs": [
        {
          "output_type": "stream",
          "text": [
            "( fa_atr; 1) ( fa_rep; 1) ( fa_sol; 0) ( fa_intra_atr; 0) ( fa_intra_rep; 0) ( fa_intra_sol; 0) ( fa_intra_atr_xover4; 0) ( fa_intra_rep_xover4; 0) ( fa_intra_sol_xover4; 0) ( fa_intra_atr_nonprotein; 0) ( fa_intra_rep_nonprotein; 0) ( fa_intra_sol_nonprotein; 0) ( fa_intra_RNA_base_phos_atr; 0) ( fa_intra_RNA_base_phos_rep; 0) ( fa_intra_RNA_base_phos_sol; 0) ( fa_atr_dummy; 0) ( fa_rep_dummy; 0) ( fa_sol_dummy; 0) ( fa_vdw_tinker; 0) ( lk_hack; 0) ( lk_ball; 0) ( lk_ball_wtd; 0) ( lk_ball_iso; 0) ( lk_ball_bridge; 0) ( lk_ball_bridge_uncpl; 0) ( coarse_fa_atr; 0) ( coarse_fa_rep; 0) ( coarse_fa_sol; 0) ( coarse_beadlj; 0) ( mm_lj_intra_rep; 0) ( mm_lj_intra_atr; 0) ( mm_lj_inter_rep; 0) ( mm_lj_inter_atr; 0) ( mm_twist; 0) ( mm_bend; 0) ( mm_stretch; 0) ( lk_costheta; 0) ( lk_polar; 0) ( lk_nonpolar; 0) ( lk_polar_intra_RNA; 0) ( lk_nonpolar_intra_RNA; 0) ( fa_elec; 0) ( fa_elec_bb_bb; 0) ( fa_elec_bb_sc; 0) ( fa_elec_sc_sc; 0) ( fa_intra_elec; 0) ( h2o_hbond; 0) ( dna_dr; 0) ( dna_bp; 0) ( dna_bs; 0) ( dna_ref; 0) ( peptide_bond; 0) ( pcs; 0) ( pcsTs1; 0) ( pcsTs2; 0) ( pcsTs3; 0) ( pcsTs4; 0) ( pcs2; 0) ( fastsaxs; 0) ( saxs_score; 0) ( saxs_cen_score; 0) ( saxs_fa_score; 0) ( pddf_score; 0) ( fiberdiffraction; 0) ( fiberdiffractiondens; 0) ( epr_deer_score; 0) ( fa_mbenv; 0) ( fa_mbsolv; 0) ( fa_elec_rna_phos_phos; 0) ( fa_elec_rna_phos_sugr; 0) ( fa_elec_rna_phos_base; 0) ( fa_elec_rna_sugr_sugr; 0) ( fa_elec_rna_sugr_base; 0) ( fa_elec_rna_base_base; 0) ( fa_elec_rna_phos_phos_fast; 0) ( fa_elec_rna_phos_sugr_fast; 0) ( fa_elec_rna_phos_base_fast; 0) ( fa_elec_rna_sugr_sugr_fast; 0) ( fa_elec_rna_sugr_base_fast; 0) ( fa_elec_rna_base_base_fast; 0) ( fa_elec_aro_aro; 0) ( fa_elec_aro_all; 0) ( hack_aro; 0) ( rna_fa_atr_base; 0) ( rna_fa_rep_base; 0) ( rna_data_backbone; 0) ( ch_bond; 0) ( ch_bond_bb_bb; 0) ( ch_bond_sc_sc; 0) ( ch_bond_bb_sc; 0) ( pro_close; 0) ( rama2b; 0) ( vdw; 0) ( cenpack; 0) ( cenpack_smooth; 0) ( cen_hb; 0) ( hybrid_vdw; 0) ( gauss; 0) ( rna_vdw; 0) ( rnp_vdw; 0) ( rna_base_backbone; 0) ( rna_backbone_backbone; 0) ( rna_repulsive; 0) ( rna_base_pair_pairwise; 0) ( rna_base_axis_pairwise; 0) ( rna_base_stagger_pairwise; 0) ( rna_base_stack_pairwise; 0) ( rna_base_stack_axis_pairwise; 0) ( rna_data_base; 0) ( rna_base_pair; 0) ( rna_base_axis; 0) ( rna_base_stagger; 0) ( rna_base_stack; 0) ( rna_base_stack_axis; 0) ( rnp_base_pair; 0) ( rnp_stack; 0) ( rnp_stack_xy; 0) ( rnp_pair; 0) ( rnp_pair_dist; 0) ( rnp_aa_to_rna_backbone; 0) ( rna_mg_point; 0) ( rna_mg_point_indirect; 0) ( mg; 0) ( mg_lig; 0) ( mg_sol; 0) ( mg_ref; 0) ( hoh_ref; 0) ( rna_torsion; 0) ( rna_torsion_sc; 0) ( rna_suite; 0) ( rna_jr_suite; 0) ( suiteness_bonus; 0) ( tna_suite; 0) ( rna_sugar_close; 0) ( fa_stack; 0) ( fa_stack_lower; 0) ( fa_stack_upper; 0) ( fa_stack_aro; 0) ( fa_stack_ext; 0) ( fa_stack_sol; 0) ( fa_stack_lr; 0) ( fa_stack_rna_protein; 0) ( fa_stack_rna_protein_aro; 0) ( ss_contact_worst; 0) ( stack_elec; 0) ( stack_elec_base_base; 0) ( stack_elec_base_bb; 0) ( alignment; 0) ( dna_bb_torsion; 0) ( dna_sugar_close; 0) ( dna_base_distance; 0) ( geom_sol_fast; 0) ( geom_sol_fast_intra_RNA; 0) ( fa_cust_pair_dist; 0) ( custom_atom_pair; 0) ( orbitals_hpol_bb; 0) ( pci_cation_pi; 0) ( pci_pi_pi; 0) ( pci_salt_bridge; 0) ( pci_hbond; 0) ( arg_cation_pi; 0) ( PyRosettaTwoBodyContextIndepenedentEnergy_first; 0) ( PyRosettaTwoBodyContextIndepenedentEnergy_163; 0) ( PyRosettaTwoBodyContextIndepenedentEnergy_164; 0) ( PyRosettaTwoBodyContextIndepenedentEnergy_165; 0) ( PyRosettaTwoBodyContextIndepenedentEnergy_166; 0) ( PyRosettaTwoBodyContextIndepenedentEnergy_167; 0) ( PyRosettaTwoBodyContextIndepenedentEnergy_168; 0) ( PyRosettaTwoBodyContextIndepenedentEnergy_169; 0) ( PyRosettaTwoBodyContextIndepenedentEnergy_170; 0) ( PyRosettaTwoBodyContextIndepenedentEnergy_171; 0) ( PyRosettaTwoBodyContextIndepenedentEnergy_last; 0) ( python; 0) ( fa_pair; 0) ( fa_pair_aro_aro; 0) ( fa_pair_aro_pol; 0) ( fa_pair_pol_pol; 0) ( hbond_sr_bb; 0) ( hbond_lr_bb; 0) ( hbond_bb_sc; 0) ( hbond_sr_bb_sc; 0) ( hbond_lr_bb_sc; 0) ( hbond_sc; 0) ( hbond_intra; 0) ( hbond_wat; 0) ( wat_entropy; 0) ( hbond; 0) ( npd_hbond_sr_bb; 0) ( npd_hbond_lr_bb; 0) ( npd_hbond_bb_sc; 0) ( npd_hbond_sr_bb_sc; 0) ( npd_hbond_lr_bb_sc; 0) ( npd_hbond_sc; 0) ( npd_hbond_intra; 0) ( npd_hbond; 0) ( fa_grpelec; 0) ( PyRosettaTwoBodyContextDependentEnergy_first; 0) ( PyRosettaTwoBodyContextDependentEnergy_198; 0) ( PyRosettaTwoBodyContextDependentEnergy_199; 0) ( PyRosettaTwoBodyContextDependentEnergy_200; 0) ( PyRosettaTwoBodyContextDependentEnergy_201; 0) ( PyRosettaTwoBodyContextDependentEnergy_202; 0) ( PyRosettaTwoBodyContextDependentEnergy_203; 0) ( PyRosettaTwoBodyContextDependentEnergy_204; 0) ( PyRosettaTwoBodyContextDependentEnergy_205; 0) ( PyRosettaTwoBodyContextDependentEnergy_206; 0) ( PyRosettaTwoBodyContextDependentEnergy_last; 0) ( interface_dd_pair; 0) ( geom_sol; 0) ( geom_sol_intra_RNA; 0) ( occ_sol_fitted; 0) ( occ_sol_fitted_onebody; 0) ( occ_sol_exact; 0) ( cen_rot_pair; 0) ( cen_rot_pair_ang; 0) ( cen_rot_pair_dih; 0) ( pair; 0) ( cen_pair_smooth; 0) ( Mpair; 0) ( mp_pair; 0) ( fa_mpsolv; 0) ( suck; 0) ( rna_rg; 0) ( rna_motif; 0) ( facts_elec; 0) ( facts_solv; 0) ( facts_sasa; 0) ( motif_dock; 0) ( pointwater; 0) ( goap; 0) ( goap_dist; 0) ( goap_angle; 0) ( approximate_buried_unsat_penalty; 0) ( interchain_pair; 0) ( interchain_vdw; 0) ( gb_elec; 0) ( multipole_elec; 0) ( fa_sasa; 0) ( dslf_ss_dst; 0) ( dslf_cs_ang; 0) ( dslf_ss_dih; 0) ( dslf_ca_dih; 0) ( dslf_cbs_ds; 0) ( dslf_fa13; 0) ( dslfc_cen_dst; 0) ( dslfc_cb_dst; 0) ( dslfc_ang; 0) ( dslfc_cb_dih; 0) ( dslfc_bb_dih; 0) ( dslfc_rot; 0) ( dslfc_trans; 0) ( dslfc_RT; 0) ( atom_pair_constraint; 0) ( base_pair_constraint; 0) ( coarse_chainbreak_constraint; 0) ( constant_constraint; 0) ( coordinate_constraint; 0) ( angle_constraint; 0) ( dihedral_constraint; 0) ( big_bin_constraint; 0) ( dunbrack_constraint; 0) ( site_constraint; 0) ( metalhash_constraint; 0) ( metalbinding_constraint; 0) ( rna_stub_coord_hack; 0) ( bond_geometry; 0) ( rna_bond_geometry; 0) ( Hpol_bond_geometry; 0) ( rama; 0) ( omega; 0) ( fa_dun; 0) ( fa_dun_dev; 0) ( fa_dun_rot; 0) ( fa_dun_semi; 0) ( cen_rot_dun; 0) ( dna_chi; 0) ( p_aa_pp; 0) ( p_aa_ss; 0) ( yhh_planarity; 0) ( hxl_tors; 0) ( h2o_intra; 0) ( ref; 0) ( ref_nc; 0) ( seqdep_ref; 0) ( nmer_ref; 0) ( nmer_pssm; 0) ( nmer_svm; 0) ( envsmooth; 0) ( e_pH; 0) ( rna_bulge; 0) ( dna_dihedral_bb; 0) ( dna_dihedral_chi; 0) ( dna_dihedral_sugar; 0) ( sugar_bb; 0) ( free_suite; 0) ( free_2HOprime; 0) ( free_side_chain; 0) ( free_base; 0) ( free_res; 0) ( free_dof; 0) ( intermol; 0) ( other_pose; 0) ( special_rot; 0) ( PB_elec; 0) ( cen_env_smooth; 0) ( cbeta_smooth; 0) ( cen_rot_env; 0) ( cen_rot_cbeta; 0) ( env; 0) ( cbeta; 0) ( DFIRE; 0) ( Menv; 0) ( Mcbeta; 0) ( Menv_non_helix; 0) ( Menv_termini; 0) ( Menv_tm_proj; 0) ( Mlipo; 0) ( rg; 0) ( rg_local; 0) ( co; 0) ( hs_pair; 0) ( ss_pair; 0) ( rsigma; 0) ( sheet; 0) ( burial_v2; 0) ( burial; 0) ( abego; 0) ( covalent_labeling; 0) ( covalent_labeling_fa; 0) ( hrf_ms_labeling; 0) ( hrf_dynamics; 0) ( depc_ms; 0) ( rnp_env; 0) ( loop_close; 0) ( missing_res; 0) ( mp_env; 0) ( mp_cbeta; 0) ( mp_lipo; 0) ( mp_termini; 0) ( mp_nonhelix; 0) ( mp_tmproj; 0) ( fa_mpenv; 0) ( fa_mpenv_smooth; 0) ( fa_water_to_bilayer; 0) ( mp_res_lipo; 0) ( span_ins; 0) ( mp_span_ang; 0) ( mp_helicality; 0) ( natbias_ss; 0) ( natbias_hs; 0) ( natbias_hh; 0) ( natbias_stwist; 0) ( aa_cmp; 0) ( dock_ens_conf; 0) ( csa; 0) ( dc; 0) ( rdc; 0) ( rdc_segments; 0) ( rdc_rohl; 0) ( nmr_pcs; 0) ( nmr_rdc; 0) ( nmr_pre; 0) ( cen_pair_motifs; 0) ( cen_pair_motif_degree; 0) ( holes; 0) ( holes_decoy; 0) ( holes_resl; 0) ( holes_min; 0) ( holes_min_mean; 0) ( rna_chem_shift; 0) ( rna_chem_map; 0) ( rna_chem_map_lores; 0) ( rna_partition; 0) ( dab_sasa; 0) ( dab_sev; 0) ( sa; 0) ( d2h_sa; 0) ( ProQM; 0) ( ProQ; 0) ( interchain_env; 0) ( interchain_contact; 0) ( chainbreak; 0) ( linear_chainbreak; 0) ( overlap_chainbreak; 0) ( distance_chainbreak; 0) ( dof_constraint; 0) ( branch_conn; 0) ( linear_branch_conn; 0) ( rama_prepro; 0) ( paa_abego3; 0) ( cart_bonded; 0) ( cart_bonded_angle; 0) ( cart_bonded_length; 0) ( cart_bonded_ring; 0) ( cart_bonded_torsion; 0) ( cart_bonded_proper; 0) ( cart_bonded_improper; 0) ( gen_bonded; 0) ( gen_bonded_bond; 0) ( gen_bonded_angle; 0) ( gen_bonded_torsion; 0) ( gen_bonded_improper; 0) ( neigh_vect; 0) ( neigh_count; 0) ( neigh_vect_raw; 0) ( symE_bonus; 0) ( sym_lig; 0) ( mhc_epitope; 0) ( pack_stat; 0) ( rms_energy; 0) ( res_type_constraint; 0) ( res_type_linking_constraint; 0) ( pocket_constraint; 0) ( backbone_stub_constraint; 0) ( backbone_stub_linear_constraint; 0) ( surface; 0) ( p_aa; 0) ( unfolded; 0) ( split_unfolded_two_body; 0) ( fa_atr_ref; 0) ( fa_rep_ref; 0) ( fa_sol_ref; 0) ( fa_elec_ref; 0) ( hbond_ref; 0) ( dslf_fa13_ref; 0) ( fa_intra_atr_ref; 0) ( fa_intra_rep_ref; 0) ( fa_intra_sol_ref; 0) ( pro_close_ref; 0) ( fa_dun_ref; 0) ( fa_dun_dev_ref; 0) ( fa_dun_rot_ref; 0) ( fa_dun_semi_ref; 0) ( rama_ref; 0) ( p_aa_pp_ref; 0) ( omega_ref; 0) ( mm_lj_intra_rep_ref; 0) ( mm_lj_intra_atr_ref; 0) ( mm_twist_ref; 0) ( elec_dens_fast; 0) ( elec_dens_window; 0) ( elec_dens_whole_structure_ca; 0) ( elec_dens_whole_structure_allatom; 0) ( elec_dens_atomwise; 0) ( grid_vdw; 0) ( xtal_ml; 0) ( xtal_rwork; 0) ( xtal_rfree; 0) ( hpatch; 0) ( Menv_smooth; 0) ( wat_desolv; 0) ( ring_close; 0) ( aa_repeat; 0) ( aa_composition; 0) ( aspartimide_penalty; 0) ( hbnet; 0) ( buried_unsatisfied_penalty; 0) ( netcharge; 0) ( voids_penalty; 0) ( sap_constraint; 0) ( dna_env; 0) ( dna_pair; 0) ( dump_trajectory; 0) ( PyRosettaEnergy_first; 0) ( PyRosettaEnergy_465; 0) ( PyRosettaEnergy_466; 0) ( PyRosettaEnergy_467; 0) ( PyRosettaEnergy_468; 0) ( PyRosettaEnergy_469; 0) ( PyRosettaEnergy_470; 0) ( PyRosettaEnergy_471; 0) ( PyRosettaEnergy_472; 0) ( PyRosettaEnergy_473; 0) ( PyRosettaEnergy_last; 0) ( sidechain_neighbors; 0) ( target_clash; 0) ( membrane_span_constraint; 0) ( membrane_span_term_z_constraint; 0) ( aromatic_restraint; 0) ( rna_coarse_dist; 0) ( total_score; 0) ( dummy_score_type; 0) \n"
          ],
          "name": "stdout"
        }
      ]
    },
    {
      "cell_type": "markdown",
      "metadata": {
        "id": "wxosvUai97jP"
      },
      "source": [
        "Lets compare the score of `ras` using the full-atom `ScoreFunction` versus the `ScoreFunction` we made above using only the attractive and repulsive terms.\n",
        "\n",
        "First, print the total energy of `ras` using `print(sfxn(ras))`\n",
        "Then, print the attractive and repulsive energy only of `ras` using `print(sfxn2(ras))`"
      ]
    },
    {
      "cell_type": "code",
      "metadata": {
        "deletable": false,
        "nbgrader": {
          "cell_type": "code",
          "checksum": "5257f9fe320267a5e7eb764a7930eb1e",
          "grade": true,
          "grade_id": "cell-7013e0c60ab37e65",
          "locked": false,
          "points": 0,
          "schema_version": 3,
          "solution": true
        },
        "id": "7m2aTkj597jP",
        "colab": {
          "base_uri": "https://localhost:8080/"
        },
        "outputId": "65039e16-da6d-4bdb-db08-6cc59a32917d"
      },
      "source": [
        "# print total energy of ras\n",
        "print(sfxn(ras))\n",
        "\n",
        "# print the attractive and repulsive energy of ras\n",
        "print(sfxn2(ras))"
      ],
      "execution_count": 23,
      "outputs": [
        {
          "output_type": "stream",
          "text": [
            "1215.729070042399\n",
            "154.59159174026854\n"
          ],
          "name": "stdout"
        }
      ]
    },
    {
      "cell_type": "markdown",
      "metadata": {
        "id": "7LNEagEH97jP"
      },
      "source": [
        "## Energy Breakdown"
      ]
    },
    {
      "cell_type": "markdown",
      "metadata": {
        "id": "dUoNpgKE97jP"
      },
      "source": [
        "Using the full-atom `ScoreFunction` `sfxn`, break the energy of `ras` down into its individual pieces with the `sfxn.show(ras)` method. Which are the three most dominant contributions, and what are their values? Is this what you would have expected? Why? Note which terms are positive and negative"
      ]
    },
    {
      "cell_type": "code",
      "metadata": {
        "deletable": false,
        "nbgrader": {
          "cell_type": "code",
          "checksum": "d85657d8e29552b8d01d7f4d02eea8dc",
          "grade": true,
          "grade_id": "cell-1985d733350b2c83",
          "locked": false,
          "points": 0,
          "schema_version": 3,
          "solution": true
        },
        "id": "cYrr6Iut97jP",
        "colab": {
          "base_uri": "https://localhost:8080/"
        },
        "outputId": "4090ea8f-69b0-4901-ae7b-8ba6d430d6c7"
      },
      "source": [
        "# use the sfxn.show() method\n",
        "sfxn.show(ras)"
      ],
      "execution_count": 24,
      "outputs": [
        {
          "output_type": "stream",
          "text": [
            "core.scoring.ScoreFunction: \n",
            "------------------------------------------------------------\n",
            " Scores                       Weight   Raw Score Wghtd.Score\n",
            "------------------------------------------------------------\n",
            " fa_atr                       1.000   -1039.246   -1039.246\n",
            " fa_rep                       0.550    1193.837     656.611\n",
            " fa_sol                       1.000     682.582     682.582\n",
            " fa_intra_rep                 0.005     700.419       3.502\n",
            " fa_intra_sol_xover4          1.000      46.564      46.564\n",
            " lk_ball_wtd                  1.000     -14.597     -14.597\n",
            " fa_elec                      1.000    -195.387    -195.387\n",
            " pro_close                    1.250      97.210     121.513\n",
            " hbond_sr_bb                  1.000     -41.656     -41.656\n",
            " hbond_lr_bb                  1.000     -28.352     -28.352\n",
            " hbond_bb_sc                  1.000     -13.111     -13.111\n",
            " hbond_sc                     1.000      -7.771      -7.771\n",
            " dslf_fa13                    1.250       0.000       0.000\n",
            " omega                        0.400      41.525      16.610\n",
            " fa_dun                       0.700    1296.642     907.650\n",
            " p_aa_pp                      0.600     -25.496     -15.298\n",
            " yhh_planarity                0.625       0.000       0.000\n",
            " ref                          1.000      47.114      47.114\n",
            " rama_prepro                  0.450     197.781      89.002\n",
            "---------------------------------------------------\n",
            " Total weighted score:                     1215.729\n"
          ],
          "name": "stdout"
        }
      ]
    },
    {
      "cell_type": "markdown",
      "metadata": {
        "id": "k8czbFpKD-WB"
      },
      "source": [
        "The three most dominant contributions are fa_atr (-1039.246), fa_dun (-907.650), and fa_sol (682.582)"
      ]
    },
    {
      "cell_type": "markdown",
      "metadata": {
        "id": "zEYu51pK97jQ"
      },
      "source": [
        "Unweighted, individual component energies of each residue in a structure are stored in the `Pose` object and can be accessed by the `energies()` method. For example, to break down the energy into each residue's contribution, we use: \n",
        "```\n",
        "print(ras.energies().show(<n>))\n",
        "```\n",
        "Where `<n>` is the residue number.\n",
        "\n",
        "What are the total van der Waals, solvation, and hydrogen-bonding contributions of residue 24?\n",
        "\n",
        "Note: The _backbone_ hydrogen-bonding terms for each residue are not available from the `Energies` object. You can get them by using EnergyMethodOptions. See http://www.pyrosetta.org/documentation#TOC-Hydrogen-Bonds-and-Hydrogen-Bond-Scoring."
      ]
    },
    {
      "cell_type": "code",
      "metadata": {
        "deletable": false,
        "nbgrader": {
          "cell_type": "code",
          "checksum": "b23fb9ecb7c8501235b5a54cc0567a0c",
          "grade": true,
          "grade_id": "cell-cd5175f1ed3fd0ad",
          "locked": false,
          "points": 0,
          "schema_version": 3,
          "solution": true
        },
        "id": "wZsa-bGF97jQ",
        "colab": {
          "base_uri": "https://localhost:8080/"
        },
        "outputId": "0c7e62cb-d82d-4693-ee00-c2e78b70626d"
      },
      "source": [
        "print(ras.energies().show(24))"
      ],
      "execution_count": 25,
      "outputs": [
        {
          "output_type": "stream",
          "text": [
            "core.scoring.Energies: E               fa_atr        fa_rep        fa_sol  fa_intra_repfa_intra_sol_x   lk_ball_wtd       fa_elec     pro_close   hbond_sr_bb   hbond_lr_bb   hbond_bb_sc      hbond_sc     dslf_fa13         omega        fa_dun       p_aa_pp yhh_planarity           ref   rama_prepro\n",
            "core.scoring.Energies: E(i)  24         -7.40         19.03          2.94          8.76          0.09         -0.11         -0.56          0.00          0.00          0.00          0.00          0.00          0.00          0.12          2.68          0.06          0.00          2.30          3.58\n",
            "None\n"
          ],
          "name": "stdout"
        }
      ]
    },
    {
      "cell_type": "markdown",
      "metadata": {
        "id": "32SjHEp597jQ"
      },
      "source": [
        "The van der Waals, solvation, and electrostatic terms are atom-atom pairwise energies calculated from a pre-tabulated lookup table, dependent upon the distance between the two atoms and their types. You can access this lookup table, called the `etable` directly to check these energy calculations on an atom-by-atom basis. Use the `etable_atom_pair_energies` function which returns a triplet of energies for attractive, repulsive and solvation scores.\n",
        "\n",
        "(Note that the `etable_atom_pair_energies()` function requires `Atom` objects, not the `AtomID` objects we saw in Workshop #2. For more info, look at the [documentation](https://graylab.jhu.edu/PyRosetta.documentation/pyrosetta.toolbox.atom_pair_energy.html?highlight=etable_atom_pair_energies#pyrosetta.toolbox.atom_pair_energy.etable_atom_pair_energies).)\n",
        "\n",
        "**Practice:** What are the attractive, repulsive, solvation, and electrostatic components between the nitrogen of residue 24 and the oxygen of residue 20? \n"
      ]
    },
    {
      "cell_type": "code",
      "metadata": {
        "deletable": false,
        "nbgrader": {
          "cell_type": "code",
          "checksum": "8c61d70270f52e1a933d45656832b8e3",
          "grade": true,
          "grade_id": "cell-7ce1bc99f2fd0b00",
          "locked": false,
          "points": 0,
          "schema_version": 3,
          "solution": true
        },
        "id": "7T6owZtO97jR",
        "colab": {
          "base_uri": "https://localhost:8080/"
        },
        "outputId": "7ce81649-3fe5-4d63-8371-0861d3de2bf3"
      },
      "source": [
        "res_24 = ras.residue(24)\n",
        "res_20 = ras.residue(20)\n",
        "nitrogen_index_24 = res_24.atom_index('N')\n",
        "oxygen_index_20 = res_20.atom_index('O')\n",
        "\n",
        "solv = pyrosetta.etable_atom_pair_energies(res_24, nitrogen_index_24, res_20, oxygen_index_20, sfxn)\n",
        "solv"
      ],
      "execution_count": 26,
      "outputs": [
        {
          "output_type": "execute_result",
          "data": {
            "text/plain": [
              "(-0.1505855046001568, 0.0, 0.5903452111877214, 2.173111777247698)"
            ]
          },
          "metadata": {
            "tags": []
          },
          "execution_count": 26
        }
      ]
    },
    {
      "cell_type": "markdown",
      "metadata": {
        "id": "zZMUdyXm97jR"
      },
      "source": [
        "# Practice: Analyzing energy between residues\n",
        "Keywords: pose_from_rcsb(), pdb2pose(), EMapVector()"
      ]
    },
    {
      "cell_type": "code",
      "metadata": {
        "id": "7MwanRAO97jR",
        "colab": {
          "base_uri": "https://localhost:8080/"
        },
        "outputId": "697846bf-ff2c-4769-f595-e01e34cc2af9"
      },
      "source": [
        "# From previous section:\n",
        "sfxn = get_score_function(True)"
      ],
      "execution_count": 27,
      "outputs": [
        {
          "output_type": "stream",
          "text": [
            "core.scoring.ScoreFunctionFactory: SCOREFUNCTION: ref2015\n"
          ],
          "name": "stdout"
        }
      ]
    },
    {
      "cell_type": "markdown",
      "metadata": {
        "id": "-Afvcape97jR"
      },
      "source": [
        "Analyze the energy between residues Y102 and Q408 in cetuximab (PDB code 1YY9, use the `pyrosetta.toolbox.pose_from_rcsb` function to download it and load it into a new `Pose` object) by following the steps below. \n",
        "\n",
        "A. Internally, a Pose object has a list of residues, numbered starting from 1. To find the residue numbers of Y102 of chain D and Q408 of chain A, use the residue chain identifier and the PDB residue number to convert to the pose numbering using the `pose2pdb()` method:\n",
        "\n",
        "```\n",
        "pose = pyrosetta.toolbox.pose_from_rcsb(\"1YY9\")\n",
        "res102 = pose.pdb_info().pdb2pose(\"D\", 102)\n",
        "res408 = pose.pdb_info().pdb2pose(\"A\", 408)\n",
        "```"
      ]
    },
    {
      "cell_type": "code",
      "metadata": {
        "deletable": false,
        "nbgrader": {
          "cell_type": "code",
          "checksum": "021521771cae846244b7da6fe1e5fbfe",
          "grade": true,
          "grade_id": "cell-870a6043eeeae1de",
          "locked": false,
          "points": 0,
          "schema_version": 3,
          "solution": true
        },
        "id": "9VwBn-0D97jS",
        "colab": {
          "base_uri": "https://localhost:8080/"
        },
        "outputId": "63d7beb4-c762-46c0-c07e-b2976d9b679f"
      },
      "source": [
        "pose = pyrosetta.toolbox.pose_from_rcsb(\"1YY9\")\n",
        "res102 = pose.pdb_info().pdb2pose(\"D\", 102)\n",
        "res408 = pose.pdb_info().pdb2pose(\"A\", 408)"
      ],
      "execution_count": 29,
      "outputs": [
        {
          "output_type": "stream",
          "text": [
            "core.import_pose.import_pose: File '1YY9.clean.pdb' automatically determined to be of type PDB\n",
            "core.conformation.Conformation: [ WARNING ] missing heavyatom:  CG  on residue GLU:NtermProteinFull 1\n",
            "core.conformation.Conformation: [ WARNING ] missing heavyatom:  CD  on residue GLU:NtermProteinFull 1\n",
            "core.conformation.Conformation: [ WARNING ] missing heavyatom:  OE1 on residue GLU:NtermProteinFull 1\n",
            "core.conformation.Conformation: [ WARNING ] missing heavyatom:  OE2 on residue GLU:NtermProteinFull 1\n",
            "core.conformation.Conformation: [ WARNING ] missing heavyatom:  CG  on residue GLU 2\n",
            "core.conformation.Conformation: [ WARNING ] missing heavyatom:  CD  on residue GLU 2\n",
            "core.conformation.Conformation: [ WARNING ] missing heavyatom:  OE1 on residue GLU 2\n",
            "core.conformation.Conformation: [ WARNING ] missing heavyatom:  OE2 on residue GLU 2\n",
            "core.conformation.Conformation: [ WARNING ] missing heavyatom:  CG  on residue LYS 3\n",
            "core.conformation.Conformation: [ WARNING ] missing heavyatom:  CD  on residue LYS 3\n",
            "core.conformation.Conformation: [ WARNING ] missing heavyatom:  CE  on residue LYS 3\n",
            "core.conformation.Conformation: [ WARNING ] missing heavyatom:  NZ  on residue LYS 3\n",
            "core.conformation.Conformation: [ WARNING ] missing heavyatom:  CG  on residue GLN 138\n",
            "core.conformation.Conformation: [ WARNING ] missing heavyatom:  CD  on residue GLN 138\n",
            "core.conformation.Conformation: [ WARNING ] missing heavyatom:  OE1 on residue GLN 138\n",
            "core.conformation.Conformation: [ WARNING ] missing heavyatom:  NE2 on residue GLN 138\n",
            "core.conformation.Conformation: [ WARNING ] missing heavyatom:  CG  on residue GLU 179\n",
            "core.conformation.Conformation: [ WARNING ] missing heavyatom:  CD  on residue GLU 179\n",
            "core.conformation.Conformation: [ WARNING ] missing heavyatom:  OE1 on residue GLU 179\n",
            "core.conformation.Conformation: [ WARNING ] missing heavyatom:  OE2 on residue GLU 179\n",
            "core.conformation.Conformation: [ WARNING ] missing heavyatom:  CG  on residue GLN 192\n",
            "core.conformation.Conformation: [ WARNING ] missing heavyatom:  CD  on residue GLN 192\n",
            "core.conformation.Conformation: [ WARNING ] missing heavyatom:  OE1 on residue GLN 192\n",
            "core.conformation.Conformation: [ WARNING ] missing heavyatom:  NE2 on residue GLN 192\n",
            "core.conformation.Conformation: [ WARNING ] missing heavyatom:  CG  on residue GLN 193\n",
            "core.conformation.Conformation: [ WARNING ] missing heavyatom:  CD  on residue GLN 193\n",
            "core.conformation.Conformation: [ WARNING ] missing heavyatom:  OE1 on residue GLN 193\n",
            "core.conformation.Conformation: [ WARNING ] missing heavyatom:  NE2 on residue GLN 193\n",
            "core.conformation.Conformation: [ WARNING ] missing heavyatom:  CG  on residue GLU 220\n",
            "core.conformation.Conformation: [ WARNING ] missing heavyatom:  CD  on residue GLU 220\n",
            "core.conformation.Conformation: [ WARNING ] missing heavyatom:  OE1 on residue GLU 220\n",
            "core.conformation.Conformation: [ WARNING ] missing heavyatom:  OE2 on residue GLU 220\n",
            "core.conformation.Conformation: [ WARNING ] missing heavyatom:  CG  on residue GLU 257\n",
            "core.conformation.Conformation: [ WARNING ] missing heavyatom:  CD  on residue GLU 257\n",
            "core.conformation.Conformation: [ WARNING ] missing heavyatom:  OE1 on residue GLU 257\n",
            "core.conformation.Conformation: [ WARNING ] missing heavyatom:  OE2 on residue GLU 257\n",
            "core.conformation.Conformation: [ WARNING ] missing heavyatom:  CG  on residue ARG 272\n",
            "core.conformation.Conformation: [ WARNING ] missing heavyatom:  CD  on residue ARG 272\n",
            "core.conformation.Conformation: [ WARNING ] missing heavyatom:  NE  on residue ARG 272\n",
            "core.conformation.Conformation: [ WARNING ] missing heavyatom:  CZ  on residue ARG 272\n",
            "core.conformation.Conformation: [ WARNING ] missing heavyatom:  NH1 on residue ARG 272\n",
            "core.conformation.Conformation: [ WARNING ] missing heavyatom:  NH2 on residue ARG 272\n",
            "core.conformation.Conformation: [ WARNING ] missing heavyatom:  CG  on residue ARG 299\n",
            "core.conformation.Conformation: [ WARNING ] missing heavyatom:  CD  on residue ARG 299\n",
            "core.conformation.Conformation: [ WARNING ] missing heavyatom:  NE  on residue ARG 299\n",
            "core.conformation.Conformation: [ WARNING ] missing heavyatom:  CZ  on residue ARG 299\n",
            "core.conformation.Conformation: [ WARNING ] missing heavyatom:  NH1 on residue ARG 299\n",
            "core.conformation.Conformation: [ WARNING ] missing heavyatom:  NH2 on residue ARG 299\n",
            "core.conformation.Conformation: [ WARNING ] missing heavyatom:  CG  on residue ARG 502\n",
            "core.conformation.Conformation: [ WARNING ] missing heavyatom:  CD  on residue ARG 502\n",
            "core.conformation.Conformation: [ WARNING ] missing heavyatom:  NE  on residue ARG 502\n",
            "core.conformation.Conformation: [ WARNING ] missing heavyatom:  CZ  on residue ARG 502\n",
            "core.conformation.Conformation: [ WARNING ] missing heavyatom:  NH1 on residue ARG 502\n",
            "core.conformation.Conformation: [ WARNING ] missing heavyatom:  NH2 on residue ARG 502\n",
            "core.conformation.Conformation: [ WARNING ] missing heavyatom:  CG  on residue GLU 518\n",
            "core.conformation.Conformation: [ WARNING ] missing heavyatom:  CD  on residue GLU 518\n",
            "core.conformation.Conformation: [ WARNING ] missing heavyatom:  OE1 on residue GLU 518\n",
            "core.conformation.Conformation: [ WARNING ] missing heavyatom:  OE2 on residue GLU 518\n",
            "core.conformation.Conformation: [ WARNING ] missing heavyatom:  CG  on residue GLU 520\n",
            "core.conformation.Conformation: [ WARNING ] missing heavyatom:  CD  on residue GLU 520\n",
            "core.conformation.Conformation: [ WARNING ] missing heavyatom:  OE1 on residue GLU 520\n",
            "core.conformation.Conformation: [ WARNING ] missing heavyatom:  OE2 on residue GLU 520\n",
            "core.conformation.Conformation: [ WARNING ] missing heavyatom:  CG  on residue ARG 522\n",
            "core.conformation.Conformation: [ WARNING ] missing heavyatom:  CD  on residue ARG 522\n",
            "core.conformation.Conformation: [ WARNING ] missing heavyatom:  NE  on residue ARG 522\n",
            "core.conformation.Conformation: [ WARNING ] missing heavyatom:  CZ  on residue ARG 522\n",
            "core.conformation.Conformation: [ WARNING ] missing heavyatom:  NH1 on residue ARG 522\n",
            "core.conformation.Conformation: [ WARNING ] missing heavyatom:  NH2 on residue ARG 522\n",
            "core.conformation.Conformation: [ WARNING ] missing heavyatom:  OXT on residue THR:CtermProteinFull 613\n",
            "core.conformation.Conformation: [ WARNING ] missing heavyatom:  CG  on residue ARG 631\n",
            "core.conformation.Conformation: [ WARNING ] missing heavyatom:  CD  on residue ARG 631\n",
            "core.conformation.Conformation: [ WARNING ] missing heavyatom:  NE  on residue ARG 631\n",
            "core.conformation.Conformation: [ WARNING ] missing heavyatom:  CZ  on residue ARG 631\n",
            "core.conformation.Conformation: [ WARNING ] missing heavyatom:  NH1 on residue ARG 631\n",
            "core.conformation.Conformation: [ WARNING ] missing heavyatom:  NH2 on residue ARG 631\n",
            "core.conformation.Conformation: [ WARNING ] missing heavyatom:  CG  on residue LYS 739\n",
            "core.conformation.Conformation: [ WARNING ] missing heavyatom:  CD  on residue LYS 739\n",
            "core.conformation.Conformation: [ WARNING ] missing heavyatom:  CE  on residue LYS 739\n",
            "core.conformation.Conformation: [ WARNING ] missing heavyatom:  NZ  on residue LYS 739\n",
            "core.conformation.Conformation: [ WARNING ] missing heavyatom:  CG  on residue LYS 801\n",
            "core.conformation.Conformation: [ WARNING ] missing heavyatom:  CD  on residue LYS 801\n",
            "core.conformation.Conformation: [ WARNING ] missing heavyatom:  CE  on residue LYS 801\n",
            "core.conformation.Conformation: [ WARNING ] missing heavyatom:  NZ  on residue LYS 801\n",
            "core.conformation.Conformation: [ WARNING ] missing heavyatom:  OXT on residue ARG:CtermProteinFull 824\n",
            "core.conformation.Conformation: [ WARNING ] missing heavyatom:  CG  on residue ARG:CtermProteinFull 824\n",
            "core.conformation.Conformation: [ WARNING ] missing heavyatom:  CD  on residue ARG:CtermProteinFull 824\n",
            "core.conformation.Conformation: [ WARNING ] missing heavyatom:  NE  on residue ARG:CtermProteinFull 824\n",
            "core.conformation.Conformation: [ WARNING ] missing heavyatom:  CZ  on residue ARG:CtermProteinFull 824\n",
            "core.conformation.Conformation: [ WARNING ] missing heavyatom:  NH1 on residue ARG:CtermProteinFull 824\n",
            "core.conformation.Conformation: [ WARNING ] missing heavyatom:  NH2 on residue ARG:CtermProteinFull 824\n",
            "core.conformation.Conformation: [ WARNING ] missing heavyatom:  CG  on residue LYS 959\n",
            "core.conformation.Conformation: [ WARNING ] missing heavyatom:  CD  on residue LYS 959\n",
            "core.conformation.Conformation: [ WARNING ] missing heavyatom:  CE  on residue LYS 959\n",
            "core.conformation.Conformation: [ WARNING ] missing heavyatom:  NZ  on residue LYS 959\n",
            "core.conformation.Conformation: [ WARNING ] missing heavyatom:  CG  on residue LYS 1039\n",
            "core.conformation.Conformation: [ WARNING ] missing heavyatom:  CD  on residue LYS 1039\n",
            "core.conformation.Conformation: [ WARNING ] missing heavyatom:  CE  on residue LYS 1039\n",
            "core.conformation.Conformation: [ WARNING ] missing heavyatom:  NZ  on residue LYS 1039\n",
            "core.conformation.Conformation: [ WARNING ] missing heavyatom:  CG  on residue ARG 1040\n",
            "core.conformation.Conformation: [ WARNING ] missing heavyatom:  CD  on residue ARG 1040\n",
            "core.conformation.Conformation: [ WARNING ] missing heavyatom:  NE  on residue ARG 1040\n",
            "core.conformation.Conformation: [ WARNING ] missing heavyatom:  CZ  on residue ARG 1040\n",
            "core.conformation.Conformation: [ WARNING ] missing heavyatom:  NH1 on residue ARG 1040\n",
            "core.conformation.Conformation: [ WARNING ] missing heavyatom:  NH2 on residue ARG 1040\n",
            "core.conformation.Conformation: [ WARNING ] missing heavyatom:  OXT on residue LYS:CtermProteinFull 1044\n",
            "core.conformation.Conformation: [ WARNING ] missing heavyatom:  CG  on residue LYS:CtermProteinFull 1044\n",
            "core.conformation.Conformation: [ WARNING ] missing heavyatom:  CD  on residue LYS:CtermProteinFull 1044\n",
            "core.conformation.Conformation: [ WARNING ] missing heavyatom:  CE  on residue LYS:CtermProteinFull 1044\n",
            "core.conformation.Conformation: [ WARNING ] missing heavyatom:  NZ  on residue LYS:CtermProteinFull 1044\n",
            "core.conformation.Conformation: Found disulfide between residues 6 33\n",
            "core.conformation.Conformation: current variant for 6 CYS\n",
            "core.conformation.Conformation: current variant for 33 CYS\n",
            "core.conformation.Conformation: current variant for 6 CYD\n",
            "core.conformation.Conformation: current variant for 33 CYD\n",
            "core.conformation.Conformation: Found disulfide between residues 132 162\n",
            "core.conformation.Conformation: current variant for 132 CYS\n",
            "core.conformation.Conformation: current variant for 162 CYS\n",
            "core.conformation.Conformation: current variant for 132 CYD\n",
            "core.conformation.Conformation: current variant for 162 CYD\n",
            "core.conformation.Conformation: Found disulfide between residues 165 174\n",
            "core.conformation.Conformation: current variant for 165 CYS\n",
            "core.conformation.Conformation: current variant for 174 CYS\n",
            "core.conformation.Conformation: current variant for 165 CYD\n",
            "core.conformation.Conformation: current variant for 174 CYD\n",
            "core.conformation.Conformation: Found disulfide between residues 169 182\n",
            "core.conformation.Conformation: current variant for 169 CYS\n",
            "core.conformation.Conformation: current variant for 182 CYS\n",
            "core.conformation.Conformation: current variant for 169 CYD\n",
            "core.conformation.Conformation: current variant for 182 CYD\n",
            "core.conformation.Conformation: Found disulfide between residues 190 198\n",
            "core.conformation.Conformation: current variant for 190 CYS\n",
            "core.conformation.Conformation: current variant for 198 CYS\n",
            "core.conformation.Conformation: current variant for 190 CYD\n",
            "core.conformation.Conformation: current variant for 198 CYD\n",
            "core.conformation.Conformation: Found disulfide between residues 194 206\n",
            "core.conformation.Conformation: current variant for 194 CYS\n",
            "core.conformation.Conformation: current variant for 206 CYS\n",
            "core.conformation.Conformation: current variant for 194 CYD\n",
            "core.conformation.Conformation: current variant for 206 CYD\n",
            "core.conformation.Conformation: Found disulfide between residues 207 215\n",
            "core.conformation.Conformation: current variant for 207 CYS\n",
            "core.conformation.Conformation: current variant for 215 CYS\n",
            "core.conformation.Conformation: current variant for 207 CYD\n",
            "core.conformation.Conformation: current variant for 215 CYD\n",
            "core.conformation.Conformation: Found disulfide between residues 211 223\n",
            "core.conformation.Conformation: current variant for 211 CYS\n",
            "core.conformation.Conformation: current variant for 223 CYS\n",
            "core.conformation.Conformation: current variant for 211 CYD\n",
            "core.conformation.Conformation: current variant for 223 CYD\n",
            "core.conformation.Conformation: Found disulfide between residues 226 235\n",
            "core.conformation.Conformation: current variant for 226 CYS\n",
            "core.conformation.Conformation: current variant for 235 CYS\n",
            "core.conformation.Conformation: current variant for 226 CYD\n",
            "core.conformation.Conformation: current variant for 235 CYD\n",
            "core.conformation.Conformation: Found disulfide between residues 239 266\n",
            "core.conformation.Conformation: current variant for 239 CYS\n",
            "core.conformation.Conformation: current variant for 266 CYS\n",
            "core.conformation.Conformation: current variant for 239 CYD\n",
            "core.conformation.Conformation: current variant for 266 CYD\n",
            "core.conformation.Conformation: Found disulfide between residues 270 282\n",
            "core.conformation.Conformation: current variant for 270 CYS\n",
            "core.conformation.Conformation: current variant for 282 CYS\n",
            "core.conformation.Conformation: current variant for 270 CYD\n",
            "core.conformation.Conformation: current variant for 282 CYD\n",
            "core.conformation.Conformation: Found disulfide between residues 286 301\n",
            "core.conformation.Conformation: current variant for 286 CYS\n",
            "core.conformation.Conformation: current variant for 301 CYS\n",
            "core.conformation.Conformation: current variant for 286 CYD\n",
            "core.conformation.Conformation: current variant for 301 CYD\n",
            "core.conformation.Conformation: Found disulfide between residues 304 308\n",
            "core.conformation.Conformation: current variant for 304 CYS\n",
            "core.conformation.Conformation: current variant for 308 CYS\n",
            "core.conformation.Conformation: current variant for 304 CYD\n",
            "core.conformation.Conformation: current variant for 308 CYD\n",
            "core.conformation.Conformation: Found disulfide between residues 312 337\n",
            "core.conformation.Conformation: current variant for 312 CYS\n",
            "core.conformation.Conformation: current variant for 337 CYS\n",
            "core.conformation.Conformation: current variant for 312 CYD\n",
            "core.conformation.Conformation: current variant for 337 CYD\n",
            "core.conformation.Conformation: Found disulfide between residues 445 474\n",
            "core.conformation.Conformation: current variant for 445 CYS\n",
            "core.conformation.Conformation: current variant for 474 CYS\n",
            "core.conformation.Conformation: current variant for 445 CYD\n",
            "core.conformation.Conformation: current variant for 474 CYD\n",
            "core.conformation.Conformation: Found disulfide between residues 481 490\n",
            "core.conformation.Conformation: current variant for 481 CYS\n",
            "core.conformation.Conformation: current variant for 490 CYS\n",
            "core.conformation.Conformation: current variant for 481 CYD\n",
            "core.conformation.Conformation: current variant for 490 CYD\n",
            "core.conformation.Conformation: Found disulfide between residues 485 498\n",
            "core.conformation.Conformation: current variant for 485 CYS\n",
            "core.conformation.Conformation: current variant for 498 CYS\n",
            "core.conformation.Conformation: current variant for 485 CYD\n",
            "core.conformation.Conformation: current variant for 498 CYD\n",
            "core.conformation.Conformation: Found disulfide between residues 501 510\n",
            "core.conformation.Conformation: current variant for 501 CYS\n",
            "core.conformation.Conformation: current variant for 510 CYS\n",
            "core.conformation.Conformation: current variant for 501 CYD\n",
            "core.conformation.Conformation: current variant for 510 CYD\n",
            "core.conformation.Conformation: Found disulfide between residues 514 530\n",
            "core.conformation.Conformation: current variant for 514 CYS\n",
            "core.conformation.Conformation: current variant for 530 CYS\n",
            "core.conformation.Conformation: current variant for 514 CYD\n",
            "core.conformation.Conformation: current variant for 530 CYD\n",
            "core.conformation.Conformation: Found disulfide between residues 533 546\n",
            "core.conformation.Conformation: current variant for 533 CYS\n",
            "core.conformation.Conformation: current variant for 546 CYS\n",
            "core.conformation.Conformation: current variant for 533 CYD\n",
            "core.conformation.Conformation: current variant for 546 CYD\n",
            "core.conformation.Conformation: Found disulfide between residues 537 554\n",
            "core.conformation.Conformation: current variant for 537 CYS\n",
            "core.conformation.Conformation: current variant for 554 CYS\n",
            "core.conformation.Conformation: current variant for 537 CYD\n",
            "core.conformation.Conformation: current variant for 554 CYD\n",
            "core.conformation.Conformation: Found disulfide between residues 557 566\n",
            "core.conformation.Conformation: current variant for 557 CYS\n",
            "core.conformation.Conformation: current variant for 566 CYS\n",
            "core.conformation.Conformation: current variant for 557 CYD\n",
            "core.conformation.Conformation: current variant for 566 CYD\n",
            "core.conformation.Conformation: Found disulfide between residues 570 592\n",
            "core.conformation.Conformation: current variant for 570 CYS\n",
            "core.conformation.Conformation: current variant for 592 CYS\n",
            "core.conformation.Conformation: current variant for 570 CYD\n",
            "core.conformation.Conformation: current variant for 592 CYD\n",
            "core.conformation.Conformation: Found disulfide between residues 595 603\n",
            "core.conformation.Conformation: current variant for 595 CYS\n",
            "core.conformation.Conformation: current variant for 603 CYS\n",
            "core.conformation.Conformation: current variant for 595 CYD\n",
            "core.conformation.Conformation: current variant for 603 CYD\n",
            "core.conformation.Conformation: Found disulfide between residues 599 611\n",
            "core.conformation.Conformation: current variant for 599 CYS\n",
            "core.conformation.Conformation: current variant for 611 CYS\n",
            "core.conformation.Conformation: current variant for 599 CYD\n",
            "core.conformation.Conformation: current variant for 611 CYD\n",
            "core.conformation.Conformation: Found disulfide between residues 636 701\n",
            "core.conformation.Conformation: current variant for 636 CYS\n",
            "core.conformation.Conformation: current variant for 701 CYS\n",
            "core.conformation.Conformation: current variant for 636 CYD\n",
            "core.conformation.Conformation: current variant for 701 CYD\n",
            "core.conformation.Conformation: Found disulfide between residues 747 807\n",
            "core.conformation.Conformation: current variant for 747 CYS\n",
            "core.conformation.Conformation: current variant for 807 CYS\n",
            "core.conformation.Conformation: current variant for 747 CYD\n",
            "core.conformation.Conformation: current variant for 807 CYD\n",
            "core.conformation.Conformation: Found disulfide between residues 846 919\n",
            "core.conformation.Conformation: current variant for 846 CYS\n",
            "core.conformation.Conformation: current variant for 919 CYS\n",
            "core.conformation.Conformation: current variant for 846 CYD\n",
            "core.conformation.Conformation: current variant for 919 CYD\n",
            "core.conformation.Conformation: Found disulfide between residues 970 1026\n",
            "core.conformation.Conformation: current variant for 970 CYS\n",
            "core.conformation.Conformation: current variant for 1026 CYS\n",
            "core.conformation.Conformation: current variant for 970 CYD\n",
            "core.conformation.Conformation: current variant for 1026 CYD\n",
            "core.pack.pack_missing_sidechains: packing residue number 1 because of missing atom number 6 atom name  CG\n",
            "core.pack.pack_missing_sidechains: packing residue number 2 because of missing atom number 6 atom name  CG\n",
            "core.pack.pack_missing_sidechains: packing residue number 3 because of missing atom number 6 atom name  CG\n",
            "core.pack.pack_missing_sidechains: packing residue number 138 because of missing atom number 6 atom name  CG\n",
            "core.pack.pack_missing_sidechains: packing residue number 179 because of missing atom number 6 atom name  CG\n",
            "core.pack.pack_missing_sidechains: packing residue number 192 because of missing atom number 6 atom name  CG\n",
            "core.pack.pack_missing_sidechains: packing residue number 193 because of missing atom number 6 atom name  CG\n",
            "core.pack.pack_missing_sidechains: packing residue number 220 because of missing atom number 6 atom name  CG\n",
            "core.pack.pack_missing_sidechains: packing residue number 257 because of missing atom number 6 atom name  CG\n",
            "core.pack.pack_missing_sidechains: packing residue number 272 because of missing atom number 6 atom name  CG\n",
            "core.pack.pack_missing_sidechains: packing residue number 299 because of missing atom number 6 atom name  CG\n",
            "core.pack.pack_missing_sidechains: packing residue number 502 because of missing atom number 6 atom name  CG\n",
            "core.pack.pack_missing_sidechains: packing residue number 518 because of missing atom number 6 atom name  CG\n",
            "core.pack.pack_missing_sidechains: packing residue number 520 because of missing atom number 6 atom name  CG\n",
            "core.pack.pack_missing_sidechains: packing residue number 522 because of missing atom number 6 atom name  CG\n",
            "core.pack.pack_missing_sidechains: packing residue number 631 because of missing atom number 6 atom name  CG\n",
            "core.pack.pack_missing_sidechains: packing residue number 739 because of missing atom number 6 atom name  CG\n",
            "core.pack.pack_missing_sidechains: packing residue number 801 because of missing atom number 6 atom name  CG\n",
            "core.pack.pack_missing_sidechains: packing residue number 824 because of missing atom number 7 atom name  CG\n",
            "core.pack.pack_missing_sidechains: packing residue number 959 because of missing atom number 6 atom name  CG\n",
            "core.pack.pack_missing_sidechains: packing residue number 1039 because of missing atom number 6 atom name  CG\n",
            "core.pack.pack_missing_sidechains: packing residue number 1040 because of missing atom number 6 atom name  CG\n",
            "core.pack.pack_missing_sidechains: packing residue number 1044 because of missing atom number 7 atom name  CG\n",
            "core.pack.task: Packer task: initialize from command line()\n",
            "core.scoring.ScoreFunctionFactory: SCOREFUNCTION: ref2015\n",
            "core.pack.pack_rotamers: built 313 rotamers at 23 positions.\n",
            "core.pack.interaction_graph.interaction_graph_factory: Instantiating DensePDInteractionGraph\n"
          ],
          "name": "stdout"
        }
      ]
    },
    {
      "cell_type": "markdown",
      "metadata": {
        "id": "eTu2EEDp97jS"
      },
      "source": [
        "B. Score the pose and determine the van der Waals energies and solvation energy between these two residues. Use the following commands to isolate contributions from particular pairs of residues, where `rsd102` and `rsd408` are the two residue objects of interest from above (not the residue number -- use `pose.residue(res_num)` to access the objects): \n",
        "\n",
        "```\n",
        "emap = EMapVector()\n",
        "sfxn.eval_ci_2b(pose.residue(res102), pose.residue(res408), pose, emap)\n",
        "print(emap[fa_atr])\n",
        "print(emap[fa_rep])\n",
        "print(emap[fa_sol])\n",
        "```"
      ]
    },
    {
      "cell_type": "code",
      "metadata": {
        "code_folding": [],
        "deletable": false,
        "nbgrader": {
          "cell_type": "code",
          "checksum": "c7eb996bd82c409aba707dab13c6e707",
          "grade": true,
          "grade_id": "cell-1ffc5699ad9c088b",
          "locked": false,
          "points": 0,
          "schema_version": 3,
          "solution": true
        },
        "id": "sJS_JTF097jS",
        "colab": {
          "base_uri": "https://localhost:8080/"
        },
        "outputId": "1358e0b9-a579-4377-b67f-c70ccf9f3f4f"
      },
      "source": [
        "emap = EMapVector()\n",
        "sfxn.eval_ci_2b(pose.residue(res102), pose.residue(res408), pose, emap)\n",
        "print(emap[fa_atr])\n",
        "print(emap[fa_rep])\n",
        "print(emap[fa_sol])"
      ],
      "execution_count": 30,
      "outputs": [
        {
          "output_type": "stream",
          "text": [
            "-1.2098840439684349\n",
            "0.10835353848860374\n",
            "1.5729435146961963\n"
          ],
          "name": "stdout"
        }
      ]
    },
    {
      "cell_type": "markdown",
      "metadata": {
        "id": "Kdtz7PXq97jS"
      },
      "source": [
        "# Energies and the PyMOL Mover\n",
        "Keywords: send_energy(), label_energy(), send_hbonds()"
      ]
    },
    {
      "cell_type": "code",
      "metadata": {
        "id": "AxB5xqd397jT",
        "colab": {
          "base_uri": "https://localhost:8080/"
        },
        "outputId": "a3866422-0e04-4fab-d0d2-b336d91abf2b"
      },
      "source": [
        "# Notebook setup\n",
        "import sys\n",
        "if 'google.colab' in sys.modules:\n",
        "    !pip install pyrosettacolabsetup\n",
        "    import pyrosettacolabsetup\n",
        "    pyrosettacolabsetup.mount_pyrosetta_install() #Instead of pyrosettacolabsetup.setup\n",
        "    print (\"Notebook is set for PyRosetta use in Colab.  Have fun!\")\n",
        "\n",
        "from pyrosetta import *\n",
        "from pyrosetta.teaching import *\n",
        "init()"
      ],
      "execution_count": 31,
      "outputs": [
        {
          "output_type": "stream",
          "text": [
            "Requirement already satisfied: pyrosettacolabsetup in /usr/local/lib/python3.7/dist-packages (0.6)\n",
            "Drive already mounted at /content/google_drive; to attempt to forcibly remount, call drive.mount(\"/content/google_drive\", force_remount=True).\n",
            "Notebook is set for PyRosetta use in Colab.  Have fun!\n",
            "PyRosetta-4 2021 [Rosetta PyRosetta4.MinSizeRel.python37.ubuntu 2021.21+release.882e5c1ab85c8c251fce4eb3e1e0504af590786a 2021-05-26T14:40:53] retrieved from: http://www.pyrosetta.org\n",
            "(C) Copyright Rosetta Commons Member Institutions. Created in JHU by Sergey Lyskov and PyRosetta Team.\n",
            "core.init: Checking for fconfig files in pwd and ./rosetta/flags\n",
            "core.init: Rosetta version: PyRosetta4.MinSizeRel.python37.ubuntu r284 2021.21+release.882e5c1ab85 882e5c1ab85c8c251fce4eb3e1e0504af590786a http://www.pyrosetta.org 2021-05-26T14:40:53\n",
            "core.init: command: PyRosetta -ex1 -ex2aro -database /content/google_drive/MyDrive/prefix/lib/python3.7/site-packages/pyrosetta/database\n",
            "basic.random.init_random_generator: 'RNG device' seed mode, using '/dev/urandom', seed=-1761385165 seed_offset=0 real_seed=-1761385165\n",
            "basic.random.init_random_generator: RandomGenerator:init: Normal mode, seed=-1761385165 RG_type=mt19937\n"
          ],
          "name": "stdout"
        }
      ]
    },
    {
      "cell_type": "markdown",
      "metadata": {
        "id": "KK5it-5N97jT"
      },
      "source": [
        "**Make sure you are in the directory that holds your `inputs/` directory:**\n",
        "\n",
        "`cd google_drive/My\\ Drive/pyrbc_202106_notebooks/`"
      ]
    },
    {
      "cell_type": "code",
      "metadata": {
        "id": "oggayhYI97jT",
        "colab": {
          "base_uri": "https://localhost:8080/"
        },
        "outputId": "18a62bf8-f124-45af-f881-f16a948f4440"
      },
      "source": [
        "# From previous section:\n",
        "ras = pyrosetta.pose_from_pdb(\"inputs/6Q21_A.pdb\")\n",
        "sfxn = get_fa_scorefxn()"
      ],
      "execution_count": 32,
      "outputs": [
        {
          "output_type": "stream",
          "text": [
            "core.import_pose.import_pose: File 'inputs/6Q21_A.pdb' automatically determined to be of type PDB\n",
            "core.scoring.ScoreFunctionFactory: SCOREFUNCTION: ref2015\n"
          ],
          "name": "stdout"
        }
      ]
    },
    {
      "cell_type": "markdown",
      "metadata": {
        "id": "yyWN2CZr97jU"
      },
      "source": [
        "The `PyMOLMover` class contains a method for sending score function information to PyMOL,\n",
        "which will then color the structure based on relative residue energies.\n",
        "\n",
        "Open up PyMOL on your computer (and, if you have not added the execution of the `PyMOL-Rosetta-relay-client.python3.py` to your `.pymolrc`, then run it manually). Initialize the commuication inside colab with the relay server at Hopkins. Instantiate a `PyMOLMover` object and use the `pymol_mover.send_energy(ras)` to send the coloring  command to PyMOL.\n",
        "\n",
        "```\n",
        "if os.getenv(\"DEBUG\"): sys.exit(0)\n",
        "import pyrosetta.network\n",
        "\n",
        "# make sure to supply unique secret here and use _the same_ secrete when running PyMOL-Rosetta-relay-client.python3.py in PyMOL on your desktop machine\n",
        "pyrosetta.network.start_udp_to_tcp_bridge_daemon(secret='my-super-unique-secret-please-change-me')\n",
        "\n",
        "\n",
        "pymol_mover = PyMOLMover()\n",
        "pymol_mover.apply(ras)\n",
        "print(sfxn(ras))\n",
        "pymol_mover.send_energy(ras)\n",
        "```"
      ]
    },
    {
      "cell_type": "code",
      "metadata": {
        "deletable": false,
        "nbgrader": {
          "cell_type": "code",
          "checksum": "834f8d41b3b3c87a6bc4795697ffcfd9",
          "grade": true,
          "grade_id": "cell-6b50c733700571cc",
          "locked": false,
          "points": 0,
          "schema_version": 3,
          "solution": true
        },
        "id": "bHwqfKz_97jU",
        "colab": {
          "base_uri": "https://localhost:8080/"
        },
        "outputId": "0017699a-f7a7-4ece-893d-44205e967c83"
      },
      "source": [
        "if os.getenv(\"DEBUG\"): sys.exit(0)\n",
        "import pyrosetta.network\n",
        " \n",
        "# make sure to supply unique secret here and use _the same_ secrete when running PyMOL-Rosetta-relay-client.python3.py in PyMOL on your desktop machine\n",
        "pyrosetta.network.start_udp_to_tcp_bridge_daemon(secret='none')\n",
        " \n",
        " \n",
        "pymol_mover = PyMOLMover()\n",
        "pymol_mover.apply(ras)\n",
        "print(sfxn(ras))\n",
        "pymol_mover.send_energy(ras)"
      ],
      "execution_count": 33,
      "outputs": [
        {
          "output_type": "stream",
          "text": [
            "WARNING: CONNECTION to relay server relay.graylab.jhu.edu:9989 IS NOT ENCRYPTED!\n",
            "UDP server started: localhost:65000...\n",
            "1215.729070042399\n"
          ],
          "name": "stdout"
        }
      ]
    },
    {
      "cell_type": "code",
      "metadata": {
        "id": "mnHKfXdt97jV"
      },
      "source": [
        "from IPython.core.interactiveshell import InteractiveShell\n",
        "InteractiveShell.ast_node_interactivity = \"all\"\n",
        "from IPython import display"
      ],
      "execution_count": 34,
      "outputs": []
    },
    {
      "cell_type": "code",
      "metadata": {
        "id": "nVPoGPUy97jW"
      },
      "source": [
        "from pathlib import Path\n",
        "gifPath = Path(\"./Media/PyMOL-send_energy.gif\")\n",
        "# Display GIF in Jupyter, CoLab, IPython\n",
        "with open(gifPath,'rb') as f:\n",
        "    display.Image(data=f.read(), format='png',width='800')"
      ],
      "execution_count": 35,
      "outputs": []
    },
    {
      "cell_type": "markdown",
      "metadata": {
        "id": "FNATz8WV97jW"
      },
      "source": [
        "What color is residue Proline34? What color is residue Alanine66? Which residue has lower energy?"
      ]
    },
    {
      "cell_type": "code",
      "metadata": {
        "id": "YgAdc6L797jW"
      },
      "source": [
        "# your response here"
      ],
      "execution_count": null,
      "outputs": []
    },
    {
      "cell_type": "markdown",
      "metadata": {
        "id": "MRZkE9Pv97jW"
      },
      "source": [
        "`pymol_mover.send_energy(ras, fa_atr)` will have PyMOL color only by the attractive van der Waals energy component. What color is residue 34 if colored by solvation energy, `fa_sol`?"
      ]
    },
    {
      "cell_type": "code",
      "metadata": {
        "id": "K3pTQwNv97jX"
      },
      "source": [
        "# send specific energies to pymol"
      ],
      "execution_count": null,
      "outputs": []
    },
    {
      "cell_type": "code",
      "metadata": {
        "deletable": false,
        "nbgrader": {
          "cell_type": "code",
          "checksum": "b626e9a77f2c1329d1a045d4319921db",
          "grade": true,
          "grade_id": "cell-f9000db7d0cfabd1",
          "locked": false,
          "points": 0,
          "schema_version": 3,
          "solution": true
        },
        "id": "TcxplQoe97jX"
      },
      "source": [
        "pymol_mover.send_energy(ras, fa_atr)"
      ],
      "execution_count": 36,
      "outputs": []
    },
    {
      "cell_type": "markdown",
      "metadata": {
        "id": "i2oFewFP97jX"
      },
      "source": [
        "You can have PyMOL label each Cα with the value of its residue’s specified energy using:\n",
        "```\n",
        "pymol_mover.label_energy(ras, \"fa_atr\")\n",
        "```"
      ]
    },
    {
      "cell_type": "code",
      "metadata": {
        "deletable": false,
        "nbgrader": {
          "cell_type": "code",
          "checksum": "8a5b0466487ed132c5ec7d034404c24a",
          "grade": true,
          "grade_id": "cell-2ba49a6550dab5c7",
          "locked": false,
          "points": 0,
          "schema_version": 3,
          "solution": true
        },
        "id": "0JhbaU1997jX"
      },
      "source": [
        "pymol_mover.label_energy(ras, \"fa_atr\")"
      ],
      "execution_count": 37,
      "outputs": []
    },
    {
      "cell_type": "markdown",
      "metadata": {
        "id": "r3iLcz0E97jX"
      },
      "source": [
        "Finally, if you have scored the `pose` first, you can have PyMOL display all of the calculated hydrogen bonds for the structure:\n",
        "\n",
        "```\n",
        "pymol_mover.send_hbonds(ras)\n",
        "```"
      ]
    },
    {
      "cell_type": "code",
      "metadata": {
        "deletable": false,
        "nbgrader": {
          "cell_type": "code",
          "checksum": "fa5e2b543ba46881f27771087b748a4c",
          "grade": true,
          "grade_id": "cell-e881648552ab8641",
          "locked": false,
          "points": 0,
          "schema_version": 3,
          "solution": true
        },
        "id": "k-jfTQoe97jX"
      },
      "source": [
        "pymol_mover.send_hbonds(ras)"
      ],
      "execution_count": 38,
      "outputs": []
    },
    {
      "cell_type": "markdown",
      "metadata": {
        "id": "pZqwlSpy97jY"
      },
      "source": [
        "## References\n",
        "This Jupyter notebook is an adapted version of \"Workshop #3: Scoring\" in the PyRosetta workbook: https://graylab.jhu.edu/pyrosetta/downloads/documentation/pyrosetta4_online_format/PyRosetta4_Workshop3_Scoring.pdf"
      ]
    }
  ]
}