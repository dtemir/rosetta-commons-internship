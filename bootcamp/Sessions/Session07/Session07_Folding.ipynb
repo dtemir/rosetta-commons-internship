{
  "nbformat": 4,
  "nbformat_minor": 0,
  "metadata": {
    "anaconda-cloud": {},
    "colab": {
      "name": "Session07_Folding.ipynb",
      "provenance": []
    },
    "kernelspec": {
      "display_name": "Python 3",
      "language": "python",
      "name": "python3"
    },
    "language_info": {
      "codemirror_mode": {
        "name": "ipython",
        "version": 3
      },
      "file_extension": ".py",
      "mimetype": "text/x-python",
      "name": "python",
      "nbconvert_exporter": "python",
      "pygments_lexer": "ipython3",
      "version": "3.7.7"
    },
    "toc": {
      "base_numbering": 1,
      "nav_menu": {},
      "number_sections": true,
      "sideBar": true,
      "skip_h1_title": false,
      "title_cell": "Table of Contents",
      "title_sidebar": "Contents",
      "toc_cell": false,
      "toc_position": {},
      "toc_section_display": true,
      "toc_window_display": false
    }
  },
  "cells": [
    {
      "cell_type": "markdown",
      "metadata": {
        "id": "-Nc_dOwkETv_"
      },
      "source": [
        "Before you turn this problem in, make sure everything runs as expected. First, **restart the kernel** (in the menubar, select Kernel$\\rightarrow$Restart) and then **run all cells** (in the menubar, select Cell$\\rightarrow$Run All).\n",
        "\n",
        "Make sure you fill in any place that says `YOUR CODE HERE` or \"YOUR ANSWER HERE\", as well as your name and collaborators below:"
      ]
    },
    {
      "cell_type": "code",
      "metadata": {
        "id": "YF-yjqQwETwC"
      },
      "source": [
        "NAME = \"Damir\"\n",
        "COLLABORATORS = \"\""
      ],
      "execution_count": 1,
      "outputs": []
    },
    {
      "cell_type": "markdown",
      "metadata": {
        "id": "iYiGkbHeETwD"
      },
      "source": [
        "---"
      ]
    },
    {
      "cell_type": "markdown",
      "metadata": {
        "id": "3Y8s637yETwD"
      },
      "source": [
        "# Introduction to Folding"
      ]
    },
    {
      "cell_type": "markdown",
      "metadata": {
        "id": "5KeF6_3kETwE"
      },
      "source": [
        "Any folding algorithm requires…\n",
        "\n",
        "\n",
        "- …a search strategy, an algorithm to generate many candidate structures (or decoys) and…\n",
        "\n",
        "\n",
        "- …a scoring function to discriminate near-native structures from all the others.\n",
        "\n",
        "\n",
        "In this workshop you will write your own Monte Carlo protein folding algorithm from scratch, and we will explore a couple of the tricks used by Simons et al. (1997, 1999) to speed up the folding search.\n",
        "\n",
        "\n",
        "## Suggested Readings\n",
        "1. K. T. Simons et al., “Assembly of Protein Structures from Fragments,” *J. Mol. Biol.*\n",
        "268, 209-225 (1997).\n",
        "2. K. T. Simons et al., “Improved recognition of protein structures,” *Proteins* 34, 82-95\n",
        "(1999).\n",
        "3. Chapter 4 (Monte Carlo methods) of M. P. Allen & D. J. Tildesley, *Computer\n",
        "Simulation of Liquids*, Oxford University Press, 1989."
      ]
    },
    {
      "cell_type": "markdown",
      "metadata": {
        "id": "c4dk_5liETwE"
      },
      "source": [
        "**Chapter contributors:**\n",
        "\n",
        "- Kathy Le (Johns Hopkins University); this chapter was adapted from the [PyRosetta book](https://www.amazon.com/PyRosetta-Interactive-Platform-Structure-Prediction-ebook/dp/B01N21DRY8) (J. J. Gray, S. Chaudhury, S. Lyskov, J. Labonte)."
      ]
    },
    {
      "cell_type": "markdown",
      "metadata": {
        "id": "F6DTSDu9ETwE"
      },
      "source": [
        "# Basic Folding Algorithm\n",
        "Keywords: pose_from_sequence(), random move, scoring move, Metropolis, assign(), Pose()"
      ]
    },
    {
      "cell_type": "code",
      "metadata": {
        "colab": {
          "base_uri": "https://localhost:8080/"
        },
        "id": "6xASd9IzETwF",
        "outputId": "d85bb36a-057e-4040-82a2-f99c23f479eb"
      },
      "source": [
        "# You have to rerun this each time you start a new notebook or do a \"factory reset\".\n",
        "import sys\n",
        "if 'google.colab' in sys.modules:\n",
        "    !pip install pyrosettacolabsetup\n",
        "    import pyrosettacolabsetup\n",
        "    pyrosettacolabsetup.mount_pyrosetta_install() #Instead of pyrosettacolabsetup.setup\n",
        "    print (\"Notebook is set for PyRosetta use in Colab.  Have fun!\")\n",
        "\n"
      ],
      "execution_count": 2,
      "outputs": [
        {
          "output_type": "stream",
          "text": [
            "Requirement already satisfied: pyrosettacolabsetup in /usr/local/lib/python3.7/dist-packages (0.6)\n",
            "Drive already mounted at /content/google_drive; to attempt to forcibly remount, call drive.mount(\"/content/google_drive\", force_remount=True).\n",
            "Notebook is set for PyRosetta use in Colab.  Have fun!\n"
          ],
          "name": "stdout"
        }
      ]
    },
    {
      "cell_type": "code",
      "metadata": {
        "colab": {
          "base_uri": "https://localhost:8080/"
        },
        "id": "Cx2MB9WqETwF",
        "outputId": "01b0831e-56d5-4c3c-b127-a265e265918a"
      },
      "source": [
        "from pyrosetta import *\n",
        "from pyrosetta.teaching import *\n",
        "init()"
      ],
      "execution_count": 3,
      "outputs": [
        {
          "output_type": "stream",
          "text": [
            "PyRosetta-4 2021 [Rosetta PyRosetta4.MinSizeRel.python37.ubuntu 2021.21+release.882e5c1ab85c8c251fce4eb3e1e0504af590786a 2021-05-26T14:40:53] retrieved from: http://www.pyrosetta.org\n",
            "(C) Copyright Rosetta Commons Member Institutions. Created in JHU by Sergey Lyskov and PyRosetta Team.\n",
            "core.init: Checking for fconfig files in pwd and ./rosetta/flags\n",
            "core.init: Rosetta version: PyRosetta4.MinSizeRel.python37.ubuntu r284 2021.21+release.882e5c1ab85 882e5c1ab85c8c251fce4eb3e1e0504af590786a http://www.pyrosetta.org 2021-05-26T14:40:53\n",
            "core.init: command: PyRosetta -ex1 -ex2aro -database /content/google_drive/MyDrive/prefix/lib/python3.7/site-packages/pyrosetta/database\n",
            "basic.random.init_random_generator: 'RNG device' seed mode, using '/dev/urandom', seed=-752181500 seed_offset=0 real_seed=-752181500\n",
            "basic.random.init_random_generator: RandomGenerator:init: Normal mode, seed=-752181500 RG_type=mt19937\n"
          ],
          "name": "stdout"
        }
      ]
    },
    {
      "cell_type": "code",
      "metadata": {
        "colab": {
          "base_uri": "https://localhost:8080/"
        },
        "id": "BFYUwb_5ETwF",
        "outputId": "6fc5ee9b-b8d1-4f8d-e7fa-62334580dfd0"
      },
      "source": [
        "%cd google_drive/MyDrive/temp_pyrbc_202103_notebooks/"
      ],
      "execution_count": 4,
      "outputs": [
        {
          "output_type": "stream",
          "text": [
            "/content/google_drive/MyDrive/temp_pyrbc_202103_notebooks\n"
          ],
          "name": "stdout"
        }
      ]
    },
    {
      "cell_type": "markdown",
      "metadata": {
        "id": "xgv2uGOAETwG"
      },
      "source": [
        "## Building the Pose"
      ]
    },
    {
      "cell_type": "markdown",
      "metadata": {
        "id": "iIYe9gvsETwG"
      },
      "source": [
        "In this workshop, you will be folding a 10 residue protein by building a simple de novo folding algorithm. Start by initializing PyRosetta as usual."
      ]
    },
    {
      "cell_type": "markdown",
      "metadata": {
        "id": "xaYE7MQeETwH"
      },
      "source": [
        "Create a simple poly-alanine `pose` with 10 residues for testing your folding algorithm. Store the pose in a variable called \"polyA.\""
      ]
    },
    {
      "cell_type": "code",
      "metadata": {
        "colab": {
          "base_uri": "https://localhost:8080/"
        },
        "id": "_fVXVRXJETwH",
        "outputId": "33918b71-c14f-4242-e72d-e3746c55078f"
      },
      "source": [
        "polyA = pose_from_sequence(\"A\"*10)\n",
        "\n",
        "polyA.pdb_info().name(\"polyA\")"
      ],
      "execution_count": 5,
      "outputs": [
        {
          "output_type": "stream",
          "text": [
            "core.chemical.GlobalResidueTypeSet: Finished initializing fa_standard residue type set.  Created 984 residue types\n",
            "core.chemical.GlobalResidueTypeSet: Total time to initialize 1.67199 seconds.\n"
          ],
          "name": "stdout"
        }
      ]
    },
    {
      "cell_type": "markdown",
      "metadata": {
        "id": "zs6VXpZ9ETwH"
      },
      "source": [
        "__Question:__\n",
        "Check the backbone dihedrals of a few residues (except the first and last) using the `.phi()` and `.psi()` methods in `Pose`. What are the values of $\\phi$ and $\\psi$ dihedrals? You should see ideal bond lengths and angles, but the dihedrals may not be as realistic."
      ]
    },
    {
      "cell_type": "code",
      "metadata": {
        "colab": {
          "base_uri": "https://localhost:8080/"
        },
        "id": "XVq2JownETwI",
        "outputId": "71b28e9c-c856-46fa-bb38-fd0c272e8835"
      },
      "source": [
        "print(\"PSI: \", polyA.psi(3))\n",
        "print(\"PHI: \", polyA.phi(3))"
      ],
      "execution_count": 6,
      "outputs": [
        {
          "output_type": "stream",
          "text": [
            "PSI:  180.0\n",
            "PHI:  180.0\n"
          ],
          "name": "stdout"
        }
      ]
    },
    {
      "cell_type": "markdown",
      "metadata": {
        "id": "7YMp0K5LETwI"
      },
      "source": [
        "OPTIONAL:\n",
        "We may want to visualize folding as it happens. Before starting with the folding protocol, instantiate a PyMOL mover and setup the udp-bridge daemon with your secret phrase. In the PyMOL mover, we will want to retain history so we can view the entire folding process; to retain the histroy run the mover's `.keep_history()` method."
      ]
    },
    {
      "cell_type": "code",
      "metadata": {
        "colab": {
          "base_uri": "https://localhost:8080/"
        },
        "id": "fz4FigS9ETwI",
        "outputId": "ee580b1c-ac94-4b9e-9215-e477e08363c3"
      },
      "source": [
        "import os\n",
        "if os.getenv(\"DEBUG\"): sys.exit(0)\n",
        "import pyrosetta.network\n",
        "\n",
        "# make sure to supply unique secret here and use _the same_ secrete when running PyMOL-Rosetta-relay-client.python3.py in PyMOL on your desktop machine\n",
        "pyrosetta.network.start_udp_to_tcp_bridge_daemon(secret='secret_code')\n",
        "\n"
      ],
      "execution_count": 7,
      "outputs": [
        {
          "output_type": "stream",
          "text": [
            "WARNING: CONNECTION to relay server relay.graylab.jhu.edu:9989 IS NOT ENCRYPTED!\n",
            "UDP server started: localhost:65000...\n"
          ],
          "name": "stdout"
        }
      ]
    },
    {
      "cell_type": "code",
      "metadata": {
        "id": "sLD440JGETwI"
      },
      "source": [
        "pmm = PyMOLMover()\n",
        "pmm.keep_history(True)\n"
      ],
      "execution_count": 8,
      "outputs": []
    },
    {
      "cell_type": "markdown",
      "metadata": {
        "id": "-6C2pZc8ETwI"
      },
      "source": [
        "Use the PyMOL mover to view the `polyA` `Pose`. You should see a long thread-like structure in PyMOL."
      ]
    },
    {
      "cell_type": "code",
      "metadata": {
        "id": "GgBx7yshETwI",
        "colab": {
          "base_uri": "https://localhost:8080/"
        },
        "outputId": "3b4c151f-3218-4748-c834-8e897c806ed4"
      },
      "source": [
        "pmm.apply(polyA)"
      ],
      "execution_count": 9,
      "outputs": [
        {
          "output_type": "stream",
          "text": [
            "Connected to relay.graylab.jhu.edu 128.220.208.35:9989...\n"
          ],
          "name": "stdout"
        }
      ]
    },
    {
      "cell_type": "markdown",
      "metadata": {
        "id": "zr7P8gYAETwJ"
      },
      "source": [
        "## Building A Basic *de Novo* Folding Algorithm\n",
        "\n",
        "Now, write a program that implements a Monte Carlo algorithm to optimize the protein conformation. \n",
        "\n",
        "Our main program will include 100 iterations of making a random trial move, scoring the protein, and accepting/rejecting the move. Therefore, we can break this algorithm down into three smaller subroutines: **random, score, and decision.**"
      ]
    },
    {
      "cell_type": "markdown",
      "metadata": {
        "id": "Mrozr1eDETwJ"
      },
      "source": [
        "### Step 1: Random Move\n",
        "\n",
        "For the **random** trial move, write a subroutine to choose one residue at random using `random.randint()` and then randomly perturb either the φ or ψ angles by a random number chosen from a Gaussian distribution. Use the Python built-in function `random.gauss()` from the `random` library with a mean of the current angle and a standard deviation of 25°. After changing the torsion angle, use `pmm.apply(polyA)` to update the structure in PyMOL."
      ]
    },
    {
      "cell_type": "code",
      "metadata": {
        "id": "YJ3zTyiyETwJ"
      },
      "source": [
        "import math\n",
        "import random\n",
        "\n",
        "def randTrial(your_pose):\n",
        "\n",
        "    random_num = random.randint(2, your_pose.total_residue())\n",
        "    curr_psi = your_pose.psi(random_num)\n",
        "    curr_phi = your_pose.phi(random_num)\n",
        "\n",
        "    new_psi = random.gauss(curr_psi, 25)\n",
        "    new_phi = random.gauss(curr_phi, 25)\n",
        "\n",
        "    your_pose.set_psi(random_num, new_psi)\n",
        "    your_pose.set_phi(random_num, new_phi)\n",
        "\n",
        "    pmm.apply(your_pose)\n",
        "\n",
        "    return your_pose\n"
      ],
      "execution_count": 10,
      "outputs": []
    },
    {
      "cell_type": "markdown",
      "metadata": {
        "id": "9GFoMFBaETwK"
      },
      "source": [
        "### Step 2: Scoring Move\n",
        "\n",
        "For the **scoring** step, we need to create a scoring function and make a subroutine that simply returns the numerical energy score of the pose."
      ]
    },
    {
      "cell_type": "code",
      "metadata": {
        "colab": {
          "base_uri": "https://localhost:8080/"
        },
        "id": "xqILxJG_ETwL",
        "outputId": "35ed8abe-e4b7-4bc2-ff9c-422729ed5fd1"
      },
      "source": [
        "sfxn = get_fa_scorefxn()\n",
        "\n",
        "def score(your_pose):\n",
        "    return sfxn(your_pose)"
      ],
      "execution_count": 11,
      "outputs": [
        {
          "output_type": "stream",
          "text": [
            "core.scoring.ScoreFunctionFactory: SCOREFUNCTION: ref2015\n",
            "core.scoring.etable: Starting energy table calculation\n",
            "core.scoring.etable: smooth_etable: changing atr/rep split to bottom of energy well\n",
            "core.scoring.etable: smooth_etable: spline smoothing lj etables (maxdis = 6)\n",
            "core.scoring.etable: smooth_etable: spline smoothing solvation etables (max_dis = 6)\n",
            "core.scoring.etable: Finished calculating energy tables.\n",
            "basic.io.database: Database file opened: scoring/score_functions/hbonds/ref2015_params/HBPoly1D.csv\n",
            "basic.io.database: Database file opened: scoring/score_functions/hbonds/ref2015_params/HBFadeIntervals.csv\n",
            "basic.io.database: Database file opened: scoring/score_functions/hbonds/ref2015_params/HBEval.csv\n",
            "basic.io.database: Database file opened: scoring/score_functions/hbonds/ref2015_params/DonStrength.csv\n",
            "basic.io.database: Database file opened: scoring/score_functions/hbonds/ref2015_params/AccStrength.csv\n",
            "basic.io.database: Database file opened: scoring/score_functions/rama/fd/all.ramaProb\n",
            "basic.io.database: Database file opened: scoring/score_functions/rama/fd/prepro.ramaProb\n",
            "basic.io.database: Database file opened: scoring/score_functions/omega/omega_ppdep.all.txt\n",
            "basic.io.database: Database file opened: scoring/score_functions/omega/omega_ppdep.gly.txt\n",
            "basic.io.database: Database file opened: scoring/score_functions/omega/omega_ppdep.pro.txt\n",
            "basic.io.database: Database file opened: scoring/score_functions/omega/omega_ppdep.valile.txt\n",
            "basic.io.database: Database file opened: scoring/score_functions/P_AA_pp/P_AA\n",
            "basic.io.database: Database file opened: scoring/score_functions/P_AA_pp/P_AA_n\n",
            "core.scoring.P_AA: shapovalov_lib::shap_p_aa_pp_smooth_level of 1( aka low_smooth ) got activated.\n",
            "basic.io.database: Database file opened: scoring/score_functions/P_AA_pp/shapovalov/10deg/kappa131/a20.prop\n"
          ],
          "name": "stdout"
        }
      ]
    },
    {
      "cell_type": "markdown",
      "metadata": {
        "id": "L2JztQPyETwL"
      },
      "source": [
        "### Step 3: Accepting/Rejecting Move\n",
        "For the **decision** step, we need to make a subroutine that either accepts or rejects the new conformatuon based on the Metropolis criterion. The Metropolis criterion has a probability of accepting a move as $P = \\exp( -\\Delta G / kT )$. When $ΔE ≥ 0$, the Metropolis criterion probability of accepting the move is $P = \\exp( -\\Delta G / kT )$. When $ΔE < 0$, the Metropolis criterion probability of accepting the move is $P = 1$. Use $kT = 1$ Rosetta Energy Unit (REU)."
      ]
    },
    {
      "cell_type": "code",
      "metadata": {
        "id": "97fj6-uuETwL"
      },
      "source": [
        "def decision(before_pose, after_pose):\n",
        "    score_before = score(before_pose)\n",
        "    score_after = score(after_pose)\n",
        "    delta_E = score_after - score_before\n",
        "    P = math.exp(-delta_E / 1)\n",
        "\n",
        "    if delta_E < 0:\n",
        "      return after_pose\n",
        "    elif random.uniform(0, 1) > P:\n",
        "      return before_pose\n",
        "    else:\n",
        "      return after_pose"
      ],
      "execution_count": 12,
      "outputs": []
    },
    {
      "cell_type": "markdown",
      "metadata": {
        "id": "B-eg4G2IETwL"
      },
      "source": [
        "### Step 4: Execution\n",
        "Now we can put these three subroutines together in our main program! Write a loop in the main program so that it performs 100 iterations of: making a random trial move, scoring the protein, and accepting/rejecting the move. \n",
        "\n",
        "After each iteration of the search, output the current pose energy and the lowest energy ever observed. **The final output of this program should be the lowest energy conformation that is achieved at *any* point during the simulation.** Be sure to use `low_pose.assign(pose)` rather than `low_pose = pose`, since the latter will only copy a pointer to the original pose."
      ]
    },
    {
      "cell_type": "code",
      "metadata": {
        "id": "sKcbBMRmETwM"
      },
      "source": [
        "def basic_folding(your_pose):\n",
        "    \"\"\"Your basic folding algorithm that completes 100 Monte-Carlo iterations on a given pose\"\"\"\n",
        "    \n",
        "    lowest_pose = Pose() # create an empty pose for tracking the lowest energy pose.\n",
        "    lowest_pose.assign(your_pose) # assign the first move to the pose\n",
        "\n",
        "    for i in range(100):\n",
        "      # keep track of the before pose\n",
        "      before_pose = Pose().assign(your_pose) \n",
        "\n",
        "      # applying the random move to the pose\n",
        "      # deciding whether to keep the change or not\n",
        "      after_pose = Pose().assign(randTrial(your_pose))\n",
        "      your_pose.assign(decision(before_pose, after_pose))\n",
        "\n",
        "      if score(your_pose) < score(lowest_pose):\n",
        "        lowest_pose.assign(your_pose)\n",
        "\n",
        "      print(\"Iteration #{} | score of before: {} | score of after: {}\".format(i, score(before_pose), score(after_pose)))\n",
        "    \n",
        "    return lowest_pose\n"
      ],
      "execution_count": 13,
      "outputs": []
    },
    {
      "cell_type": "markdown",
      "metadata": {
        "id": "7tN93KZ-ETwM"
      },
      "source": [
        "Finally, output the last pose and the lowest-scoring pose observed and view them in PyMOL. Plot the energy and lowest-energy observed vs. cycle number. What are the energies of the initial, last, and lowest-scoring pose? Is your program working? Has it converged to a good solution?\n"
      ]
    },
    {
      "cell_type": "code",
      "metadata": {
        "colab": {
          "base_uri": "https://localhost:8080/"
        },
        "id": "Nts99R10ETwM",
        "outputId": "48b1fd34-6fb8-42ba-b6d1-b18461c5b0a8"
      },
      "source": [
        "%%timeit\n",
        "\n",
        "lowest_pose = basic_folding(polyA)\n",
        "pmm.apply(lowest_pose)"
      ],
      "execution_count": 14,
      "outputs": [
        {
          "output_type": "stream",
          "text": [
            "basic.io.database: Database file opened: scoring/score_functions/elec_cp_reps.dat\n",
            "core.scoring.elec.util: Read 40 countpair representative atoms\n",
            "core.pack.dunbrack.RotamerLibrary: shapovalov_lib_fixes_enable option is true.\n",
            "core.pack.dunbrack.RotamerLibrary: shapovalov_lib::shap_dun10_smooth_level of 1( aka lowest_smooth ) got activated.\n",
            "core.pack.dunbrack.RotamerLibrary: Binary rotamer library selected: /content/google_drive/MyDrive/prefix/lib/python3.7/site-packages/pyrosetta/database/rotamer/shapovalov/StpDwn_0-0-0/Dunbrack10.lib.bin\n",
            "core.pack.dunbrack.RotamerLibrary: Using Dunbrack library binary file '/content/google_drive/MyDrive/prefix/lib/python3.7/site-packages/pyrosetta/database/rotamer/shapovalov/StpDwn_0-0-0/Dunbrack10.lib.bin'.\n",
            "core.pack.dunbrack.RotamerLibrary: Dunbrack 2010 library took 0.289863 seconds to load from binary\n",
            "Iteration #0 | score of before: 29.96724428561499 | score of after: 27.936081503798377\n",
            "Iteration #1 | score of before: 27.936081503798377 | score of after: 37.855492923251674\n",
            "Iteration #2 | score of before: 27.936081503798377 | score of after: 36.45717281844897\n",
            "Iteration #3 | score of before: 27.936081503798377 | score of after: 40.946339769211036\n",
            "Iteration #4 | score of before: 27.936081503798377 | score of after: 27.51397720572014\n",
            "Iteration #5 | score of before: 27.51397720572013 | score of after: 26.88590130231531\n",
            "Iteration #6 | score of before: 26.88590130231531 | score of after: 28.515487843857443\n",
            "Iteration #7 | score of before: 26.88590130231531 | score of after: 30.241454331864418\n",
            "Iteration #8 | score of before: 26.88590130231531 | score of after: 31.46196351446784\n",
            "Iteration #9 | score of before: 26.88590130231531 | score of after: 24.45653738073925\n",
            "Iteration #10 | score of before: 24.45653738073925 | score of after: 41.694845530176806\n",
            "Iteration #11 | score of before: 24.45653738073925 | score of after: 37.229701992351465\n",
            "Iteration #12 | score of before: 24.45653738073925 | score of after: 24.288405559459562\n",
            "Iteration #13 | score of before: 24.288405559459562 | score of after: 23.343036921919595\n",
            "Iteration #14 | score of before: 23.343036921919598 | score of after: 23.989150486352855\n",
            "Iteration #15 | score of before: 23.989150486352855 | score of after: 25.512924260813502\n",
            "Iteration #16 | score of before: 23.989150486352855 | score of after: 25.17413011881166\n",
            "Iteration #17 | score of before: 23.989150486352855 | score of after: 40.77567275858463\n",
            "Iteration #18 | score of before: 23.989150486352855 | score of after: 33.452389509555275\n",
            "Iteration #19 | score of before: 23.989150486352855 | score of after: 39.29625515022247\n",
            "Iteration #20 | score of before: 23.989150486352855 | score of after: 23.52259909989401\n",
            "Iteration #21 | score of before: 23.52259909989401 | score of after: 22.834950573290925\n",
            "Iteration #22 | score of before: 22.83495057329092 | score of after: 23.518400429662766\n",
            "Iteration #23 | score of before: 23.518400429662766 | score of after: 27.2501133849368\n",
            "Iteration #24 | score of before: 23.518400429662766 | score of after: 26.478673683810726\n",
            "Iteration #25 | score of before: 23.518400429662766 | score of after: 22.969822555427736\n",
            "Iteration #26 | score of before: 22.969822555427736 | score of after: 22.05240979087202\n",
            "Iteration #27 | score of before: 22.05240979087202 | score of after: 23.631348965006538\n",
            "Iteration #28 | score of before: 23.631348965006538 | score of after: 23.839004253199597\n",
            "Iteration #29 | score of before: 23.839004253199597 | score of after: 27.40377465406737\n",
            "Iteration #30 | score of before: 23.839004253199597 | score of after: 26.17828004859005\n",
            "Iteration #31 | score of before: 23.839004253199597 | score of after: 23.993074466660907\n",
            "Iteration #32 | score of before: 23.993074466660907 | score of after: 28.654598178031023\n",
            "Iteration #33 | score of before: 23.993074466660907 | score of after: 24.372746199082776\n",
            "Iteration #34 | score of before: 23.993074466660907 | score of after: 25.305113065836906\n",
            "Iteration #35 | score of before: 25.305113065836906 | score of after: 27.464660151950042\n",
            "Iteration #36 | score of before: 25.305113065836906 | score of after: 23.26420877292183\n",
            "Iteration #37 | score of before: 23.26420877292183 | score of after: 39.260828919592996\n",
            "Iteration #38 | score of before: 23.26420877292183 | score of after: 37.49058903118339\n",
            "Iteration #39 | score of before: 23.26420877292183 | score of after: 23.656320128022756\n",
            "Iteration #40 | score of before: 23.656320128022756 | score of after: 28.402358859265483\n",
            "Iteration #41 | score of before: 23.656320128022756 | score of after: 23.54972524809383\n",
            "Iteration #42 | score of before: 23.54972524809383 | score of after: 22.74657544390459\n",
            "Iteration #43 | score of before: 22.74657544390459 | score of after: 24.525536094591615\n",
            "Iteration #44 | score of before: 22.74657544390459 | score of after: 24.604427667702247\n",
            "Iteration #45 | score of before: 22.74657544390459 | score of after: 22.939533960942363\n",
            "Iteration #46 | score of before: 22.939533960942363 | score of after: 27.67213451255447\n",
            "Iteration #47 | score of before: 22.939533960942363 | score of after: 32.87642932591703\n",
            "Iteration #48 | score of before: 22.939533960942363 | score of after: 35.559265320723654\n",
            "Iteration #49 | score of before: 22.939533960942363 | score of after: 42.75350700208806\n",
            "Iteration #50 | score of before: 22.939533960942363 | score of after: 21.603380807753133\n",
            "Iteration #51 | score of before: 21.603380807753133 | score of after: 21.69278607984213\n",
            "Iteration #52 | score of before: 21.69278607984213 | score of after: 22.183556216409116\n",
            "Iteration #53 | score of before: 21.69278607984213 | score of after: 22.67358015621131\n",
            "Iteration #54 | score of before: 21.69278607984213 | score of after: 28.09819286844196\n",
            "Iteration #55 | score of before: 21.69278607984213 | score of after: 25.06194560480605\n",
            "Iteration #56 | score of before: 21.69278607984213 | score of after: 20.986523036881493\n",
            "Iteration #57 | score of before: 20.986523036881493 | score of after: 26.825957224983668\n",
            "Iteration #58 | score of before: 20.986523036881493 | score of after: 21.854380562653567\n",
            "Iteration #59 | score of before: 21.854380562653567 | score of after: 36.80104798215811\n",
            "Iteration #60 | score of before: 21.854380562653567 | score of after: 22.02718951403529\n",
            "Iteration #61 | score of before: 22.02718951403529 | score of after: 25.982557336125236\n",
            "Iteration #62 | score of before: 22.02718951403529 | score of after: 22.693921987514372\n",
            "Iteration #63 | score of before: 22.693921987514372 | score of after: 18.77090350622334\n",
            "Iteration #64 | score of before: 18.77090350622334 | score of after: 19.88533460197938\n",
            "Iteration #65 | score of before: 18.77090350622334 | score of after: 19.29203059074636\n",
            "Iteration #66 | score of before: 18.77090350622334 | score of after: 19.16811067944024\n",
            "Iteration #67 | score of before: 18.77090350622334 | score of after: 18.81089810655199\n",
            "Iteration #68 | score of before: 18.81089810655199 | score of after: 18.776888047271257\n",
            "Iteration #69 | score of before: 18.776888047271257 | score of after: 35.017774192815466\n",
            "Iteration #70 | score of before: 18.776888047271257 | score of after: 21.448927597683003\n",
            "Iteration #71 | score of before: 18.776888047271257 | score of after: 18.609006692050457\n",
            "Iteration #72 | score of before: 18.609006692050457 | score of after: 18.828057492248018\n",
            "Iteration #73 | score of before: 18.828057492248018 | score of after: 37.520767076955224\n",
            "Iteration #74 | score of before: 18.828057492248018 | score of after: 17.234854965822215\n",
            "Iteration #75 | score of before: 17.234854965822215 | score of after: 17.17084019033638\n",
            "Iteration #76 | score of before: 17.17084019033638 | score of after: 14.720388313628971\n",
            "Iteration #77 | score of before: 14.720388313628971 | score of after: 15.729948775891305\n",
            "Iteration #78 | score of before: 15.729948775891305 | score of after: 15.7638006856797\n",
            "Iteration #79 | score of before: 15.7638006856797 | score of after: 23.514199731183545\n",
            "Iteration #80 | score of before: 15.7638006856797 | score of after: 17.992774348660262\n",
            "Iteration #81 | score of before: 15.7638006856797 | score of after: 15.489531467445778\n",
            "Iteration #82 | score of before: 15.489531467445778 | score of after: 25.90534098293058\n",
            "Iteration #83 | score of before: 15.489531467445778 | score of after: 14.754410773215978\n",
            "Iteration #84 | score of before: 14.754410773215978 | score of after: 15.575038583833251\n",
            "Iteration #85 | score of before: 14.754410773215978 | score of after: 17.78403470514597\n",
            "Iteration #86 | score of before: 14.754410773215978 | score of after: 14.8676453058058\n",
            "Iteration #87 | score of before: 14.8676453058058 | score of after: 23.51113691845942\n",
            "Iteration #88 | score of before: 14.8676453058058 | score of after: 14.92988460377076\n",
            "Iteration #89 | score of before: 14.8676453058058 | score of after: 15.324347619054096\n",
            "Iteration #90 | score of before: 15.324347619054096 | score of after: 14.701613626805973\n",
            "Iteration #91 | score of before: 14.701613626805973 | score of after: 14.763649353223393\n",
            "Iteration #92 | score of before: 14.763649353223393 | score of after: 14.747844558720207\n",
            "Iteration #93 | score of before: 14.747844558720207 | score of after: 14.667880605772432\n",
            "Iteration #94 | score of before: 14.667880605772432 | score of after: 15.048709075860303\n",
            "Iteration #95 | score of before: 15.048709075860303 | score of after: 16.861596709454304\n",
            "Iteration #96 | score of before: 15.048709075860303 | score of after: 15.984045891433993\n",
            "Iteration #97 | score of before: 15.984045891433993 | score of after: 18.007862791721738\n",
            "Iteration #98 | score of before: 15.984045891433993 | score of after: 15.442914689913632\n",
            "Iteration #99 | score of before: 15.442914689913632 | score of after: 15.936345839258479\n",
            "Iteration #0 | score of before: 15.442914689913632 | score of after: 15.794566143539887\n",
            "Iteration #1 | score of before: 15.794566143539887 | score of after: 16.952019817705512\n",
            "Iteration #2 | score of before: 16.952019817705512 | score of after: 17.632837317736644\n",
            "Iteration #3 | score of before: 17.632837317736644 | score of after: 18.260140178521837\n",
            "Iteration #4 | score of before: 17.632837317736644 | score of after: 14.792822300505602\n",
            "Iteration #5 | score of before: 14.792822300505602 | score of after: 28.594867916922606\n",
            "Iteration #6 | score of before: 14.792822300505602 | score of after: 12.650356201554416\n",
            "Iteration #7 | score of before: 12.650356201554416 | score of after: 14.955149451596368\n",
            "Iteration #8 | score of before: 12.650356201554416 | score of after: 13.158713988763468\n",
            "Iteration #9 | score of before: 13.15871398876347 | score of after: 13.31339372094221\n",
            "Iteration #10 | score of before: 13.31339372094221 | score of after: 11.472007342310848\n",
            "Iteration #11 | score of before: 11.472007342310846 | score of after: 11.33577457861697\n",
            "Iteration #12 | score of before: 11.335774578616968 | score of after: 21.930876190835626\n",
            "Iteration #13 | score of before: 11.335774578616968 | score of after: 13.42985302690359\n",
            "Iteration #14 | score of before: 11.335774578616968 | score of after: 21.074854635072963\n",
            "Iteration #15 | score of before: 11.335774578616968 | score of after: 10.371948993415065\n",
            "Iteration #16 | score of before: 10.371948993415065 | score of after: 10.461400722804939\n",
            "Iteration #17 | score of before: 10.461400722804937 | score of after: 16.50107881598903\n",
            "Iteration #18 | score of before: 10.461400722804937 | score of after: 11.559936952252094\n",
            "Iteration #19 | score of before: 10.461400722804937 | score of after: 10.890084146210182\n",
            "Iteration #20 | score of before: 10.461400722804937 | score of after: 12.799976515328954\n",
            "Iteration #21 | score of before: 10.461400722804937 | score of after: 33.14744218697609\n",
            "Iteration #22 | score of before: 10.461400722804937 | score of after: 10.4418119132766\n",
            "Iteration #23 | score of before: 10.4418119132766 | score of after: 29.401395414365133\n",
            "Iteration #24 | score of before: 10.4418119132766 | score of after: 29.5142250304009\n",
            "Iteration #25 | score of before: 10.4418119132766 | score of after: 13.164751565831423\n",
            "Iteration #26 | score of before: 10.4418119132766 | score of after: 10.515475398215159\n",
            "Iteration #27 | score of before: 10.515475398215157 | score of after: 10.721723834086653\n",
            "Iteration #28 | score of before: 10.721723834086653 | score of after: 10.759614042212878\n",
            "Iteration #29 | score of before: 10.721723834086653 | score of after: 13.504672851240297\n",
            "Iteration #30 | score of before: 10.721723834086653 | score of after: 9.874298479039997\n",
            "Iteration #31 | score of before: 9.874298479039997 | score of after: 12.191224833737662\n",
            "Iteration #32 | score of before: 9.874298479039997 | score of after: 13.128201177252878\n",
            "Iteration #33 | score of before: 9.874298479039997 | score of after: 29.71645655351192\n",
            "Iteration #34 | score of before: 9.874298479039997 | score of after: 13.000177308463632\n",
            "Iteration #35 | score of before: 9.874298479039997 | score of after: 9.515864505893932\n",
            "Iteration #36 | score of before: 9.515864505893932 | score of after: 10.878733625436265\n",
            "Iteration #37 | score of before: 10.878733625436265 | score of after: 12.333296215262697\n",
            "Iteration #38 | score of before: 10.878733625436265 | score of after: 12.245627276262976\n",
            "Iteration #39 | score of before: 10.878733625436265 | score of after: 11.706110422015648\n",
            "Iteration #40 | score of before: 11.706110422015648 | score of after: 13.191195694721515\n",
            "Iteration #41 | score of before: 11.706110422015648 | score of after: 11.753469096204133\n",
            "Iteration #42 | score of before: 11.753469096204133 | score of after: 14.488891577403425\n",
            "Iteration #43 | score of before: 11.753469096204133 | score of after: 20.085989188622303\n",
            "Iteration #44 | score of before: 11.753469096204133 | score of after: 12.327579369046237\n",
            "Iteration #45 | score of before: 12.327579369046237 | score of after: 14.24961709604671\n",
            "Iteration #46 | score of before: 12.327579369046237 | score of after: 12.074186999680176\n",
            "Iteration #47 | score of before: 12.074186999680178 | score of after: 12.80307186788168\n",
            "Iteration #48 | score of before: 12.074186999680178 | score of after: 12.276493335273582\n",
            "Iteration #49 | score of before: 12.074186999680178 | score of after: 12.591940756035314\n",
            "Iteration #50 | score of before: 12.591940756035314 | score of after: 12.401350132393778\n",
            "Iteration #51 | score of before: 12.401350132393778 | score of after: 12.635893684418946\n",
            "Iteration #52 | score of before: 12.401350132393778 | score of after: 11.813118843319181\n",
            "Iteration #53 | score of before: 11.813118843319181 | score of after: 12.985405253636264\n",
            "Iteration #54 | score of before: 11.813118843319181 | score of after: 11.086047687464072\n",
            "Iteration #55 | score of before: 11.086047687464072 | score of after: 10.630625412981765\n",
            "Iteration #56 | score of before: 10.630625412981765 | score of after: 17.843454260766187\n",
            "Iteration #57 | score of before: 10.630625412981765 | score of after: 14.804378811640305\n",
            "Iteration #58 | score of before: 10.630625412981765 | score of after: 10.654386783472411\n",
            "Iteration #59 | score of before: 10.654386783472411 | score of after: 10.918567257725424\n",
            "Iteration #60 | score of before: 10.918567257725424 | score of after: 10.916757105189797\n",
            "Iteration #61 | score of before: 10.916757105189797 | score of after: 11.136664071820848\n",
            "Iteration #62 | score of before: 10.916757105189797 | score of after: 19.456382839447222\n",
            "Iteration #63 | score of before: 10.916757105189797 | score of after: 11.191774073160804\n",
            "Iteration #64 | score of before: 11.191774073160804 | score of after: 12.85632586208894\n",
            "Iteration #65 | score of before: 12.85632586208894 | score of after: 12.756388508098036\n",
            "Iteration #66 | score of before: 12.756388508098036 | score of after: 29.658192709173147\n",
            "Iteration #67 | score of before: 12.756388508098036 | score of after: 12.930530894321894\n",
            "Iteration #68 | score of before: 12.930530894321894 | score of after: 13.010493611041626\n",
            "Iteration #69 | score of before: 12.930530894321894 | score of after: 15.6451794135024\n",
            "Iteration #70 | score of before: 12.930530894321894 | score of after: 12.756150453754948\n",
            "Iteration #71 | score of before: 12.756150453754948 | score of after: 13.806073174099325\n",
            "Iteration #72 | score of before: 12.756150453754948 | score of after: 27.3591305775442\n",
            "Iteration #73 | score of before: 12.756150453754948 | score of after: 13.692253187193934\n",
            "Iteration #74 | score of before: 13.692253187193934 | score of after: 13.563404397024689\n",
            "Iteration #75 | score of before: 13.563404397024689 | score of after: 14.27144401858843\n",
            "Iteration #76 | score of before: 14.27144401858843 | score of after: 13.006079920920792\n",
            "Iteration #77 | score of before: 13.006079920920792 | score of after: 12.688297084102555\n",
            "Iteration #78 | score of before: 12.688297084102555 | score of after: 14.539360310760859\n",
            "Iteration #79 | score of before: 12.688297084102555 | score of after: 12.473555684955581\n",
            "Iteration #80 | score of before: 12.473555684955581 | score of after: 13.570507152695232\n",
            "Iteration #81 | score of before: 12.473555684955581 | score of after: 13.361324482623647\n",
            "Iteration #82 | score of before: 12.473555684955581 | score of after: 14.535752989576253\n",
            "Iteration #83 | score of before: 12.473555684955581 | score of after: 14.937789955333852\n",
            "Iteration #84 | score of before: 12.473555684955581 | score of after: 12.935544123505586\n",
            "Iteration #85 | score of before: 12.473555684955581 | score of after: 15.115547395986288\n",
            "Iteration #86 | score of before: 12.473555684955581 | score of after: 15.044202460762268\n",
            "Iteration #87 | score of before: 12.473555684955581 | score of after: 18.537401067929927\n",
            "Iteration #88 | score of before: 12.473555684955581 | score of after: 15.506534844078676\n",
            "Iteration #89 | score of before: 12.473555684955581 | score of after: 14.197542645453302\n",
            "Iteration #90 | score of before: 12.473555684955581 | score of after: 12.10746519472627\n",
            "Iteration #91 | score of before: 12.10746519472627 | score of after: 13.149127612030167\n",
            "Iteration #92 | score of before: 12.10746519472627 | score of after: 12.05438111755673\n",
            "Iteration #93 | score of before: 12.05438111755673 | score of after: 12.183705094713606\n",
            "Iteration #94 | score of before: 12.183705094713606 | score of after: 12.957748906254128\n",
            "Iteration #95 | score of before: 12.957748906254125 | score of after: 11.261689273836321\n",
            "Iteration #96 | score of before: 11.261689273836321 | score of after: 13.392524564648676\n",
            "Iteration #97 | score of before: 11.261689273836321 | score of after: 11.243057159583667\n",
            "Iteration #98 | score of before: 11.243057159583667 | score of after: 12.123307098892871\n",
            "Iteration #99 | score of before: 11.243057159583667 | score of after: 13.522624959784313\n",
            "Iteration #0 | score of before: 11.243057159583667 | score of after: 12.946633714522132\n",
            "Iteration #1 | score of before: 11.243057159583667 | score of after: 11.791185361489132\n",
            "Iteration #2 | score of before: 11.791185361489134 | score of after: 14.378033381879364\n",
            "Iteration #3 | score of before: 11.791185361489134 | score of after: 12.140902193663578\n",
            "Iteration #4 | score of before: 11.791185361489134 | score of after: 13.769245698878157\n",
            "Iteration #5 | score of before: 11.791185361489134 | score of after: 11.152472510582367\n",
            "Iteration #6 | score of before: 11.152472510582367 | score of after: 13.161278798676047\n",
            "Iteration #7 | score of before: 11.152472510582367 | score of after: 12.602355282510826\n",
            "Iteration #8 | score of before: 11.152472510582367 | score of after: 11.677895414315504\n",
            "Iteration #9 | score of before: 11.677895414315504 | score of after: 18.63166063639291\n",
            "Iteration #10 | score of before: 11.677895414315504 | score of after: 30.878435700825293\n",
            "Iteration #11 | score of before: 11.677895414315504 | score of after: 11.759480494897073\n",
            "Iteration #12 | score of before: 11.759480494897073 | score of after: 11.428777163905039\n",
            "Iteration #13 | score of before: 11.428777163905039 | score of after: 11.388117138740986\n",
            "Iteration #14 | score of before: 11.388117138740986 | score of after: 25.853133878223765\n",
            "Iteration #15 | score of before: 11.388117138740986 | score of after: 19.66090553841582\n",
            "Iteration #16 | score of before: 11.388117138740986 | score of after: 11.31087850540707\n",
            "Iteration #17 | score of before: 11.31087850540707 | score of after: 11.735498211996493\n",
            "Iteration #18 | score of before: 11.31087850540707 | score of after: 10.724681772995497\n",
            "Iteration #19 | score of before: 10.724681772995497 | score of after: 14.876670930025105\n",
            "Iteration #20 | score of before: 10.724681772995497 | score of after: 11.327859545594162\n",
            "Iteration #21 | score of before: 11.327859545594162 | score of after: 11.17350310702439\n",
            "Iteration #22 | score of before: 11.173503107024388 | score of after: 11.432298870605106\n",
            "Iteration #23 | score of before: 11.173503107024388 | score of after: 12.660957741990892\n",
            "Iteration #24 | score of before: 11.173503107024388 | score of after: 16.403451709385244\n",
            "Iteration #25 | score of before: 11.173503107024388 | score of after: 24.14768730399045\n",
            "Iteration #26 | score of before: 11.173503107024388 | score of after: 11.596301032697097\n",
            "Iteration #27 | score of before: 11.596301032697097 | score of after: 11.069934967409457\n",
            "Iteration #28 | score of before: 11.069934967409457 | score of after: 11.421399187394382\n",
            "Iteration #29 | score of before: 11.421399187394382 | score of after: 12.925030113618085\n",
            "Iteration #30 | score of before: 11.421399187394382 | score of after: 13.231533473721287\n",
            "Iteration #31 | score of before: 11.421399187394382 | score of after: 11.40225242376474\n",
            "Iteration #32 | score of before: 11.40225242376474 | score of after: 12.765068043096548\n",
            "Iteration #33 | score of before: 11.40225242376474 | score of after: 11.576970090115598\n",
            "Iteration #34 | score of before: 11.576970090115596 | score of after: 28.78467035477185\n",
            "Iteration #35 | score of before: 11.576970090115596 | score of after: 11.321348641643945\n",
            "Iteration #36 | score of before: 11.321348641643945 | score of after: 11.370270239544466\n",
            "Iteration #37 | score of before: 11.370270239544466 | score of after: 10.17931995506332\n",
            "Iteration #38 | score of before: 10.17931995506332 | score of after: 10.846440116988553\n",
            "Iteration #39 | score of before: 10.17931995506332 | score of after: 9.564087903901111\n",
            "Iteration #40 | score of before: 9.564087903901111 | score of after: 10.02153525555406\n",
            "Iteration #41 | score of before: 9.564087903901111 | score of after: 10.044236576322696\n",
            "Iteration #42 | score of before: 10.044236576322696 | score of after: 10.117947046855651\n",
            "Iteration #43 | score of before: 10.117947046855654 | score of after: 16.289413732180194\n",
            "Iteration #44 | score of before: 10.117947046855654 | score of after: 10.129921664021854\n",
            "Iteration #45 | score of before: 10.129921664021854 | score of after: 11.480193926938098\n",
            "Iteration #46 | score of before: 10.129921664021854 | score of after: 20.656444049174862\n",
            "Iteration #47 | score of before: 10.129921664021854 | score of after: 23.93310070767211\n",
            "Iteration #48 | score of before: 10.129921664021854 | score of after: 11.727057469015307\n",
            "Iteration #49 | score of before: 10.129921664021854 | score of after: 14.69502060732201\n",
            "Iteration #50 | score of before: 10.129921664021854 | score of after: 9.085046908186806\n",
            "Iteration #51 | score of before: 9.085046908186806 | score of after: 9.117581037921296\n",
            "Iteration #52 | score of before: 9.117581037921296 | score of after: 10.040192620050247\n",
            "Iteration #53 | score of before: 9.117581037921296 | score of after: 10.37486834036148\n",
            "Iteration #54 | score of before: 9.117581037921296 | score of after: 8.649111284278437\n",
            "Iteration #55 | score of before: 8.649111284278437 | score of after: 16.686164682952924\n",
            "Iteration #56 | score of before: 8.649111284278437 | score of after: 9.813827656189105\n",
            "Iteration #57 | score of before: 8.649111284278437 | score of after: 9.70064234388821\n",
            "Iteration #58 | score of before: 8.649111284278437 | score of after: 14.177599980127829\n",
            "Iteration #59 | score of before: 8.649111284278437 | score of after: 9.827838247971766\n",
            "Iteration #60 | score of before: 8.649111284278437 | score of after: 8.659725358719225\n",
            "Iteration #61 | score of before: 8.659725358719225 | score of after: 64.55467514149959\n",
            "Iteration #62 | score of before: 8.659725358719225 | score of after: 10.7456366507114\n",
            "Iteration #63 | score of before: 8.659725358719225 | score of after: 11.623021748963016\n",
            "Iteration #64 | score of before: 8.659725358719225 | score of after: 12.32158691974217\n",
            "Iteration #65 | score of before: 8.659725358719225 | score of after: 9.898040795243373\n",
            "Iteration #66 | score of before: 9.898040795243373 | score of after: 9.859121648235488\n",
            "Iteration #67 | score of before: 9.859121648235488 | score of after: 11.922404788931587\n",
            "Iteration #68 | score of before: 9.859121648235488 | score of after: 13.189398541516155\n",
            "Iteration #69 | score of before: 9.859121648235488 | score of after: 16.41612694550984\n",
            "Iteration #70 | score of before: 9.859121648235488 | score of after: 10.346327839213135\n",
            "Iteration #71 | score of before: 10.346327839213133 | score of after: 11.572679182439687\n",
            "Iteration #72 | score of before: 10.346327839213133 | score of after: 11.155768552079945\n",
            "Iteration #73 | score of before: 10.346327839213133 | score of after: 10.471678910069738\n",
            "Iteration #74 | score of before: 10.471678910069736 | score of after: 26.706651528131857\n",
            "Iteration #75 | score of before: 10.471678910069736 | score of after: 10.342149467890733\n",
            "Iteration #76 | score of before: 10.342149467890733 | score of after: 9.820009388667572\n",
            "Iteration #77 | score of before: 9.82000938866757 | score of after: 10.189825499891832\n",
            "Iteration #78 | score of before: 9.82000938866757 | score of after: 10.795792547852255\n",
            "Iteration #79 | score of before: 9.82000938866757 | score of after: 9.703213432267663\n",
            "Iteration #80 | score of before: 9.703213432267663 | score of after: 10.981685219812237\n",
            "Iteration #81 | score of before: 9.703213432267663 | score of after: 9.789807781188205\n",
            "Iteration #82 | score of before: 9.789807781188204 | score of after: 11.391569041121297\n",
            "Iteration #83 | score of before: 11.391569041121297 | score of after: 16.799153687692176\n",
            "Iteration #84 | score of before: 11.391569041121297 | score of after: 21.690663023671444\n",
            "Iteration #85 | score of before: 11.391569041121297 | score of after: 17.104875889532465\n",
            "Iteration #86 | score of before: 11.391569041121297 | score of after: 11.490211223916184\n",
            "Iteration #87 | score of before: 11.490211223916184 | score of after: 12.52717177399202\n",
            "Iteration #88 | score of before: 11.490211223916184 | score of after: 12.554662222139333\n",
            "Iteration #89 | score of before: 11.490211223916184 | score of after: 12.089478790131555\n",
            "Iteration #90 | score of before: 12.089478790131555 | score of after: 14.91676457688796\n",
            "Iteration #91 | score of before: 12.089478790131555 | score of after: 12.48322129014647\n",
            "Iteration #92 | score of before: 12.48322129014647 | score of after: 13.643144200140995\n",
            "Iteration #93 | score of before: 13.643144200140991 | score of after: 28.330969880057857\n",
            "Iteration #94 | score of before: 13.643144200140991 | score of after: 19.74278276556826\n",
            "Iteration #95 | score of before: 13.643144200140991 | score of after: 13.54873033954226\n",
            "Iteration #96 | score of before: 13.54873033954226 | score of after: 14.989580064391838\n",
            "Iteration #97 | score of before: 13.54873033954226 | score of after: 11.302439508406584\n",
            "Iteration #98 | score of before: 11.302439508406584 | score of after: 9.623101613165078\n",
            "Iteration #99 | score of before: 9.623101613165078 | score of after: 10.556727150620233\n",
            "Iteration #0 | score of before: 10.556727150620233 | score of after: 20.69142293651572\n",
            "Iteration #1 | score of before: 10.556727150620233 | score of after: 13.74199075188264\n",
            "Iteration #2 | score of before: 10.556727150620233 | score of after: 10.605387134351211\n",
            "Iteration #3 | score of before: 10.605387134351211 | score of after: 10.670496662635125\n",
            "Iteration #4 | score of before: 10.670496662635125 | score of after: 33.932879871848115\n",
            "Iteration #5 | score of before: 10.670496662635125 | score of after: 10.78719394459826\n",
            "Iteration #6 | score of before: 10.78719394459826 | score of after: 9.957947248477229\n",
            "Iteration #7 | score of before: 9.957947248477229 | score of after: 9.392227277191639\n",
            "Iteration #8 | score of before: 9.392227277191639 | score of after: 10.017802972979892\n",
            "Iteration #9 | score of before: 10.017802972979892 | score of after: 10.562964108214844\n",
            "Iteration #10 | score of before: 10.017802972979892 | score of after: 18.392194000775817\n",
            "Iteration #11 | score of before: 10.017802972979892 | score of after: 14.036204857341104\n",
            "Iteration #12 | score of before: 10.017802972979892 | score of after: 10.828150817575148\n",
            "Iteration #13 | score of before: 10.828150817575148 | score of after: 10.889247957529856\n",
            "Iteration #14 | score of before: 10.889247957529856 | score of after: 10.726033844865066\n",
            "Iteration #15 | score of before: 10.726033844865066 | score of after: 11.789621431583912\n",
            "Iteration #16 | score of before: 10.726033844865066 | score of after: 11.976725261049834\n",
            "Iteration #17 | score of before: 10.726033844865066 | score of after: 12.365799941450042\n",
            "Iteration #18 | score of before: 10.726033844865066 | score of after: 12.590764283528644\n",
            "Iteration #19 | score of before: 10.726033844865066 | score of after: 12.421102816204243\n",
            "Iteration #20 | score of before: 10.726033844865066 | score of after: 10.648259980204257\n",
            "Iteration #21 | score of before: 10.648259980204257 | score of after: 13.028128824808137\n",
            "Iteration #22 | score of before: 10.648259980204257 | score of after: 11.832914029025053\n",
            "Iteration #23 | score of before: 11.832914029025053 | score of after: 12.783274424672728\n",
            "Iteration #24 | score of before: 12.783274424672728 | score of after: 12.452654664580923\n",
            "Iteration #25 | score of before: 12.452654664580923 | score of after: 13.015900225280996\n",
            "Iteration #26 | score of before: 13.015900225280996 | score of after: 12.773787310563279\n",
            "Iteration #27 | score of before: 12.77378731056328 | score of after: 13.17491119442548\n",
            "Iteration #28 | score of before: 12.77378731056328 | score of after: 13.563116672065956\n",
            "Iteration #29 | score of before: 12.77378731056328 | score of after: 13.979930092628218\n",
            "Iteration #30 | score of before: 12.77378731056328 | score of after: 14.699178131267171\n",
            "Iteration #31 | score of before: 12.77378731056328 | score of after: 28.630169348163196\n",
            "Iteration #32 | score of before: 12.77378731056328 | score of after: 19.22912507971906\n",
            "Iteration #33 | score of before: 12.77378731056328 | score of after: 14.1232379780732\n",
            "Iteration #34 | score of before: 12.77378731056328 | score of after: 12.830249582574378\n",
            "Iteration #35 | score of before: 12.830249582574378 | score of after: 17.732667747669623\n",
            "Iteration #36 | score of before: 12.830249582574378 | score of after: 14.747094435358912\n",
            "Iteration #37 | score of before: 12.830249582574378 | score of after: 13.819094434615634\n",
            "Iteration #38 | score of before: 13.819094434615636 | score of after: 14.385146311068452\n",
            "Iteration #39 | score of before: 14.385146311068452 | score of after: 13.625049023516034\n",
            "Iteration #40 | score of before: 13.625049023516034 | score of after: 15.12697008099275\n",
            "Iteration #41 | score of before: 15.12697008099275 | score of after: 14.331678779100137\n",
            "Iteration #42 | score of before: 14.331678779100137 | score of after: 14.319207966249628\n",
            "Iteration #43 | score of before: 14.319207966249628 | score of after: 14.152793861857049\n",
            "Iteration #44 | score of before: 14.152793861857049 | score of after: 14.10702454663999\n",
            "Iteration #45 | score of before: 14.107024546639991 | score of after: 14.206554228399174\n",
            "Iteration #46 | score of before: 14.206554228399174 | score of after: 13.068162880138388\n",
            "Iteration #47 | score of before: 13.068162880138388 | score of after: 12.611519540878742\n",
            "Iteration #48 | score of before: 12.611519540878744 | score of after: 16.50383627071885\n",
            "Iteration #49 | score of before: 12.611519540878744 | score of after: 13.788243065440657\n",
            "Iteration #50 | score of before: 13.788243065440657 | score of after: 14.02182604497802\n",
            "Iteration #51 | score of before: 14.02182604497802 | score of after: 15.515773782297682\n",
            "Iteration #52 | score of before: 15.515773782297682 | score of after: 17.980979324028326\n",
            "Iteration #53 | score of before: 15.515773782297682 | score of after: 15.849693295926329\n",
            "Iteration #54 | score of before: 15.849693295926329 | score of after: 14.261126411504858\n",
            "Iteration #55 | score of before: 14.261126411504858 | score of after: 19.447821182348235\n",
            "Iteration #56 | score of before: 14.261126411504858 | score of after: 14.104682242106335\n",
            "Iteration #57 | score of before: 14.104682242106335 | score of after: 13.050422011135476\n",
            "Iteration #58 | score of before: 13.050422011135476 | score of after: 15.62588994517263\n",
            "Iteration #59 | score of before: 13.050422011135476 | score of after: 14.45451935625265\n",
            "Iteration #60 | score of before: 13.050422011135476 | score of after: 13.179649675396513\n",
            "Iteration #61 | score of before: 13.179649675396513 | score of after: 13.380686921981308\n",
            "Iteration #62 | score of before: 13.179649675396513 | score of after: 12.851203290657015\n",
            "Iteration #63 | score of before: 12.851203290657013 | score of after: 14.177627656722684\n",
            "Iteration #64 | score of before: 14.177627656722684 | score of after: 13.755218670714791\n",
            "Iteration #65 | score of before: 13.755218670714791 | score of after: 16.69804830866236\n",
            "Iteration #66 | score of before: 13.755218670714791 | score of after: 13.648936680411484\n",
            "Iteration #67 | score of before: 13.648936680411481 | score of after: 14.005607066983393\n",
            "Iteration #68 | score of before: 14.005607066983393 | score of after: 15.153712022385857\n",
            "Iteration #69 | score of before: 14.005607066983393 | score of after: 13.223539183425899\n",
            "Iteration #70 | score of before: 13.223539183425899 | score of after: 13.156810574555715\n",
            "Iteration #71 | score of before: 13.156810574555715 | score of after: 13.838029245114605\n",
            "Iteration #72 | score of before: 13.838029245114605 | score of after: 13.78354386321887\n",
            "Iteration #73 | score of before: 13.78354386321887 | score of after: 16.229337354061464\n",
            "Iteration #74 | score of before: 13.78354386321887 | score of after: 15.732113810510288\n",
            "Iteration #75 | score of before: 13.78354386321887 | score of after: 18.580740176860218\n",
            "Iteration #76 | score of before: 13.78354386321887 | score of after: 15.310026234682852\n",
            "Iteration #77 | score of before: 15.310026234682852 | score of after: 15.511682699985457\n",
            "Iteration #78 | score of before: 15.511682699985457 | score of after: 16.14611184903096\n",
            "Iteration #79 | score of before: 16.14611184903096 | score of after: 17.025559658736043\n",
            "Iteration #80 | score of before: 17.025559658736043 | score of after: 24.641640244276736\n",
            "Iteration #81 | score of before: 17.025559658736043 | score of after: 18.798977478140742\n",
            "Iteration #82 | score of before: 17.025559658736043 | score of after: 16.487835636475147\n",
            "Iteration #83 | score of before: 16.487835636475147 | score of after: 15.382633796291179\n",
            "Iteration #84 | score of before: 15.382633796291179 | score of after: 15.492963706911276\n",
            "Iteration #85 | score of before: 15.382633796291179 | score of after: 17.580974190570274\n",
            "Iteration #86 | score of before: 15.382633796291179 | score of after: 18.50401338519565\n",
            "Iteration #87 | score of before: 15.382633796291179 | score of after: 15.74032474982447\n",
            "Iteration #88 | score of before: 15.740324749824468 | score of after: 24.150274804807893\n",
            "Iteration #89 | score of before: 15.740324749824468 | score of after: 19.29683046671157\n",
            "Iteration #90 | score of before: 15.740324749824468 | score of after: 16.132457904690042\n",
            "Iteration #91 | score of before: 16.132457904690042 | score of after: 16.487370186847084\n",
            "Iteration #92 | score of before: 16.487370186847084 | score of after: 19.02416005710704\n",
            "Iteration #93 | score of before: 16.487370186847084 | score of after: 16.938947358016303\n",
            "Iteration #94 | score of before: 16.938947358016303 | score of after: 17.052930663683064\n",
            "Iteration #95 | score of before: 17.052930663683064 | score of after: 16.171046803199946\n",
            "Iteration #96 | score of before: 16.171046803199946 | score of after: 16.343438559120045\n",
            "Iteration #97 | score of before: 16.34343855912005 | score of after: 17.37144456417435\n",
            "Iteration #98 | score of before: 17.37144456417435 | score of after: 16.71572157629643\n",
            "Iteration #99 | score of before: 16.71572157629643 | score of after: 22.699680597453742\n",
            "Iteration #0 | score of before: 16.71572157629643 | score of after: 16.54186661277417\n",
            "Iteration #1 | score of before: 16.54186661277417 | score of after: 17.2076112518471\n",
            "Iteration #2 | score of before: 17.2076112518471 | score of after: 18.256701773080785\n",
            "Iteration #3 | score of before: 17.2076112518471 | score of after: 16.466538485885227\n",
            "Iteration #4 | score of before: 16.46653848588523 | score of after: 16.683892162644465\n",
            "Iteration #5 | score of before: 16.683892162644465 | score of after: 17.29951538357022\n",
            "Iteration #6 | score of before: 17.29951538357022 | score of after: 17.263480413219003\n",
            "Iteration #7 | score of before: 17.263480413219003 | score of after: 18.649597338053947\n",
            "Iteration #8 | score of before: 17.263480413219003 | score of after: 17.10791031292156\n",
            "Iteration #9 | score of before: 17.10791031292156 | score of after: 16.80061945843237\n",
            "Iteration #10 | score of before: 16.800619458432365 | score of after: 16.28863178927125\n",
            "Iteration #11 | score of before: 16.28863178927125 | score of after: 14.619822048032201\n",
            "Iteration #12 | score of before: 14.619822048032201 | score of after: 14.73209539412136\n",
            "Iteration #13 | score of before: 14.73209539412136 | score of after: 16.30852977224855\n",
            "Iteration #14 | score of before: 16.30852977224855 | score of after: 16.431861294151275\n",
            "Iteration #15 | score of before: 16.431861294151275 | score of after: 17.682055970630813\n",
            "Iteration #16 | score of before: 16.431861294151275 | score of after: 15.812078849279354\n",
            "Iteration #17 | score of before: 15.812078849279354 | score of after: 46.3932836441202\n",
            "Iteration #18 | score of before: 15.812078849279354 | score of after: 15.648098518392164\n",
            "Iteration #19 | score of before: 15.648098518392164 | score of after: 22.064117485041937\n",
            "Iteration #20 | score of before: 15.648098518392164 | score of after: 14.338366762128748\n",
            "Iteration #21 | score of before: 14.338366762128748 | score of after: 15.850117226927168\n",
            "Iteration #22 | score of before: 14.338366762128748 | score of after: 14.16072251041317\n",
            "Iteration #23 | score of before: 14.160722510413173 | score of after: 15.897481002882042\n",
            "Iteration #24 | score of before: 15.897481002882042 | score of after: 15.483156105904367\n",
            "Iteration #25 | score of before: 15.483156105904367 | score of after: 18.329463652000683\n",
            "Iteration #26 | score of before: 15.483156105904367 | score of after: 15.193508932572778\n",
            "Iteration #27 | score of before: 15.193508932572778 | score of after: 17.27260577606841\n",
            "Iteration #28 | score of before: 15.193508932572778 | score of after: 16.24688891220748\n",
            "Iteration #29 | score of before: 15.193508932572778 | score of after: 15.026523127179875\n",
            "Iteration #30 | score of before: 15.026523127179875 | score of after: 15.234900107960438\n",
            "Iteration #31 | score of before: 15.234900107960438 | score of after: 25.491670663983605\n",
            "Iteration #32 | score of before: 15.234900107960438 | score of after: 14.822142256883863\n",
            "Iteration #33 | score of before: 14.822142256883861 | score of after: 15.853672977705369\n",
            "Iteration #34 | score of before: 14.822142256883861 | score of after: 19.273807556817662\n",
            "Iteration #35 | score of before: 14.822142256883861 | score of after: 21.043831092881916\n",
            "Iteration #36 | score of before: 14.822142256883861 | score of after: 15.819272148686029\n",
            "Iteration #37 | score of before: 15.819272148686025 | score of after: 15.204096907056911\n",
            "Iteration #38 | score of before: 15.204096907056908 | score of after: 14.522446674450759\n",
            "Iteration #39 | score of before: 14.522446674450759 | score of after: 15.166995178005998\n",
            "Iteration #40 | score of before: 14.522446674450759 | score of after: 13.19307829375123\n",
            "Iteration #41 | score of before: 13.19307829375123 | score of after: 16.323364365470734\n",
            "Iteration #42 | score of before: 13.19307829375123 | score of after: 13.392977365589982\n",
            "Iteration #43 | score of before: 13.392977365589982 | score of after: 13.037572686919502\n",
            "Iteration #44 | score of before: 13.037572686919502 | score of after: 15.040441579076273\n",
            "Iteration #45 | score of before: 13.037572686919502 | score of after: 19.908207418252207\n",
            "Iteration #46 | score of before: 13.037572686919502 | score of after: 44.56764743077666\n",
            "Iteration #47 | score of before: 13.037572686919502 | score of after: 14.319254823625489\n",
            "Iteration #48 | score of before: 14.319254823625489 | score of after: 13.222781484828065\n",
            "Iteration #49 | score of before: 13.222781484828065 | score of after: 14.497196409616539\n",
            "Iteration #50 | score of before: 13.222781484828065 | score of after: 14.484934443877766\n",
            "Iteration #51 | score of before: 13.222781484828065 | score of after: 21.70836614650056\n",
            "Iteration #52 | score of before: 13.222781484828065 | score of after: 13.690080585555148\n",
            "Iteration #53 | score of before: 13.222781484828065 | score of after: 15.344469505676184\n",
            "Iteration #54 | score of before: 13.222781484828065 | score of after: 120.23557124982027\n",
            "Iteration #55 | score of before: 13.222781484828065 | score of after: 13.118003422322744\n",
            "Iteration #56 | score of before: 13.118003422322744 | score of after: 13.88172232959819\n",
            "Iteration #57 | score of before: 13.88172232959819 | score of after: 15.323156479056696\n",
            "Iteration #58 | score of before: 13.88172232959819 | score of after: 17.290576211590583\n",
            "Iteration #59 | score of before: 13.88172232959819 | score of after: 14.883114025859857\n",
            "Iteration #60 | score of before: 14.883114025859857 | score of after: 14.676658370425368\n",
            "Iteration #61 | score of before: 14.676658370425368 | score of after: 13.602856621317565\n",
            "Iteration #62 | score of before: 13.602856621317565 | score of after: 13.442390353535718\n",
            "Iteration #63 | score of before: 13.442390353535718 | score of after: 13.038092781694385\n",
            "Iteration #64 | score of before: 13.038092781694385 | score of after: 14.40220891396817\n",
            "Iteration #65 | score of before: 14.40220891396817 | score of after: 14.38324330029446\n",
            "Iteration #66 | score of before: 14.38324330029446 | score of after: 15.246907903879293\n",
            "Iteration #67 | score of before: 14.38324330029446 | score of after: 17.135484991689943\n",
            "Iteration #68 | score of before: 14.38324330029446 | score of after: 14.42718879880913\n",
            "Iteration #69 | score of before: 14.42718879880913 | score of after: 15.894733703535337\n",
            "Iteration #70 | score of before: 14.42718879880913 | score of after: 16.484959673505877\n",
            "Iteration #71 | score of before: 14.42718879880913 | score of after: 17.589356330059786\n",
            "Iteration #72 | score of before: 14.42718879880913 | score of after: 17.254336608835786\n",
            "Iteration #73 | score of before: 14.42718879880913 | score of after: 14.573944552182581\n",
            "Iteration #74 | score of before: 14.573944552182581 | score of after: 13.92154702822961\n",
            "Iteration #75 | score of before: 13.92154702822961 | score of after: 15.699704673887341\n",
            "Iteration #76 | score of before: 13.92154702822961 | score of after: 13.61711311830859\n",
            "Iteration #77 | score of before: 13.61711311830859 | score of after: 23.60924075461537\n",
            "Iteration #78 | score of before: 13.61711311830859 | score of after: 17.569055304172927\n",
            "Iteration #79 | score of before: 13.61711311830859 | score of after: 13.52147753403221\n",
            "Iteration #80 | score of before: 13.521477534032211 | score of after: 13.558273618287487\n",
            "Iteration #81 | score of before: 13.558273618287489 | score of after: 16.51446244003295\n",
            "Iteration #82 | score of before: 13.558273618287489 | score of after: 34.25311338250512\n",
            "Iteration #83 | score of before: 13.558273618287489 | score of after: 13.314483131217207\n",
            "Iteration #84 | score of before: 13.314483131217207 | score of after: 13.323075352307214\n",
            "Iteration #85 | score of before: 13.323075352307214 | score of after: 11.840038340454456\n",
            "Iteration #86 | score of before: 11.840038340454456 | score of after: 13.287154939392682\n",
            "Iteration #87 | score of before: 11.840038340454456 | score of after: 12.142738013757764\n",
            "Iteration #88 | score of before: 12.142738013757764 | score of after: 13.270706723645741\n",
            "Iteration #89 | score of before: 12.142738013757764 | score of after: 10.946048703835631\n",
            "Iteration #90 | score of before: 10.94604870383563 | score of after: 11.732913041213454\n",
            "Iteration #91 | score of before: 11.732913041213454 | score of after: 14.00811878359476\n",
            "Iteration #92 | score of before: 11.732913041213454 | score of after: 11.978105740286193\n",
            "Iteration #93 | score of before: 11.978105740286193 | score of after: 15.124450704114176\n",
            "Iteration #94 | score of before: 11.978105740286193 | score of after: 11.683239819818814\n",
            "Iteration #95 | score of before: 11.683239819818814 | score of after: 14.492191048351458\n",
            "Iteration #96 | score of before: 11.683239819818814 | score of after: 11.765440791781607\n",
            "Iteration #97 | score of before: 11.683239819818814 | score of after: 13.760050400585737\n",
            "Iteration #98 | score of before: 11.683239819818814 | score of after: 11.577784809040983\n",
            "Iteration #99 | score of before: 11.577784809040983 | score of after: 15.387609363332626\n",
            "Iteration #0 | score of before: 11.577784809040983 | score of after: 12.07210323904871\n",
            "Iteration #1 | score of before: 12.07210323904871 | score of after: 11.640147149735519\n",
            "Iteration #2 | score of before: 11.640147149735522 | score of after: 12.77932435299806\n",
            "Iteration #3 | score of before: 12.77932435299806 | score of after: 11.830203888113308\n",
            "Iteration #4 | score of before: 11.830203888113308 | score of after: 18.940186273570767\n",
            "Iteration #5 | score of before: 11.830203888113308 | score of after: 18.003113933414504\n",
            "Iteration #6 | score of before: 11.830203888113308 | score of after: 11.327385170720063\n",
            "Iteration #7 | score of before: 11.327385170720063 | score of after: 10.225743065999723\n",
            "Iteration #8 | score of before: 10.225743065999723 | score of after: 21.409102176914786\n",
            "Iteration #9 | score of before: 10.225743065999723 | score of after: 10.860086933127654\n",
            "Iteration #10 | score of before: 10.860086933127654 | score of after: 12.537563144699604\n",
            "Iteration #11 | score of before: 10.860086933127654 | score of after: 11.159862563772988\n",
            "Iteration #12 | score of before: 10.860086933127654 | score of after: 10.71441682352697\n",
            "Iteration #13 | score of before: 10.714416823526971 | score of after: 10.826208344682119\n",
            "Iteration #14 | score of before: 10.826208344682119 | score of after: 10.878558003306031\n",
            "Iteration #15 | score of before: 10.878558003306031 | score of after: 11.626263430988544\n",
            "Iteration #16 | score of before: 11.626263430988548 | score of after: 11.897121643871573\n",
            "Iteration #17 | score of before: 11.897121643871573 | score of after: 11.891344793574014\n",
            "Iteration #18 | score of before: 11.891344793574014 | score of after: 11.558492450487691\n",
            "Iteration #19 | score of before: 11.558492450487691 | score of after: 10.997511115109326\n",
            "Iteration #20 | score of before: 10.997511115109326 | score of after: 10.857431301236566\n",
            "Iteration #21 | score of before: 10.857431301236566 | score of after: 13.060259474878226\n",
            "Iteration #22 | score of before: 13.06025947487823 | score of after: 14.168150381642688\n",
            "Iteration #23 | score of before: 13.06025947487823 | score of after: 13.730032814407497\n",
            "Iteration #24 | score of before: 13.730032814407497 | score of after: 15.585852745067982\n",
            "Iteration #25 | score of before: 15.585852745067982 | score of after: 16.612442207563\n",
            "Iteration #26 | score of before: 16.612442207563 | score of after: 16.562788227198766\n",
            "Iteration #27 | score of before: 16.56278822719877 | score of after: 17.57272496650609\n",
            "Iteration #28 | score of before: 16.56278822719877 | score of after: 15.991879863303419\n",
            "Iteration #29 | score of before: 15.991879863303415 | score of after: 19.903339926058614\n",
            "Iteration #30 | score of before: 15.991879863303415 | score of after: 20.241636590607712\n",
            "Iteration #31 | score of before: 15.991879863303415 | score of after: 30.559178614264447\n",
            "Iteration #32 | score of before: 15.991879863303415 | score of after: 16.380797328136584\n",
            "Iteration #33 | score of before: 16.380797328136584 | score of after: 15.776924300088261\n",
            "Iteration #34 | score of before: 15.776924300088261 | score of after: 15.574017615070439\n",
            "Iteration #35 | score of before: 15.574017615070439 | score of after: 15.60732397961879\n",
            "Iteration #36 | score of before: 15.60732397961879 | score of after: 17.192516603762584\n",
            "Iteration #37 | score of before: 17.192516603762584 | score of after: 15.99116440592015\n",
            "Iteration #38 | score of before: 15.99116440592015 | score of after: 26.538356642136485\n",
            "Iteration #39 | score of before: 15.99116440592015 | score of after: 16.51729478362295\n",
            "Iteration #40 | score of before: 15.99116440592015 | score of after: 14.920248668844726\n",
            "Iteration #41 | score of before: 14.920248668844726 | score of after: 14.953423909426501\n",
            "Iteration #42 | score of before: 14.953423909426501 | score of after: 13.575180501119025\n",
            "Iteration #43 | score of before: 13.575180501119025 | score of after: 12.842324899897907\n",
            "Iteration #44 | score of before: 12.842324899897907 | score of after: 13.005630195901512\n",
            "Iteration #45 | score of before: 13.005630195901512 | score of after: 12.762720001997344\n",
            "Iteration #46 | score of before: 12.762720001997344 | score of after: 20.60842718368426\n",
            "Iteration #47 | score of before: 12.762720001997344 | score of after: 12.670873387083033\n",
            "Iteration #48 | score of before: 12.670873387083033 | score of after: 14.123424264251877\n",
            "Iteration #49 | score of before: 12.670873387083033 | score of after: 22.963250393686312\n",
            "Iteration #50 | score of before: 12.670873387083033 | score of after: 15.18890361391426\n",
            "Iteration #51 | score of before: 12.670873387083033 | score of after: 13.91790076774215\n",
            "Iteration #52 | score of before: 12.670873387083033 | score of after: 12.131563308872462\n",
            "Iteration #53 | score of before: 12.131563308872462 | score of after: 13.302592345160814\n",
            "Iteration #54 | score of before: 12.131563308872462 | score of after: 12.908875994508575\n",
            "Iteration #55 | score of before: 12.908875994508575 | score of after: 15.223150416224703\n",
            "Iteration #56 | score of before: 15.223150416224703 | score of after: 15.115898575442156\n",
            "Iteration #57 | score of before: 15.115898575442156 | score of after: 15.186995049352078\n",
            "Iteration #58 | score of before: 15.186995049352076 | score of after: 15.43807208157276\n",
            "Iteration #59 | score of before: 15.438072081572763 | score of after: 14.51668609180594\n",
            "Iteration #60 | score of before: 14.51668609180594 | score of after: 16.231281493389236\n",
            "Iteration #61 | score of before: 14.51668609180594 | score of after: 14.84909381022911\n",
            "Iteration #62 | score of before: 14.51668609180594 | score of after: 14.311849312817529\n",
            "Iteration #63 | score of before: 14.311849312817529 | score of after: 15.393880601129535\n",
            "Iteration #64 | score of before: 14.311849312817529 | score of after: 15.384449226350341\n",
            "Iteration #65 | score of before: 15.384449226350341 | score of after: 15.479507790783332\n",
            "Iteration #66 | score of before: 15.479507790783332 | score of after: 12.057048171351953\n",
            "Iteration #67 | score of before: 12.057048171351953 | score of after: 12.932837398404825\n",
            "Iteration #68 | score of before: 12.057048171351953 | score of after: 11.636181959845445\n",
            "Iteration #69 | score of before: 11.636181959845445 | score of after: 13.752418413563692\n",
            "Iteration #70 | score of before: 11.636181959845445 | score of after: 9.977092947798592\n",
            "Iteration #71 | score of before: 9.977092947798592 | score of after: 11.76371834613893\n",
            "Iteration #72 | score of before: 9.977092947798592 | score of after: 11.136398779491419\n",
            "Iteration #73 | score of before: 9.977092947798592 | score of after: 9.37829389192356\n",
            "Iteration #74 | score of before: 9.37829389192356 | score of after: 9.032268728600776\n",
            "Iteration #75 | score of before: 9.032268728600776 | score of after: 9.743688881742667\n",
            "Iteration #76 | score of before: 9.743688881742669 | score of after: 10.033943311739138\n",
            "Iteration #77 | score of before: 9.743688881742669 | score of after: 9.995812799178236\n",
            "Iteration #78 | score of before: 9.743688881742669 | score of after: 9.521277011844443\n",
            "Iteration #79 | score of before: 9.521277011844443 | score of after: 7.969607486717677\n",
            "Iteration #80 | score of before: 7.969607486717678 | score of after: 7.873686917037379\n",
            "Iteration #81 | score of before: 7.873686917037379 | score of after: 8.91756178837897\n",
            "Iteration #82 | score of before: 7.873686917037379 | score of after: 7.448319770157788\n",
            "Iteration #83 | score of before: 7.448319770157788 | score of after: 8.739232327391504\n",
            "Iteration #84 | score of before: 7.448319770157788 | score of after: 8.190605350266068\n",
            "Iteration #85 | score of before: 7.448319770157788 | score of after: 18.238126506635002\n",
            "Iteration #86 | score of before: 7.448319770157788 | score of after: 10.36796594860671\n",
            "Iteration #87 | score of before: 7.448319770157788 | score of after: 8.048895634685975\n",
            "Iteration #88 | score of before: 8.048895634685975 | score of after: 8.045468035054514\n",
            "Iteration #89 | score of before: 8.045468035054514 | score of after: 9.597328072713452\n",
            "Iteration #90 | score of before: 8.045468035054514 | score of after: 10.157844918077059\n",
            "Iteration #91 | score of before: 8.045468035054514 | score of after: 10.360266462772426\n",
            "Iteration #92 | score of before: 8.045468035054514 | score of after: 9.430791636650357\n",
            "Iteration #93 | score of before: 8.045468035054514 | score of after: 11.391665820598222\n",
            "Iteration #94 | score of before: 8.045468035054514 | score of after: 8.52757162732708\n",
            "Iteration #95 | score of before: 8.045468035054514 | score of after: 10.389001698079532\n",
            "Iteration #96 | score of before: 8.045468035054514 | score of after: 9.555610590021002\n",
            "Iteration #97 | score of before: 9.555610590021002 | score of after: 19.361235049291555\n",
            "Iteration #98 | score of before: 9.555610590021002 | score of after: 9.226700110885897\n",
            "Iteration #99 | score of before: 9.226700110885895 | score of after: 9.015479671454647\n",
            "1 loop, best of 5: 534 ms per loop\n"
          ],
          "name": "stdout"
        }
      ]
    },
    {
      "cell_type": "markdown",
      "metadata": {
        "id": "iaHIu2XOETwM"
      },
      "source": [
        "Here's an example of the PyMOL view:"
      ]
    },
    {
      "cell_type": "code",
      "metadata": {
        "id": "BgPbiUO5ETwM"
      },
      "source": [
        "# note that it seems that colab cannot display gifs; just open this gif directly\n",
        "# from IPython.display import Image\n",
        "# Image('./Media/folding.gif',width='300')"
      ],
      "execution_count": 15,
      "outputs": []
    },
    {
      "cell_type": "markdown",
      "metadata": {
        "id": "SV5ynEiVETwN"
      },
      "source": [
        "### Exercise 1: Comparing to Alpha Helices\n",
        "Using the program you wrote for Workshop #2, force the $A_{10}$ sequence into an ideal α-helix.\n",
        "\n",
        "**Questions:** Does this helical structure have a lower score than that produced by your folding algorithm above? What does this mean about your sampling or discrimination?"
      ]
    },
    {
      "cell_type": "code",
      "metadata": {
        "id": "_Xd70BEOSmN1"
      },
      "source": [
        "polyB = Pose().assign(polyA)\n",
        "\n",
        "def convert_a_helix(your_pose):\n",
        "\n",
        "  for i in range(1, your_pose.total_residue() + 1):\n",
        "    your_pose.set_psi(i, -60)\n",
        "    your_pose.set_phi(i, -160)\n",
        "  \n",
        "  return your_pose\n",
        "\n",
        "polyB = convert_a_helix(polyB)\n",
        "\n",
        "pmm.apply(polyB)"
      ],
      "execution_count": 16,
      "outputs": []
    },
    {
      "cell_type": "markdown",
      "metadata": {
        "id": "Jz_vF6DQETwN"
      },
      "source": [
        "### Exercise 2: Optimizing Algorithm \n",
        "Since your program is a stochastic search algorithm, it may not produce an ideal structure consistently, so try running the simulation multiple times or with a different number of cycles (if necessary). Using a kT of 1, your program may need to make up to 500,000 iterations."
      ]
    },
    {
      "cell_type": "markdown",
      "metadata": {
        "id": "O4uYGgwrETwN"
      },
      "source": [
        "# Low-Res Scoring and Fragments\n",
        "Keywords: centroid, SwitchResidueTypeSetMover(), create_score_function(), score3, fa_standard, ScoreFunction(), set_weight(), read_fragment_file(), ClassicFragmentMover()"
      ]
    },
    {
      "cell_type": "markdown",
      "metadata": {
        "id": "Hqz3XlDwETwN"
      },
      "source": [
        "## Low-Resolution (Centroid) Scoring\n",
        "\n",
        "\n",
        "Following the treatment of Simons *et al.* (1999), Rosetta can score a protein conformation using a low-resolution representation. This will make the energy calculation faster.\n",
        "\n",
        "Load chain A of Ras, a protein from a the previous workshop 3. Also calculate the full-atom energy of the pose.\n",
        "\n",
        "```\n",
        "pose = pyrosetta.pose_from_pdb(\"6Q21_A.pdb\")\n",
        "sfxn = pyrosetta.get_score_function()\n",
        "sfxn(pose)\n",
        "```"
      ]
    },
    {
      "cell_type": "code",
      "metadata": {
        "colab": {
          "base_uri": "https://localhost:8080/"
        },
        "id": "gCjTjVLWETwN",
        "outputId": "ab1f5986-b967-438c-b5f9-d3704ea381ac"
      },
      "source": [
        "pose = pyrosetta.pose_from_pdb(\"inputs/6Q21_A.pdb\")\n",
        "sfxn = pyrosetta.get_score_function()\n",
        "sfxn(pose)"
      ],
      "execution_count": 17,
      "outputs": [
        {
          "output_type": "stream",
          "text": [
            "core.import_pose.import_pose: File 'inputs/6Q21_A.pdb' automatically determined to be of type PDB\n",
            "core.scoring.ScoreFunctionFactory: SCOREFUNCTION: ref2015\n"
          ],
          "name": "stdout"
        },
        {
          "output_type": "execute_result",
          "data": {
            "text/plain": [
              "1215.729070042399"
            ]
          },
          "metadata": {
            "tags": []
          },
          "execution_count": 17
        }
      ]
    },
    {
      "cell_type": "markdown",
      "metadata": {
        "id": "f2k4r5ViETwN"
      },
      "source": [
        "**Question:** Print residue 5. Note the number of atoms and coordinates of residue 5.\n",
        "\n",
        "```\n",
        "print(pose.residue(5))\n",
        "```"
      ]
    },
    {
      "cell_type": "code",
      "metadata": {
        "colab": {
          "base_uri": "https://localhost:8080/"
        },
        "id": "Q63TFGrPETwO",
        "outputId": "7e4b7764-27e7-4447-e346-7d0b5d700155"
      },
      "source": [
        "print(pose.residue(5))"
      ],
      "execution_count": 18,
      "outputs": [
        {
          "output_type": "stream",
          "text": [
            "Residue 5: LYS (LYS, K):\n",
            "Base: LYS\n",
            " Properties: POLYMER PROTEIN CANONICAL_AA POLAR CHARGED POSITIVE_CHARGE METALBINDING SIDECHAIN_AMINE ALPHA_AA L_AA\n",
            " Variant types:\n",
            " Main-chain atoms:  N    CA   C  \n",
            " Backbone atoms:    N    CA   C    O    H    HA \n",
            " Side-chain atoms:  CB   CG   CD   CE   NZ  1HB  2HB  1HG  2HG  1HD  2HD  1HE  2HE  1HZ  2HZ  3HZ \n",
            "Atom Coordinates:\n",
            "   N  : 20.315, 43.835, 78.015\n",
            "   CA : 20.418, 42.863, 79.118\n",
            "   C  : 19.697, 43.46, 80.329\n",
            "   O  : 20.096, 44.486, 80.897\n",
            "   CB : 21.858, 42.487, 79.491\n",
            "   CG : 22.791, 42.176, 78.316\n",
            "   CD : 22.406, 40.943, 77.485\n",
            "   CE : 23.009, 40.932, 76.075\n",
            "   NZ : 22.748, 42.169, 75.307\n",
            "   H  : 21.0493, 44.5172, 77.8902\n",
            "   HA : 19.9193, 41.9417, 78.815\n",
            "  1HB : 22.3125, 43.3019, 80.0551\n",
            "  2HB : 21.8492, 41.6078, 80.1356\n",
            "  1HG : 22.8124, 43.0262, 77.6332\n",
            "  2HG : 23.8008, 42.0064, 78.6884\n",
            "  1HD : 22.7418, 40.0399, 77.9965\n",
            "  2HD : 21.3219, 40.8985, 77.3807\n",
            "  1HE : 24.088, 40.801, 76.1421\n",
            "  2HE : 22.5982, 40.0953, 75.5101\n",
            "  1HZ : 23.1708, 42.0938, 74.3926\n",
            "  2HZ : 21.751, 42.2999, 75.2069\n",
            "  3HZ : 23.1434, 42.9592, 75.7961\n",
            "Mirrored relative to coordinates in ResidueType: FALSE\n",
            "\n"
          ],
          "name": "stdout"
        }
      ]
    },
    {
      "cell_type": "markdown",
      "metadata": {
        "id": "osxDvtfVETwO"
      },
      "source": [
        "### SwitchResidueTypeSetMover"
      ]
    },
    {
      "cell_type": "markdown",
      "metadata": {
        "id": "6BZ_JCAvETwO"
      },
      "source": [
        "Now, convert the `pose` to the centroid form by using a `SwitchResidueTypeSetMover` object and the apply method:\n",
        "\n",
        "```\n",
        "switch = SwitchResidueTypeSetMover(\"centroid\")\n",
        "switch.apply(pose)\n",
        "print(pose.residue(5))\n",
        "```\n",
        "\n",
        "**Question:** How many atoms are now in residue 5? How is this different than before switching it into centroid mode?"
      ]
    },
    {
      "cell_type": "code",
      "metadata": {
        "colab": {
          "base_uri": "https://localhost:8080/"
        },
        "id": "WAhklaI8ETwP",
        "outputId": "934169c4-c8ec-4a24-d8fc-5df9fe9f3ccc"
      },
      "source": [
        "switch = SwitchResidueTypeSetMover(\"centroid\")\n",
        "switch.apply(pose)\n",
        "print(pose.residue(5))"
      ],
      "execution_count": 19,
      "outputs": [
        {
          "output_type": "stream",
          "text": [
            "core.chemical.GlobalResidueTypeSet: Finished initializing centroid residue type set.  Created 69 residue types\n",
            "core.chemical.GlobalResidueTypeSet: Total time to initialize 0.092189 seconds.\n",
            "Residue 5: LYS (LYS, K):\n",
            "Base: LYS\n",
            " Properties: POLYMER PROTEIN CANONICAL_AA POLAR CHARGED POSITIVE_CHARGE SIDECHAIN_AMINE ALPHA_AA L_AA\n",
            " Variant types:\n",
            " Main-chain atoms:  N    CA   C  \n",
            " Backbone atoms:    N    CA   C    O    H  \n",
            " Side-chain atoms:  CB   CEN\n",
            "Atom Coordinates:\n",
            "   N  : 20.315, 43.835, 78.015\n",
            "   CA : 20.418, 42.863, 79.118\n",
            "   C  : 19.697, 43.46, 80.329\n",
            "   O  : 20.096, 44.486, 80.897\n",
            "   CB : 21.8754, 42.543, 79.454\n",
            "   CEN: 23.4957, 41.1851, 79.3707\n",
            "   H  : 21.0493, 44.5172, 77.8902\n",
            "Mirrored relative to coordinates in ResidueType: FALSE\n",
            "\n"
          ],
          "name": "stdout"
        }
      ]
    },
    {
      "cell_type": "markdown",
      "metadata": {
        "id": "tGDMW7EHETwQ"
      },
      "source": [
        "Score the new, centroid-based pose by creating and using the standard centroid score function \"score3\".\n",
        "\n",
        "```\n",
        "cen_sfxn = pyrosetta.create_score_function(\"score3\")\n",
        "cen_sfxn(pose)\n",
        "```\n",
        "\n",
        "**Question:** What is the new total score? What scoring terms are included in \"score3\" (`print` the `cen_sfxn`)? Do these match Simons?"
      ]
    },
    {
      "cell_type": "code",
      "metadata": {
        "id": "nlSBfhjQETwQ",
        "colab": {
          "base_uri": "https://localhost:8080/"
        },
        "outputId": "fa9719ab-36c6-49fe-c863-63c5d242f152"
      },
      "source": [
        "cen_sfxn = pyrosetta.create_score_function(\"score3\")\n",
        "cen_sfxn(pose)"
      ],
      "execution_count": 20,
      "outputs": [
        {
          "output_type": "stream",
          "text": [
            "basic.io.database: Database file opened: scoring/score_functions/EnvPairPotential/env_log.txt\n",
            "basic.io.database: Database file opened: scoring/score_functions/EnvPairPotential/cbeta_den.txt\n",
            "basic.io.database: Database file opened: scoring/score_functions/EnvPairPotential/pair_log.txt\n",
            "basic.io.database: Database file opened: scoring/score_functions/EnvPairPotential/cenpack_log.txt\n",
            "basic.io.database: Database file opened: scoring/score_functions/SecondaryStructurePotential/phi.theta.36.HS.resmooth\n",
            "basic.io.database: Database file opened: scoring/score_functions/SecondaryStructurePotential/phi.theta.36.SS.resmooth\n"
          ],
          "name": "stdout"
        },
        {
          "output_type": "execute_result",
          "data": {
            "text/plain": [
              "-4.509358254597608"
            ]
          },
          "metadata": {
            "tags": []
          },
          "execution_count": 20
        }
      ]
    },
    {
      "cell_type": "markdown",
      "metadata": {
        "id": "zLBDJl5uETwQ"
      },
      "source": [
        "Convert the `pose` back to all-atom form by using another switch object, `SwitchResidueTypeSetMover(\"fa_standard\")`.\n",
        "\n",
        "```\n",
        "fa_switch = SwitchResidueTypeSetMover(\"fa_standard\")\n",
        "fa_switch.apply(pose)\n",
        "print(pose.residue(5))\n",
        "```\n",
        "\n",
        "**Question:** Confirm that you have all the atoms back. Are the atoms in the same coordinate position as before?"
      ]
    },
    {
      "cell_type": "code",
      "metadata": {
        "id": "VdrQnQhPETwR",
        "colab": {
          "base_uri": "https://localhost:8080/"
        },
        "outputId": "4a822030-253a-48c5-ccca-7ac8b70a9e65"
      },
      "source": [
        "fa_switch = SwitchResidueTypeSetMover(\"fa_standard\")\n",
        "fa_switch.apply(pose)\n",
        "print(pose.residue(5))"
      ],
      "execution_count": 21,
      "outputs": [
        {
          "output_type": "stream",
          "text": [
            "Residue 5: LYS (LYS, K):\n",
            "Base: LYS\n",
            " Properties: POLYMER PROTEIN CANONICAL_AA POLAR CHARGED POSITIVE_CHARGE METALBINDING SIDECHAIN_AMINE ALPHA_AA L_AA\n",
            " Variant types:\n",
            " Main-chain atoms:  N    CA   C  \n",
            " Backbone atoms:    N    CA   C    O    H    HA \n",
            " Side-chain atoms:  CB   CG   CD   CE   NZ  1HB  2HB  1HG  2HG  1HD  2HD  1HE  2HE  1HZ  2HZ  3HZ \n",
            "Atom Coordinates:\n",
            "   N  : 20.315, 43.835, 78.015\n",
            "   CA : 20.418, 42.863, 79.118\n",
            "   C  : 19.697, 43.46, 80.329\n",
            "   O  : 20.096, 44.486, 80.897\n",
            "   CB : 21.8754, 42.5429, 79.4539\n",
            "   CG : 22.8944, 43.244, 78.5655\n",
            "   CD : 22.2113, 44.1202, 77.5262\n",
            "   CE : 20.6967, 44.0574, 77.6573\n",
            "   NZ : 20.2706, 43.1587, 78.7642\n",
            "   H  : 21.0493, 44.5172, 77.8902\n",
            "   HA : 19.9306, 41.9373, 78.8101\n",
            "  1HB : 22.0814, 42.8255, 80.4867\n",
            "  2HB : 22.0409, 41.4686, 79.3693\n",
            "  1HG : 23.5468, 43.8654, 79.1801\n",
            "  2HG : 23.5056, 42.4999, 78.0558\n",
            "  1HD : 22.5361, 45.154, 77.6512\n",
            "  2HD : 22.4937, 43.7874, 76.5274\n",
            "  1HE : 20.3065, 45.0564, 77.8461\n",
            "  2HE : 20.2655, 43.6934, 76.7248\n",
            "  1HZ : 19.2619, 43.1443, 78.8176\n",
            "  2HZ : 20.6116, 42.2236, 78.5898\n",
            "  3HZ : 20.6485, 43.497, 79.6375\n",
            "Mirrored relative to coordinates in ResidueType: FALSE\n",
            "\n"
          ],
          "name": "stdout"
        }
      ]
    },
    {
      "cell_type": "markdown",
      "metadata": {
        "id": "PqPMnGG2ETwR"
      },
      "source": [
        "### Exercise 1: Centroid Folding Algorithm\n",
        "Go back and adjust your folding algorithm to use centroid mode. Create a `ScoreFunction` that uses only van der Waals (`fa_atr` and `fa_rep`) and `hbond_sr_bb` energy score terms. \n",
        "\n",
        "**Question:** How much faster does your program run?"
      ]
    },
    {
      "cell_type": "code",
      "metadata": {
        "id": "9qcp13agETwR"
      },
      "source": [
        "polyA = pyrosetta.pose_from_sequence('A' * 10)\n",
        "polyA.pdb_info().name(\"polyA\")\n",
        "\n",
        "# Apply the SwitchResidueTypeSetMover to the pose polyA\n",
        "switch = SwitchResidueTypeSetMover(\"centroid\")\n",
        "switch.apply(polyA)"
      ],
      "execution_count": 22,
      "outputs": []
    },
    {
      "cell_type": "code",
      "metadata": {
        "id": "h2jJNvGpETwR",
        "colab": {
          "base_uri": "https://localhost:8080/"
        },
        "outputId": "529a28e0-688f-49f1-8977-9d5347c867ca"
      },
      "source": [
        "# Create new score function with only VDW and hbond_sr_bb energy score terms.\n",
        "sfxn2 = pyrosetta.create_score_function(\"score3\")\n",
        "sfxn2.set_weight(vdw, 1.0)\n",
        "sfxn2.set_weight(hbond_sr_bb, 1.0)\n",
        "\n",
        "print(sfxn2.weights())\n",
        "\n",
        "sfxn2(polyA)"
      ],
      "execution_count": 23,
      "outputs": [
        {
          "output_type": "stream",
          "text": [
            "( fa_atr; 0) ( fa_rep; 0) ( fa_sol; 0) ( fa_intra_atr; 0) ( fa_intra_rep; 0) ( fa_intra_sol; 0) ( fa_intra_atr_xover4; 0) ( fa_intra_rep_xover4; 0) ( fa_intra_sol_xover4; 0) ( fa_intra_atr_nonprotein; 0) ( fa_intra_rep_nonprotein; 0) ( fa_intra_sol_nonprotein; 0) ( fa_intra_RNA_base_phos_atr; 0) ( fa_intra_RNA_base_phos_rep; 0) ( fa_intra_RNA_base_phos_sol; 0) ( fa_atr_dummy; 0) ( fa_rep_dummy; 0) ( fa_sol_dummy; 0) ( fa_vdw_tinker; 0) ( lk_hack; 0) ( lk_ball; 0) ( lk_ball_wtd; 0) ( lk_ball_iso; 0) ( lk_ball_bridge; 0) ( lk_ball_bridge_uncpl; 0) ( coarse_fa_atr; 0) ( coarse_fa_rep; 0) ( coarse_fa_sol; 0) ( coarse_beadlj; 0) ( mm_lj_intra_rep; 0) ( mm_lj_intra_atr; 0) ( mm_lj_inter_rep; 0) ( mm_lj_inter_atr; 0) ( mm_twist; 0) ( mm_bend; 0) ( mm_stretch; 0) ( lk_costheta; 0) ( lk_polar; 0) ( lk_nonpolar; 0) ( lk_polar_intra_RNA; 0) ( lk_nonpolar_intra_RNA; 0) ( fa_elec; 0) ( fa_elec_bb_bb; 0) ( fa_elec_bb_sc; 0) ( fa_elec_sc_sc; 0) ( fa_intra_elec; 0) ( h2o_hbond; 0) ( dna_dr; 0) ( dna_bp; 0) ( dna_bs; 0) ( dna_ref; 0) ( peptide_bond; 0) ( pcs; 0) ( pcsTs1; 0) ( pcsTs2; 0) ( pcsTs3; 0) ( pcsTs4; 0) ( pcs2; 0) ( fastsaxs; 0) ( saxs_score; 0) ( saxs_cen_score; 0) ( saxs_fa_score; 0) ( pddf_score; 0) ( fiberdiffraction; 0) ( fiberdiffractiondens; 0) ( epr_deer_score; 0) ( fa_mbenv; 0) ( fa_mbsolv; 0) ( fa_elec_rna_phos_phos; 0) ( fa_elec_rna_phos_sugr; 0) ( fa_elec_rna_phos_base; 0) ( fa_elec_rna_sugr_sugr; 0) ( fa_elec_rna_sugr_base; 0) ( fa_elec_rna_base_base; 0) ( fa_elec_rna_phos_phos_fast; 0) ( fa_elec_rna_phos_sugr_fast; 0) ( fa_elec_rna_phos_base_fast; 0) ( fa_elec_rna_sugr_sugr_fast; 0) ( fa_elec_rna_sugr_base_fast; 0) ( fa_elec_rna_base_base_fast; 0) ( fa_elec_aro_aro; 0) ( fa_elec_aro_all; 0) ( hack_aro; 0) ( rna_fa_atr_base; 0) ( rna_fa_rep_base; 0) ( rna_data_backbone; 0) ( ch_bond; 0) ( ch_bond_bb_bb; 0) ( ch_bond_sc_sc; 0) ( ch_bond_bb_sc; 0) ( pro_close; 0) ( rama2b; 0) ( vdw; 1) ( cenpack; 1) ( cenpack_smooth; 0) ( cen_hb; 0) ( hybrid_vdw; 0) ( gauss; 0) ( rna_vdw; 0) ( rnp_vdw; 0) ( rna_base_backbone; 0) ( rna_backbone_backbone; 0) ( rna_repulsive; 0) ( rna_base_pair_pairwise; 0) ( rna_base_axis_pairwise; 0) ( rna_base_stagger_pairwise; 0) ( rna_base_stack_pairwise; 0) ( rna_base_stack_axis_pairwise; 0) ( rna_data_base; 0) ( rna_base_pair; 0) ( rna_base_axis; 0) ( rna_base_stagger; 0) ( rna_base_stack; 0) ( rna_base_stack_axis; 0) ( rnp_base_pair; 0) ( rnp_stack; 0) ( rnp_stack_xy; 0) ( rnp_pair; 0) ( rnp_pair_dist; 0) ( rnp_aa_to_rna_backbone; 0) ( rna_mg_point; 0) ( rna_mg_point_indirect; 0) ( mg; 0) ( mg_lig; 0) ( mg_sol; 0) ( mg_ref; 0) ( hoh_ref; 0) ( rna_torsion; 0) ( rna_torsion_sc; 0) ( rna_suite; 0) ( rna_jr_suite; 0) ( suiteness_bonus; 0) ( tna_suite; 0) ( rna_sugar_close; 0) ( fa_stack; 0) ( fa_stack_lower; 0) ( fa_stack_upper; 0) ( fa_stack_aro; 0) ( fa_stack_ext; 0) ( fa_stack_sol; 0) ( fa_stack_lr; 0) ( fa_stack_rna_protein; 0) ( fa_stack_rna_protein_aro; 0) ( ss_contact_worst; 0) ( stack_elec; 0) ( stack_elec_base_base; 0) ( stack_elec_base_bb; 0) ( alignment; 0) ( dna_bb_torsion; 0) ( dna_sugar_close; 0) ( dna_base_distance; 0) ( geom_sol_fast; 0) ( geom_sol_fast_intra_RNA; 0) ( fa_cust_pair_dist; 0) ( custom_atom_pair; 0) ( orbitals_hpol_bb; 0) ( pci_cation_pi; 0) ( pci_pi_pi; 0) ( pci_salt_bridge; 0) ( pci_hbond; 0) ( arg_cation_pi; 0) ( PyRosettaTwoBodyContextIndepenedentEnergy_first; 0) ( PyRosettaTwoBodyContextIndepenedentEnergy_163; 0) ( PyRosettaTwoBodyContextIndepenedentEnergy_164; 0) ( PyRosettaTwoBodyContextIndepenedentEnergy_165; 0) ( PyRosettaTwoBodyContextIndepenedentEnergy_166; 0) ( PyRosettaTwoBodyContextIndepenedentEnergy_167; 0) ( PyRosettaTwoBodyContextIndepenedentEnergy_168; 0) ( PyRosettaTwoBodyContextIndepenedentEnergy_169; 0) ( PyRosettaTwoBodyContextIndepenedentEnergy_170; 0) ( PyRosettaTwoBodyContextIndepenedentEnergy_171; 0) ( PyRosettaTwoBodyContextIndepenedentEnergy_last; 0) ( python; 0) ( fa_pair; 0) ( fa_pair_aro_aro; 0) ( fa_pair_aro_pol; 0) ( fa_pair_pol_pol; 0) ( hbond_sr_bb; 1) ( hbond_lr_bb; 0) ( hbond_bb_sc; 0) ( hbond_sr_bb_sc; 0) ( hbond_lr_bb_sc; 0) ( hbond_sc; 0) ( hbond_intra; 0) ( hbond_wat; 0) ( wat_entropy; 0) ( hbond; 0) ( npd_hbond_sr_bb; 0) ( npd_hbond_lr_bb; 0) ( npd_hbond_bb_sc; 0) ( npd_hbond_sr_bb_sc; 0) ( npd_hbond_lr_bb_sc; 0) ( npd_hbond_sc; 0) ( npd_hbond_intra; 0) ( npd_hbond; 0) ( fa_grpelec; 0) ( PyRosettaTwoBodyContextDependentEnergy_first; 0) ( PyRosettaTwoBodyContextDependentEnergy_198; 0) ( PyRosettaTwoBodyContextDependentEnergy_199; 0) ( PyRosettaTwoBodyContextDependentEnergy_200; 0) ( PyRosettaTwoBodyContextDependentEnergy_201; 0) ( PyRosettaTwoBodyContextDependentEnergy_202; 0) ( PyRosettaTwoBodyContextDependentEnergy_203; 0) ( PyRosettaTwoBodyContextDependentEnergy_204; 0) ( PyRosettaTwoBodyContextDependentEnergy_205; 0) ( PyRosettaTwoBodyContextDependentEnergy_206; 0) ( PyRosettaTwoBodyContextDependentEnergy_last; 0) ( interface_dd_pair; 0) ( geom_sol; 0) ( geom_sol_intra_RNA; 0) ( occ_sol_fitted; 0) ( occ_sol_fitted_onebody; 0) ( occ_sol_exact; 0) ( cen_rot_pair; 0) ( cen_rot_pair_ang; 0) ( cen_rot_pair_dih; 0) ( pair; 1) ( cen_pair_smooth; 0) ( Mpair; 0) ( mp_pair; 0) ( fa_mpsolv; 0) ( suck; 0) ( rna_rg; 0) ( rna_motif; 0) ( facts_elec; 0) ( facts_solv; 0) ( facts_sasa; 0) ( motif_dock; 0) ( pointwater; 0) ( goap; 0) ( goap_dist; 0) ( goap_angle; 0) ( approximate_buried_unsat_penalty; 0) ( interchain_pair; 0) ( interchain_vdw; 0) ( gb_elec; 0) ( multipole_elec; 0) ( fa_sasa; 0) ( dslf_ss_dst; 0) ( dslf_cs_ang; 0) ( dslf_ss_dih; 0) ( dslf_ca_dih; 0) ( dslf_cbs_ds; 0) ( dslf_fa13; 0) ( dslfc_cen_dst; 0) ( dslfc_cb_dst; 0) ( dslfc_ang; 0) ( dslfc_cb_dih; 0) ( dslfc_bb_dih; 0) ( dslfc_rot; 0) ( dslfc_trans; 0) ( dslfc_RT; 0) ( atom_pair_constraint; 0) ( base_pair_constraint; 0) ( coarse_chainbreak_constraint; 0) ( constant_constraint; 0) ( coordinate_constraint; 0) ( angle_constraint; 0) ( dihedral_constraint; 0) ( big_bin_constraint; 0) ( dunbrack_constraint; 0) ( site_constraint; 0) ( metalhash_constraint; 0) ( metalbinding_constraint; 0) ( rna_stub_coord_hack; 0) ( bond_geometry; 0) ( rna_bond_geometry; 0) ( Hpol_bond_geometry; 0) ( rama; 0) ( omega; 0) ( fa_dun; 0) ( fa_dun_dev; 0) ( fa_dun_rot; 0) ( fa_dun_semi; 0) ( cen_rot_dun; 0) ( dna_chi; 0) ( p_aa_pp; 0) ( p_aa_ss; 0) ( yhh_planarity; 0) ( hxl_tors; 0) ( h2o_intra; 0) ( ref; 0) ( ref_nc; 0) ( seqdep_ref; 0) ( nmer_ref; 0) ( nmer_pssm; 0) ( nmer_svm; 0) ( envsmooth; 0) ( e_pH; 0) ( rna_bulge; 0) ( dna_dihedral_bb; 0) ( dna_dihedral_chi; 0) ( dna_dihedral_sugar; 0) ( sugar_bb; 0) ( free_suite; 0) ( free_2HOprime; 0) ( free_side_chain; 0) ( free_base; 0) ( free_res; 0) ( free_dof; 0) ( intermol; 0) ( other_pose; 0) ( special_rot; 0) ( PB_elec; 0) ( cen_env_smooth; 0) ( cbeta_smooth; 0) ( cen_rot_env; 0) ( cen_rot_cbeta; 0) ( env; 1) ( cbeta; 1) ( DFIRE; 0) ( Menv; 0) ( Mcbeta; 0) ( Menv_non_helix; 0) ( Menv_termini; 0) ( Menv_tm_proj; 0) ( Mlipo; 0) ( rg; 3) ( rg_local; 0) ( co; 0) ( hs_pair; 1) ( ss_pair; 1) ( rsigma; 1) ( sheet; 1) ( burial_v2; 0) ( burial; 0) ( abego; 0) ( covalent_labeling; 0) ( covalent_labeling_fa; 0) ( hrf_ms_labeling; 0) ( hrf_dynamics; 0) ( depc_ms; 0) ( rnp_env; 0) ( loop_close; 0) ( missing_res; 0) ( mp_env; 0) ( mp_cbeta; 0) ( mp_lipo; 0) ( mp_termini; 0) ( mp_nonhelix; 0) ( mp_tmproj; 0) ( fa_mpenv; 0) ( fa_mpenv_smooth; 0) ( fa_water_to_bilayer; 0) ( mp_res_lipo; 0) ( span_ins; 0) ( mp_span_ang; 0) ( mp_helicality; 0) ( natbias_ss; 0) ( natbias_hs; 0) ( natbias_hh; 0) ( natbias_stwist; 0) ( aa_cmp; 0) ( dock_ens_conf; 0) ( csa; 0) ( dc; 0) ( rdc; 0) ( rdc_segments; 0) ( rdc_rohl; 0) ( nmr_pcs; 0) ( nmr_rdc; 0) ( nmr_pre; 0) ( cen_pair_motifs; 0) ( cen_pair_motif_degree; 0) ( holes; 0) ( holes_decoy; 0) ( holes_resl; 0) ( holes_min; 0) ( holes_min_mean; 0) ( rna_chem_shift; 0) ( rna_chem_map; 0) ( rna_chem_map_lores; 0) ( rna_partition; 0) ( dab_sasa; 0) ( dab_sev; 0) ( sa; 0) ( d2h_sa; 0) ( ProQM; 0) ( ProQ; 0) ( interchain_env; 0) ( interchain_contact; 0) ( chainbreak; 0) ( linear_chainbreak; 0) ( overlap_chainbreak; 0) ( distance_chainbreak; 0) ( dof_constraint; 0) ( branch_conn; 0) ( linear_branch_conn; 0) ( rama_prepro; 0) ( paa_abego3; 0) ( cart_bonded; 0) ( cart_bonded_angle; 0) ( cart_bonded_length; 0) ( cart_bonded_ring; 0) ( cart_bonded_torsion; 0) ( cart_bonded_proper; 0) ( cart_bonded_improper; 0) ( gen_bonded; 0) ( gen_bonded_bond; 0) ( gen_bonded_angle; 0) ( gen_bonded_torsion; 0) ( gen_bonded_improper; 0) ( neigh_vect; 0) ( neigh_count; 0) ( neigh_vect_raw; 0) ( symE_bonus; 0) ( sym_lig; 0) ( mhc_epitope; 0) ( pack_stat; 0) ( rms_energy; 0) ( res_type_constraint; 0) ( res_type_linking_constraint; 0) ( pocket_constraint; 0) ( backbone_stub_constraint; 0) ( backbone_stub_linear_constraint; 0) ( surface; 0) ( p_aa; 0) ( unfolded; 0) ( split_unfolded_two_body; 0) ( fa_atr_ref; 0) ( fa_rep_ref; 0) ( fa_sol_ref; 0) ( fa_elec_ref; 0) ( hbond_ref; 0) ( dslf_fa13_ref; 0) ( fa_intra_atr_ref; 0) ( fa_intra_rep_ref; 0) ( fa_intra_sol_ref; 0) ( pro_close_ref; 0) ( fa_dun_ref; 0) ( fa_dun_dev_ref; 0) ( fa_dun_rot_ref; 0) ( fa_dun_semi_ref; 0) ( rama_ref; 0) ( p_aa_pp_ref; 0) ( omega_ref; 0) ( mm_lj_intra_rep_ref; 0) ( mm_lj_intra_atr_ref; 0) ( mm_twist_ref; 0) ( elec_dens_fast; 0) ( elec_dens_window; 0) ( elec_dens_whole_structure_ca; 0) ( elec_dens_whole_structure_allatom; 0) ( elec_dens_atomwise; 0) ( grid_vdw; 0) ( xtal_ml; 0) ( xtal_rwork; 0) ( xtal_rfree; 0) ( hpatch; 0) ( Menv_smooth; 0) ( wat_desolv; 0) ( ring_close; 0) ( aa_repeat; 0) ( aa_composition; 0) ( aspartimide_penalty; 0) ( hbnet; 0) ( buried_unsatisfied_penalty; 0) ( netcharge; 0) ( voids_penalty; 0) ( sap_constraint; 0) ( dna_env; 0) ( dna_pair; 0) ( dump_trajectory; 0) ( PyRosettaEnergy_first; 0) ( PyRosettaEnergy_465; 0) ( PyRosettaEnergy_466; 0) ( PyRosettaEnergy_467; 0) ( PyRosettaEnergy_468; 0) ( PyRosettaEnergy_469; 0) ( PyRosettaEnergy_470; 0) ( PyRosettaEnergy_471; 0) ( PyRosettaEnergy_472; 0) ( PyRosettaEnergy_473; 0) ( PyRosettaEnergy_last; 0) ( sidechain_neighbors; 0) ( target_clash; 0) ( membrane_span_constraint; 0) ( membrane_span_term_z_constraint; 0) ( aromatic_restraint; 0) ( rna_coarse_dist; 0) ( total_score; 0) ( dummy_score_type; 0) \n"
          ],
          "name": "stdout"
        },
        {
          "output_type": "execute_result",
          "data": {
            "text/plain": [
              "53.95686106083425"
            ]
          },
          "metadata": {
            "tags": []
          },
          "execution_count": 23
        }
      ]
    },
    {
      "cell_type": "code",
      "metadata": {
        "id": "v52d4StPETwR",
        "colab": {
          "base_uri": "https://localhost:8080/"
        },
        "outputId": "2eaa97ba-a2bd-4d11-c4cd-3eb0298b27ea"
      },
      "source": [
        "%%timeit\n",
        "\n",
        "# Use the basic_folding function in the previous chapter,\n",
        "# overwrite your scoring subroutine, and run the program.\n",
        "\n",
        "def score_ca(your_pose):\n",
        "  return sfxn2(your_pose)\n",
        "\n",
        "def decision(before_pose, after_pose):\n",
        "    score_before = score_ca(before_pose)\n",
        "    score_after = score_ca(after_pose)\n",
        "    delta_E = score_after - score_before\n",
        "    P = math.exp(-delta_E / 1)\n",
        "\n",
        "    if delta_E < 0:\n",
        "      return after_pose\n",
        "    elif random.uniform(0, 1) > P:\n",
        "      return before_pose\n",
        "    else:\n",
        "      return after_pose\n",
        "\n",
        "def basic_folding(your_pose):\n",
        "    \"\"\"Your basic folding algorithm that completes 100 Monte-Carlo iterations on a given pose\"\"\"\n",
        "    \n",
        "    lowest_pose = Pose() # create an empty pose for tracking the lowest energy pose.\n",
        "    lowest_pose.assign(your_pose) # assign the first move to the pose\n",
        "\n",
        "    for i in range(100):\n",
        "      # keep track of the before pose\n",
        "      before_pose = Pose().assign(your_pose) \n",
        "\n",
        "      # applying the random move to the pose\n",
        "      # deciding whether to keep the change or not\n",
        "      after_pose = Pose().assign(randTrial(your_pose))\n",
        "      your_pose.assign(decision(before_pose, after_pose))\n",
        "\n",
        "      if score_ca(your_pose) < score_ca(lowest_pose):\n",
        "        lowest_pose.assign(your_pose)\n",
        "\n",
        "      print(\"Iteration #{} | score of before: {} | score of after: {}\".format(i, score_ca(before_pose), score_ca(after_pose)))\n",
        "    \n",
        "    return lowest_pose\n",
        "\n",
        "pose_after = basic_folding(polyA)\n",
        "pmm.apply(pose_after)"
      ],
      "execution_count": 26,
      "outputs": [
        {
          "output_type": "stream",
          "text": [
            "Iteration #0 | score of before: 52.94752900763305 | score of after: 52.18930255311353\n",
            "Iteration #1 | score of before: 52.18930255311353 | score of after: 52.21480930509638\n",
            "Iteration #2 | score of before: 52.21480930509638 | score of after: 51.42326984702617\n",
            "Iteration #3 | score of before: 51.42326984702617 | score of after: 49.68138853711923\n",
            "Iteration #4 | score of before: 49.68138853711923 | score of after: 49.715040555143176\n",
            "Iteration #5 | score of before: 49.715040555143176 | score of after: 49.86463079047528\n",
            "Iteration #6 | score of before: 49.86463079047528 | score of after: 50.185403391238424\n",
            "Iteration #7 | score of before: 50.185403391238424 | score of after: 51.06102241463212\n",
            "Iteration #8 | score of before: 51.06102241463212 | score of after: 51.68450873851033\n",
            "Iteration #9 | score of before: 51.06102241463212 | score of after: 49.732631533156834\n",
            "Iteration #10 | score of before: 49.732631533156834 | score of after: 49.70606585315153\n",
            "Iteration #11 | score of before: 49.70606585315153 | score of after: 49.99489614659997\n",
            "Iteration #12 | score of before: 49.99489614659997 | score of after: 49.82737883578413\n",
            "Iteration #13 | score of before: 49.82737883578413 | score of after: 49.5060052057532\n",
            "Iteration #14 | score of before: 49.5060052057532 | score of after: 49.522937210763345\n",
            "Iteration #15 | score of before: 49.522937210763345 | score of after: 49.56855547610763\n",
            "Iteration #16 | score of before: 49.56855547610763 | score of after: 49.235822496538205\n",
            "Iteration #17 | score of before: 49.235822496538205 | score of after: 49.06535955990747\n",
            "Iteration #18 | score of before: 49.06535955990747 | score of after: 49.111390604348706\n",
            "Iteration #19 | score of before: 49.111390604348706 | score of after: 49.21081163204187\n",
            "Iteration #20 | score of before: 49.21081163204187 | score of after: 48.24398320369333\n",
            "Iteration #21 | score of before: 48.24398320369333 | score of after: 48.70429824344809\n",
            "Iteration #22 | score of before: 48.70429824344809 | score of after: 49.032340693625585\n",
            "Iteration #23 | score of before: 49.032340693625585 | score of after: 48.96651986962719\n",
            "Iteration #24 | score of before: 48.96651986962719 | score of after: 46.815771894734894\n",
            "Iteration #25 | score of before: 46.815771894734894 | score of after: 47.392386041782814\n",
            "Iteration #26 | score of before: 47.392386041782814 | score of after: 46.209179369539896\n",
            "Iteration #27 | score of before: 46.209179369539896 | score of after: 46.109198289279576\n",
            "Iteration #28 | score of before: 46.109198289279576 | score of after: 46.27834600308759\n",
            "Iteration #29 | score of before: 46.27834600308759 | score of after: 48.277760681320174\n",
            "Iteration #30 | score of before: 46.27834600308759 | score of after: 46.57174140652239\n",
            "Iteration #31 | score of before: 46.57174140652239 | score of after: 46.187346433188715\n",
            "Iteration #32 | score of before: 46.187346433188715 | score of after: 46.368235905576945\n",
            "Iteration #33 | score of before: 46.368235905576945 | score of after: 46.423073406613725\n",
            "Iteration #34 | score of before: 46.423073406613725 | score of after: 43.615861372344575\n",
            "Iteration #35 | score of before: 43.615861372344575 | score of after: 45.06590178683227\n",
            "Iteration #36 | score of before: 45.06590178683227 | score of after: 45.47949678743372\n",
            "Iteration #37 | score of before: 45.47949678743372 | score of after: 45.442842228353854\n",
            "Iteration #38 | score of before: 45.442842228353854 | score of after: 44.51634910980786\n",
            "Iteration #39 | score of before: 44.51634910980786 | score of after: 44.624221769994605\n",
            "Iteration #40 | score of before: 44.624221769994605 | score of after: 43.77315739888677\n",
            "Iteration #41 | score of before: 43.77315739888677 | score of after: 41.041112928683994\n",
            "Iteration #42 | score of before: 41.041112928683994 | score of after: 42.42560649264864\n",
            "Iteration #43 | score of before: 42.42560649264864 | score of after: 42.42162933522619\n",
            "Iteration #44 | score of before: 42.42162933522619 | score of after: 42.45138178571427\n",
            "Iteration #45 | score of before: 42.45138178571427 | score of after: 42.51570614826551\n",
            "Iteration #46 | score of before: 42.51570614826551 | score of after: 41.65252372382811\n",
            "Iteration #47 | score of before: 41.65252372382811 | score of after: 39.95638310451376\n",
            "Iteration #48 | score of before: 39.95638310451376 | score of after: 40.06071800986004\n",
            "Iteration #49 | score of before: 40.06071800986004 | score of after: 37.73480714758141\n",
            "Iteration #50 | score of before: 37.73480714758141 | score of after: 37.71572172299407\n",
            "Iteration #51 | score of before: 37.71572172299407 | score of after: 39.13598536507936\n",
            "Iteration #52 | score of before: 39.13598536507936 | score of after: 39.83190684920969\n",
            "Iteration #53 | score of before: 39.83190684920969 | score of after: 40.27456620610745\n",
            "Iteration #54 | score of before: 39.83190684920969 | score of after: 39.88339874179611\n",
            "Iteration #55 | score of before: 39.88339874179611 | score of after: 39.717515661617796\n",
            "Iteration #56 | score of before: 39.717515661617796 | score of after: 42.77959791953255\n",
            "Iteration #57 | score of before: 39.717515661617796 | score of after: 42.21837819496291\n",
            "Iteration #58 | score of before: 39.717515661617796 | score of after: 40.659117720005526\n",
            "Iteration #59 | score of before: 40.659117720005526 | score of after: 39.24331892661239\n",
            "Iteration #60 | score of before: 39.24331892661239 | score of after: 41.51509982591861\n",
            "Iteration #61 | score of before: 39.24331892661239 | score of after: 43.00690286232809\n",
            "Iteration #62 | score of before: 39.24331892661239 | score of after: 39.26462685757714\n",
            "Iteration #63 | score of before: 39.26462685757714 | score of after: 39.74665699293617\n",
            "Iteration #64 | score of before: 39.74665699293617 | score of after: 40.64922311679408\n",
            "Iteration #65 | score of before: 39.74665699293617 | score of after: 38.01628059262073\n",
            "Iteration #66 | score of before: 38.01628059262073 | score of after: 37.74020427602623\n",
            "Iteration #67 | score of before: 37.74020427602623 | score of after: 43.06531023722158\n",
            "Iteration #68 | score of before: 37.74020427602623 | score of after: 37.657494182991655\n",
            "Iteration #69 | score of before: 37.657494182991655 | score of after: 38.84178659457215\n",
            "Iteration #70 | score of before: 38.84178659457215 | score of after: 39.65556174247753\n",
            "Iteration #71 | score of before: 38.84178659457215 | score of after: 38.03186493985006\n",
            "Iteration #72 | score of before: 38.03186493985006 | score of after: 39.170209829223445\n",
            "Iteration #73 | score of before: 39.170209829223445 | score of after: 39.451643019036666\n",
            "Iteration #74 | score of before: 39.451643019036666 | score of after: 39.56703020506146\n",
            "Iteration #75 | score of before: 39.56703020506146 | score of after: 39.51743385424341\n",
            "Iteration #76 | score of before: 39.51743385424341 | score of after: 38.4938353245141\n",
            "Iteration #77 | score of before: 38.4938353245141 | score of after: 39.553585736803925\n",
            "Iteration #78 | score of before: 38.4938353245141 | score of after: 37.8366132449257\n",
            "Iteration #79 | score of before: 37.8366132449257 | score of after: 38.22729650724014\n",
            "Iteration #80 | score of before: 38.22729650724014 | score of after: 37.491463010802796\n",
            "Iteration #81 | score of before: 37.491463010802796 | score of after: 37.75133699439236\n",
            "Iteration #82 | score of before: 37.75133699439236 | score of after: 39.028670940054056\n",
            "Iteration #83 | score of before: 39.028670940054056 | score of after: 40.4640390409196\n",
            "Iteration #84 | score of before: 39.028670940054056 | score of after: 37.6876074218591\n",
            "Iteration #85 | score of before: 37.6876074218591 | score of after: 36.61983539917605\n",
            "Iteration #86 | score of before: 36.61983539917605 | score of after: 37.18418085997086\n",
            "Iteration #87 | score of before: 36.61983539917605 | score of after: 37.396079746684855\n",
            "Iteration #88 | score of before: 37.396079746684855 | score of after: 37.767153529023034\n",
            "Iteration #89 | score of before: 37.767153529023034 | score of after: 38.54136380181816\n",
            "Iteration #90 | score of before: 38.54136380181816 | score of after: 40.94884902066197\n",
            "Iteration #91 | score of before: 38.54136380181816 | score of after: 39.38428986050296\n",
            "Iteration #92 | score of before: 38.54136380181816 | score of after: 37.368667824112805\n",
            "Iteration #93 | score of before: 37.368667824112805 | score of after: 37.38589877440297\n",
            "Iteration #94 | score of before: 37.38589877440297 | score of after: 36.138538378367\n",
            "Iteration #95 | score of before: 36.138538378367 | score of after: 36.382444711206745\n",
            "Iteration #96 | score of before: 36.382444711206745 | score of after: 36.371317522130106\n",
            "Iteration #97 | score of before: 36.371317522130106 | score of after: 39.16558096137576\n",
            "Iteration #98 | score of before: 36.371317522130106 | score of after: 36.99863712076003\n",
            "Iteration #99 | score of before: 36.99863712076003 | score of after: 34.90613648415872\n",
            "Iteration #0 | score of before: 34.90613648415872 | score of after: 35.97280349544566\n",
            "Iteration #1 | score of before: 34.90613648415872 | score of after: 37.846134392084195\n",
            "Iteration #2 | score of before: 34.90613648415872 | score of after: 34.828234008355416\n",
            "Iteration #3 | score of before: 34.828234008355416 | score of after: 37.20925361923043\n",
            "Iteration #4 | score of before: 34.828234008355416 | score of after: 36.30283585560774\n",
            "Iteration #5 | score of before: 36.30283585560774 | score of after: 48.51283480822153\n",
            "Iteration #6 | score of before: 36.30283585560774 | score of after: 36.03858069173056\n",
            "Iteration #7 | score of before: 36.03858069173056 | score of after: 35.96625054190568\n",
            "Iteration #8 | score of before: 35.96625054190568 | score of after: 39.82265525342558\n",
            "Iteration #9 | score of before: 35.96625054190568 | score of after: 35.69764721511546\n",
            "Iteration #10 | score of before: 35.69764721511546 | score of after: 35.67202786505047\n",
            "Iteration #11 | score of before: 35.67202786505047 | score of after: 36.2591601828189\n",
            "Iteration #12 | score of before: 35.67202786505047 | score of after: 41.43038035819946\n",
            "Iteration #13 | score of before: 35.67202786505047 | score of after: 35.9991908676415\n",
            "Iteration #14 | score of before: 35.9991908676415 | score of after: 37.19865543299245\n",
            "Iteration #15 | score of before: 37.19865543299246 | score of after: 36.52352572120721\n",
            "Iteration #16 | score of before: 36.52352572120721 | score of after: 36.68840161366484\n",
            "Iteration #17 | score of before: 36.68840161366484 | score of after: 45.13026150117312\n",
            "Iteration #18 | score of before: 36.68840161366484 | score of after: 36.59673575556944\n",
            "Iteration #19 | score of before: 36.59673575556944 | score of after: 35.41350207628245\n",
            "Iteration #20 | score of before: 35.41350207628245 | score of after: 47.51115687185818\n",
            "Iteration #21 | score of before: 35.41350207628245 | score of after: 35.706477810535056\n",
            "Iteration #22 | score of before: 35.706477810535056 | score of after: 36.707271495298954\n",
            "Iteration #23 | score of before: 35.706477810535056 | score of after: 38.34049720647427\n",
            "Iteration #24 | score of before: 35.706477810535056 | score of after: 38.74063309391478\n",
            "Iteration #25 | score of before: 35.706477810535056 | score of after: 35.745013732810406\n",
            "Iteration #26 | score of before: 35.745013732810406 | score of after: 39.79642821657099\n",
            "Iteration #27 | score of before: 39.79642821657099 | score of after: 95.30114351500623\n",
            "Iteration #28 | score of before: 39.79642821657099 | score of after: 39.63105365605454\n",
            "Iteration #29 | score of before: 39.63105365605454 | score of after: 42.810251078371266\n",
            "Iteration #30 | score of before: 39.63105365605454 | score of after: 40.551993543035934\n",
            "Iteration #31 | score of before: 39.63105365605454 | score of after: 36.48903312194172\n",
            "Iteration #32 | score of before: 36.48903312194172 | score of after: 35.977293964221175\n",
            "Iteration #33 | score of before: 35.977293964221175 | score of after: 36.47668826122257\n",
            "Iteration #34 | score of before: 36.47668826122257 | score of after: 36.4950146848585\n",
            "Iteration #35 | score of before: 36.4950146848585 | score of after: 36.74942855513011\n",
            "Iteration #36 | score of before: 36.74942855513011 | score of after: 36.80836245860265\n",
            "Iteration #37 | score of before: 36.80836245860265 | score of after: 37.359174101911634\n",
            "Iteration #38 | score of before: 37.359174101911634 | score of after: 38.974837559503115\n",
            "Iteration #39 | score of before: 37.359174101911634 | score of after: 37.007904128705036\n",
            "Iteration #40 | score of before: 37.007904128705036 | score of after: 36.73811839539398\n",
            "Iteration #41 | score of before: 36.73811839539398 | score of after: 35.23116448307449\n",
            "Iteration #42 | score of before: 35.23116448307449 | score of after: 35.755693180153045\n",
            "Iteration #43 | score of before: 35.23116448307449 | score of after: 37.134981728115775\n",
            "Iteration #44 | score of before: 35.23116448307449 | score of after: 35.06947671426967\n",
            "Iteration #45 | score of before: 35.06947671426967 | score of after: 34.921410848611046\n",
            "Iteration #46 | score of before: 34.921410848611046 | score of after: 35.17407640579326\n",
            "Iteration #47 | score of before: 34.921410848611046 | score of after: 37.58210212780595\n",
            "Iteration #48 | score of before: 34.921410848611046 | score of after: 62.773178490557655\n",
            "Iteration #49 | score of before: 34.921410848611046 | score of after: 35.80553243323939\n",
            "Iteration #50 | score of before: 34.921410848611046 | score of after: 37.58279241118345\n",
            "Iteration #51 | score of before: 34.921410848611046 | score of after: 35.29224350680663\n",
            "Iteration #52 | score of before: 35.29224350680663 | score of after: 35.86495051817412\n",
            "Iteration #53 | score of before: 35.29224350680663 | score of after: 42.4265183205622\n",
            "Iteration #54 | score of before: 35.29224350680663 | score of after: 34.99511829772557\n",
            "Iteration #55 | score of before: 34.99511829772557 | score of after: 35.99769499538125\n",
            "Iteration #56 | score of before: 34.99511829772557 | score of after: 64.63903615646385\n",
            "Iteration #57 | score of before: 34.99511829772557 | score of after: 37.287456532839656\n",
            "Iteration #58 | score of before: 34.99511829772557 | score of after: 40.41832708293049\n",
            "Iteration #59 | score of before: 34.99511829772557 | score of after: 35.12018968605915\n",
            "Iteration #60 | score of before: 35.12018968605915 | score of after: 34.88290002635912\n",
            "Iteration #61 | score of before: 34.88290002635912 | score of after: 51.57351979362623\n",
            "Iteration #62 | score of before: 34.88290002635912 | score of after: 37.54220523148983\n",
            "Iteration #63 | score of before: 34.88290002635912 | score of after: 34.23838435317427\n",
            "Iteration #64 | score of before: 34.23838435317427 | score of after: 34.297990562923474\n",
            "Iteration #65 | score of before: 34.297990562923474 | score of after: 37.52565592676513\n",
            "Iteration #66 | score of before: 34.297990562923474 | score of after: 36.08288541521084\n",
            "Iteration #67 | score of before: 36.08288541521084 | score of after: 36.2674349955136\n",
            "Iteration #68 | score of before: 36.2674349955136 | score of after: 38.96769728848422\n",
            "Iteration #69 | score of before: 38.96769728848422 | score of after: 39.12542324358479\n",
            "Iteration #70 | score of before: 38.96769728848422 | score of after: 39.796176852018135\n",
            "Iteration #71 | score of before: 38.96769728848422 | score of after: 38.554355005386114\n",
            "Iteration #72 | score of before: 38.554355005386114 | score of after: 38.467117090641594\n",
            "Iteration #73 | score of before: 38.467117090641594 | score of after: 36.150801237832596\n",
            "Iteration #74 | score of before: 36.150801237832596 | score of after: 33.528956572760734\n",
            "Iteration #75 | score of before: 33.528956572760734 | score of after: 33.5322925313179\n",
            "Iteration #76 | score of before: 33.5322925313179 | score of after: 37.915932089493836\n",
            "Iteration #77 | score of before: 33.5322925313179 | score of after: 35.99483655508783\n",
            "Iteration #78 | score of before: 33.5322925313179 | score of after: 35.80339318948839\n",
            "Iteration #79 | score of before: 33.5322925313179 | score of after: 32.28209432545172\n",
            "Iteration #80 | score of before: 32.28209432545172 | score of after: 33.49831488297883\n",
            "Iteration #81 | score of before: 32.28209432545172 | score of after: 39.56017518385815\n",
            "Iteration #82 | score of before: 32.28209432545172 | score of after: 34.18149406162408\n",
            "Iteration #83 | score of before: 32.28209432545172 | score of after: 34.937879701793165\n",
            "Iteration #84 | score of before: 32.28209432545172 | score of after: 78.89682649377652\n",
            "Iteration #85 | score of before: 32.28209432545172 | score of after: 50.99457364432535\n",
            "Iteration #86 | score of before: 32.28209432545172 | score of after: 45.0209581421385\n",
            "Iteration #87 | score of before: 32.28209432545172 | score of after: 33.41500493492052\n",
            "Iteration #88 | score of before: 32.28209432545172 | score of after: 41.489201769202175\n",
            "Iteration #89 | score of before: 32.28209432545172 | score of after: 32.12933384442424\n",
            "Iteration #90 | score of before: 32.12933384442424 | score of after: 32.09002435631011\n",
            "Iteration #91 | score of before: 32.09002435631011 | score of after: 31.931383999530965\n",
            "Iteration #92 | score of before: 31.931383999530965 | score of after: 31.475512118027247\n",
            "Iteration #93 | score of before: 31.475512118027247 | score of after: 35.3561347324961\n",
            "Iteration #94 | score of before: 31.475512118027247 | score of after: 37.41765656378779\n",
            "Iteration #95 | score of before: 31.475512118027247 | score of after: 31.591798460870464\n",
            "Iteration #96 | score of before: 31.591798460870464 | score of after: 55.914483781209874\n",
            "Iteration #97 | score of before: 31.591798460870464 | score of after: 31.401055264074998\n",
            "Iteration #98 | score of before: 31.401055264074998 | score of after: 34.42379944249924\n",
            "Iteration #99 | score of before: 31.401055264074998 | score of after: 33.58482873227182\n",
            "Iteration #0 | score of before: 31.401055264074998 | score of after: 37.0373705184502\n",
            "Iteration #1 | score of before: 31.401055264074998 | score of after: 29.80723833213857\n",
            "Iteration #2 | score of before: 29.80723833213857 | score of after: 32.66282736827338\n",
            "Iteration #3 | score of before: 29.80723833213857 | score of after: 33.268948977967376\n",
            "Iteration #4 | score of before: 29.80723833213857 | score of after: 30.955317722821306\n",
            "Iteration #5 | score of before: 30.955317722821306 | score of after: 63.65618655641781\n",
            "Iteration #6 | score of before: 30.955317722821306 | score of after: 33.934472230175146\n",
            "Iteration #7 | score of before: 30.955317722821306 | score of after: 31.738152068763558\n",
            "Iteration #8 | score of before: 31.738152068763558 | score of after: 32.52214478994937\n",
            "Iteration #9 | score of before: 32.52214478994937 | score of after: 32.541460902228735\n",
            "Iteration #10 | score of before: 32.541460902228735 | score of after: 30.01943031696863\n",
            "Iteration #11 | score of before: 30.01943031696863 | score of after: 31.704471771938334\n",
            "Iteration #12 | score of before: 30.01943031696863 | score of after: 33.68350300135032\n",
            "Iteration #13 | score of before: 30.01943031696863 | score of after: 122.59741964038678\n",
            "Iteration #14 | score of before: 30.01943031696863 | score of after: 42.27746107553727\n",
            "Iteration #15 | score of before: 30.01943031696863 | score of after: 68.97601871994665\n",
            "Iteration #16 | score of before: 30.01943031696863 | score of after: 29.907492877933816\n",
            "Iteration #17 | score of before: 29.907492877933816 | score of after: 36.294463792435124\n",
            "Iteration #18 | score of before: 29.907492877933816 | score of after: 29.96927616914483\n",
            "Iteration #19 | score of before: 29.96927616914483 | score of after: 31.998353810410368\n",
            "Iteration #20 | score of before: 29.96927616914483 | score of after: 31.1814301332626\n",
            "Iteration #21 | score of before: 29.96927616914483 | score of after: 50.384936170919744\n",
            "Iteration #22 | score of before: 29.96927616914483 | score of after: 30.030496426496896\n",
            "Iteration #23 | score of before: 30.030496426496896 | score of after: 29.830129889782228\n",
            "Iteration #24 | score of before: 29.830129889782228 | score of after: 33.34942382610778\n",
            "Iteration #25 | score of before: 29.830129889782228 | score of after: 105.37218130131637\n",
            "Iteration #26 | score of before: 29.830129889782228 | score of after: 32.77797188001831\n",
            "Iteration #27 | score of before: 29.830129889782228 | score of after: 29.900308075345755\n",
            "Iteration #28 | score of before: 29.900308075345755 | score of after: 40.20397055951739\n",
            "Iteration #29 | score of before: 29.900308075345755 | score of after: 30.218857877896575\n",
            "Iteration #30 | score of before: 30.218857877896575 | score of after: 29.64931384991817\n",
            "Iteration #31 | score of before: 29.64931384991817 | score of after: 30.06197218624976\n",
            "Iteration #32 | score of before: 29.64931384991817 | score of after: 30.10340372457499\n",
            "Iteration #33 | score of before: 29.64931384991817 | score of after: 45.505906033837746\n",
            "Iteration #34 | score of before: 29.64931384991817 | score of after: 31.425296441210552\n",
            "Iteration #35 | score of before: 29.64931384991817 | score of after: 30.393168998105033\n",
            "Iteration #36 | score of before: 29.64931384991817 | score of after: 29.420074157623787\n",
            "Iteration #37 | score of before: 29.420074157623787 | score of after: 109.9507267493884\n",
            "Iteration #38 | score of before: 29.420074157623787 | score of after: 29.19504288332903\n",
            "Iteration #39 | score of before: 29.19504288332903 | score of after: 29.942728834520608\n",
            "Iteration #40 | score of before: 29.942728834520608 | score of after: 30.210434774247133\n",
            "Iteration #41 | score of before: 30.210434774247133 | score of after: 29.818853373256353\n",
            "Iteration #42 | score of before: 29.818853373256353 | score of after: 56.213117165892285\n",
            "Iteration #43 | score of before: 29.818853373256353 | score of after: 28.138232376037124\n",
            "Iteration #44 | score of before: 28.138232376037124 | score of after: 36.09746849186024\n",
            "Iteration #45 | score of before: 28.138232376037124 | score of after: 97.91775081338082\n",
            "Iteration #46 | score of before: 28.138232376037124 | score of after: 31.845880563132575\n",
            "Iteration #47 | score of before: 28.138232376037124 | score of after: 33.42376788144599\n",
            "Iteration #48 | score of before: 28.138232376037124 | score of after: 30.268762814090525\n",
            "Iteration #49 | score of before: 28.138232376037124 | score of after: 29.835203212441215\n",
            "Iteration #50 | score of before: 28.138232376037124 | score of after: 32.26033996894506\n",
            "Iteration #51 | score of before: 28.138232376037124 | score of after: 116.76144933974157\n",
            "Iteration #52 | score of before: 28.138232376037124 | score of after: 28.378658206550817\n",
            "Iteration #53 | score of before: 28.378658206550817 | score of after: 28.301165859888542\n",
            "Iteration #54 | score of before: 28.301165859888542 | score of after: 29.219853821521195\n",
            "Iteration #55 | score of before: 29.219853821521195 | score of after: 29.195394651155823\n",
            "Iteration #56 | score of before: 29.195394651155823 | score of after: 29.210519406727066\n",
            "Iteration #57 | score of before: 29.210519406727066 | score of after: 32.068724775069356\n",
            "Iteration #58 | score of before: 29.210519406727066 | score of after: 29.045069056704946\n",
            "Iteration #59 | score of before: 29.045069056704946 | score of after: 59.675340592618184\n",
            "Iteration #60 | score of before: 29.045069056704946 | score of after: 29.64847048617733\n",
            "Iteration #61 | score of before: 29.64847048617733 | score of after: 37.46753218900378\n",
            "Iteration #62 | score of before: 29.64847048617733 | score of after: 29.23789741949161\n",
            "Iteration #63 | score of before: 29.23789741949161 | score of after: 34.114375837693245\n",
            "Iteration #64 | score of before: 29.23789741949161 | score of after: 36.636658656143396\n",
            "Iteration #65 | score of before: 29.23789741949161 | score of after: 56.840415436939814\n",
            "Iteration #66 | score of before: 29.23789741949161 | score of after: 31.73806922784191\n",
            "Iteration #67 | score of before: 29.23789741949161 | score of after: 28.024891732484043\n",
            "Iteration #68 | score of before: 28.024891732484043 | score of after: 30.95643017845221\n",
            "Iteration #69 | score of before: 28.024891732484043 | score of after: 29.614864961413346\n",
            "Iteration #70 | score of before: 28.024891732484043 | score of after: 30.123157331380845\n",
            "Iteration #71 | score of before: 28.024891732484043 | score of after: 27.825629731731112\n",
            "Iteration #72 | score of before: 27.825629731731112 | score of after: 28.777277091434247\n",
            "Iteration #73 | score of before: 28.777277091434247 | score of after: 31.15609415016746\n",
            "Iteration #74 | score of before: 28.777277091434247 | score of after: 30.300245298939107\n",
            "Iteration #75 | score of before: 28.777277091434247 | score of after: 27.377802311531045\n",
            "Iteration #76 | score of before: 27.377802311531045 | score of after: 29.18061830938522\n",
            "Iteration #77 | score of before: 27.377802311531045 | score of after: 27.64013338789642\n",
            "Iteration #78 | score of before: 27.64013338789642 | score of after: 38.92157398329641\n",
            "Iteration #79 | score of before: 27.64013338789642 | score of after: 31.226889289839505\n",
            "Iteration #80 | score of before: 27.64013338789642 | score of after: 32.66743666071981\n",
            "Iteration #81 | score of before: 27.64013338789642 | score of after: 29.8489214762498\n",
            "Iteration #82 | score of before: 27.64013338789642 | score of after: 63.299294945909146\n",
            "Iteration #83 | score of before: 27.64013338789642 | score of after: 34.80576539799637\n",
            "Iteration #84 | score of before: 27.64013338789642 | score of after: 27.03204877346689\n",
            "Iteration #85 | score of before: 27.03204877346689 | score of after: 27.544201976886388\n",
            "Iteration #86 | score of before: 27.03204877346689 | score of after: 30.034313734636093\n",
            "Iteration #87 | score of before: 27.03204877346689 | score of after: 149.33908343077604\n",
            "Iteration #88 | score of before: 27.03204877346689 | score of after: 119.48442092040457\n",
            "Iteration #89 | score of before: 27.03204877346689 | score of after: 26.84239027340208\n",
            "Iteration #90 | score of before: 26.84239027340208 | score of after: 25.99438300556956\n",
            "Iteration #91 | score of before: 25.99438300556956 | score of after: 27.27387854079664\n",
            "Iteration #92 | score of before: 27.27387854079664 | score of after: 29.642758609288332\n",
            "Iteration #93 | score of before: 27.27387854079664 | score of after: 26.957645749795972\n",
            "Iteration #94 | score of before: 26.957645749795972 | score of after: 29.140725961252315\n",
            "Iteration #95 | score of before: 26.957645749795972 | score of after: 30.101728184339315\n",
            "Iteration #96 | score of before: 26.957645749795972 | score of after: 27.79255118895105\n",
            "Iteration #97 | score of before: 26.957645749795972 | score of after: 29.274761131131843\n",
            "Iteration #98 | score of before: 26.957645749795972 | score of after: 32.88450256467105\n",
            "Iteration #99 | score of before: 26.957645749795972 | score of after: 27.075647527980095\n",
            "Iteration #0 | score of before: 27.075647527980095 | score of after: 27.51046838824009\n",
            "Iteration #1 | score of before: 27.51046838824009 | score of after: 33.47812829178033\n",
            "Iteration #2 | score of before: 27.51046838824009 | score of after: 30.688560851248027\n",
            "Iteration #3 | score of before: 27.51046838824009 | score of after: 27.781404017638838\n",
            "Iteration #4 | score of before: 27.51046838824009 | score of after: 28.585052179093545\n",
            "Iteration #5 | score of before: 27.51046838824009 | score of after: 28.59582726622856\n",
            "Iteration #6 | score of before: 27.51046838824009 | score of after: 28.514343636912088\n",
            "Iteration #7 | score of before: 28.514343636912088 | score of after: 30.983179716571016\n",
            "Iteration #8 | score of before: 28.514343636912088 | score of after: 30.796430464383697\n",
            "Iteration #9 | score of before: 28.514343636912088 | score of after: 60.75966130520705\n",
            "Iteration #10 | score of before: 28.514343636912088 | score of after: 30.51570814820921\n",
            "Iteration #11 | score of before: 28.514343636912088 | score of after: 31.02122626041483\n",
            "Iteration #12 | score of before: 28.514343636912088 | score of after: 34.842923574592284\n",
            "Iteration #13 | score of before: 28.514343636912088 | score of after: 99.17939434865426\n",
            "Iteration #14 | score of before: 28.514343636912088 | score of after: 28.0043242609494\n",
            "Iteration #15 | score of before: 28.0043242609494 | score of after: 130.8153618052823\n",
            "Iteration #16 | score of before: 28.0043242609494 | score of after: 26.996650654934307\n",
            "Iteration #17 | score of before: 26.996650654934307 | score of after: 28.74727805479463\n",
            "Iteration #18 | score of before: 26.996650654934307 | score of after: 29.765886883004107\n",
            "Iteration #19 | score of before: 26.996650654934307 | score of after: 25.96963020679275\n",
            "Iteration #20 | score of before: 25.96963020679275 | score of after: 44.75322578655731\n",
            "Iteration #21 | score of before: 25.96963020679275 | score of after: 30.985601546082773\n",
            "Iteration #22 | score of before: 25.96963020679275 | score of after: 118.64276257103035\n",
            "Iteration #23 | score of before: 25.96963020679275 | score of after: 53.70320058423768\n",
            "Iteration #24 | score of before: 25.96963020679275 | score of after: 26.47905735787294\n",
            "Iteration #25 | score of before: 25.96963020679275 | score of after: 44.152760330357204\n",
            "Iteration #26 | score of before: 25.96963020679275 | score of after: 32.196945775745995\n",
            "Iteration #27 | score of before: 25.96963020679275 | score of after: 25.62819537005376\n",
            "Iteration #28 | score of before: 25.62819537005376 | score of after: 118.62758203360649\n",
            "Iteration #29 | score of before: 25.62819537005376 | score of after: 33.05788567782833\n",
            "Iteration #30 | score of before: 25.62819537005376 | score of after: 25.681865173309838\n",
            "Iteration #31 | score of before: 25.681865173309838 | score of after: 30.18782729388223\n",
            "Iteration #32 | score of before: 25.681865173309838 | score of after: 26.081095458648008\n",
            "Iteration #33 | score of before: 26.081095458648008 | score of after: 28.26454606180924\n",
            "Iteration #34 | score of before: 26.081095458648008 | score of after: 92.81107083815566\n",
            "Iteration #35 | score of before: 26.081095458648008 | score of after: 44.15882220130797\n",
            "Iteration #36 | score of before: 26.081095458648008 | score of after: 123.41481106510115\n",
            "Iteration #37 | score of before: 26.081095458648008 | score of after: 29.629410009803394\n",
            "Iteration #38 | score of before: 26.081095458648008 | score of after: 27.594799761799962\n",
            "Iteration #39 | score of before: 27.594799761799962 | score of after: 44.365849122132545\n",
            "Iteration #40 | score of before: 27.594799761799962 | score of after: 174.35182780452698\n",
            "Iteration #41 | score of before: 27.594799761799962 | score of after: 29.277445203141394\n",
            "Iteration #42 | score of before: 27.594799761799962 | score of after: 28.292286954593827\n",
            "Iteration #43 | score of before: 27.594799761799962 | score of after: 32.50369010608059\n",
            "Iteration #44 | score of before: 27.594799761799962 | score of after: 87.88257820397229\n",
            "Iteration #45 | score of before: 27.594799761799962 | score of after: 29.217955150709354\n",
            "Iteration #46 | score of before: 27.594799761799962 | score of after: 113.04095152472944\n",
            "Iteration #47 | score of before: 27.594799761799962 | score of after: 28.129016189910082\n",
            "Iteration #48 | score of before: 28.129016189910082 | score of after: 33.69534071085309\n",
            "Iteration #49 | score of before: 28.129016189910082 | score of after: 33.94218800538648\n",
            "Iteration #50 | score of before: 28.129016189910082 | score of after: 111.70524129094548\n",
            "Iteration #51 | score of before: 28.129016189910082 | score of after: 30.801991048906302\n",
            "Iteration #52 | score of before: 28.129016189910082 | score of after: 33.78833744494821\n",
            "Iteration #53 | score of before: 28.129016189910082 | score of after: 29.893196457124997\n",
            "Iteration #54 | score of before: 28.129016189910082 | score of after: 122.83475154072538\n",
            "Iteration #55 | score of before: 28.129016189910082 | score of after: 28.118201117217023\n",
            "Iteration #56 | score of before: 28.118201117217023 | score of after: 32.045467819256906\n",
            "Iteration #57 | score of before: 28.118201117217023 | score of after: 29.031288946635936\n",
            "Iteration #58 | score of before: 28.118201117217023 | score of after: 29.0340686205488\n",
            "Iteration #59 | score of before: 29.0340686205488 | score of after: 29.780803213192996\n",
            "Iteration #60 | score of before: 29.780803213192996 | score of after: 67.71149485035441\n",
            "Iteration #61 | score of before: 29.780803213192996 | score of after: 29.631001650019712\n",
            "Iteration #62 | score of before: 29.631001650019712 | score of after: 69.24499602294001\n",
            "Iteration #63 | score of before: 29.631001650019712 | score of after: 29.654417103858343\n",
            "Iteration #64 | score of before: 29.654417103858343 | score of after: 111.41190960373967\n",
            "Iteration #65 | score of before: 29.654417103858343 | score of after: 33.118923955562266\n",
            "Iteration #66 | score of before: 29.654417103858343 | score of after: 29.649298453213767\n",
            "Iteration #67 | score of before: 29.649298453213767 | score of after: 28.747134458954434\n",
            "Iteration #68 | score of before: 28.747134458954434 | score of after: 30.847115915074475\n",
            "Iteration #69 | score of before: 28.747134458954434 | score of after: 28.399733647133296\n",
            "Iteration #70 | score of before: 28.399733647133296 | score of after: 36.393488245441915\n",
            "Iteration #71 | score of before: 28.399733647133296 | score of after: 28.611721068658348\n",
            "Iteration #72 | score of before: 28.611721068658348 | score of after: 28.015897709841255\n",
            "Iteration #73 | score of before: 28.015897709841255 | score of after: 28.696348296864773\n",
            "Iteration #74 | score of before: 28.015897709841255 | score of after: 41.86494491325691\n",
            "Iteration #75 | score of before: 28.015897709841255 | score of after: 27.983856100241667\n",
            "Iteration #76 | score of before: 27.983856100241667 | score of after: 157.66076738831345\n",
            "Iteration #77 | score of before: 27.983856100241667 | score of after: 27.408886149550952\n",
            "Iteration #78 | score of before: 27.408886149550952 | score of after: 28.819042051595417\n",
            "Iteration #79 | score of before: 27.408886149550952 | score of after: 26.755606879557433\n",
            "Iteration #80 | score of before: 26.755606879557433 | score of after: 31.999175012861166\n",
            "Iteration #81 | score of before: 26.755606879557433 | score of after: 38.2109384834242\n",
            "Iteration #82 | score of before: 26.755606879557433 | score of after: 30.53863892001791\n",
            "Iteration #83 | score of before: 26.755606879557433 | score of after: 35.14801117603617\n",
            "Iteration #84 | score of before: 26.755606879557433 | score of after: 55.377873324983184\n",
            "Iteration #85 | score of before: 26.755606879557433 | score of after: 27.957863314647156\n",
            "Iteration #86 | score of before: 26.755606879557433 | score of after: 26.150763318761523\n",
            "Iteration #87 | score of before: 26.150763318761523 | score of after: 88.07789015177599\n",
            "Iteration #88 | score of before: 26.150763318761523 | score of after: 26.464890857228994\n",
            "Iteration #89 | score of before: 26.150763318761523 | score of after: 28.993975591017957\n",
            "Iteration #90 | score of before: 26.150763318761523 | score of after: 118.90344015774465\n",
            "Iteration #91 | score of before: 26.150763318761523 | score of after: 29.828287678611073\n",
            "Iteration #92 | score of before: 26.150763318761523 | score of after: 28.73931559477095\n",
            "Iteration #93 | score of before: 26.150763318761523 | score of after: 27.381810060563275\n",
            "Iteration #94 | score of before: 27.381810060563275 | score of after: 30.533677177049228\n",
            "Iteration #95 | score of before: 27.381810060563275 | score of after: 29.742249048618074\n",
            "Iteration #96 | score of before: 27.381810060563275 | score of after: 85.82631961763025\n",
            "Iteration #97 | score of before: 27.381810060563275 | score of after: 44.59997867307876\n",
            "Iteration #98 | score of before: 27.381810060563275 | score of after: 28.348408515014427\n",
            "Iteration #99 | score of before: 27.381810060563275 | score of after: 53.08440645599086\n",
            "Iteration #0 | score of before: 27.381810060563275 | score of after: 30.091203562967532\n",
            "Iteration #1 | score of before: 27.381810060563275 | score of after: 130.46985228440585\n",
            "Iteration #2 | score of before: 27.381810060563275 | score of after: 28.89027479559441\n",
            "Iteration #3 | score of before: 27.381810060563275 | score of after: 46.48655348340138\n",
            "Iteration #4 | score of before: 27.381810060563275 | score of after: 31.461706530478352\n",
            "Iteration #5 | score of before: 31.461706530478352 | score of after: 32.130880488076244\n",
            "Iteration #6 | score of before: 32.130880488076244 | score of after: 31.966211394112868\n",
            "Iteration #7 | score of before: 31.966211394112868 | score of after: 28.92442287352406\n",
            "Iteration #8 | score of before: 28.92442287352406 | score of after: 29.071563800372484\n",
            "Iteration #9 | score of before: 29.071563800372484 | score of after: 30.120816775521327\n",
            "Iteration #10 | score of before: 30.120816775521327 | score of after: 30.48421446679068\n",
            "Iteration #11 | score of before: 30.48421446679068 | score of after: 37.430960416340106\n",
            "Iteration #12 | score of before: 30.48421446679068 | score of after: 30.764302553931646\n",
            "Iteration #13 | score of before: 30.764302553931646 | score of after: 36.71278115601572\n",
            "Iteration #14 | score of before: 30.764302553931646 | score of after: 31.19408374476076\n",
            "Iteration #15 | score of before: 30.764302553931646 | score of after: 31.75327439364107\n",
            "Iteration #16 | score of before: 31.75327439364107 | score of after: 31.584122515481802\n",
            "Iteration #17 | score of before: 31.584122515481802 | score of after: 31.816437369360333\n",
            "Iteration #18 | score of before: 31.816437369360333 | score of after: 31.810432858627593\n",
            "Iteration #19 | score of before: 31.810432858627593 | score of after: 31.48615896784838\n",
            "Iteration #20 | score of before: 31.48615896784838 | score of after: 31.948864403056234\n",
            "Iteration #21 | score of before: 31.48615896784838 | score of after: 35.16051173633168\n",
            "Iteration #22 | score of before: 31.48615896784838 | score of after: 57.69927884136043\n",
            "Iteration #23 | score of before: 31.48615896784838 | score of after: 29.739092085583273\n",
            "Iteration #24 | score of before: 29.739092085583273 | score of after: 32.56698496370029\n",
            "Iteration #25 | score of before: 29.739092085583273 | score of after: 31.796385442894994\n",
            "Iteration #26 | score of before: 29.739092085583273 | score of after: 72.28843281332732\n",
            "Iteration #27 | score of before: 29.739092085583273 | score of after: 32.63961201975421\n",
            "Iteration #28 | score of before: 29.739092085583273 | score of after: 34.226477980962336\n",
            "Iteration #29 | score of before: 34.226477980962336 | score of after: 141.41130930258223\n",
            "Iteration #30 | score of before: 34.226477980962336 | score of after: 67.95419033903568\n",
            "Iteration #31 | score of before: 34.226477980962336 | score of after: 157.51813640594048\n",
            "Iteration #32 | score of before: 34.226477980962336 | score of after: 31.39306779401248\n",
            "Iteration #33 | score of before: 31.39306779401248 | score of after: 31.170559934982293\n",
            "Iteration #34 | score of before: 31.170559934982293 | score of after: 31.832704813500442\n",
            "Iteration #35 | score of before: 31.170559934982293 | score of after: 31.974677798612948\n",
            "Iteration #36 | score of before: 31.170559934982293 | score of after: 34.9636901700964\n",
            "Iteration #37 | score of before: 31.170559934982293 | score of after: 33.95659592189708\n",
            "Iteration #38 | score of before: 31.170559934982293 | score of after: 33.29155771000597\n",
            "Iteration #39 | score of before: 31.170559934982293 | score of after: 31.18354923852702\n",
            "Iteration #40 | score of before: 31.18354923852702 | score of after: 38.8498959458264\n",
            "Iteration #41 | score of before: 31.18354923852702 | score of after: 32.202990270917105\n",
            "Iteration #42 | score of before: 31.18354923852702 | score of after: 33.817604532376265\n",
            "Iteration #43 | score of before: 31.18354923852702 | score of after: 58.56429358747566\n",
            "Iteration #44 | score of before: 31.18354923852702 | score of after: 32.420806814508474\n",
            "Iteration #45 | score of before: 31.18354923852702 | score of after: 34.73467442400877\n",
            "Iteration #46 | score of before: 31.18354923852702 | score of after: 32.32430016187931\n",
            "Iteration #47 | score of before: 31.18354923852702 | score of after: 34.246949626358756\n",
            "Iteration #48 | score of before: 31.18354923852702 | score of after: 48.71356723787572\n",
            "Iteration #49 | score of before: 31.18354923852702 | score of after: 52.03714081822224\n",
            "Iteration #50 | score of before: 31.18354923852702 | score of after: 33.42204302068992\n",
            "Iteration #51 | score of before: 31.18354923852702 | score of after: 32.72044339643978\n",
            "Iteration #52 | score of before: 31.18354923852702 | score of after: 31.944821523145905\n",
            "Iteration #53 | score of before: 31.18354923852702 | score of after: 58.875970256300654\n",
            "Iteration #54 | score of before: 31.18354923852702 | score of after: 39.11188239801689\n",
            "Iteration #55 | score of before: 31.18354923852702 | score of after: 29.184910942908928\n",
            "Iteration #56 | score of before: 29.184910942908928 | score of after: 36.26598466492379\n",
            "Iteration #57 | score of before: 29.184910942908928 | score of after: 30.482585235549028\n",
            "Iteration #58 | score of before: 30.482585235549028 | score of after: 30.49682430981314\n",
            "Iteration #59 | score of before: 30.49682430981314 | score of after: 33.18076567235833\n",
            "Iteration #60 | score of before: 30.49682430981314 | score of after: 30.508232704295303\n",
            "Iteration #61 | score of before: 30.508232704295303 | score of after: 30.629946795751973\n",
            "Iteration #62 | score of before: 30.629946795751973 | score of after: 31.010972615508784\n",
            "Iteration #63 | score of before: 31.010972615508784 | score of after: 36.56231545861972\n",
            "Iteration #64 | score of before: 31.010972615508784 | score of after: 34.24829475777787\n",
            "Iteration #65 | score of before: 31.010972615508784 | score of after: 33.59995015416928\n",
            "Iteration #66 | score of before: 31.010972615508784 | score of after: 35.42132799992565\n",
            "Iteration #67 | score of before: 31.010972615508784 | score of after: 30.153437075422076\n",
            "Iteration #68 | score of before: 30.153437075422076 | score of after: 28.513356443737088\n",
            "Iteration #69 | score of before: 28.513356443737088 | score of after: 117.29949177468866\n",
            "Iteration #70 | score of before: 28.513356443737088 | score of after: 35.353183156375074\n",
            "Iteration #71 | score of before: 28.513356443737088 | score of after: 28.471969355791245\n",
            "Iteration #72 | score of before: 28.471969355791245 | score of after: 29.521023175735976\n",
            "Iteration #73 | score of before: 28.471969355791245 | score of after: 29.24739531689722\n",
            "Iteration #74 | score of before: 28.471969355791245 | score of after: 29.29650308359738\n",
            "Iteration #75 | score of before: 28.471969355791245 | score of after: 31.65643037961341\n",
            "Iteration #76 | score of before: 28.471969355791245 | score of after: 79.33415955413145\n",
            "Iteration #77 | score of before: 28.471969355791245 | score of after: 35.02756872723462\n",
            "Iteration #78 | score of before: 28.471969355791245 | score of after: 30.6653720525293\n",
            "Iteration #79 | score of before: 28.471969355791245 | score of after: 31.457006816194955\n",
            "Iteration #80 | score of before: 28.471969355791245 | score of after: 31.152770854426528\n",
            "Iteration #81 | score of before: 28.471969355791245 | score of after: 29.007261979337486\n",
            "Iteration #82 | score of before: 29.007261979337486 | score of after: 28.22381690577442\n",
            "Iteration #83 | score of before: 28.22381690577442 | score of after: 31.46989626124501\n",
            "Iteration #84 | score of before: 28.22381690577442 | score of after: 29.179415641056885\n",
            "Iteration #85 | score of before: 28.22381690577442 | score of after: 182.3949931271124\n",
            "Iteration #86 | score of before: 28.22381690577442 | score of after: 46.426481691496086\n",
            "Iteration #87 | score of before: 28.22381690577442 | score of after: 30.687394836384495\n",
            "Iteration #88 | score of before: 30.687394836384495 | score of after: 30.7876702016956\n",
            "Iteration #89 | score of before: 30.7876702016956 | score of after: 30.90495966209041\n",
            "Iteration #90 | score of before: 30.90495966209041 | score of after: 29.05748876920545\n",
            "Iteration #91 | score of before: 29.05748876920545 | score of after: 31.02069942030293\n",
            "Iteration #92 | score of before: 31.02069942030293 | score of after: 30.94050444778111\n",
            "Iteration #93 | score of before: 30.94050444778111 | score of after: 30.950139593950393\n",
            "Iteration #94 | score of before: 30.950139593950393 | score of after: 30.396021917951547\n",
            "Iteration #95 | score of before: 30.396021917951547 | score of after: 28.899327191752853\n",
            "Iteration #96 | score of before: 28.899327191752853 | score of after: 33.03793446928843\n",
            "Iteration #97 | score of before: 28.899327191752853 | score of after: 29.51887414549129\n",
            "Iteration #98 | score of before: 29.51887414549129 | score of after: 31.513305734327933\n",
            "Iteration #99 | score of before: 29.51887414549129 | score of after: 30.275281304968892\n",
            "Iteration #0 | score of before: 30.275281304968892 | score of after: 30.414980810855685\n",
            "Iteration #1 | score of before: 30.414980810855685 | score of after: 30.462961970616607\n",
            "Iteration #2 | score of before: 30.462961970616607 | score of after: 31.17695995687548\n",
            "Iteration #3 | score of before: 31.17695995687548 | score of after: 32.09168253669548\n",
            "Iteration #4 | score of before: 31.17695995687548 | score of after: 32.459743635129385\n",
            "Iteration #5 | score of before: 31.17695995687548 | score of after: 31.905663175131878\n",
            "Iteration #6 | score of before: 31.17695995687548 | score of after: 33.8637559464715\n",
            "Iteration #7 | score of before: 31.17695995687548 | score of after: 30.123212852219744\n",
            "Iteration #8 | score of before: 30.123212852219744 | score of after: 30.64171588893578\n",
            "Iteration #9 | score of before: 30.123212852219744 | score of after: 38.492520025767504\n",
            "Iteration #10 | score of before: 30.123212852219744 | score of after: 29.50820798891272\n",
            "Iteration #11 | score of before: 29.50820798891272 | score of after: 83.9655243311677\n",
            "Iteration #12 | score of before: 29.50820798891272 | score of after: 29.52107054303913\n",
            "Iteration #13 | score of before: 29.52107054303913 | score of after: 31.16032630295047\n",
            "Iteration #14 | score of before: 29.52107054303913 | score of after: 29.71524710002235\n",
            "Iteration #15 | score of before: 29.71524710002235 | score of after: 96.50535293224003\n",
            "Iteration #16 | score of before: 29.71524710002235 | score of after: 28.884927085811487\n",
            "Iteration #17 | score of before: 28.884927085811487 | score of after: 31.04508406646677\n",
            "Iteration #18 | score of before: 28.884927085811487 | score of after: 29.793017521121897\n",
            "Iteration #19 | score of before: 28.884927085811487 | score of after: 30.71087560278221\n",
            "Iteration #20 | score of before: 30.71087560278221 | score of after: 31.630236733056783\n",
            "Iteration #21 | score of before: 30.71087560278221 | score of after: 30.64408576431014\n",
            "Iteration #22 | score of before: 30.64408576431014 | score of after: 31.760806624691906\n",
            "Iteration #23 | score of before: 30.64408576431014 | score of after: 33.35196485767513\n",
            "Iteration #24 | score of before: 30.64408576431014 | score of after: 33.90662776383433\n",
            "Iteration #25 | score of before: 30.64408576431014 | score of after: 30.268595724174205\n",
            "Iteration #26 | score of before: 30.268595724174205 | score of after: 30.092867436854593\n",
            "Iteration #27 | score of before: 30.092867436854593 | score of after: 33.95821628099121\n",
            "Iteration #28 | score of before: 33.95821628099121 | score of after: 33.51108800303044\n",
            "Iteration #29 | score of before: 33.51108800303044 | score of after: 33.84359477930059\n",
            "Iteration #30 | score of before: 33.84359477930059 | score of after: 32.544169966749536\n",
            "Iteration #31 | score of before: 32.544169966749536 | score of after: 32.98928348588625\n",
            "Iteration #32 | score of before: 32.544169966749536 | score of after: 36.740719533922345\n",
            "Iteration #33 | score of before: 32.544169966749536 | score of after: 32.21616375722088\n",
            "Iteration #34 | score of before: 32.21616375722088 | score of after: 32.70102299512491\n",
            "Iteration #35 | score of before: 32.21616375722088 | score of after: 32.33273463553784\n",
            "Iteration #36 | score of before: 32.33273463553784 | score of after: 32.24642424764538\n",
            "Iteration #37 | score of before: 32.24642424764538 | score of after: 33.8442247302641\n",
            "Iteration #38 | score of before: 32.24642424764538 | score of after: 32.46471557200529\n",
            "Iteration #39 | score of before: 32.46471557200529 | score of after: 39.011472864458455\n",
            "Iteration #40 | score of before: 32.46471557200529 | score of after: 32.917570841876724\n",
            "Iteration #41 | score of before: 32.46471557200529 | score of after: 33.54042499052034\n",
            "Iteration #42 | score of before: 32.46471557200529 | score of after: 33.118382588680916\n",
            "Iteration #43 | score of before: 33.118382588680916 | score of after: 39.28003864010948\n",
            "Iteration #44 | score of before: 33.118382588680916 | score of after: 33.5423138066937\n",
            "Iteration #45 | score of before: 33.118382588680916 | score of after: 33.06415559367561\n",
            "Iteration #46 | score of before: 33.06415559367561 | score of after: 39.91233468577092\n",
            "Iteration #47 | score of before: 33.06415559367561 | score of after: 33.13197224895058\n",
            "Iteration #48 | score of before: 33.13197224895058 | score of after: 33.97599647282762\n",
            "Iteration #49 | score of before: 33.97599647282762 | score of after: 33.270571141392324\n",
            "Iteration #50 | score of before: 33.270571141392324 | score of after: 33.113740606768296\n",
            "Iteration #51 | score of before: 33.113740606768296 | score of after: 34.181603499277706\n",
            "Iteration #52 | score of before: 33.113740606768296 | score of after: 32.518928693356656\n",
            "Iteration #53 | score of before: 32.518928693356656 | score of after: 32.17489818870421\n",
            "Iteration #54 | score of before: 32.17489818870421 | score of after: 30.554471368476044\n",
            "Iteration #55 | score of before: 30.554471368476044 | score of after: 31.236284248494492\n",
            "Iteration #56 | score of before: 30.554471368476044 | score of after: 40.16381809816208\n",
            "Iteration #57 | score of before: 30.554471368476044 | score of after: 30.666386321548856\n",
            "Iteration #58 | score of before: 30.666386321548856 | score of after: 34.01608061015951\n",
            "Iteration #59 | score of before: 30.666386321548856 | score of after: 30.56602978810728\n",
            "Iteration #60 | score of before: 30.56602978810728 | score of after: 35.46486064198468\n",
            "Iteration #61 | score of before: 30.56602978810728 | score of after: 35.5972366615641\n",
            "Iteration #62 | score of before: 30.56602978810728 | score of after: 31.19834182962348\n",
            "Iteration #63 | score of before: 31.19834182962348 | score of after: 40.623657032477254\n",
            "Iteration #64 | score of before: 31.19834182962348 | score of after: 33.279154719885035\n",
            "Iteration #65 | score of before: 31.19834182962348 | score of after: 32.591288537162484\n",
            "Iteration #66 | score of before: 31.19834182962348 | score of after: 37.60629844051422\n",
            "Iteration #67 | score of before: 31.19834182962348 | score of after: 31.500149287282266\n",
            "Iteration #68 | score of before: 31.500149287282266 | score of after: 153.41970632886574\n",
            "Iteration #69 | score of before: 31.500149287282266 | score of after: 29.707548113443494\n",
            "Iteration #70 | score of before: 29.707548113443494 | score of after: 29.650877922898193\n",
            "Iteration #71 | score of before: 29.650877922898193 | score of after: 81.79554811655375\n",
            "Iteration #72 | score of before: 29.650877922898193 | score of after: 31.455958263257884\n",
            "Iteration #73 | score of before: 29.650877922898193 | score of after: 31.842227242893287\n",
            "Iteration #74 | score of before: 29.650877922898193 | score of after: 30.909611765658987\n",
            "Iteration #75 | score of before: 29.650877922898193 | score of after: 49.711587227853364\n",
            "Iteration #76 | score of before: 29.650877922898193 | score of after: 41.06867530648379\n",
            "Iteration #77 | score of before: 29.650877922898193 | score of after: 42.69187190648674\n",
            "Iteration #78 | score of before: 29.650877922898193 | score of after: 57.32485386949334\n",
            "Iteration #79 | score of before: 29.650877922898193 | score of after: 30.389688710077216\n",
            "Iteration #80 | score of before: 29.650877922898193 | score of after: 34.43813489599428\n",
            "Iteration #81 | score of before: 29.650877922898193 | score of after: 28.871594768268196\n",
            "Iteration #82 | score of before: 28.871594768268196 | score of after: 30.99527063828342\n",
            "Iteration #83 | score of before: 28.871594768268196 | score of after: 30.807211845749656\n",
            "Iteration #84 | score of before: 30.807211845749656 | score of after: 34.729531409358984\n",
            "Iteration #85 | score of before: 30.807211845749656 | score of after: 30.749127776821485\n",
            "Iteration #86 | score of before: 30.749127776821485 | score of after: 30.913555083508655\n",
            "Iteration #87 | score of before: 30.913555083508655 | score of after: 42.91306302985256\n",
            "Iteration #88 | score of before: 30.913555083508655 | score of after: 30.694647644203748\n",
            "Iteration #89 | score of before: 30.694647644203748 | score of after: 32.44239558360601\n",
            "Iteration #90 | score of before: 30.694647644203748 | score of after: 30.994921340916306\n",
            "Iteration #91 | score of before: 30.994921340916306 | score of after: 30.5713673346647\n",
            "Iteration #92 | score of before: 30.5713673346647 | score of after: 30.683506882474443\n",
            "Iteration #93 | score of before: 30.683506882474443 | score of after: 31.430597229350028\n",
            "Iteration #94 | score of before: 31.430597229350028 | score of after: 31.47927794995668\n",
            "Iteration #95 | score of before: 31.47927794995668 | score of after: 37.151275413265196\n",
            "Iteration #96 | score of before: 37.151275413265196 | score of after: 35.339780701122756\n",
            "Iteration #97 | score of before: 35.339780701122756 | score of after: 35.24914168437673\n",
            "Iteration #98 | score of before: 35.24914168437673 | score of after: 34.25121556974267\n",
            "Iteration #99 | score of before: 34.25121556974267 | score of after: 34.02953904040936\n",
            "1 loop, best of 5: 394 ms per loop\n"
          ],
          "name": "stdout"
        }
      ]
    },
    {
      "cell_type": "markdown",
      "metadata": {
        "id": "Ji5VCY18ETwS"
      },
      "source": [
        "### Note about `Movers`\n",
        "\n",
        "Not counting the `PyMOLMover`, which is a special case, `SwitchResidueTypeSetMover` is the first example we have seen of a `Mover` class in PyRosetta. Every `Mover` object in PyRosetta has been designed to apply specific and complex changes (or “moves”) to a `pose`. Every `Mover` must be “constructed” and have any options set before being applied to a `pose` with the `apply()` method. `SwitchResidueTypeSetMover` has a relatively simple construction with only the single option `\"centroid\"`. (Some `Movers`, as we shall see, require no options and are programmed to operate with default values)."
      ]
    },
    {
      "cell_type": "markdown",
      "metadata": {
        "id": "v4iCiFIbETwS"
      },
      "source": [
        "## Protein Fragments\n",
        "\n",
        "\n",
        "Look at the provided `3mer.frags` fragments. These fragments are generated from the Robetta server (http://robetta.bakerlab.org/fragmentsubmit.jsp) for a given sequence. You should see sets of three-lines describing each fragment.\n",
        "\n",
        "**Questions:** For the first fragment, which PDB file does it come from? Is this fragment helical, sheet, in a loop, or a combination? What are the φ, ψ, and ω angles of the middle residue of the first fragment window?"
      ]
    },
    {
      "cell_type": "code",
      "metadata": {
        "id": "9zpC_rGWETwS"
      },
      "source": [
        ""
      ],
      "execution_count": null,
      "outputs": []
    },
    {
      "cell_type": "markdown",
      "metadata": {
        "id": "1QNNomNNETwS"
      },
      "source": [
        "Create a new subroutine in your folding code for an alternate random move based upon a “fragment insertion”. A fragment insertion is the replacement of the torsion angles for a set of consecutive residues with new torsion angles pulled at random from a fragment library file. Prior to calling the subroutine, load the set of fragments from the fragment file:\n",
        "\n",
        "```\n",
        "from pyrosetta.rosetta.core.fragment import *\n",
        "fragset = ConstantLengthFragSet(3)\n",
        "fragset.read_fragment_file(\"3mer.frags\")\n",
        "```"
      ]
    },
    {
      "cell_type": "code",
      "metadata": {
        "id": "iNizOT0DETwS",
        "colab": {
          "base_uri": "https://localhost:8080/"
        },
        "outputId": "f67dde96-9142-4bab-b3d8-1625a3dd2a9a"
      },
      "source": [
        "from pyrosetta.rosetta.core.fragment import *\n",
        "fragset = ConstantLengthFragSet(3)\n",
        "fragset.read_fragment_file(\"inputs/3mer.frags\")\n"
      ],
      "execution_count": 30,
      "outputs": [
        {
          "output_type": "stream",
          "text": [
            "core.fragments.ConstantLengthFragSet: finished reading top 200 3mer fragments from file inputs/3mer.frags\n"
          ],
          "name": "stdout"
        }
      ]
    },
    {
      "cell_type": "markdown",
      "metadata": {
        "id": "KQ65bK1pETwS"
      },
      "source": [
        "### Using FragmentMover and MoveMap"
      ]
    },
    {
      "cell_type": "markdown",
      "metadata": {
        "id": "G-ikI8f9ETwT"
      },
      "source": [
        "Next, we will construct another `Mover` object — this time a `FragmentMover` — using the above fragment set and a `MoveMap` object as options. A `MoveMap` specifies which degrees of freedom are allowed to change in the `pose` when the `Mover` is applied (in this case, all backbone torsion angles):\n",
        "\n",
        "```\n",
        "from pyrosetta.rosetta.protocols.simple_moves import ClassicFragmentMover\n",
        "movemap = MoveMap()\n",
        "movemap.set_bb(True)\n",
        "mover_3mer = ClassicFragmentMover(fragset, movemap)\n",
        "```"
      ]
    },
    {
      "cell_type": "code",
      "metadata": {
        "id": "BMSbR81jETwT"
      },
      "source": [
        "from pyrosetta.rosetta.protocols.simple_moves import ClassicFragmentMover\n",
        "movemap = MoveMap()\n",
        "movemap.set_bb(True)\n",
        "mover_3mer = ClassicFragmentMover(fragset, movemap)"
      ],
      "execution_count": 31,
      "outputs": []
    },
    {
      "cell_type": "markdown",
      "metadata": {
        "id": "0ZinCETTETwT"
      },
      "source": [
        "Note that when a MoveMap is constructed, all degrees of freedom are set to False initially. If you still have a *PyMOL_Mover* instantiated, you can quickly visualize which degrees of freedom will be allowed by sending your move map to PyMOL with \n",
        "\n",
        "```\n",
        "test_pose = pyrosetta.pose_from_sequence(\"RFPMMSTFKVLLCGAVLSRIDAG\")\n",
        "pmm.apply(test_pose)\n",
        "pmm.send_movemap(test_pose, movemap)\n",
        "```"
      ]
    },
    {
      "cell_type": "code",
      "metadata": {
        "id": "uGsnAqGEETwT"
      },
      "source": [
        "test_pose = pyrosetta.pose_from_sequence(\"RFPMMSTFKVLLCGAVLSRIDAG\")\n",
        "pmm.apply(test_pose)\n",
        "pmm.send_movemap(test_pose, movemap)"
      ],
      "execution_count": 32,
      "outputs": []
    },
    {
      "cell_type": "markdown",
      "metadata": {
        "id": "vE0JU-6uETwT"
      },
      "source": [
        "Each time this mover is applied, it will select a random 3-mer window and insert only the backbone torsion angles from a random matching fragment in the fragment set. Here is an example using the above `test_pose`:\n",
        "\n",
        "```\n",
        "mover_3mer.apply(test_pose)\n",
        "pmm.apply(test_pose)\n",
        "```"
      ]
    },
    {
      "cell_type": "code",
      "metadata": {
        "id": "viRtv8nXETwT"
      },
      "source": [
        "mover_3mer.apply(test_pose)\n",
        "pmm.apply(test_pose)"
      ],
      "execution_count": 33,
      "outputs": []
    },
    {
      "cell_type": "markdown",
      "metadata": {
        "id": "yNzSexrwETwT"
      },
      "source": [
        "### Exercise 2: Fragment Folding Algorithm\n",
        "**Question:** When you change your random move in your poly-alanine folding algorithm to a fragment insertion, how much faster is your protocol? Does it converge to a protein-like conformation more quickly?"
      ]
    },
    {
      "cell_type": "code",
      "metadata": {
        "id": "lZvJrk_ZETwU",
        "colab": {
          "base_uri": "https://localhost:8080/"
        },
        "outputId": "122f31b9-d134-461d-814e-0402fa766cb0"
      },
      "source": [
        "polyA = pose_from_sequence(\"A\"*10)\n",
        "\n",
        "polyA.pdb_info().name(\"polyA\")\n",
        "\n",
        "def randTrial(your_pose):\n",
        "\n",
        "    mover_3mer.apply(test_pose)\n",
        "    pmm.apply(your_pose)\n",
        "\n",
        "    return your_pose\n",
        "\n",
        "sfxn = get_fa_scorefxn()\n",
        "\n",
        "def score(your_pose):\n",
        "    return sfxn(your_pose)\n",
        "\n",
        "def decision(before_pose, after_pose):\n",
        "    score_before = score(before_pose)\n",
        "    score_after = score(after_pose)\n",
        "    delta_E = score_after - score_before\n",
        "    P = math.exp(-delta_E / 1)\n",
        "\n",
        "    if delta_E < 0:\n",
        "      return after_pose\n",
        "    elif random.uniform(0, 1) > P:\n",
        "      return before_pose\n",
        "    else:\n",
        "      return after_pose\n",
        "\n",
        "def basic_folding(your_pose):\n",
        "    \"\"\"Your basic folding algorithm that completes 100 Monte-Carlo iterations on a given pose\"\"\"\n",
        "    \n",
        "    lowest_pose = Pose() # create an empty pose for tracking the lowest energy pose.\n",
        "    lowest_pose.assign(your_pose) # assign the first move to the pose\n",
        "\n",
        "    for i in range(100):\n",
        "      # keep track of the before pose\n",
        "      before_pose = Pose().assign(your_pose) \n",
        "\n",
        "      # applying the random move to the pose\n",
        "      # deciding whether to keep the change or not\n",
        "      after_pose = Pose().assign(randTrial(your_pose))\n",
        "      your_pose.assign(decision(before_pose, after_pose))\n",
        "\n",
        "      if score(your_pose) < score(lowest_pose):\n",
        "        lowest_pose.assign(your_pose)\n",
        "\n",
        "      print(\"Iteration #{} | score of before: {} | score of after: {}\".format(i, score(before_pose), score(after_pose)))\n",
        "    \n",
        "    return lowest_pose\n",
        "\n",
        "after_pose = basic_folding(polyA)\n",
        "pmm.apply(after_pose)"
      ],
      "execution_count": 36,
      "outputs": [
        {
          "output_type": "stream",
          "text": [
            "core.scoring.ScoreFunctionFactory: SCOREFUNCTION: ref2015\n",
            "Iteration #0 | score of before: 29.96724428561499 | score of after: 29.96724428561499\n",
            "Iteration #1 | score of before: 29.96724428561499 | score of after: 29.96724428561499\n",
            "Iteration #2 | score of before: 29.96724428561499 | score of after: 29.96724428561499\n",
            "Iteration #3 | score of before: 29.96724428561499 | score of after: 29.96724428561499\n",
            "Iteration #4 | score of before: 29.96724428561499 | score of after: 29.96724428561499\n",
            "Iteration #5 | score of before: 29.96724428561499 | score of after: 29.96724428561499\n",
            "Iteration #6 | score of before: 29.96724428561499 | score of after: 29.96724428561499\n",
            "Iteration #7 | score of before: 29.96724428561499 | score of after: 29.96724428561499\n",
            "Iteration #8 | score of before: 29.96724428561499 | score of after: 29.96724428561499\n",
            "Iteration #9 | score of before: 29.96724428561499 | score of after: 29.96724428561499\n",
            "Iteration #10 | score of before: 29.96724428561499 | score of after: 29.96724428561499\n",
            "Iteration #11 | score of before: 29.96724428561499 | score of after: 29.96724428561499\n",
            "Iteration #12 | score of before: 29.96724428561499 | score of after: 29.96724428561499\n",
            "Iteration #13 | score of before: 29.96724428561499 | score of after: 29.96724428561499\n",
            "Iteration #14 | score of before: 29.96724428561499 | score of after: 29.96724428561499\n",
            "Iteration #15 | score of before: 29.96724428561499 | score of after: 29.96724428561499\n",
            "Iteration #16 | score of before: 29.96724428561499 | score of after: 29.96724428561499\n",
            "Iteration #17 | score of before: 29.96724428561499 | score of after: 29.96724428561499\n",
            "Iteration #18 | score of before: 29.96724428561499 | score of after: 29.96724428561499\n",
            "Iteration #19 | score of before: 29.96724428561499 | score of after: 29.96724428561499\n",
            "Iteration #20 | score of before: 29.96724428561499 | score of after: 29.96724428561499\n",
            "Iteration #21 | score of before: 29.96724428561499 | score of after: 29.96724428561499\n",
            "Iteration #22 | score of before: 29.96724428561499 | score of after: 29.96724428561499\n",
            "Iteration #23 | score of before: 29.96724428561499 | score of after: 29.96724428561499\n",
            "Iteration #24 | score of before: 29.96724428561499 | score of after: 29.96724428561499\n",
            "Iteration #25 | score of before: 29.96724428561499 | score of after: 29.96724428561499\n",
            "Iteration #26 | score of before: 29.96724428561499 | score of after: 29.96724428561499\n",
            "Iteration #27 | score of before: 29.96724428561499 | score of after: 29.96724428561499\n",
            "Iteration #28 | score of before: 29.96724428561499 | score of after: 29.96724428561499\n",
            "Iteration #29 | score of before: 29.96724428561499 | score of after: 29.96724428561499\n",
            "Iteration #30 | score of before: 29.96724428561499 | score of after: 29.96724428561499\n",
            "Iteration #31 | score of before: 29.96724428561499 | score of after: 29.96724428561499\n",
            "Iteration #32 | score of before: 29.96724428561499 | score of after: 29.96724428561499\n",
            "Iteration #33 | score of before: 29.96724428561499 | score of after: 29.96724428561499\n",
            "Iteration #34 | score of before: 29.96724428561499 | score of after: 29.96724428561499\n",
            "Iteration #35 | score of before: 29.96724428561499 | score of after: 29.96724428561499\n",
            "Iteration #36 | score of before: 29.96724428561499 | score of after: 29.96724428561499\n",
            "Iteration #37 | score of before: 29.96724428561499 | score of after: 29.96724428561499\n",
            "Iteration #38 | score of before: 29.96724428561499 | score of after: 29.96724428561499\n",
            "Iteration #39 | score of before: 29.96724428561499 | score of after: 29.96724428561499\n",
            "Iteration #40 | score of before: 29.96724428561499 | score of after: 29.96724428561499\n",
            "Iteration #41 | score of before: 29.96724428561499 | score of after: 29.96724428561499\n",
            "Iteration #42 | score of before: 29.96724428561499 | score of after: 29.96724428561499\n",
            "Iteration #43 | score of before: 29.96724428561499 | score of after: 29.96724428561499\n",
            "Iteration #44 | score of before: 29.96724428561499 | score of after: 29.96724428561499\n",
            "Iteration #45 | score of before: 29.96724428561499 | score of after: 29.96724428561499\n",
            "Iteration #46 | score of before: 29.96724428561499 | score of after: 29.96724428561499\n",
            "Iteration #47 | score of before: 29.96724428561499 | score of after: 29.96724428561499\n",
            "Iteration #48 | score of before: 29.96724428561499 | score of after: 29.96724428561499\n",
            "Iteration #49 | score of before: 29.96724428561499 | score of after: 29.96724428561499\n",
            "Iteration #50 | score of before: 29.96724428561499 | score of after: 29.96724428561499\n",
            "Iteration #51 | score of before: 29.96724428561499 | score of after: 29.96724428561499\n",
            "Iteration #52 | score of before: 29.96724428561499 | score of after: 29.96724428561499\n",
            "Iteration #53 | score of before: 29.96724428561499 | score of after: 29.96724428561499\n",
            "Iteration #54 | score of before: 29.96724428561499 | score of after: 29.96724428561499\n",
            "Iteration #55 | score of before: 29.96724428561499 | score of after: 29.96724428561499\n",
            "Iteration #56 | score of before: 29.96724428561499 | score of after: 29.96724428561499\n",
            "Iteration #57 | score of before: 29.96724428561499 | score of after: 29.96724428561499\n",
            "Iteration #58 | score of before: 29.96724428561499 | score of after: 29.96724428561499\n",
            "Iteration #59 | score of before: 29.96724428561499 | score of after: 29.96724428561499\n",
            "Iteration #60 | score of before: 29.96724428561499 | score of after: 29.96724428561499\n",
            "Iteration #61 | score of before: 29.96724428561499 | score of after: 29.96724428561499\n",
            "Iteration #62 | score of before: 29.96724428561499 | score of after: 29.96724428561499\n",
            "Iteration #63 | score of before: 29.96724428561499 | score of after: 29.96724428561499\n",
            "Iteration #64 | score of before: 29.96724428561499 | score of after: 29.96724428561499\n",
            "Iteration #65 | score of before: 29.96724428561499 | score of after: 29.96724428561499\n",
            "Iteration #66 | score of before: 29.96724428561499 | score of after: 29.96724428561499\n",
            "Iteration #67 | score of before: 29.96724428561499 | score of after: 29.96724428561499\n",
            "Iteration #68 | score of before: 29.96724428561499 | score of after: 29.96724428561499\n",
            "Iteration #69 | score of before: 29.96724428561499 | score of after: 29.96724428561499\n",
            "Iteration #70 | score of before: 29.96724428561499 | score of after: 29.96724428561499\n",
            "Iteration #71 | score of before: 29.96724428561499 | score of after: 29.96724428561499\n",
            "Iteration #72 | score of before: 29.96724428561499 | score of after: 29.96724428561499\n",
            "Iteration #73 | score of before: 29.96724428561499 | score of after: 29.96724428561499\n",
            "Iteration #74 | score of before: 29.96724428561499 | score of after: 29.96724428561499\n",
            "Iteration #75 | score of before: 29.96724428561499 | score of after: 29.96724428561499\n",
            "Iteration #76 | score of before: 29.96724428561499 | score of after: 29.96724428561499\n",
            "Iteration #77 | score of before: 29.96724428561499 | score of after: 29.96724428561499\n",
            "Iteration #78 | score of before: 29.96724428561499 | score of after: 29.96724428561499\n",
            "Iteration #79 | score of before: 29.96724428561499 | score of after: 29.96724428561499\n",
            "Iteration #80 | score of before: 29.96724428561499 | score of after: 29.96724428561499\n",
            "Iteration #81 | score of before: 29.96724428561499 | score of after: 29.96724428561499\n",
            "Iteration #82 | score of before: 29.96724428561499 | score of after: 29.96724428561499\n",
            "Iteration #83 | score of before: 29.96724428561499 | score of after: 29.96724428561499\n",
            "Iteration #84 | score of before: 29.96724428561499 | score of after: 29.96724428561499\n",
            "Iteration #85 | score of before: 29.96724428561499 | score of after: 29.96724428561499\n",
            "Iteration #86 | score of before: 29.96724428561499 | score of after: 29.96724428561499\n",
            "Iteration #87 | score of before: 29.96724428561499 | score of after: 29.96724428561499\n",
            "Iteration #88 | score of before: 29.96724428561499 | score of after: 29.96724428561499\n",
            "Iteration #89 | score of before: 29.96724428561499 | score of after: 29.96724428561499\n",
            "Iteration #90 | score of before: 29.96724428561499 | score of after: 29.96724428561499\n",
            "Iteration #91 | score of before: 29.96724428561499 | score of after: 29.96724428561499\n",
            "Iteration #92 | score of before: 29.96724428561499 | score of after: 29.96724428561499\n",
            "Iteration #93 | score of before: 29.96724428561499 | score of after: 29.96724428561499\n",
            "Iteration #94 | score of before: 29.96724428561499 | score of after: 29.96724428561499\n",
            "Iteration #95 | score of before: 29.96724428561499 | score of after: 29.96724428561499\n",
            "Iteration #96 | score of before: 29.96724428561499 | score of after: 29.96724428561499\n",
            "Iteration #97 | score of before: 29.96724428561499 | score of after: 29.96724428561499\n",
            "Iteration #98 | score of before: 29.96724428561499 | score of after: 29.96724428561499\n",
            "Iteration #99 | score of before: 29.96724428561499 | score of after: 29.96724428561499\n"
          ],
          "name": "stdout"
        }
      ]
    },
    {
      "cell_type": "markdown",
      "metadata": {
        "id": "osqDriuLETwU"
      },
      "source": [
        "### Programming Exercises\n",
        "\n",
        "- Fold a 10-mer poly-alanine using 100 independent trajectories, using any variant of the folding algorithm that you like. (A trajectory is a path through the conformation space traveled during the calculation. The end result of each independent trajectory is called a “decoy”. Given enough sampling, the lowest energy decoy may correspond to the global minimum.) Create a Ramachandran plot using the lowest-scoring conformations (decoys) from all 100 independent trajectories. Repeat this for a 10-mer poly-glycine. How do the plots differ? Compare with the plots in Richardson’s article.\n",
        "\n",
        "\n",
        "- Test your folding program’s ability to predict a real fold from scratch. Choose a small protein to keep the computation time down, such as Hox-B1 homeobox protein (1B72) or RecA (2REB). How many iterations and how many independent trajectories do you need to run to find a good structure?\n",
        "\n",
        "\n",
        "- Modify your folding program to include a simulated annealing temperature schedule, decaying exponentially from kT = 100 to kT = 0.1 over the course of the search. Again, fold a test protein. Does this approach work better?\n",
        "Modify your folding program to remove the Metropolis criterion and instead accept trial moves only when the energy decreases. Plot energy vs. iteration and examine the final output structures from multiple runs. How is the convergence and performance affected? Why?\n",
        "\n",
        "\n",
        "### Thought Questions\n",
        "\n",
        "- **[Introductory]** What are the limitations of these types of folding algorithms?\n",
        "\n",
        "\n",
        "- **[Advanced]** How might you design an intermediate-resolution representation of side chains that has more detail than the centroid approach yet is faster than the full-atom approach? Which types of residues would most benefit from this type of representation?"
      ]
    },
    {
      "cell_type": "code",
      "metadata": {
        "id": "RdmpGi_eETwU"
      },
      "source": [
        ""
      ],
      "execution_count": null,
      "outputs": []
    }
  ]
}