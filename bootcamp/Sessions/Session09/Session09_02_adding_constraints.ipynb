{
  "nbformat": 4,
  "nbformat_minor": 0,
  "metadata": {
    "kernelspec": {
      "display_name": "Python 3",
      "language": "python",
      "name": "python3"
    },
    "language_info": {
      "codemirror_mode": {
        "name": "ipython",
        "version": 3
      },
      "file_extension": ".py",
      "mimetype": "text/x-python",
      "name": "python",
      "nbconvert_exporter": "python",
      "pygments_lexer": "ipython3",
      "version": "3.7.7"
    },
    "colab": {
      "name": "Session09.02_adding_constraints.ipynb",
      "provenance": []
    }
  },
  "cells": [
    {
      "cell_type": "markdown",
      "metadata": {
        "id": "8DfNXLznU2PW"
      },
      "source": [
        "Before you turn this problem in, make sure everything runs as expected. First, **restart the kernel** (in the menubar, select Kernel$\\rightarrow$Restart) and then **run all cells** (in the menubar, select Cell$\\rightarrow$Run All).\n",
        "\n",
        "Make sure you fill in any place that says `YOUR CODE HERE` or \"YOUR ANSWER HERE\", as well as your name and collaborators below:"
      ]
    },
    {
      "cell_type": "code",
      "metadata": {
        "id": "c25unXDSU2PZ"
      },
      "source": [
        "NAME = \"Damir\"\n",
        "COLLABORATORS = \"\""
      ],
      "execution_count": null,
      "outputs": []
    },
    {
      "cell_type": "markdown",
      "metadata": {
        "id": "R-A7ILIKU2Pa"
      },
      "source": [
        "---"
      ]
    },
    {
      "cell_type": "markdown",
      "metadata": {
        "id": "V3A7QpQmU2Pa"
      },
      "source": [
        "# Adding constraints derived from a structure"
      ]
    },
    {
      "cell_type": "markdown",
      "metadata": {
        "id": "L4zPN5u3U2Pa"
      },
      "source": [
        "Before beginning, please copy the files out of the Session09 directory and into the `pyrbc_202103_notebooks/inputs` directory. Ignore this step if you ran the `adding_existing_constraints` notebook first and you've already copied these files over."
      ]
    },
    {
      "cell_type": "code",
      "metadata": {
        "colab": {
          "base_uri": "https://localhost:8080/"
        },
        "id": "kMeA2rm6U2Pb",
        "outputId": "3478ba65-978b-440b-becf-140a287ab01a"
      },
      "source": [
        "# You have to rerun this cell each time you start a new notebook or do a \"factory reset\".\n",
        "import sys\n",
        "if 'google.colab' in sys.modules:\n",
        "    !pip install pyrosettacolabsetup\n",
        "    import pyrosettacolabsetup\n",
        "    pyrosettacolabsetup.mount_pyrosetta_install() #Instead of pyrosettacolabsetup.setup\n",
        "    print (\"Notebook is set for PyRosetta use in Colab.  Have fun!\")"
      ],
      "execution_count": null,
      "outputs": [
        {
          "output_type": "stream",
          "text": [
            "Requirement already satisfied: pyrosettacolabsetup in /usr/local/lib/python3.7/dist-packages (0.6)\n",
            "Drive already mounted at /content/google_drive; to attempt to forcibly remount, call drive.mount(\"/content/google_drive\", force_remount=True).\n",
            "Notebook is set for PyRosetta use in Colab.  Have fun!\n"
          ],
          "name": "stdout"
        }
      ]
    },
    {
      "cell_type": "markdown",
      "metadata": {
        "id": "CNik7VBPU2Pb"
      },
      "source": [
        "Now cd into the correct directory"
      ]
    },
    {
      "cell_type": "code",
      "metadata": {
        "colab": {
          "base_uri": "https://localhost:8080/"
        },
        "id": "P5uDcZpJU2Pc",
        "outputId": "d8f87d5c-1cca-43e9-eca8-32d04ed57fed"
      },
      "source": [
        "%cd google_drive/MyDrive/temp_pyrbc_202103_notebooks"
      ],
      "execution_count": null,
      "outputs": [
        {
          "output_type": "stream",
          "text": [
            "/content/google_drive/MyDrive/temp_pyrbc_202103_notebooks\n"
          ],
          "name": "stdout"
        }
      ]
    },
    {
      "cell_type": "markdown",
      "metadata": {
        "id": "20HMFzW6U2Pc"
      },
      "source": [
        "We initialize PyRosetta without any command line options."
      ]
    },
    {
      "cell_type": "code",
      "metadata": {
        "colab": {
          "base_uri": "https://localhost:8080/"
        },
        "id": "wan4Y8rVU2Pc",
        "outputId": "427e1e98-da31-4578-c6b9-7b3b706dfa78"
      },
      "source": [
        "from pyrosetta import *\n",
        "init()"
      ],
      "execution_count": null,
      "outputs": [
        {
          "output_type": "stream",
          "text": [
            "PyRosetta-4 2021 [Rosetta PyRosetta4.MinSizeRel.python37.ubuntu 2021.21+release.882e5c1ab85c8c251fce4eb3e1e0504af590786a 2021-05-26T14:40:53] retrieved from: http://www.pyrosetta.org\n",
            "(C) Copyright Rosetta Commons Member Institutions. Created in JHU by Sergey Lyskov and PyRosetta Team.\n",
            "core.init: Checking for fconfig files in pwd and ./rosetta/flags\n",
            "core.init: Rosetta version: PyRosetta4.MinSizeRel.python37.ubuntu r284 2021.21+release.882e5c1ab85 882e5c1ab85c8c251fce4eb3e1e0504af590786a http://www.pyrosetta.org 2021-05-26T14:40:53\n",
            "core.init: command: PyRosetta -ex1 -ex2aro -database /content/google_drive/MyDrive/prefix/lib/python3.7/site-packages/pyrosetta/database\n",
            "basic.random.init_random_generator: 'RNG device' seed mode, using '/dev/urandom', seed=1746069396 seed_offset=0 real_seed=1746069396\n",
            "basic.random.init_random_generator: RandomGenerator:init: Normal mode, seed=1746069396 RG_type=mt19937\n"
          ],
          "name": "stdout"
        }
      ]
    },
    {
      "cell_type": "markdown",
      "metadata": {
        "id": "PXxLiOfgU2Pd"
      },
      "source": [
        "Initiliazing pose and score function."
      ]
    },
    {
      "cell_type": "code",
      "metadata": {
        "colab": {
          "base_uri": "https://localhost:8080/"
        },
        "id": "xWl4w86IU2Pd",
        "outputId": "b2c4cb7b-f8e5-4d5f-ebe7-d54ad7c95dfd"
      },
      "source": [
        "pose = pose_from_pdb(\"inputs/1ubq.pdb\")\n",
        "sfxn = get_fa_scorefxn()\n",
        "sfxn(pose)"
      ],
      "execution_count": null,
      "outputs": [
        {
          "output_type": "stream",
          "text": [
            "core.chemical.GlobalResidueTypeSet: Finished initializing fa_standard residue type set.  Created 984 residue types\n",
            "core.chemical.GlobalResidueTypeSet: Total time to initialize 1.72808 seconds.\n",
            "core.import_pose.import_pose: File 'inputs/1ubq.pdb' automatically determined to be of type PDB\n",
            "core.scoring.ScoreFunctionFactory: SCOREFUNCTION: ref2015\n",
            "core.scoring.etable: Starting energy table calculation\n",
            "core.scoring.etable: smooth_etable: changing atr/rep split to bottom of energy well\n",
            "core.scoring.etable: smooth_etable: spline smoothing lj etables (maxdis = 6)\n",
            "core.scoring.etable: smooth_etable: spline smoothing solvation etables (max_dis = 6)\n",
            "core.scoring.etable: Finished calculating energy tables.\n",
            "basic.io.database: Database file opened: scoring/score_functions/hbonds/ref2015_params/HBPoly1D.csv\n",
            "basic.io.database: Database file opened: scoring/score_functions/hbonds/ref2015_params/HBFadeIntervals.csv\n",
            "basic.io.database: Database file opened: scoring/score_functions/hbonds/ref2015_params/HBEval.csv\n",
            "basic.io.database: Database file opened: scoring/score_functions/hbonds/ref2015_params/DonStrength.csv\n",
            "basic.io.database: Database file opened: scoring/score_functions/hbonds/ref2015_params/AccStrength.csv\n",
            "basic.io.database: Database file opened: scoring/score_functions/rama/fd/all.ramaProb\n",
            "basic.io.database: Database file opened: scoring/score_functions/rama/fd/prepro.ramaProb\n",
            "basic.io.database: Database file opened: scoring/score_functions/omega/omega_ppdep.all.txt\n",
            "basic.io.database: Database file opened: scoring/score_functions/omega/omega_ppdep.gly.txt\n",
            "basic.io.database: Database file opened: scoring/score_functions/omega/omega_ppdep.pro.txt\n",
            "basic.io.database: Database file opened: scoring/score_functions/omega/omega_ppdep.valile.txt\n",
            "basic.io.database: Database file opened: scoring/score_functions/P_AA_pp/P_AA\n",
            "basic.io.database: Database file opened: scoring/score_functions/P_AA_pp/P_AA_n\n",
            "core.scoring.P_AA: shapovalov_lib::shap_p_aa_pp_smooth_level of 1( aka low_smooth ) got activated.\n",
            "basic.io.database: Database file opened: scoring/score_functions/P_AA_pp/shapovalov/10deg/kappa131/a20.prop\n",
            "basic.io.database: Database file opened: scoring/score_functions/elec_cp_reps.dat\n",
            "core.scoring.elec.util: Read 40 countpair representative atoms\n",
            "core.pack.dunbrack.RotamerLibrary: shapovalov_lib_fixes_enable option is true.\n",
            "core.pack.dunbrack.RotamerLibrary: shapovalov_lib::shap_dun10_smooth_level of 1( aka lowest_smooth ) got activated.\n",
            "core.pack.dunbrack.RotamerLibrary: Binary rotamer library selected: /content/google_drive/MyDrive/prefix/lib/python3.7/site-packages/pyrosetta/database/rotamer/shapovalov/StpDwn_0-0-0/Dunbrack10.lib.bin\n",
            "core.pack.dunbrack.RotamerLibrary: Using Dunbrack library binary file '/content/google_drive/MyDrive/prefix/lib/python3.7/site-packages/pyrosetta/database/rotamer/shapovalov/StpDwn_0-0-0/Dunbrack10.lib.bin'.\n",
            "core.pack.dunbrack.RotamerLibrary: Dunbrack 2010 library took 0.292546 seconds to load from binary\n"
          ],
          "name": "stdout"
        },
        {
          "output_type": "execute_result",
          "data": {
            "text/plain": [
              "32.67775371933962"
            ]
          },
          "metadata": {
            "tags": []
          },
          "execution_count": 5
        }
      ]
    },
    {
      "cell_type": "markdown",
      "metadata": {
        "id": "6tAIzjolU2Pe"
      },
      "source": [
        "Let's prime the score function with a constraint score term. Let's also print out the score before we've added any constraints to the pose so we can refer back to it later."
      ]
    },
    {
      "cell_type": "code",
      "metadata": {
        "colab": {
          "base_uri": "https://localhost:8080/"
        },
        "id": "C_5cdC_wU2Pe",
        "outputId": "c8bbbd19-232c-4829-8f26-d6c3cb5b0039"
      },
      "source": [
        "from pyrosetta.rosetta.core.scoring import *\n",
        "sfxn.set_weight(atom_pair_constraint, 1.0)\n",
        "sfxn.show(pose)"
      ],
      "execution_count": null,
      "outputs": [
        {
          "output_type": "stream",
          "text": [
            "core.scoring.ScoreFunction: \n",
            "------------------------------------------------------------\n",
            " Scores                       Weight   Raw Score Wghtd.Score\n",
            "------------------------------------------------------------\n",
            " fa_atr                       1.000    -397.647    -397.647\n",
            " fa_rep                       0.550     103.707      57.039\n",
            " fa_sol                       1.000     242.952     242.952\n",
            " fa_intra_rep                 0.005     355.469       1.777\n",
            " fa_intra_sol_xover4          1.000      16.826      16.826\n",
            " lk_ball_wtd                  1.000      -8.756      -8.756\n",
            " fa_elec                      1.000    -113.091    -113.091\n",
            " pro_close                    1.250       1.906       2.383\n",
            " hbond_sr_bb                  1.000     -18.828     -18.828\n",
            " hbond_lr_bb                  1.000     -23.132     -23.132\n",
            " hbond_bb_sc                  1.000      -7.389      -7.389\n",
            " hbond_sc                     1.000      -1.549      -1.549\n",
            " dslf_fa13                    1.250       0.000       0.000\n",
            " atom_pair_constraint         1.000       0.000       0.000\n",
            " omega                        0.400       4.284       1.713\n",
            " fa_dun                       0.700     412.284     288.599\n",
            " p_aa_pp                      0.600     -21.346     -12.808\n",
            " yhh_planarity                0.625       0.000       0.000\n",
            " ref                          1.000      11.884      11.884\n",
            " rama_prepro                  0.450     -16.216      -7.297\n",
            "---------------------------------------------------\n",
            " Total weighted score:                       32.678\n"
          ],
          "name": "stdout"
        }
      ]
    },
    {
      "cell_type": "markdown",
      "metadata": {
        "id": "0vWy4wT8U2Pe"
      },
      "source": [
        "To define where the constraints need to be applied, we will need to use residue selectors. Let's use a `LayerSelector` to select the surface residues."
      ]
    },
    {
      "cell_type": "code",
      "metadata": {
        "colab": {
          "base_uri": "https://localhost:8080/"
        },
        "id": "wiiuRPwvU2Pe",
        "outputId": "8e8477e7-32f8-4b08-d8e9-40f4a3ea70b2"
      },
      "source": [
        "from pyrosetta.rosetta.core.select.residue_selector import *\n",
        "surface_res = LayerSelector()\n",
        "surface_res.set_layers(False, False, True) # use \"?\" to look at this function arguments"
      ],
      "execution_count": null,
      "outputs": [
        {
          "output_type": "stream",
          "text": [
            "core.select.residue_selector.LayerSelector: Setting LayerSelector to use sidechain neighbors to determine burial.\n",
            "core.select.residue_selector.LayerSelector: Set cutoffs for core and surface to 5.2 and 2, respectively, in LayerSelector.\n",
            "core.select.residue_selector.LayerSelector: Setting core=false boundary=false surface=true in LayerSelector.\n"
          ],
          "name": "stdout"
        }
      ]
    },
    {
      "cell_type": "markdown",
      "metadata": {
        "id": "O5Z_EiQDU2Pf"
      },
      "source": [
        "To check which residues are selected on the pose, we can apply it. `1` means that the residue has been selected (and is a surface residue), `0` means that it has not."
      ]
    },
    {
      "cell_type": "code",
      "metadata": {
        "colab": {
          "base_uri": "https://localhost:8080/"
        },
        "id": "PBQSRgflU2Pf",
        "outputId": "f76163b8-1970-47a3-f22b-68d25def6da2"
      },
      "source": [
        "surface_res.apply(pose)"
      ],
      "execution_count": null,
      "outputs": [
        {
          "output_type": "execute_result",
          "data": {
            "text/plain": [
              "vector1_bool[0, 1, 0, 1, 0, 1, 1, 1, 1, 1, 1, 1, 0, 1, 0, 1, 0, 1, 1, 1, 0, 1, 0, 1, 0, 0, 0, 1, 0, 0, 1, 1, 0, 0, 1, 0, 1, 0, 1, 1, 0, 1, 0, 1, 0, 1, 1, 1, 1, 0, 1, 1, 1, 0, 1, 0, 1, 0, 0, 1, 0, 1, 1, 1, 0, 1, 0, 1, 0, 1, 1, 1, 1, 1, 1, 1]"
            ]
          },
          "metadata": {
            "tags": []
          },
          "execution_count": 10
        }
      ]
    },
    {
      "cell_type": "markdown",
      "metadata": {
        "id": "nH46U3Q0U2Pf"
      },
      "source": [
        "Now let's create atom pair constraints. For this, we use `AtomPairConstraintGenerator`. **By default, it uses the Sum Of Gaussians function to score the distances between atoms.** The \"sum\" part is not really used, because there is just one gaussian. This gaussian turns a distance into a probability, `prob`, and the energy is taken as the `-ln(prob)`.   We will pass the residue selector to the generator, set the maximum distance at under which it will create atom pair constraints (5.0 Ang), the standard deviation of the gaussians, and set the constraints to only be generated between pairs of C-alpha atoms."
      ]
    },
    {
      "cell_type": "code",
      "metadata": {
        "id": "A0XSwtFIU2Pf"
      },
      "source": [
        "from pyrosetta.rosetta.protocols.constraint_generator import *\n",
        "apcg = AtomPairConstraintGenerator()\n",
        "apcg.set_residue_selector(surface_res)\n",
        "apcg.set_max_distance(5.0)\n",
        "apcg.set_sd(1.0)\n",
        "apcg.set_ca_only(True)"
      ],
      "execution_count": null,
      "outputs": []
    },
    {
      "cell_type": "markdown",
      "metadata": {
        "id": "JUV4KBxkU2Pf"
      },
      "source": [
        "While we could directly apply the `AtomPairConstraintGenerator` to the pose, the recommended method is to add it to an `AddConstraints` object. Multiple constraint generators can be added to this. We then apply all the constraints."
      ]
    },
    {
      "cell_type": "code",
      "metadata": {
        "colab": {
          "base_uri": "https://localhost:8080/"
        },
        "id": "MwrhYSXRU2Pg",
        "outputId": "617860da-a7e3-4e56-8218-8197c7af8755"
      },
      "source": [
        "add_csts = AddConstraints()\n",
        "add_csts.add_generator(apcg)\n",
        "add_csts.apply(pose)"
      ],
      "execution_count": null,
      "outputs": [
        {
          "output_type": "stream",
          "text": [
            "protocols.constraint_generator.AddConstraints: Adding 9 constraints generated by ConstraintGenerator named unnamed_constraint_generator\n"
          ],
          "name": "stdout"
        }
      ]
    },
    {
      "cell_type": "markdown",
      "metadata": {
        "id": "vYil_11XU2Pg"
      },
      "source": [
        "Let's check if the constraints were applied."
      ]
    },
    {
      "cell_type": "code",
      "metadata": {
        "colab": {
          "base_uri": "https://localhost:8080/"
        },
        "id": "ozbMAJZsU2Pg",
        "outputId": "3ced47bd-a6cd-4506-82eb-68c7ee8495d7"
      },
      "source": [
        "sfxn.show(pose)"
      ],
      "execution_count": null,
      "outputs": [
        {
          "output_type": "stream",
          "text": [
            "core.scoring.ScoreFunction: \n",
            "------------------------------------------------------------\n",
            " Scores                       Weight   Raw Score Wghtd.Score\n",
            "------------------------------------------------------------\n",
            " fa_atr                       1.000    -397.647    -397.647\n",
            " fa_rep                       0.550     103.707      57.039\n",
            " fa_sol                       1.000     242.952     242.952\n",
            " fa_intra_rep                 0.005     355.469       1.777\n",
            " fa_intra_sol_xover4          1.000      16.826      16.826\n",
            " lk_ball_wtd                  1.000      -8.756      -8.756\n",
            " fa_elec                      1.000    -113.091    -113.091\n",
            " pro_close                    1.250       1.906       2.383\n",
            " hbond_sr_bb                  1.000     -18.828     -18.828\n",
            " hbond_lr_bb                  1.000     -23.132     -23.132\n",
            " hbond_bb_sc                  1.000      -7.389      -7.389\n",
            " hbond_sc                     1.000      -1.549      -1.549\n",
            " dslf_fa13                    1.250       0.000       0.000\n",
            " atom_pair_constraint         1.000    -129.503    -129.503\n",
            " omega                        0.400       4.284       1.713\n",
            " fa_dun                       0.700     412.284     288.599\n",
            " p_aa_pp                      0.600     -21.346     -12.808\n",
            " yhh_planarity                0.625       0.000       0.000\n",
            " ref                          1.000      11.884      11.884\n",
            " rama_prepro                  0.450     -16.216      -7.297\n",
            "---------------------------------------------------\n",
            " Total weighted score:                      -96.825\n"
          ],
          "name": "stdout"
        }
      ]
    },
    {
      "cell_type": "markdown",
      "metadata": {
        "id": "BfRmyzD8U2Pg"
      },
      "source": [
        "The sum of gaussians function acts more like a reward. A large neagtive number indicates that all 9 constraints were satisfied. What happens when we disrupt some surface interactions in a perturbed structure?"
      ]
    },
    {
      "cell_type": "code",
      "metadata": {
        "id": "U3jxyJRHU2Ph"
      },
      "source": [
        "pose_perturbed = pose.clone()  # copy the conformation and the constraints\n",
        "pose_perturbed.set_phi(25, -130)\n",
        "pose_perturbed.set_psi(25,  145)"
      ],
      "execution_count": null,
      "outputs": []
    },
    {
      "cell_type": "code",
      "metadata": {
        "colab": {
          "base_uri": "https://localhost:8080/"
        },
        "id": "5TeJemKMU2Ph",
        "outputId": "43269d63-e648-4067-afc8-56579d6b6069"
      },
      "source": [
        "sfxn.show(pose_perturbed)"
      ],
      "execution_count": null,
      "outputs": [
        {
          "output_type": "stream",
          "text": [
            "core.scoring.ScoreFunction: \n",
            "------------------------------------------------------------\n",
            " Scores                       Weight   Raw Score Wghtd.Score\n",
            "------------------------------------------------------------\n",
            " fa_atr                       1.000    -575.051    -575.051\n",
            " fa_rep                       0.550   55367.773   30452.275\n",
            " fa_sol                       1.000     413.031     413.031\n",
            " fa_intra_rep                 0.005     355.301       1.777\n",
            " fa_intra_sol_xover4          1.000      16.485      16.485\n",
            " lk_ball_wtd                  1.000     -16.198     -16.198\n",
            " fa_elec                      1.000     -84.545     -84.545\n",
            " pro_close                    1.250       1.906       2.383\n",
            " hbond_sr_bb                  1.000     -15.276     -15.276\n",
            " hbond_lr_bb                  1.000     -13.621     -13.621\n",
            " hbond_bb_sc                  1.000      -7.087      -7.087\n",
            " hbond_sc                     1.000      -2.165      -2.165\n",
            " dslf_fa13                    1.250       0.000       0.000\n",
            " atom_pair_constraint         1.000     -63.617     -63.617\n",
            " omega                        0.400       4.164       1.665\n",
            " fa_dun                       0.700     413.041     289.129\n",
            " p_aa_pp                      0.600     -21.221     -12.733\n",
            " yhh_planarity                0.625       0.000       0.000\n",
            " ref                          1.000      11.884      11.884\n",
            " rama_prepro                  0.450     -15.873      -7.143\n",
            "---------------------------------------------------\n",
            " Total weighted score:                    30391.195\n"
          ],
          "name": "stdout"
        }
      ]
    },
    {
      "cell_type": "markdown",
      "metadata": {
        "id": "18xc3CR5U2Ph"
      },
      "source": [
        "The reward is much smaller owing to the perturbation of the pose."
      ]
    },
    {
      "cell_type": "code",
      "metadata": {
        "id": "TX_kxL6AU2Ph"
      },
      "source": [
        ""
      ],
      "execution_count": null,
      "outputs": []
    }
  ]
}