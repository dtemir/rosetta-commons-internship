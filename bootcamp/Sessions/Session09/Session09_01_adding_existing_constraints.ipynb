{
  "nbformat": 4,
  "nbformat_minor": 0,
  "metadata": {
    "kernelspec": {
      "display_name": "Python 3",
      "language": "python",
      "name": "python3"
    },
    "language_info": {
      "codemirror_mode": {
        "name": "ipython",
        "version": 3
      },
      "file_extension": ".py",
      "mimetype": "text/x-python",
      "name": "python",
      "nbconvert_exporter": "python",
      "pygments_lexer": "ipython3",
      "version": "3.7.7"
    },
    "colab": {
      "name": "Session09.01_adding_existing_constraints.ipynb",
      "provenance": []
    }
  },
  "cells": [
    {
      "cell_type": "markdown",
      "metadata": {
        "id": "wFG8fdL4RIvG"
      },
      "source": [
        "Before you turn this problem in, make sure everything runs as expected. First, **restart the kernel** (in the menubar, select Kernel$\\rightarrow$Restart) and then **run all cells** (in the menubar, select Cell$\\rightarrow$Run All).\n",
        "\n",
        "Make sure you fill in any place that says `YOUR CODE HERE` or \"YOUR ANSWER HERE\", as well as your name and collaborators below:"
      ]
    },
    {
      "cell_type": "code",
      "metadata": {
        "id": "C-CjB3usRIvK"
      },
      "source": [
        "NAME = \"Damir\"\n",
        "COLLABORATORS = \"\""
      ],
      "execution_count": null,
      "outputs": []
    },
    {
      "cell_type": "markdown",
      "metadata": {
        "id": "ZFCz-GvmRIvL"
      },
      "source": [
        "---"
      ]
    },
    {
      "cell_type": "markdown",
      "metadata": {
        "id": "E6jWrrozRIvM"
      },
      "source": [
        "# Adding existing constraints"
      ]
    },
    {
      "cell_type": "markdown",
      "metadata": {
        "id": "wvKybyTnRIvM"
      },
      "source": [
        "Before beginning, please copy the files out of the Session09 directory and into the `pyrbc_202103_notebooks/inputs` directory. Ignore this step if you ran the `adding_constraints` notebook first and you've already copied these files over."
      ]
    },
    {
      "cell_type": "code",
      "metadata": {
        "colab": {
          "base_uri": "https://localhost:8080/"
        },
        "id": "PpFuqrgbRIvM",
        "outputId": "b1ee67e5-cb82-4ac7-a1ef-6c6c53300dbf"
      },
      "source": [
        "# You have to rerun this cell each time you start a new notebook or do a \"factory reset\".\n",
        "import sys\n",
        "if 'google.colab' in sys.modules:\n",
        "    !pip install pyrosettacolabsetup\n",
        "    import pyrosettacolabsetup\n",
        "    pyrosettacolabsetup.mount_pyrosetta_install() #Instead of pyrosettacolabsetup.setup\n",
        "    print (\"Notebook is set for PyRosetta use in Colab.  Have fun!\")"
      ],
      "execution_count": null,
      "outputs": [
        {
          "output_type": "stream",
          "text": [
            "Requirement already satisfied: pyrosettacolabsetup in /usr/local/lib/python3.7/dist-packages (0.6)\n",
            "Drive already mounted at /content/google_drive; to attempt to forcibly remount, call drive.mount(\"/content/google_drive\", force_remount=True).\n",
            "Notebook is set for PyRosetta use in Colab.  Have fun!\n"
          ],
          "name": "stdout"
        }
      ]
    },
    {
      "cell_type": "markdown",
      "metadata": {
        "id": "Lwsa2RJzRIvN"
      },
      "source": [
        "Now cd into the correct directory"
      ]
    },
    {
      "cell_type": "code",
      "metadata": {
        "colab": {
          "base_uri": "https://localhost:8080/"
        },
        "id": "68Pq-422RIvO",
        "outputId": "38e262c9-f749-4f4f-9ed1-1c6d15a85b14"
      },
      "source": [
        "%cd google_drive/MyDrive/temp_pyrbc_202103_notebooks"
      ],
      "execution_count": null,
      "outputs": [
        {
          "output_type": "stream",
          "text": [
            "/content/google_drive/MyDrive/temp_pyrbc_202103_notebooks\n"
          ],
          "name": "stdout"
        }
      ]
    },
    {
      "cell_type": "markdown",
      "metadata": {
        "id": "vJfY2tGSRIvP"
      },
      "source": [
        "We can pass the constraints file as a command line argument."
      ]
    },
    {
      "cell_type": "code",
      "metadata": {
        "colab": {
          "base_uri": "https://localhost:8080/"
        },
        "id": "cr2BEmVxRIvP",
        "outputId": "59cc09a5-6253-47e4-83a0-8beb8929cbad"
      },
      "source": [
        "from pyrosetta import *\n",
        "init(\"-constraints:cst_fa_file inputs/h_bonds.cst\")"
      ],
      "execution_count": null,
      "outputs": [
        {
          "output_type": "stream",
          "text": [
            "PyRosetta-4 2021 [Rosetta PyRosetta4.MinSizeRel.python37.ubuntu 2021.21+release.882e5c1ab85c8c251fce4eb3e1e0504af590786a 2021-05-26T14:40:53] retrieved from: http://www.pyrosetta.org\n",
            "(C) Copyright Rosetta Commons Member Institutions. Created in JHU by Sergey Lyskov and PyRosetta Team.\n",
            "core.init: Checking for fconfig files in pwd and ./rosetta/flags\n",
            "core.init: Rosetta version: PyRosetta4.MinSizeRel.python37.ubuntu r284 2021.21+release.882e5c1ab85 882e5c1ab85c8c251fce4eb3e1e0504af590786a http://www.pyrosetta.org 2021-05-26T14:40:53\n",
            "core.init: command: PyRosetta -constraints:cst_fa_file inputs/h_bonds.cst -database /content/google_drive/MyDrive/prefix/lib/python3.7/site-packages/pyrosetta/database\n",
            "basic.random.init_random_generator: 'RNG device' seed mode, using '/dev/urandom', seed=502453676 seed_offset=0 real_seed=502453676\n",
            "basic.random.init_random_generator: RandomGenerator:init: Normal mode, seed=502453676 RG_type=mt19937\n"
          ],
          "name": "stdout"
        }
      ]
    },
    {
      "cell_type": "markdown",
      "metadata": {
        "id": "2eKRZAUTRIvQ"
      },
      "source": [
        "First, define the score function."
      ]
    },
    {
      "cell_type": "code",
      "metadata": {
        "colab": {
          "base_uri": "https://localhost:8080/"
        },
        "id": "akFnIQNBRIvQ",
        "outputId": "ed8cc649-c5fa-4e68-ed04-a74f7971c39f"
      },
      "source": [
        "sfxn = get_fa_scorefxn()"
      ],
      "execution_count": null,
      "outputs": [
        {
          "output_type": "stream",
          "text": [
            "core.scoring.ScoreFunctionFactory: SCOREFUNCTION: ref2015\n",
            "core.scoring.etable: Starting energy table calculation\n",
            "core.scoring.etable: smooth_etable: changing atr/rep split to bottom of energy well\n",
            "core.scoring.etable: smooth_etable: spline smoothing lj etables (maxdis = 6)\n",
            "core.scoring.etable: smooth_etable: spline smoothing solvation etables (max_dis = 6)\n",
            "core.scoring.etable: Finished calculating energy tables.\n",
            "basic.io.database: Database file opened: scoring/score_functions/hbonds/ref2015_params/HBPoly1D.csv\n",
            "basic.io.database: Database file opened: scoring/score_functions/hbonds/ref2015_params/HBFadeIntervals.csv\n",
            "basic.io.database: Database file opened: scoring/score_functions/hbonds/ref2015_params/HBEval.csv\n",
            "basic.io.database: Database file opened: scoring/score_functions/hbonds/ref2015_params/DonStrength.csv\n",
            "basic.io.database: Database file opened: scoring/score_functions/hbonds/ref2015_params/AccStrength.csv\n",
            "core.chemical.GlobalResidueTypeSet: Finished initializing fa_standard residue type set.  Created 984 residue types\n",
            "core.chemical.GlobalResidueTypeSet: Total time to initialize 3.64766 seconds.\n",
            "basic.io.database: Database file opened: scoring/score_functions/rama/fd/all.ramaProb\n",
            "basic.io.database: Database file opened: scoring/score_functions/rama/fd/prepro.ramaProb\n",
            "basic.io.database: Database file opened: scoring/score_functions/omega/omega_ppdep.all.txt\n",
            "basic.io.database: Database file opened: scoring/score_functions/omega/omega_ppdep.gly.txt\n",
            "basic.io.database: Database file opened: scoring/score_functions/omega/omega_ppdep.pro.txt\n",
            "basic.io.database: Database file opened: scoring/score_functions/omega/omega_ppdep.valile.txt\n",
            "basic.io.database: Database file opened: scoring/score_functions/P_AA_pp/P_AA\n",
            "basic.io.database: Database file opened: scoring/score_functions/P_AA_pp/P_AA_n\n",
            "core.scoring.P_AA: shapovalov_lib::shap_p_aa_pp_smooth_level of 1( aka low_smooth ) got activated.\n",
            "basic.io.database: Database file opened: scoring/score_functions/P_AA_pp/shapovalov/10deg/kappa131/a20.prop\n"
          ],
          "name": "stdout"
        }
      ]
    },
    {
      "cell_type": "markdown",
      "metadata": {
        "id": "BP6IOFuuRIvR"
      },
      "source": [
        "Let's see the effects of constraints on the scoring of ubiquitin."
      ]
    },
    {
      "cell_type": "code",
      "metadata": {
        "colab": {
          "base_uri": "https://localhost:8080/"
        },
        "id": "8a_f_tK7RIvR",
        "outputId": "6c21d582-f579-4944-a2d7-cda72e5b6a42"
      },
      "source": [
        "pose = pose_from_pdb(\"inputs/1ubq.pdb\")\n",
        "sfxn(pose)"
      ],
      "execution_count": null,
      "outputs": [
        {
          "output_type": "stream",
          "text": [
            "core.import_pose.import_pose: File 'inputs/1ubq.pdb' automatically determined to be of type PDB\n",
            "basic.io.database: Database file opened: scoring/score_functions/elec_cp_reps.dat\n",
            "core.scoring.elec.util: Read 40 countpair representative atoms\n",
            "core.pack.dunbrack.RotamerLibrary: shapovalov_lib_fixes_enable option is true.\n",
            "core.pack.dunbrack.RotamerLibrary: shapovalov_lib::shap_dun10_smooth_level of 1( aka lowest_smooth ) got activated.\n",
            "core.pack.dunbrack.RotamerLibrary: Binary rotamer library selected: /content/google_drive/MyDrive/prefix/lib/python3.7/site-packages/pyrosetta/database/rotamer/shapovalov/StpDwn_0-0-0/Dunbrack10.lib.bin\n",
            "core.pack.dunbrack.RotamerLibrary: Using Dunbrack library binary file '/content/google_drive/MyDrive/prefix/lib/python3.7/site-packages/pyrosetta/database/rotamer/shapovalov/StpDwn_0-0-0/Dunbrack10.lib.bin'.\n",
            "core.pack.dunbrack.RotamerLibrary: Dunbrack 2010 library took 0.325622 seconds to load from binary\n"
          ],
          "name": "stdout"
        },
        {
          "output_type": "execute_result",
          "data": {
            "text/plain": [
              "32.67775371933962"
            ]
          },
          "metadata": {
            "tags": []
          },
          "execution_count": 8
        }
      ]
    },
    {
      "cell_type": "markdown",
      "metadata": {
        "id": "0x7dYa3jRIvR"
      },
      "source": [
        "Let's look at the individual terms."
      ]
    },
    {
      "cell_type": "code",
      "metadata": {
        "colab": {
          "base_uri": "https://localhost:8080/"
        },
        "id": "LMPl_NVvRIvR",
        "outputId": "266138d0-12db-4bed-b89c-d1d33fc02ca1"
      },
      "source": [
        "sfxn.show(pose)"
      ],
      "execution_count": null,
      "outputs": [
        {
          "output_type": "stream",
          "text": [
            "core.scoring.ScoreFunction: \n",
            "------------------------------------------------------------\n",
            " Scores                       Weight   Raw Score Wghtd.Score\n",
            "------------------------------------------------------------\n",
            " fa_atr                       1.000    -397.647    -397.647\n",
            " fa_rep                       0.550     103.707      57.039\n",
            " fa_sol                       1.000     242.952     242.952\n",
            " fa_intra_rep                 0.005     355.469       1.777\n",
            " fa_intra_sol_xover4          1.000      16.826      16.826\n",
            " lk_ball_wtd                  1.000      -8.756      -8.756\n",
            " fa_elec                      1.000    -113.091    -113.091\n",
            " pro_close                    1.250       1.906       2.383\n",
            " hbond_sr_bb                  1.000     -18.828     -18.828\n",
            " hbond_lr_bb                  1.000     -23.132     -23.132\n",
            " hbond_bb_sc                  1.000      -7.389      -7.389\n",
            " hbond_sc                     1.000      -1.549      -1.549\n",
            " dslf_fa13                    1.250       0.000       0.000\n",
            " omega                        0.400       4.284       1.713\n",
            " fa_dun                       0.700     412.284     288.599\n",
            " p_aa_pp                      0.600     -21.346     -12.808\n",
            " yhh_planarity                0.625       0.000       0.000\n",
            " ref                          1.000      11.884      11.884\n",
            " rama_prepro                  0.450     -16.216      -7.297\n",
            "---------------------------------------------------\n",
            " Total weighted score:                       32.678\n"
          ],
          "name": "stdout"
        }
      ]
    },
    {
      "cell_type": "markdown",
      "metadata": {
        "id": "ltI9vWC5RIvR"
      },
      "source": [
        "Let's prime the score function with a constraint score term."
      ]
    },
    {
      "cell_type": "code",
      "metadata": {
        "id": "-CNoqkmwRIvS"
      },
      "source": [
        "from pyrosetta.rosetta.core.scoring import *\n",
        "sfxn.set_weight(atom_pair_constraint, 1.0)"
      ],
      "execution_count": null,
      "outputs": []
    },
    {
      "cell_type": "markdown",
      "metadata": {
        "id": "-GT9fUVeRIvS"
      },
      "source": [
        "We see the new term added to the score function."
      ]
    },
    {
      "cell_type": "code",
      "metadata": {
        "colab": {
          "base_uri": "https://localhost:8080/"
        },
        "id": "qw-3V0kQRIvS",
        "outputId": "25781de7-645b-46d8-9ef4-3b99b5b61e7c"
      },
      "source": [
        "sfxn(pose)\n",
        "sfxn.show(pose)"
      ],
      "execution_count": null,
      "outputs": [
        {
          "output_type": "stream",
          "text": [
            "core.scoring.ScoreFunction: \n",
            "------------------------------------------------------------\n",
            " Scores                       Weight   Raw Score Wghtd.Score\n",
            "------------------------------------------------------------\n",
            " fa_atr                       1.000    -397.647    -397.647\n",
            " fa_rep                       0.550     103.707      57.039\n",
            " fa_sol                       1.000     242.952     242.952\n",
            " fa_intra_rep                 0.005     355.469       1.777\n",
            " fa_intra_sol_xover4          1.000      16.826      16.826\n",
            " lk_ball_wtd                  1.000      -8.756      -8.756\n",
            " fa_elec                      1.000    -113.091    -113.091\n",
            " pro_close                    1.250       1.906       2.383\n",
            " hbond_sr_bb                  1.000     -18.828     -18.828\n",
            " hbond_lr_bb                  1.000     -23.132     -23.132\n",
            " hbond_bb_sc                  1.000      -7.389      -7.389\n",
            " hbond_sc                     1.000      -1.549      -1.549\n",
            " dslf_fa13                    1.250       0.000       0.000\n",
            " atom_pair_constraint         1.000       0.000       0.000\n",
            " omega                        0.400       4.284       1.713\n",
            " fa_dun                       0.700     412.284     288.599\n",
            " p_aa_pp                      0.600     -21.346     -12.808\n",
            " yhh_planarity                0.625       0.000       0.000\n",
            " ref                          1.000      11.884      11.884\n",
            " rama_prepro                  0.450     -16.216      -7.297\n",
            "---------------------------------------------------\n",
            " Total weighted score:                       32.678\n"
          ],
          "name": "stdout"
        }
      ]
    },
    {
      "cell_type": "markdown",
      "metadata": {
        "id": "Le_rS2SdRIvT"
      },
      "source": [
        "But the score of this term is `0.000`. That's because the script doesn't know that it needs to associate the constraint file with this pose. To add the command line constraints to the score function and pose, use:"
      ]
    },
    {
      "cell_type": "code",
      "metadata": {
        "colab": {
          "base_uri": "https://localhost:8080/"
        },
        "id": "S7v9-bFIRIvT",
        "outputId": "4e4ac9e2-1b72-430f-a212-c74956e0ea0c"
      },
      "source": [
        "from pyrosetta.rosetta.core.scoring.constraints import *\n",
        "add_fa_constraints_from_cmdline(pose, sfxn)"
      ],
      "execution_count": null,
      "outputs": [
        {
          "output_type": "stream",
          "text": [
            "core.scoring.constraints.util: Constraint choice: inputs/h_bonds.cst\n",
            "core.scoring.constraints.ConstraintsIO: read constraints from inputs/h_bonds.cst\n",
            "core.scoring.constraints.ConstraintsIO: Read in 3 constraints\n"
          ],
          "name": "stdout"
        }
      ]
    },
    {
      "cell_type": "markdown",
      "metadata": {
        "id": "FDRkA3fXRIvT"
      },
      "source": [
        "Let's look at the score now. Is the constraint score still `0.000`?\n",
        "(Note to self: change constraint file and run again.)"
      ]
    },
    {
      "cell_type": "code",
      "metadata": {
        "colab": {
          "base_uri": "https://localhost:8080/"
        },
        "id": "fTR8I-esRIvT",
        "outputId": "1e176fbe-746c-4f93-fd77-c150f76211e9"
      },
      "source": [
        "sfxn.show(pose)"
      ],
      "execution_count": null,
      "outputs": [
        {
          "output_type": "stream",
          "text": [
            "core.scoring.ScoreFunction: \n",
            "------------------------------------------------------------\n",
            " Scores                       Weight   Raw Score Wghtd.Score\n",
            "------------------------------------------------------------\n",
            " fa_atr                       1.000    -397.647    -397.647\n",
            " fa_rep                       0.550     103.707      57.039\n",
            " fa_sol                       1.000     242.952     242.952\n",
            " fa_intra_rep                 0.005     355.469       1.777\n",
            " fa_intra_sol_xover4          1.000      16.826      16.826\n",
            " lk_ball_wtd                  1.000      -8.756      -8.756\n",
            " fa_elec                      1.000    -113.091    -113.091\n",
            " pro_close                    1.250       1.906       2.383\n",
            " hbond_sr_bb                  1.000     -18.828     -18.828\n",
            " hbond_lr_bb                  1.000     -23.132     -23.132\n",
            " hbond_bb_sc                  1.000      -7.389      -7.389\n",
            " hbond_sc                     1.000      -1.549      -1.549\n",
            " dslf_fa13                    1.250       0.000       0.000\n",
            " atom_pair_constraint         1.000       0.000       0.000\n",
            " omega                        0.400       4.284       1.713\n",
            " fa_dun                       0.700     412.284     288.599\n",
            " p_aa_pp                      0.600     -21.346     -12.808\n",
            " yhh_planarity                0.625       0.000       0.000\n",
            " ref                          1.000      11.884      11.884\n",
            " rama_prepro                  0.450     -16.216      -7.297\n",
            "---------------------------------------------------\n",
            " Total weighted score:                       32.678\n"
          ],
          "name": "stdout"
        }
      ]
    },
    {
      "cell_type": "markdown",
      "metadata": {
        "id": "-xVSFFyvRIvT"
      },
      "source": [
        "What if we have a mover that completely disrupts the H-bonds?"
      ]
    },
    {
      "cell_type": "code",
      "metadata": {
        "colab": {
          "base_uri": "https://localhost:8080/"
        },
        "id": "jdXHKVXaRIvT",
        "outputId": "7aa2d9ff-a8fd-46d4-ce56-d8b3b84e1a57"
      },
      "source": [
        "pose_perturbed = pose_from_pdb(\"inputs/1ubq_perturbed.pdb\")"
      ],
      "execution_count": null,
      "outputs": [
        {
          "output_type": "stream",
          "text": [
            "core.import_pose.import_pose: File 'inputs/1ubq_perturbed.pdb' automatically determined to be of type PDB\n"
          ],
          "name": "stdout"
        }
      ]
    },
    {
      "cell_type": "markdown",
      "metadata": {
        "id": "2zeTyjDNRIvU"
      },
      "source": [
        "As the new perturbed pose doesn't yet know about the constraints, we need to add them to the pose."
      ]
    },
    {
      "cell_type": "code",
      "metadata": {
        "colab": {
          "base_uri": "https://localhost:8080/"
        },
        "id": "kxCkUKutRIvU",
        "outputId": "d265e28f-6bbf-412e-850a-32b2eb1cb0f0"
      },
      "source": [
        "add_fa_constraints_from_cmdline_to_pose(pose_perturbed)\n",
        "sfxn.show(pose_perturbed)"
      ],
      "execution_count": null,
      "outputs": [
        {
          "output_type": "stream",
          "text": [
            "core.scoring.constraints.util: Constraint choice: inputs/h_bonds.cst\n",
            "core.scoring.constraints.ConstraintsIO: read constraints from inputs/h_bonds.cst\n",
            "core.scoring.constraints.ConstraintsIO: Read in 3 constraints\n",
            "core.scoring.ScoreFunction: \n",
            "------------------------------------------------------------\n",
            " Scores                       Weight   Raw Score Wghtd.Score\n",
            "------------------------------------------------------------\n",
            " fa_atr                       1.000    -278.300    -278.300\n",
            " fa_rep                       0.550     103.026      56.665\n",
            " fa_sol                       1.000     192.801     192.801\n",
            " fa_intra_rep                 0.005     355.356       1.777\n",
            " fa_intra_sol_xover4          1.000      16.827      16.827\n",
            " lk_ball_wtd                  1.000     -10.735     -10.735\n",
            " fa_elec                      1.000     -60.225     -60.225\n",
            " pro_close                    1.250       1.906       2.383\n",
            " hbond_sr_bb                  1.000     -16.581     -16.581\n",
            " hbond_lr_bb                  1.000      -6.507      -6.507\n",
            " hbond_bb_sc                  1.000      -7.390      -7.390\n",
            " hbond_sc                     1.000      -0.389      -0.389\n",
            " dslf_fa13                    1.250       0.000       0.000\n",
            " atom_pair_constraint         1.000     251.524     251.524\n",
            " omega                        0.400       4.309       1.723\n",
            " fa_dun                       0.700     413.253     289.277\n",
            " p_aa_pp                      0.600     -19.763     -11.858\n",
            " yhh_planarity                0.625       0.000       0.000\n",
            " ref                          1.000      11.884      11.884\n",
            " rama_prepro                  0.450      25.377      11.419\n",
            "---------------------------------------------------\n",
            " Total weighted score:                      444.294\n"
          ],
          "name": "stdout"
        }
      ]
    },
    {
      "cell_type": "markdown",
      "metadata": {
        "id": "VYMOv_F_RIvU"
      },
      "source": [
        "Does this structure have major score penalties?"
      ]
    }
  ]
}