{
  "nbformat": 4,
  "nbformat_minor": 0,
  "metadata": {
    "kernelspec": {
      "display_name": "Python 3",
      "language": "python",
      "name": "python3"
    },
    "language_info": {
      "codemirror_mode": {
        "name": "ipython",
        "version": 3
      },
      "file_extension": ".py",
      "mimetype": "text/x-python",
      "name": "python",
      "nbconvert_exporter": "python",
      "pygments_lexer": "ipython3",
      "version": "3.7.7"
    },
    "colab": {
      "name": "Session13_FoldTree.ipynb",
      "provenance": []
    }
  },
  "cells": [
    {
      "cell_type": "markdown",
      "metadata": {
        "id": "H7-EglGy8ttB"
      },
      "source": [
        "Before you turn this problem in, make sure everything runs as expected. First, **restart the kernel** (in the menubar, select Kernel$\\rightarrow$Restart) and then **run all cells** (in the menubar, select Cell$\\rightarrow$Run All).\n",
        "\n",
        "Make sure you fill in any place that says `YOUR CODE HERE` or \"YOUR ANSWER HERE\", as well as your name and collaborators below:"
      ]
    },
    {
      "cell_type": "code",
      "metadata": {
        "id": "7Dfkch2s8ttE"
      },
      "source": [
        "NAME = \"Damir\"\n",
        "COLLABORATORS = \"\""
      ],
      "execution_count": null,
      "outputs": []
    },
    {
      "cell_type": "markdown",
      "metadata": {
        "id": "fh0ZHdSO8ttF"
      },
      "source": [
        "---"
      ]
    },
    {
      "cell_type": "markdown",
      "metadata": {
        "id": "7ZIuOq6g8ttF"
      },
      "source": [
        "First, download `1b2s.pdb` from the google drive and upload it into your `pyrbc_202103_notebooks/inputs` directory."
      ]
    },
    {
      "cell_type": "code",
      "metadata": {
        "id": "565RtHa68ttF",
        "colab": {
          "base_uri": "https://localhost:8080/"
        },
        "outputId": "1b7b413b-3f6f-47e8-dd82-878b46097a1b"
      },
      "source": [
        "# You have to rerun this cell each time you start a new notebook or do a \"factory reset\".\n",
        "import sys\n",
        "if 'google.colab' in sys.modules:\n",
        "    !pip install pyrosettacolabsetup\n",
        "    import pyrosettacolabsetup\n",
        "    pyrosettacolabsetup.mount_pyrosetta_install() #Instead of pyrosettacolabsetup.setup\n",
        "    print (\"Notebook is set for PyRosetta use in Colab.  Have fun!\")"
      ],
      "execution_count": null,
      "outputs": [
        {
          "output_type": "stream",
          "text": [
            "Collecting pyrosettacolabsetup\n",
            "  Downloading https://files.pythonhosted.org/packages/3c/17/373c1b7779607e432cd095229c2df3b75aec2790d5e643453b6ec3635738/pyrosettacolabsetup-0.6-py3-none-any.whl\n",
            "Installing collected packages: pyrosettacolabsetup\n",
            "Successfully installed pyrosettacolabsetup-0.6\n",
            "Mounted at /content/google_drive\n",
            "Notebook is set for PyRosetta use in Colab.  Have fun!\n"
          ],
          "name": "stdout"
        }
      ]
    },
    {
      "cell_type": "markdown",
      "metadata": {
        "id": "b6QTgxbq8ttG"
      },
      "source": [
        "**Make sure you are in the directory with the pdb files:**"
      ]
    },
    {
      "cell_type": "code",
      "metadata": {
        "id": "bhHW20vB8ttG",
        "colab": {
          "base_uri": "https://localhost:8080/"
        },
        "outputId": "a284c436-7fd4-4618-c36e-cab7d34b4bf0"
      },
      "source": [
        "%cd google_drive/My\\ Drive/temp_pyrbc_202103_notebooks/"
      ],
      "execution_count": null,
      "outputs": [
        {
          "output_type": "stream",
          "text": [
            "/content/google_drive/My Drive/temp_pyrbc_202103_notebooks\n"
          ],
          "name": "stdout"
        }
      ]
    },
    {
      "cell_type": "code",
      "metadata": {
        "id": "saw7-EMH8ttH",
        "colab": {
          "base_uri": "https://localhost:8080/"
        },
        "outputId": "8e48382d-5072-45dd-bb5e-04b9bd09439b"
      },
      "source": [
        "import pyrosetta\n",
        "\n",
        "pyrosetta.init()"
      ],
      "execution_count": null,
      "outputs": [
        {
          "output_type": "stream",
          "text": [
            "PyRosetta-4 2021 [Rosetta PyRosetta4.MinSizeRel.python37.ubuntu 2021.21+release.882e5c1ab85c8c251fce4eb3e1e0504af590786a 2021-05-26T14:40:53] retrieved from: http://www.pyrosetta.org\n",
            "(C) Copyright Rosetta Commons Member Institutions. Created in JHU by Sergey Lyskov and PyRosetta Team.\n",
            "core.init: Checking for fconfig files in pwd and ./rosetta/flags\n",
            "core.init: Rosetta version: PyRosetta4.MinSizeRel.python37.ubuntu r284 2021.21+release.882e5c1ab85 882e5c1ab85c8c251fce4eb3e1e0504af590786a http://www.pyrosetta.org 2021-05-26T14:40:53\n",
            "core.init: command: PyRosetta -ex1 -ex2aro -database /content/google_drive/MyDrive/prefix/lib/python3.7/site-packages/pyrosetta/database\n",
            "basic.random.init_random_generator: 'RNG device' seed mode, using '/dev/urandom', seed=908466243 seed_offset=0 real_seed=908466243\n",
            "basic.random.init_random_generator: RandomGenerator:init: Normal mode, seed=908466243 RG_type=mt19937\n"
          ],
          "name": "stdout"
        }
      ]
    },
    {
      "cell_type": "code",
      "metadata": {
        "id": "wMjfwSqe8ttH",
        "colab": {
          "base_uri": "https://localhost:8080/"
        },
        "outputId": "6daab4ec-b102-4fd0-849f-7c2c690027a4"
      },
      "source": [
        "#create udp daemon so we can look at the structures in pymol\n",
        "import pyrosetta.network\n",
        "pyrosetta.network.start_udp_to_tcp_bridge_daemon(secret='secret_code')"
      ],
      "execution_count": null,
      "outputs": [
        {
          "output_type": "stream",
          "text": [
            "WARNING: CONNECTION to relay server relay.graylab.jhu.edu:9989 IS NOT ENCRYPTED!\n",
            "UDP server started: localhost:65000...\n",
            "Connected to relay.graylab.jhu.edu 128.220.208.35:9989...\n"
          ],
          "name": "stdout"
        }
      ]
    },
    {
      "cell_type": "markdown",
      "metadata": {
        "id": "8qHDxrbm8ttH"
      },
      "source": [
        "Go ahead and open PyMOL on your local computer."
      ]
    },
    {
      "cell_type": "code",
      "metadata": {
        "id": "Xi2oLvCN8ttI"
      },
      "source": [
        "pmm = pyrosetta.PyMOLMover()\n",
        "pmm.keep_history(True)"
      ],
      "execution_count": null,
      "outputs": []
    },
    {
      "cell_type": "code",
      "metadata": {
        "id": "aoeR_nI78ttI",
        "colab": {
          "base_uri": "https://localhost:8080/",
          "height": 283
        },
        "outputId": "3afd9e64-9c90-4bad-a6a5-3983e2cce8b8"
      },
      "source": [
        "pose = pyrosetta.pose_from_file(\"inputs/1b2s.pdb\")\n",
        "pmm.apply(pose)"
      ],
      "execution_count": null,
      "outputs": [
        {
          "output_type": "stream",
          "text": [
            "core.import_pose.import_pose: [ ERROR ] File: inputs/1b2s.pdb not found!\n"
          ],
          "name": "stdout"
        },
        {
          "output_type": "error",
          "ename": "RuntimeError",
          "evalue": "ignored",
          "traceback": [
            "\u001b[0;31m---------------------------------------------------------------------------\u001b[0m",
            "\u001b[0;31mRuntimeError\u001b[0m                              Traceback (most recent call last)",
            "\u001b[0;32m<ipython-input-9-bd23af5d7e31>\u001b[0m in \u001b[0;36m<module>\u001b[0;34m()\u001b[0m\n\u001b[0;32m----> 1\u001b[0;31m \u001b[0mpose\u001b[0m \u001b[0;34m=\u001b[0m \u001b[0mpyrosetta\u001b[0m\u001b[0;34m.\u001b[0m\u001b[0mpose_from_file\u001b[0m\u001b[0;34m(\u001b[0m\u001b[0;34m\"inputs/1b2s.pdb\"\u001b[0m\u001b[0;34m)\u001b[0m\u001b[0;34m\u001b[0m\u001b[0;34m\u001b[0m\u001b[0m\n\u001b[0m\u001b[1;32m      2\u001b[0m \u001b[0mpmm\u001b[0m\u001b[0;34m.\u001b[0m\u001b[0mapply\u001b[0m\u001b[0;34m(\u001b[0m\u001b[0mpose\u001b[0m\u001b[0;34m)\u001b[0m\u001b[0;34m\u001b[0m\u001b[0;34m\u001b[0m\u001b[0m\n",
            "\u001b[0;31mRuntimeError\u001b[0m: \n\nFile: /home/benchmark/rosetta/source/src/core/import_pose/import_pose.cc:364\n[ ERROR ] UtilityExitException\nERROR: Cannot open file \"inputs/1b2s.pdb\"\n\n"
          ]
        }
      ]
    },
    {
      "cell_type": "markdown",
      "metadata": {
        "id": "tJ1mA5cZ8ttI"
      },
      "source": [
        "What is the fold tree of the pose? Explain what each edge means."
      ]
    },
    {
      "cell_type": "code",
      "metadata": {
        "id": "r8SW0W0u8ttI"
      },
      "source": [
        "print(pose.fold_tree())"
      ],
      "execution_count": null,
      "outputs": []
    },
    {
      "cell_type": "markdown",
      "metadata": {
        "id": "QG1GqRGS8ttJ"
      },
      "source": [
        "Let's change the phi torsion of residue 55. How does the structure change?"
      ]
    },
    {
      "cell_type": "code",
      "metadata": {
        "id": "Hw5tyOTH8ttJ"
      },
      "source": [
        "pose1 = pose.clone()\n",
        "pose1.set_phi(55, pose1.phi(55) - 180)\n",
        "pmm.apply(pose1)"
      ],
      "execution_count": null,
      "outputs": []
    },
    {
      "cell_type": "markdown",
      "metadata": {
        "id": "xaSuXEPU8ttJ"
      },
      "source": [
        "Create a new fold tree. What does kind of tree do these edges describe?"
      ]
    },
    {
      "cell_type": "code",
      "metadata": {
        "id": "9seOM4t-8ttJ"
      },
      "source": [
        "ft = pyrosetta.FoldTree()\n",
        "ft.add_edge(1, 71, -1)\n",
        "ft.add_edge(1, 72, 1)\n",
        "ft.add_edge(72, 200, -1)"
      ],
      "execution_count": null,
      "outputs": []
    },
    {
      "cell_type": "markdown",
      "metadata": {
        "id": "MI2etFCv8ttJ"
      },
      "source": [
        "Set this as the pose's fold tree, and do the same backbone purterbation. How does the structure change now? (You may want to use `show sticks, name n+ca+c+o` in pymol to make sense of this change)."
      ]
    },
    {
      "cell_type": "code",
      "metadata": {
        "deletable": false,
        "nbgrader": {
          "cell_type": "code",
          "checksum": "19b0110ac93a672158f8ca3c9d4bbaa0",
          "grade": true,
          "grade_id": "cell-69d664d20bbd7c50",
          "locked": false,
          "points": 0,
          "schema_version": 3,
          "solution": true
        },
        "id": "-5QLHgFU8ttK"
      },
      "source": [
        "#1\n",
        "# YOUR CODE HERE\n",
        "raise NotImplementedError()"
      ],
      "execution_count": null,
      "outputs": []
    },
    {
      "cell_type": "markdown",
      "metadata": {
        "id": "C1BQG_iP8ttK"
      },
      "source": [
        "The following code crashes. Why? Can you fix it?"
      ]
    },
    {
      "cell_type": "code",
      "metadata": {
        "deletable": false,
        "nbgrader": {
          "cell_type": "code",
          "checksum": "df7193f904e3e7a11fc0c92977ad458a",
          "grade": true,
          "grade_id": "cell-76fdaa2c602df816",
          "locked": false,
          "points": 0,
          "schema_version": 3,
          "solution": true
        },
        "id": "Vm3xRcQG8ttK"
      },
      "source": [
        "#2\n",
        "ft = pyrosetta.FoldTree()\n",
        "ft.add_edge(1, 71, -1)\n",
        "ft.add_edge(72, 200, -1)\n",
        "ft.add_edge(1, 72, 1)\n",
        "pose3 = pose.clone()\n",
        "pose3.fold_tree(ft)\n",
        "\n",
        "# YOUR CODE HERE\n",
        "raise NotImplementedError()"
      ],
      "execution_count": null,
      "outputs": []
    },
    {
      "cell_type": "markdown",
      "metadata": {
        "id": "ciWmW2l_8ttK"
      },
      "source": [
        "Can you create a flexible loop docking fold tree such that the two chain break points are at 71 and 110?"
      ]
    },
    {
      "cell_type": "code",
      "metadata": {
        "deletable": false,
        "nbgrader": {
          "cell_type": "code",
          "checksum": "4161ea88a10efa084f20955fcfe63802",
          "grade": true,
          "grade_id": "cell-b7039d7cbfb62b6b",
          "locked": false,
          "points": 0,
          "schema_version": 3,
          "solution": true
        },
        "id": "bjXVzX638ttK"
      },
      "source": [
        "#3\n",
        "# YOUR CODE HERE\n",
        "raise NotImplementedError()"
      ],
      "execution_count": null,
      "outputs": []
    }
  ]
}