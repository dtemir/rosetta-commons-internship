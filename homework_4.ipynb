{
 "cells": [
  {
   "cell_type": "markdown",
   "metadata": {
    "id": "LLZJe74LFtnD"
   },
   "source": [
    "# Homework #4\n",
    "\n",
    "## Recursive Fibonacci\n",
    "\n",
    "Write a function **fib** that takes one argument, *n*, and returns the *nth* fibonacci number. \n",
    "\n",
    "The fibonacci sequence is given by the recursive formulation:\n",
    "\n",
    "> ```\n",
    "> fib(i) = fib(i-1) + fib(i-2)\n",
    "> ```\n",
    "\n",
    "and then by a termination criteria that **fib(1)** is 1 and **fib(2)** is also 1.\n",
    "\n",
    "Write the fib function so that it calls itself. Measure the running time to compute each of the fibonacci numbers between 1 and 40 and create a plot with your favorite plotting tool.\n"
   ]
  },
  {
   "cell_type": "code",
   "execution_count": 24,
   "metadata": {
    "id": "6QL3lv_uFhTI"
   },
   "outputs": [],
   "source": [
    "def fib(n):\n",
    "  if n == 0: # Base case: 0\n",
    "    return 0\n",
    "  elif n == 1 or n == 2: # Base case: 1 and 2\n",
    "    return 1\n",
    "  else: # Recursive call\n",
    "    return fib(n-1) + fib(n-2)"
   ]
  },
  {
   "cell_type": "markdown",
   "metadata": {
    "id": "frDFiJlBMGjj"
   },
   "source": [
    "Let's first test the fibonacci function."
   ]
  },
  {
   "cell_type": "code",
   "execution_count": 25,
   "metadata": {
    "colab": {
     "base_uri": "https://localhost:8080/"
    },
    "id": "u6q0soU4MFE4",
    "outputId": "bf2aeb37-5d8f-4b17-c0d5-0b95a61215d1"
   },
   "outputs": [
    {
     "name": "stdout",
     "output_type": "stream",
     "text": [
      "Fibonacci of 1:  1\n",
      "Fibonacci of 3:  2\n",
      "Fibonacci of 5:  5\n",
      "Fibonacci of 8:  21\n"
     ]
    }
   ],
   "source": [
    "print(\"Fibonacci of 1: \", fib(1))\n",
    "print(\"Fibonacci of 3: \", fib(3))\n",
    "print(\"Fibonacci of 5: \", fib(5))\n",
    "print(\"Fibonacci of 8: \", fib(8))"
   ]
  },
  {
   "cell_type": "code",
   "execution_count": 71,
   "metadata": {
    "colab": {
     "base_uri": "https://localhost:8080/"
    },
    "id": "5mjPtGzznIOb",
    "outputId": "4840f280-a41f-475e-8eaa-d75c6cbdaa75"
   },
   "outputs": [
    {
     "name": "stdout",
     "output_type": "stream",
     "text": [
      "10 loops, best of 5: 23.7 ms per loop\n"
     ]
    }
   ],
   "source": [
    "%%timeit -n 10\n",
    "\n",
    "fib(25)"
   ]
  },
  {
   "cell_type": "markdown",
   "metadata": {
    "id": "OCw2zuC7iEzh"
   },
   "source": [
    "Creating a plot with matplotlib's pyplot.\n",
    "\n",
    "The resulted plot shows that the first implementation of the fibonacci function is around O(2^n)."
   ]
  },
  {
   "cell_type": "code",
   "execution_count": 39,
   "metadata": {
    "colab": {
     "base_uri": "https://localhost:8080/",
     "height": 279
    },
    "id": "XIdNILpxOfYp",
    "outputId": "a789ddcf-cb58-4f75-ffef-7abb0d958e6c"
   },
   "outputs": [
    {
     "data": {
      "image/png": "[encoded data removed]",
      "text/plain": [
       "<Figure size 432x288 with 1 Axes>"
      ]
     },
     "metadata": {
      "needs_background": "light",
      "tags": []
     },
     "output_type": "display_data"
    }
   ],
   "source": [
    "import timeit\n",
    "from functools import partial\n",
    "import numpy as np\n",
    "import matplotlib.pyplot as plt\n",
    "\n",
    "def plot_time(func, inputs, repeats, n_tests):\n",
    "  x, y = [], [] # save vaalues for x-axis and y-axis\n",
    "  for i in inputs:\n",
    "    timer = timeit.Timer(partial(func, i)) # create a timer with the function and its argument n\n",
    "    t = timer.repeat(repeat=repeats, number=n_tests) # run that function several times\n",
    "    x.append(i) # add the argument to the x-axis\n",
    "    y.append(np.mean(t)) # add the mean time for execution to the y-axis\n",
    " \n",
    "  plt.plot(x, y)\n",
    "  plt.xlabel(\"Input (numbers 1 to 40)\")\n",
    "  plt.ylabel(\"Resulted time (in seconds)\")\n",
    "\n",
    "plot_time(fib, range(40), 3, 1)"
   ]
  },
  {
   "cell_type": "markdown",
   "metadata": {
    "id": "_DLtvXLQjJge"
   },
   "source": [
    "## Iterative Fibonacci\n",
    "\n",
    "The *nth* fibonacci number can be computed more efficiently by not using recursion, but instead **by building up the answer from the bottom**.\n",
    "\n",
    "Create an iterative version of the fibonacci function, **fib_iterative**, that takes one argument, *n*, and returns the *nth* fibonacci number.\n",
    "\n",
    "Allocate a list of length *n*. Initialize fib[0] = 1 and fib[1] = 1. Then fill in each entry in your list in ascending order with:\n",
    "\n",
    "> ```\n",
    "> mylist[i] = mylist[i-1] + mylist[i-2]\n",
    "> ```\n",
    "\n",
    "Measure the running time of **fib_iterative** for each of the fibonacci numbers between 1 and 40."
   ]
  },
  {
   "cell_type": "code",
   "execution_count": 57,
   "metadata": {
    "id": "kL5HOG7aZtie"
   },
   "outputs": [],
   "source": [
    "def fib_iterative(n):\n",
    "  my_list = [1 for i in range(n)] # Allocate a list\n",
    "\n",
    "  for i in range(2, n): # Populate the list with fib numbers\n",
    "    my_list[i] = my_list[i-1] + my_list[i-2]\n",
    "\n",
    "  return my_list[n-1] # Return the required number"
   ]
  },
  {
   "cell_type": "markdown",
   "metadata": {
    "id": "vPax3pZflvj0"
   },
   "source": [
    "Let's test the iterative fibonacci function"
   ]
  },
  {
   "cell_type": "code",
   "execution_count": 61,
   "metadata": {
    "colab": {
     "base_uri": "https://localhost:8080/"
    },
    "id": "CvS171-WkJQn",
    "outputId": "24de6b32-d8b9-429a-ff6b-b23c19c47f1d"
   },
   "outputs": [
    {
     "name": "stdout",
     "output_type": "stream",
     "text": [
      "Fibonacci of 1:  1\n",
      "Fibonacci of 3:  2\n",
      "Fibonacci of 5:  5\n",
      "Fibonacci of 8:  21\n"
     ]
    }
   ],
   "source": [
    "print(\"Fibonacci of 1: \", fib_iterative(1))\n",
    "print(\"Fibonacci of 3: \", fib_iterative(3))\n",
    "print(\"Fibonacci of 5: \", fib_iterative(5))\n",
    "print(\"Fibonacci of 8: \", fib_iterative(8))"
   ]
  },
  {
   "cell_type": "code",
   "execution_count": 70,
   "metadata": {
    "colab": {
     "base_uri": "https://localhost:8080/"
    },
    "id": "fqS5UOQ1nO0D",
    "outputId": "55d82d15-b4b7-4a58-82bb-fbc384d5628f"
   },
   "outputs": [
    {
     "name": "stdout",
     "output_type": "stream",
     "text": [
      "10 loops, best of 5: 4.72 µs per loop\n"
     ]
    }
   ],
   "source": [
    "%%timeit -n 10\n",
    "fib_iterative(25)"
   ]
  },
  {
   "cell_type": "code",
   "execution_count": 63,
   "metadata": {
    "colab": {
     "base_uri": "https://localhost:8080/",
     "height": 290
    },
    "id": "gOW015fgl5QX",
    "outputId": "70a30637-379d-4912-933e-0fdaeede4a86"
   },
   "outputs": [
    {
     "data": {
      "image/png": "[encoded data removed]",
      "text/plain": [
       "<Figure size 432x288 with 1 Axes>"
      ]
     },
     "metadata": {
      "needs_background": "light",
      "tags": []
     },
     "output_type": "display_data"
    }
   ],
   "source": [
    "plot_time(fib_iterative, range(1, 40), 3, 1)"
   ]
  },
  {
   "cell_type": "markdown",
   "metadata": {
    "id": "QkyOd6f6m7LV"
   },
   "source": [
    "As we can see, **the iterative version is more efficient than the recursive version**. \n",
    "\n",
    "When using the magic function *%%timeit*, we see that it takes on average 23.7 mili-seconds for the recursive version to get the number, while the iterative version achieves the same in 4.72 nano-seconds.\n",
    "\n",
    "The same can be seen on the graphs. For the recursive version, the amount of time it takes to compute the number for larger input is very significant, while the iterative version shows that it takes much-much less time on the graph."
   ]
  },
  {
   "cell_type": "code",
   "execution_count": null,
   "metadata": {
    "id": "qZ2fKnqel-lk"
   },
   "outputs": [],
   "source": []
  }
 ],
 "metadata": {
  "colab": {
   "name": "Homework #4.ipynb",
   "provenance": []
  },
  "kernelspec": {
   "display_name": "Python 3",
   "language": "python",
   "name": "python3"
  },
  "language_info": {
   "codemirror_mode": {
    "name": "ipython",
    "version": 3
   },
   "file_extension": ".py",
   "mimetype": "text/x-python",
   "name": "python",
   "nbconvert_exporter": "python",
   "pygments_lexer": "ipython3",
   "version": "3.8.10"
  }
 },
 "nbformat": 4,
 "nbformat_minor": 4
}
