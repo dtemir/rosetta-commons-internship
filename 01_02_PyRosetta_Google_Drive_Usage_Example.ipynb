{
  "nbformat": 4,
  "nbformat_minor": 0,
  "metadata": {
    "colab": {
      "name": "01.02-PyRosetta-Google-Drive-Usage-Example.ipynb",
      "provenance": [],
      "collapsed_sections": []
    },
    "kernelspec": {
      "display_name": "Python 3",
      "language": "python",
      "name": "python3"
    },
    "language_info": {
      "codemirror_mode": {
        "name": "ipython",
        "version": 3
      },
      "file_extension": ".py",
      "mimetype": "text/x-python",
      "name": "python",
      "nbconvert_exporter": "python",
      "pygments_lexer": "ipython3",
      "version": "3.6.0"
    },
    "toc": {
      "base_numbering": 1,
      "nav_menu": {},
      "number_sections": true,
      "sideBar": true,
      "skip_h1_title": false,
      "title_cell": "Table of Contents",
      "title_sidebar": "Contents",
      "toc_cell": false,
      "toc_position": {},
      "toc_section_display": true,
      "toc_window_display": false
    }
  },
  "cells": [
    {
      "cell_type": "markdown",
      "metadata": {
        "id": "0KdyBxWHYErn"
      },
      "source": [
        "Before you turn this problem in, make sure everything runs as expected. First, **restart the kernel** (in the menubar, select Kernel$\\rightarrow$Restart) and then **run all cells** (in the menubar, select Cell$\\rightarrow$Run All).\n",
        "\n",
        "Make sure you fill in any place that says `YOUR CODE HERE` or \"YOUR ANSWER HERE\", as well as your name and collaborators below:"
      ]
    },
    {
      "cell_type": "code",
      "metadata": {
        "id": "ccgELgARYEry"
      },
      "source": [
        "NAME = \"\"\n",
        "COLLABORATORS = \"\""
      ],
      "execution_count": null,
      "outputs": []
    },
    {
      "cell_type": "markdown",
      "metadata": {
        "id": "SPvD0ZDvYErz"
      },
      "source": [
        "---"
      ]
    },
    {
      "cell_type": "markdown",
      "metadata": {
        "id": "uYsvRvkdYEr0"
      },
      "source": [
        "<!--NOTEBOOK_HEADER-->\n",
        "*This notebook contains material from [PyRosetta](https://RosettaCommons.github.io/PyRosetta);\n",
        "content is available [on Github](https://github.com/RosettaCommons/PyRosetta.notebooks.git).*"
      ]
    },
    {
      "cell_type": "markdown",
      "metadata": {
        "id": "oYzZTqT2YEr0"
      },
      "source": [
        "<!--NAVIGATION-->\n",
        "< [PyRosetta Google Drive Setup](http://nbviewer.jupyter.org/github/RosettaCommons/PyRosetta.notebooks/blob/master/notebooks/01.01-PyRosetta-Google-Drive-Setup.ipynb) | [Contents](toc.ipynb) | [Index](index.ipynb) | [How to Get PyRosetta on Your Personal Computer](http://nbviewer.jupyter.org/github/RosettaCommons/PyRosetta.notebooks/blob/master/notebooks/01.03-How-to-Get-Local-PyRosetta.ipynb) ><p><a href=\"https://colab.research.google.com/github/RosettaCommons/PyRosetta.notebooks/blob/master/notebooks/01.02-PyRosetta-Google-Drive-Usage-Example.ipynb\"><img align=\"left\" src=\"https://colab.research.google.com/assets/colab-badge.svg\" alt=\"Open in Colab\" title=\"Open in Google Colaboratory\"></a>"
      ]
    },
    {
      "cell_type": "markdown",
      "metadata": {
        "id": "AuuLDJigYEr0"
      },
      "source": [
        "# PyRosetta Google Drive Usage Example"
      ]
    },
    {
      "cell_type": "markdown",
      "metadata": {
        "id": "KqGyGg-QYEr1"
      },
      "source": [
        "After installing PyRosetta in Colab, here is an example for how you would initialize PyRosetta in Colab and use it."
      ]
    },
    {
      "cell_type": "code",
      "metadata": {
        "id": "m1KtbxmLzV5p",
        "colab": {
          "base_uri": "https://localhost:8080/"
        },
        "outputId": "74b5e33b-b6ad-4591-a52f-df30bbaa077f"
      },
      "source": [
        "# Wheel install setup. This takes ~1.5 minutes each time you start a new notebook or do a \"factory reset\".\n",
        "\n",
        "# Mounting Google Drive and add it to Python sys path  \n",
        "\n",
        "google_drive_mount_point = '/content/google_drive'\n",
        "\n",
        "import os, sys, time\n",
        "\n",
        "if 'google.colab' in sys.modules:\n",
        "    from google.colab import drive\n",
        "    drive.mount(google_drive_mount_point)\n",
        "\n",
        "if not os.getenv(\"DEBUG\"):\n",
        "    google_drive = google_drive_mount_point + '/My Drive'\n",
        "\n",
        "if not os.getenv(\"DEBUG\"):\n",
        "    # installing PyRosetta\n",
        "    if sys.version_info.major != 3 or sys.version_info.minor != 7:\n",
        "        print('Need Python-3.7 to run!')\n",
        "        sys.exit(1)\n",
        "\n",
        "    # upload PyRosetta Linux WHEEL package into your google drive and put it into /PyRosetta dir\n",
        "    # or alternatively you can download PyRosetta directly from GrayLab web site (but this might take some time!)\n",
        "    #!mkdir $notebook_path/PyRosetta\n",
        "    #!cd $notebook_path/PyRosetta && wget --user USERNAME --password PASSWORD https://graylab.jhu.edu/download/PyRosetta4/archive/release/PyRosetta4.Release.python37.ubuntu.wheel/latest.html   \n",
        "\n",
        "    pyrosetta_distr_path = google_drive + '/PyRosetta' \n",
        "    \n",
        "    # finding path to wheel package, if multiple packages is found take first one\n",
        "    # replace this with `wheel_path = pyrosetta_distr_path + /<wheel-file-name>.whl` if you want to use particular whl file\n",
        "    wheel_path = pyrosetta_distr_path + '/' + [ f for f in os.listdir(pyrosetta_distr_path) if f.endswith('.whl')][0]\n",
        "    \n",
        "    print(f'Using PyRosetta wheel package: {wheel_path}')\n",
        "\n",
        "    !pip3 install '{wheel_path}'"
      ],
      "execution_count": null,
      "outputs": [
        {
          "output_type": "stream",
          "text": [
            "Drive already mounted at /content/google_drive; to attempt to forcibly remount, call drive.mount(\"/content/google_drive\", force_remount=True).\n",
            "Using PyRosetta wheel package: /content/google_drive/My Drive/PyRosetta/pyrosetta-2020.50.post0.dev0+970.commits.3700df14560-cp37-cp37m-linux_x86_64.whl\n",
            "Requirement already satisfied: pyrosetta==2020.50.post0.dev0+970.commits.3700df14560 from file:///content/google_drive/My%20Drive/PyRosetta/pyrosetta-2020.50.post0.dev0%2B970.commits.3700df14560-cp37-cp37m-linux_x86_64.whl in /usr/local/lib/python3.7/dist-packages (2020.50.post0.dev0+970.commits.3700df14560)\n"
          ],
          "name": "stdout"
        }
      ]
    },
    {
      "cell_type": "code",
      "metadata": {
        "id": "O4-UKoGw1CbX",
        "colab": {
          "base_uri": "https://localhost:8080/"
        },
        "outputId": "c4a79b70-8b8d-4e99-e565-11976587ae99"
      },
      "source": [
        "from pyrosetta import *\n",
        "pyrosetta.init()"
      ],
      "execution_count": null,
      "outputs": [
        {
          "output_type": "stream",
          "text": [
            "PyRosetta-4 2021 [Rosetta PyRosetta4.MinSizeRel.python37.ubuntu 2020.50.post.dev+970.commits.3700df145608444753aabbec9c4681ec9b21f74b 2021-02-24T13:24:53] retrieved from: http://www.pyrosetta.org\n",
            "(C) Copyright Rosetta Commons Member Institutions. Created in JHU by Sergey Lyskov and PyRosetta Team.\n",
            "core.init: Checking for fconfig files in pwd and ./rosetta/flags\n",
            "core.init: Rosetta version: PyRosetta4.MinSizeRel.python37.ubuntu r17132 2020.50.post.dev+970.commits.3700df14560 3700df145608444753aabbec9c4681ec9b21f74b http://www.pyrosetta.org 2021-02-24T13:24:53\n",
            "core.init: command: PyRosetta -ex1 -ex2aro -database /usr/local/lib/python3.7/dist-packages/pyrosetta/database\n",
            "basic.random.init_random_generator: 'RNG device' seed mode, using '/dev/urandom', seed=-687768090 seed_offset=0 real_seed=-687768090\n",
            "basic.random.init_random_generator: RandomGenerator:init: Normal mode, seed=-687768090 RG_type=mt19937\n"
          ],
          "name": "stdout"
        }
      ]
    },
    {
      "cell_type": "code",
      "metadata": {
        "id": "GMsbR0atbGzM"
      },
      "source": [
        "test = Pose() # to check that it works"
      ],
      "execution_count": null,
      "outputs": []
    },
    {
      "cell_type": "markdown",
      "metadata": {
        "id": "Kv_CLoziYEr2"
      },
      "source": [
        "<!--NAVIGATION-->\n",
        "< [PyRosetta Google Drive Setup](http://nbviewer.jupyter.org/github/RosettaCommons/PyRosetta.notebooks/blob/master/notebooks/01.01-PyRosetta-Google-Drive-Setup.ipynb) | [Contents](toc.ipynb) | [Index](index.ipynb) | [How to Get PyRosetta on Your Personal Computer](http://nbviewer.jupyter.org/github/RosettaCommons/PyRosetta.notebooks/blob/master/notebooks/01.03-How-to-Get-Local-PyRosetta.ipynb) ><p><a href=\"https://colab.research.google.com/github/RosettaCommons/PyRosetta.notebooks/blob/master/notebooks/01.02-PyRosetta-Google-Drive-Usage-Example.ipynb\"><img align=\"left\" src=\"https://colab.research.google.com/assets/colab-badge.svg\" alt=\"Open in Colab\" title=\"Open in Google Colaboratory\"></a>"
      ]
    }
  ]
}