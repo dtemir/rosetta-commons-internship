{
  "nbformat": 4,
  "nbformat_minor": 0,
  "metadata": {
    "colab": {
      "name": "homework#3.ipynb",
      "provenance": [],
      "collapsed_sections": []
    },
    "kernelspec": {
      "name": "python3",
      "display_name": "Python 3"
    },
    "language_info": {
      "name": "python"
    }
  },
  "cells": [
    {
      "cell_type": "markdown",
      "metadata": {
        "id": "8Wtssd2R_vML"
      },
      "source": [
        "# Homework #3\n",
        "\n",
        "## Problem 1. Age Predictor.\n",
        "\n",
        "Write a program to predict the \"age\" of the user. Ask them two questions.\n",
        "\n",
        "Q1: If I say \"up up down down left right left right\" what do you say?\n",
        "(The correct answer to this question is \"b a\" or \"B A\").\n",
        "\n",
        "If they get this question wrong, they are very old. Tell them.\n",
        "If they get this question right, then you don't really know how old they are. You need to ask them another question.\n",
        "\n",
        "Q2: What are records made of?\n",
        "(The correct answer to this question is \"vinyl\").\n",
        "\n",
        "If they get this question right, they are old. Tell them. If they get this question wrong, they are young. Tell them."
      ]
    },
    {
      "cell_type": "code",
      "metadata": {
        "colab": {
          "base_uri": "https://localhost:8080/"
        },
        "id": "DJX7SDb3_lM0",
        "outputId": "474b97da-82a2-4db0-89e9-4fe178b090d5"
      },
      "source": [
        "answer_1 = input(\"If I say 'up up down down left right left right' what do you say? \")\n",
        "print(answer_1)\n",
        "if answer_1.lower() == \"b a\":\n",
        "  answer_2 = input(\"What are records made of? \")\n",
        "  if answer_2.lower() == \"vinyl\":\n",
        "    print(\"You're old\")\n",
        "  else:\n",
        "    print(\"You're young\")\n",
        "else:\n",
        "  print(\"You're very old\")"
      ],
      "execution_count": 6,
      "outputs": [
        {
          "output_type": "stream",
          "text": [
            "If I say 'up up down down left right left right' what do you say? B A\n",
            "B A\n",
            "What are records made of? what?\n",
            "You're young\n"
          ],
          "name": "stdout"
        }
      ]
    },
    {
      "cell_type": "markdown",
      "metadata": {
        "id": "D3cxS5QuBZaS"
      },
      "source": [
        "## Problem 2. Sorter.\n",
        "\n",
        "Write a program to sort a list of integers that the user gives you. Prompt the user to give you a list of integers, separated by spaces, and then hit enter. Once they've hit enter, \n",
        "1. convert the string that you are given into integers, and\n",
        "2. put those integers into a python \"list\".\n",
        "\n",
        "(A list in python is an array; it has the insertion and access complexity of an array and not a typical computer-science-class \"list.\" They're called lists anyways.)\n",
        "\n",
        "After you have created the list, use a function that list provides (google for it!) that will sort the contents of the list in ascending order.\n",
        "\n",
        "Then print the sorted list to the screen for the user.\n",
        "\n",
        "You may assume that the user is not going to input \"five\" to mean the number 5 or give you any non-integer inputs."
      ]
    },
    {
      "cell_type": "code",
      "metadata": {
        "colab": {
          "base_uri": "https://localhost:8080/"
        },
        "id": "k_3ZvhgpAOGs",
        "outputId": "f8f69431-d7e4-4953-93c4-0efe6717775c"
      },
      "source": [
        "string_list = input(\"Please give me a list of integers, separated by spaces, and then hit enter \")\n",
        "integer_list = list(map(int, string_list.split())) # convert string list into actual list\n",
        "print(sorted(integer_list)) # print sorted list"
      ],
      "execution_count": 16,
      "outputs": [
        {
          "output_type": "stream",
          "text": [
            "Please give me a list of integers, separated by spaces, and then hit enter 4 2 1 54 12 6\n",
            "[1, 2, 4, 6, 12, 54]\n"
          ],
          "name": "stdout"
        }
      ]
    },
    {
      "cell_type": "code",
      "metadata": {
        "id": "Fs1he3QTB3_g"
      },
      "source": [
        ""
      ],
      "execution_count": 14,
      "outputs": []
    },
    {
      "cell_type": "markdown",
      "metadata": {
        "id": "3WWtdlfdC2tg"
      },
      "source": [
        "## Problem 3. Repeater\n",
        "\n",
        "Write a program to take two lists of integers that the user gives you. Prompt for the first list, wait for them to hit enter, then prompt for the second list. The lists must be the same length.\n",
        "\n",
        "Print out the elements of the first list repeated as many times as requested in the second list.\n",
        "\n",
        "E.g.\n",
        "\n",
        "Please enter your first list: \n",
        "1 2 3 4 5 6 7\n",
        "Please enter your second list:\n",
        "0 2 1 0 3 2 1\n",
        "Here are your results:\n",
        "2 2 3 5 5 5 6 6 7\n",
        "\n",
        "(The first element, 1, is repeated 0 times; the second element, 2, is repeated 2 times; the third element 3 is repeated 1 time; etc.)\n",
        "\n",
        "If the user gives you two lists of different length, print an error message to the screen instead of printing any numbers."
      ]
    },
    {
      "cell_type": "code",
      "metadata": {
        "colab": {
          "base_uri": "https://localhost:8080/"
        },
        "id": "BgMA39TsC55M",
        "outputId": "d45a458c-352d-4daa-80c7-602fef9cc4b2"
      },
      "source": [
        "first_list = input(\"Please give me a list of integers \")\n",
        "second_list = input(\"Please give me a second list of integers (the same length as the first one) \")\n",
        "\n",
        "# convert string lists into actual lists\n",
        "first_list = list(map(int, first_list.split()))\n",
        "second_list = list(map(int, second_list.split()))\n",
        "\n",
        "# check if the lens match\n",
        "if len(first_list) != len(second_list):\n",
        "  raise Exception(\"Two lists are of different lengths\")\n",
        "\n",
        "# print them out\n",
        "for number, times in zip(first_list, second_list):\n",
        "  for time in range(0, times):\n",
        "    print(number, end=\" \")"
      ],
      "execution_count": 25,
      "outputs": [
        {
          "output_type": "stream",
          "text": [
            "Please give me a list of integers 1 2 3 4 5 6 7\n",
            "Please give me a second list of integers (the same length as the first one) 0 2 1 0 3 2 1\n",
            "2 2 3 5 5 5 6 6 7 "
          ],
          "name": "stdout"
        }
      ]
    },
    {
      "cell_type": "code",
      "metadata": {
        "id": "GplK94aoDIe1"
      },
      "source": [
        ""
      ],
      "execution_count": null,
      "outputs": []
    }
  ]
}